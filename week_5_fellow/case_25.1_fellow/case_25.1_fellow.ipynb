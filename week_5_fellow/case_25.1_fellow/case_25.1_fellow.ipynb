{
 "cells": [
  {
   "cell_type": "markdown",
   "metadata": {
    "id": "2VBLyCk8EJ3t"
   },
   "source": [
    "# Do credit scoring algorithms discriminate against protected groups?"
   ]
  },
  {
   "cell_type": "markdown",
   "metadata": {
    "id": "6S63CBEtFHtW",
    "tags": [
     "2_min"
    ]
   },
   "source": [
    "## Goals\n",
    "\n",
    "By the end of this case study you should be able to:\n",
    "\n",
    "1. Meaningfully interpret summary statistics\n",
    "2. Meaningfully interpret data visualizations\n",
    "3. Think critically about sociological factors at play in the data collected for machine learning applications\n",
    "\n",
    "Most importantly, you will explore how historical & representation bias can creep into training datasets, and bias the final conclusions *in favor* of existing biased practices, thus perpetuating them."
   ]
  },
  {
   "cell_type": "markdown",
   "metadata": {
    "id": "x6fFriSyFLUT",
    "tags": [
     "8_min"
    ]
   },
   "source": [
    "## Introduction\n",
    "\n",
    "**Business Context.** Investigative reports about digital financial services (DFS) have found instances of bias in the mechanisms that determine who a bank should loan money to. In many parts of the world, financial services are typically accessed based on an algorithmic assessment of their credit history. However, these systems have historically excluded consumers who are financially marginalized through intersecting forces of oppression. For example, in the United States, African Americans are disproportionately denied home loans because of a legacy of policies and banking practices implemented decades ago that were designed to exclude Black individuals from home ownership (also known as [Red Lining](https://en.wikipedia.org/wiki/Redlining)). Beyond race or ethnicity, many other factors may contribute to unfair distribution of financial opportunities, such as an applicant's gender, location, or age. \n",
    "\n",
    "In this case, you are a data analyst for a major credit bureau. Your organization is concerned that the data on which they have trained their assessment tools are leading to discriminatory outcomes. The company wants to know if their predictions have been inaccurate for specific subgroups of the population based on how their prediction of credit worthiness was correlated with protected categories (e.g., gender, nationality, age). The company believes that if you can find patterns in the dataset used to build their model that reflect long-standing unfair social determinants of creditworthiness, they can then rectify this to reduce their contribution to unfair outcomes.\n",
    "\n",
    "**Business Problem.** Your employer would like you to answer the following: **\"What are the hidden biases in our datasets used to train our credit risk assessment algorithms?\"**\n",
    "\n",
    "**Analytical Context.** This dataset includes information about individuals and their credit history (whether they had failed to pay their loans before, what other loans they had, etc.) The credit agency will train a model on this data to decide whether to approve individuals for a loan (we typically use something called [*classification models*](https://towardsdatascience.com/supervised-learning-basics-of-classification-and-main-algorithms-c16b06806cd3) for these tasks, which you will learn about in later cases). The model will predict whether the individual will default (stop paying the loan, which is a bad outcome). You can find more information about the dataset [here](http://www1.beuth-hochschule.de/FB_II/reports/Report-2019-004.pdf)."
   ]
  },
  {
   "cell_type": "markdown",
   "metadata": {
    "tags": [
     "5_min"
    ]
   },
   "source": [
    "## Data exploration\n",
    "\n",
    "Let's start by importing the necessary libraries and loading in the dataset:"
   ]
  },
  {
   "cell_type": "code",
   "execution_count": 1,
   "metadata": {
    "id": "tiCAW75OSU8A"
   },
   "outputs": [],
   "source": [
    "# Import necessary libraries\n",
    "import pandas as pd"
   ]
  },
  {
   "cell_type": "code",
   "execution_count": 2,
   "metadata": {
    "colab": {
     "base_uri": "https://localhost:8080/",
     "height": 218
    },
    "id": "b1vSKQjOSxAt",
    "outputId": "883bf826-33c2-4787-c74a-7fedef7ff462"
   },
   "outputs": [
    {
     "data": {
      "text/html": [
       "<div>\n",
       "<style scoped>\n",
       "    .dataframe tbody tr th:only-of-type {\n",
       "        vertical-align: middle;\n",
       "    }\n",
       "\n",
       "    .dataframe tbody tr th {\n",
       "        vertical-align: top;\n",
       "    }\n",
       "\n",
       "    .dataframe thead th {\n",
       "        text-align: right;\n",
       "    }\n",
       "</style>\n",
       "<table border=\"1\" class=\"dataframe\">\n",
       "  <thead>\n",
       "    <tr style=\"text-align: right;\">\n",
       "      <th></th>\n",
       "      <th>Id</th>\n",
       "      <th>status</th>\n",
       "      <th>duration</th>\n",
       "      <th>credit_history</th>\n",
       "      <th>purpose</th>\n",
       "      <th>amount</th>\n",
       "      <th>employment_duration</th>\n",
       "      <th>installment_rate</th>\n",
       "      <th>personal_status_sex</th>\n",
       "      <th>other_debtors</th>\n",
       "      <th>present_residence</th>\n",
       "      <th>age</th>\n",
       "      <th>housing</th>\n",
       "      <th>number_credits</th>\n",
       "      <th>job</th>\n",
       "      <th>people_liable</th>\n",
       "      <th>foreign_worker</th>\n",
       "      <th>credit_risk</th>\n",
       "    </tr>\n",
       "  </thead>\n",
       "  <tbody>\n",
       "    <tr>\n",
       "      <th>0</th>\n",
       "      <td>0</td>\n",
       "      <td>1</td>\n",
       "      <td>18</td>\n",
       "      <td>4</td>\n",
       "      <td>2</td>\n",
       "      <td>1049</td>\n",
       "      <td>2</td>\n",
       "      <td>4</td>\n",
       "      <td>2</td>\n",
       "      <td>1</td>\n",
       "      <td>4</td>\n",
       "      <td>21</td>\n",
       "      <td>1</td>\n",
       "      <td>1</td>\n",
       "      <td>3</td>\n",
       "      <td>2</td>\n",
       "      <td>2</td>\n",
       "      <td>1</td>\n",
       "    </tr>\n",
       "    <tr>\n",
       "      <th>1</th>\n",
       "      <td>1</td>\n",
       "      <td>1</td>\n",
       "      <td>9</td>\n",
       "      <td>4</td>\n",
       "      <td>0</td>\n",
       "      <td>2799</td>\n",
       "      <td>3</td>\n",
       "      <td>2</td>\n",
       "      <td>3</td>\n",
       "      <td>1</td>\n",
       "      <td>2</td>\n",
       "      <td>36</td>\n",
       "      <td>1</td>\n",
       "      <td>2</td>\n",
       "      <td>3</td>\n",
       "      <td>1</td>\n",
       "      <td>2</td>\n",
       "      <td>1</td>\n",
       "    </tr>\n",
       "    <tr>\n",
       "      <th>2</th>\n",
       "      <td>2</td>\n",
       "      <td>2</td>\n",
       "      <td>12</td>\n",
       "      <td>2</td>\n",
       "      <td>9</td>\n",
       "      <td>841</td>\n",
       "      <td>4</td>\n",
       "      <td>2</td>\n",
       "      <td>2</td>\n",
       "      <td>1</td>\n",
       "      <td>4</td>\n",
       "      <td>23</td>\n",
       "      <td>1</td>\n",
       "      <td>1</td>\n",
       "      <td>2</td>\n",
       "      <td>2</td>\n",
       "      <td>2</td>\n",
       "      <td>1</td>\n",
       "    </tr>\n",
       "    <tr>\n",
       "      <th>3</th>\n",
       "      <td>3</td>\n",
       "      <td>1</td>\n",
       "      <td>12</td>\n",
       "      <td>4</td>\n",
       "      <td>0</td>\n",
       "      <td>2122</td>\n",
       "      <td>3</td>\n",
       "      <td>3</td>\n",
       "      <td>3</td>\n",
       "      <td>1</td>\n",
       "      <td>2</td>\n",
       "      <td>39</td>\n",
       "      <td>1</td>\n",
       "      <td>2</td>\n",
       "      <td>2</td>\n",
       "      <td>1</td>\n",
       "      <td>1</td>\n",
       "      <td>1</td>\n",
       "    </tr>\n",
       "    <tr>\n",
       "      <th>4</th>\n",
       "      <td>4</td>\n",
       "      <td>1</td>\n",
       "      <td>12</td>\n",
       "      <td>4</td>\n",
       "      <td>0</td>\n",
       "      <td>2171</td>\n",
       "      <td>3</td>\n",
       "      <td>4</td>\n",
       "      <td>3</td>\n",
       "      <td>1</td>\n",
       "      <td>4</td>\n",
       "      <td>38</td>\n",
       "      <td>2</td>\n",
       "      <td>2</td>\n",
       "      <td>2</td>\n",
       "      <td>2</td>\n",
       "      <td>1</td>\n",
       "      <td>1</td>\n",
       "    </tr>\n",
       "  </tbody>\n",
       "</table>\n",
       "</div>"
      ],
      "text/plain": [
       "   Id  status  duration  credit_history  purpose  amount  employment_duration  \\\n",
       "0   0       1        18               4        2    1049                    2   \n",
       "1   1       1         9               4        0    2799                    3   \n",
       "2   2       2        12               2        9     841                    4   \n",
       "3   3       1        12               4        0    2122                    3   \n",
       "4   4       1        12               4        0    2171                    3   \n",
       "\n",
       "   installment_rate  personal_status_sex  other_debtors  present_residence  \\\n",
       "0                 4                    2              1                  4   \n",
       "1                 2                    3              1                  2   \n",
       "2                 2                    2              1                  4   \n",
       "3                 3                    3              1                  2   \n",
       "4                 4                    3              1                  4   \n",
       "\n",
       "   age  housing  number_credits  job  people_liable  foreign_worker  \\\n",
       "0   21        1               1    3              2               2   \n",
       "1   36        1               2    3              1               2   \n",
       "2   23        1               1    2              2               2   \n",
       "3   39        1               2    2              1               1   \n",
       "4   38        2               2    2              2               1   \n",
       "\n",
       "   credit_risk  \n",
       "0            1  \n",
       "1            1  \n",
       "2            1  \n",
       "3            1  \n",
       "4            1  "
      ]
     },
     "execution_count": 2,
     "metadata": {},
     "output_type": "execute_result"
    }
   ],
   "source": [
    "# Load annd examine the dataset\n",
    "df = pd.read_csv('data/german_credit.csv')\n",
    "df.head()"
   ]
  },
  {
   "cell_type": "markdown",
   "metadata": {},
   "source": [
    "Below, we have provided a description of the most important features and what various values for those features means. Please note that the currency used in this dataset is German Deutsche Mark, which is abbreviated as DM:\n",
    "\n",
    "* **``Id``**: ID of individual entries for evaluation.\n",
    "* **``status``**: Status of the debtor's checking account with the bank.\n",
    "    * `1`: No checking account\n",
    "    * `2`: Negative account balance\n",
    "    * `3`: 0 - 199 DM account balance\n",
    "    * `4`: 200+ DM account balance\n",
    "* **``duration``**: Credit duration, in months.\n",
    "* **``credit_history``**: History of compliance with previous or concurrent credit contracts.\n",
    "    * `0`: Delay in paying off in the past\n",
    "    * `1`: Critical account/other credits elsewhere\n",
    "    * `2`: No credits taken/all credits paid back duly \n",
    "    * `3`: Existing credits paid back duly until now\n",
    "    * `4`: All credits at this bank paid back duly\n",
    "* **``purpose``**: Purpose for which the credit is needed.\n",
    "    * `0`: Others\n",
    "    * `1`: Car (new)\n",
    "    * `2`: Car (used)\n",
    "    * `3`: Furniture/equipment \n",
    "    * `4`: Radio/television\n",
    "    * `5`: Domestic appliances \n",
    "    * `6`: Repairs\n",
    "    * `7`: Education\n",
    "    * `8`: Vacation\n",
    "    * `9`: Retraining\n",
    "    * `10`: Business\n",
    "* **``amount``**: Credit amount in DM.\n",
    "* **``employment_duration``**: Duration of debtor's employment with current employer.\n",
    "    * `1`: Unemployed\n",
    "    * `2`: Less than 1 year\n",
    "    * `3`: 1 - 3 years\n",
    "    * `4`: 4 - 6 years\n",
    "    * `5`: 7+ years\n",
    "* **``installment_rate``**: Credit installments as a percentage of debtor's disposable income.\n",
    "    * `1`: 35%+\n",
    "    * `2`: 25 - 34.99% \n",
    "    * `3`: 20 - 24.99%\n",
    "    * `4`: Less than 20%\n",
    "* **``personal_status_sex``**: Combined information on sex and marital status. (Sex cannot always be recovered from the variable, because male singles and female non-singles are coded with the same code 2. Furthermore, female widows cannot be easily classified, because the code table does not list them in any of the female categories.)\n",
    "    * `1`: Divorced or separated male\n",
    "    * `2`: Single male OR non-single female\n",
    "    * `3`: Married or widowed male\n",
    "    * `4`: Single female\n",
    "* **``other_debtors``**: Whether or not there is another debtor or a guarantor for the credit.\n",
    "    * `1`: None\n",
    "    * `2`: Co-applicant \n",
    "    * `3`: Guarantor\n",
    "* **``present_residence``**: Length of time (in years) the debtor has lived in the present residence.\n",
    "    * `1`: Less than 1 year\n",
    "    * `2`: 1 - 4 years\n",
    "    * `3`: 4 - 7 years \n",
    "    * `4`: 7+ years\n",
    "* **``age``**: Debtor's age, in years.\n",
    "* **``housing``**: Type of housing the debtor lives in.\n",
    "    * `1`: Free\n",
    "    * `2`: Rent\n",
    "    * `3`: Own\n",
    "* **``number_credits``**: Number of credits including the current one the debtor has (or had) at this bank.\n",
    "    * `1`: 1\n",
    "    * `2`: 2 - 3 \n",
    "    * `3`: 4 - 5 \n",
    "    * `4`: 6+\n",
    "* **``job``**: The quality of the debtor's job.\n",
    "    * `1`: Unemployed/unskilled non-resident\n",
    "    * `2`: Unskilled resident\n",
    "    * `3`: Skilled employee/official\n",
    "    * `4`: Manager/self-employed/highly-qualified employee\n",
    "* **``people_liable``**: Number of persons who financially depend on the debtor (i.e. are entitled to maintenance).\n",
    "    * `1`: 3+ \n",
    "    * `2`: 0 - 2\n",
    "* **``foreign_worker``**: Whether or not the debtor is a foreign worker.\n",
    "    * `1`: Yes \n",
    "    * `2`: No\n",
    "* **``credit_risk``**: Whether the credit contract has been complied with (good) or not (bad).\n",
    "    * `0`: Bad\n",
    "    * `1`: Good\n",
    "\n",
    "A full description of the dataset can be found [here](https://archive.ics.uci.edu/ml/datasets/South+German+Credit+%28UPDATE%29)."
   ]
  },
  {
   "cell_type": "markdown",
   "metadata": {
    "id": "sMfGxLswSWl1",
    "tags": [
     "15_min"
    ]
   },
   "source": [
    "### Exercise 1\n",
    "\n",
    "Examine the dataset's summary statistics and the provided visualizations below to better understand the demographic distribution of the data. Briefly summarize your main findings.\n",
    "\n",
    "<img src=\"./data/images/stats_cont_vars.png\" width=\"400\">\n",
    "\n",
    "<img src=\"./data/images/age_hist.png\" width=\"600\">\n",
    "<img src=\"./data/images/age_cred_hist.png\" width=\"600\">\n",
    "\n",
    "<img src=\"./data/images/pers_status_cred.png\" width=\"600\">\n",
    "<img src=\"./data/images/risk_by_gender.png\" width=\"600\">\n",
    "\n",
    "<img src=\"./data/images/job_cred.png\" width=\"600\">\n",
    "<img src=\"./data/images/risk_by_job.png\" width=\"400\">\n",
    "\n",
    "<img src=\"./data/images/foreign_cred.png\" width=\"600\">\n",
    "<img src=\"./data/images/risk_by_foreign.png\" width=\"400\">\n",
    "\n",
    "<img src=\"./data/images/deps_cred.png\" width=\"600\">\n",
    "<img src=\"./data/images/risk_by_deps.png\" width=\"400\">\n"
   ]
  },
  {
   "cell_type": "markdown",
   "metadata": {
    "id": "VVsQtMT574F9",
    "tags": [
     "ans_st"
    ]
   },
   "source": [
    "**Answer.**"
   ]
  },
  {
   "cell_type": "code",
   "execution_count": null,
   "metadata": {},
   "outputs": [],
   "source": []
  },
  {
   "cell_type": "markdown",
   "metadata": {},
   "source": [
    "-------"
   ]
  },
  {
   "cell_type": "markdown",
   "metadata": {
    "id": "Dks9736DsoPa",
    "tags": [
     "30_min"
    ]
   },
   "source": [
    "### Exercise 2\n",
    "\n",
    "Learn about the social context of the problem by reading and summarizing research on financial discrimination in the population. For more information on the dataset sampling techniques, visit the [dataset's accompanying report](http://www1.beuth-hochschule.de/FB_II/reports/Report-2019-004.pdf).\n",
    "\n",
    "From there, find one or two other reputable sources (e.g. research papers that have used the dataset, critiques of the dataset, German population reports, German financial industry statistics, German discrimination laws and financial product regulations) to form an opinion about the relevant social context. Summarize your findings and cite your references."
   ]
  },
  {
   "cell_type": "markdown",
   "metadata": {
    "id": "I6dgCxcz7Swy",
    "tags": [
     "ans_st"
    ]
   },
   "source": [
    "**Answer.**"
   ]
  },
  {
   "cell_type": "code",
   "execution_count": null,
   "metadata": {},
   "outputs": [],
   "source": []
  },
  {
   "cell_type": "markdown",
   "metadata": {},
   "source": [
    "-------"
   ]
  },
  {
   "cell_type": "markdown",
   "metadata": {
    "id": "5xrSL2HLs1z8",
    "tags": [
     "5_min"
    ]
   },
   "source": [
    "### Exercise 3\n",
    "\n",
    "Look at your answer to Exercise 1 and see if it reflects your findings in Exercise 2. Summarize your conclusions."
   ]
  },
  {
   "cell_type": "markdown",
   "metadata": {
    "id": "klQ69ig064RC",
    "tags": [
     "ans_st"
    ]
   },
   "source": [
    "**Answer.**"
   ]
  },
  {
   "cell_type": "markdown",
   "metadata": {},
   "source": [
    "-------"
   ]
  },
  {
   "cell_type": "markdown",
   "metadata": {
    "id": "DKIFzeNMtIyl",
    "tags": [
     "15_min"
    ]
   },
   "source": [
    "### Exercise 4\n",
    "\n",
    "Focus on two demographic variables - gender and age. Compare the outcomes in each gender group and in each age group using the provided visualizations below. What groups are privileged for age and gender? What do you think are the sources of these disparities?\n",
    "\n",
    "<img src='data/images/gender_cred.png' width=500>\n",
    "<img src='data/images/under_25_cred.png' width=500>"
   ]
  },
  {
   "cell_type": "markdown",
   "metadata": {
    "id": "5J8NuQmN54Qa",
    "tags": [
     "ans_st"
    ]
   },
   "source": [
    "**Answer.**"
   ]
  },
  {
   "cell_type": "markdown",
   "metadata": {},
   "source": [
    "-------"
   ]
  },
  {
   "cell_type": "markdown",
   "metadata": {
    "id": "heMbip79u1E3",
    "tags": [
     "10_min"
    ]
   },
   "source": [
    "### Exercise 5\n",
    "\n",
    "In their [article](https://arxiv.org/pdf/1901.10002.pdf) *A Framework for Understanding Unintended Consequences of Machine Learning*, authors Harini Suresh and John Guttag provide a brief description of various kinds of dataset bias. Specifically, they concretely define the concepts of **historical bias** and **representation bias**. Is our case an example of historical bias, representation bias, or both? Justify your answer."
   ]
  },
  {
   "cell_type": "markdown",
   "metadata": {
    "id": "CLGIrh275jbn",
    "tags": [
     "ans_st"
    ]
   },
   "source": [
    "**Answer.**"
   ]
  },
  {
   "cell_type": "markdown",
   "metadata": {},
   "source": [
    "-------"
   ]
  },
  {
   "cell_type": "markdown",
   "metadata": {
    "id": "iYl5PWfCvXPK",
    "tags": [
     "10_min"
    ]
   },
   "source": [
    "## Reflection\n",
    "\n",
    "### Discussion 1\n",
    "\n",
    "Reflect on what it means for a dataset to be biased in the context of this case. Then reflect on how this may generalize to other example domains where we may want to examine bias.\n",
    "\n",
    "In this broader context, does a difference in the data across groups constitute a bias in itself? Are there other elements that are necessary to say that there is bias? What are some of those elements?"
   ]
  },
  {
   "cell_type": "markdown",
   "metadata": {
    "id": "4qxzR8yhvb8y",
    "tags": [
     "10_min"
    ]
   },
   "source": [
    "### Discussion 2\n",
    "\n",
    "Reflect on your own biases (e.g. cognitive, social, ideological) you brought to this case study. What messages have you received from media, your education, family, or your peers that may bias your approach to this problem? Did any of the results you saw in the dataset surprise you? Why?"
   ]
  },
  {
   "cell_type": "markdown",
   "metadata": {
    "id": "La2rRnnXvhce",
    "tags": [
     "10_min"
    ]
   },
   "source": [
    "### Discussion 3\n",
    "\n",
    "With a partner, brainstorm ways to assess and address those cognitive biases when working on future data analysis projects. Describe one way you could implement a personal bias check into your own workflow."
   ]
  },
  {
   "cell_type": "markdown",
   "metadata": {
    "id": "wYq0FJ7R1NSN",
    "tags": [
     "5_min"
    ]
   },
   "source": [
    "## Conclusions\n",
    "\n",
    "The South German Credit dataset, widely used to build financial services prediction models, is indeed biased. Importantly, we concluded that in this dataset:\n",
    "\n",
    "1. Women are underrepresented compared to men\n",
    "2. People under 25 are underrepresented compared to people over 25\n",
    "3. Foreign workers are overrepresented compared to domestic workers\n",
    "4. Caretakers with many dependents are underrepresented in comparison to those with fewer than 3 dependents\n",
    "\n",
    "We saw that the dataset contained biases that were both historical and representational in nature, and that those two types of biases are intertwined. Historical (societal) biases, for example, may be the reason why underprivileged groups then become underrepresented in datasets. Thus, an investigation into whether or not the credit scoring algorithm your company uses contains biases is warranted. In fact, it is almost certain that the model will perform in ways that reinforce existing barriers for women and young people."
   ]
  },
  {
   "cell_type": "markdown",
   "metadata": {
    "id": "9mxsZfLm1RM8",
    "tags": [
     "5_min"
    ]
   },
   "source": [
    "## Takeaways\n",
    "\n",
    "In this case study, we learned about two common forms of dataset bias. When datasets are biased, models can become biased, especially if the dataset biases go undetected. We used data exploration techniques to understand the nature of the dataset and reason about how it might reinforce existing social biases. We learned how to perform background and domain research on our datasets to understand where the data is coming from, how it was generated, and what the social context of the data sample was at the time of collection.\n",
    "\n",
    "Most importantly, we practiced critical thinking and self-reflection as we completed this case. It is important that we as data professionals remember that we are social beings bringing our biases, preconceptions, and blind spots to our projects. We should incorporate ways to recognize and account for these biases in our project workflows."
   ]
  },
  {
   "cell_type": "markdown",
   "metadata": {
    "id": "jLPKkQ4B1UNO"
   },
   "source": [
    "## Attribution\n",
    "\n",
    "Grömping, U. (2019). South German Credit Data: Correcting a Widely Used Data Set. Report 4/2019, Reports in Mathematics, Physics and Chemistry, Department II, Beuth University of Applied Sciences Berlin."
   ]
  }
 ],
 "metadata": {
  "c1_recart": "6.4.0-57c20131aabc1dc2a8c675852d80a7da",
  "kernelspec": {
   "display_name": "Python 3",
   "language": "python",
   "name": "python3"
  },
  "language_info": {
   "codemirror_mode": {
    "name": "ipython",
    "version": 3
   },
   "file_extension": ".py",
   "mimetype": "text/x-python",
   "name": "python",
   "nbconvert_exporter": "python",
   "pygments_lexer": "ipython3",
   "version": "3.8.8"
  }
 },
 "nbformat": 4,
 "nbformat_minor": 1
}
