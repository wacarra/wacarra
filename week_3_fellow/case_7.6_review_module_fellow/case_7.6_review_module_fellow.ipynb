{
 "cells": [
  {
   "cell_type": "markdown",
   "metadata": {
    "deletable": false,
    "editable": false,
    "nbgrader": {
     "cell_type": "markdown",
     "checksum": "aeb8250fa408c958cc65c55f2937dd75",
     "grade": false,
     "grade_id": "cell-de8b6076afa79604",
     "locked": true,
     "schema_version": 3,
     "solution": false,
     "task": false
    }
   },
   "source": [
    "# Case 7.6 review module"
   ]
  },
  {
   "cell_type": "markdown",
   "metadata": {
    "deletable": false,
    "editable": false,
    "nbgrader": {
     "cell_type": "markdown",
     "checksum": "d46f43b40c2e6c83a2829c10ced4160f",
     "grade": false,
     "grade_id": "cell-d4559a410fe99078",
     "locked": true,
     "schema_version": 3,
     "solution": false,
     "task": false
    }
   },
   "source": [
    "**Instructions**\n",
    "\n",
    "In order to complete this review module, we recommend you follow these instructions:\n",
    "\n",
    "1. Complete the functions provided to you in this notebook, but do **not** change the name of the function or the name(s) of the argument(s). If you do that, the autograder will fail and you will not receive any points.\n",
    "2. Remove from each function the code `raise NotImplementedError()` and replace it with your implementation.\n",
    "3. Run all the function-definition cells before you run the testing cells. The functions must exist before they are graded!\n",
    "4. Read the function docstrings carefully. They contain additional information about how the code should look (a [docstring](https://www.datacamp.com/community/tutorials/docstrings-python) is the stuff that comes between the triple quotes)."
   ]
  },
  {
   "cell_type": "code",
   "execution_count": 3,
   "metadata": {
    "deletable": false,
    "editable": false,
    "nbgrader": {
     "cell_type": "code",
     "checksum": "a6ba02de421c201197e1f03e67fb74d9",
     "grade": false,
     "grade_id": "cell-8dd10512ac691626",
     "locked": true,
     "schema_version": 3,
     "solution": false,
     "task": false
    }
   },
   "outputs": [],
   "source": [
    "# Loading the data\n",
    "import pandas as pd\n",
    "import numpy as np\n",
    "df = pd.read_csv(\"data/insurance.csv\")"
   ]
  },
  {
   "cell_type": "markdown",
   "metadata": {
    "deletable": false,
    "editable": false,
    "nbgrader": {
     "cell_type": "markdown",
     "checksum": "823b79542a679435b402517a1c0f488d",
     "grade": false,
     "grade_id": "cell-e3179b142e50a106",
     "locked": true,
     "schema_version": 3,
     "solution": false,
     "task": false
    }
   },
   "source": [
    "## Exercise 1\n",
    "\n",
    "Which region is the most common in the dataset? **Hint**: You may use Pandas' built-in `.mode()` method if you like."
   ]
  },
  {
   "cell_type": "code",
   "execution_count": 4,
   "metadata": {
    "deletable": false,
    "nbgrader": {
     "cell_type": "code",
     "checksum": "0128369e0d11acf3a082d2f288d4459f",
     "grade": false,
     "grade_id": "cell-86d5cd984b17f31d",
     "locked": false,
     "schema_version": 3,
     "solution": true,
     "task": false
    }
   },
   "outputs": [],
   "source": [
    "def find_most_common_region(df):\n",
    "    \"\"\"\n",
    "    Find the most common region.\n",
    "    \n",
    "    Arguments:\n",
    "    df: The Pandas dataframe (the dataset)\n",
    "    \n",
    "    Output:\n",
    "    answer: A string.\n",
    "    \"\"\"\n",
    "    \n",
    "    # YOUR CODE HERE\n",
    "    answer = df['region'].mode()\n",
    "    answer = answer[0]\n",
    "    return answer"
   ]
  },
  {
   "cell_type": "code",
   "execution_count": 5,
   "metadata": {},
   "outputs": [
    {
     "data": {
      "text/html": [
       "<div>\n",
       "<style scoped>\n",
       "    .dataframe tbody tr th:only-of-type {\n",
       "        vertical-align: middle;\n",
       "    }\n",
       "\n",
       "    .dataframe tbody tr th {\n",
       "        vertical-align: top;\n",
       "    }\n",
       "\n",
       "    .dataframe thead th {\n",
       "        text-align: right;\n",
       "    }\n",
       "</style>\n",
       "<table border=\"1\" class=\"dataframe\">\n",
       "  <thead>\n",
       "    <tr style=\"text-align: right;\">\n",
       "      <th></th>\n",
       "      <th>age</th>\n",
       "      <th>sex</th>\n",
       "      <th>bmi</th>\n",
       "      <th>children</th>\n",
       "      <th>smoker</th>\n",
       "      <th>region</th>\n",
       "      <th>charges</th>\n",
       "    </tr>\n",
       "  </thead>\n",
       "  <tbody>\n",
       "    <tr>\n",
       "      <th>0</th>\n",
       "      <td>19</td>\n",
       "      <td>female</td>\n",
       "      <td>27.900</td>\n",
       "      <td>0</td>\n",
       "      <td>yes</td>\n",
       "      <td>southwest</td>\n",
       "      <td>16884.92400</td>\n",
       "    </tr>\n",
       "    <tr>\n",
       "      <th>1</th>\n",
       "      <td>18</td>\n",
       "      <td>male</td>\n",
       "      <td>33.770</td>\n",
       "      <td>1</td>\n",
       "      <td>no</td>\n",
       "      <td>southeast</td>\n",
       "      <td>1725.55230</td>\n",
       "    </tr>\n",
       "    <tr>\n",
       "      <th>2</th>\n",
       "      <td>28</td>\n",
       "      <td>male</td>\n",
       "      <td>33.000</td>\n",
       "      <td>3</td>\n",
       "      <td>no</td>\n",
       "      <td>southeast</td>\n",
       "      <td>4449.46200</td>\n",
       "    </tr>\n",
       "    <tr>\n",
       "      <th>3</th>\n",
       "      <td>33</td>\n",
       "      <td>male</td>\n",
       "      <td>22.705</td>\n",
       "      <td>0</td>\n",
       "      <td>no</td>\n",
       "      <td>northwest</td>\n",
       "      <td>21984.47061</td>\n",
       "    </tr>\n",
       "    <tr>\n",
       "      <th>4</th>\n",
       "      <td>32</td>\n",
       "      <td>male</td>\n",
       "      <td>28.880</td>\n",
       "      <td>0</td>\n",
       "      <td>no</td>\n",
       "      <td>northwest</td>\n",
       "      <td>3866.85520</td>\n",
       "    </tr>\n",
       "  </tbody>\n",
       "</table>\n",
       "</div>"
      ],
      "text/plain": [
       "   age     sex     bmi  children smoker     region      charges\n",
       "0   19  female  27.900         0    yes  southwest  16884.92400\n",
       "1   18    male  33.770         1     no  southeast   1725.55230\n",
       "2   28    male  33.000         3     no  southeast   4449.46200\n",
       "3   33    male  22.705         0     no  northwest  21984.47061\n",
       "4   32    male  28.880         0     no  northwest   3866.85520"
      ]
     },
     "execution_count": 5,
     "metadata": {},
     "output_type": "execute_result"
    }
   ],
   "source": [
    "answer = df['region'].mode()\n",
    "answer = answer[0]\n",
    "df.head()"
   ]
  },
  {
   "cell_type": "markdown",
   "metadata": {
    "deletable": false,
    "editable": false,
    "nbgrader": {
     "cell_type": "markdown",
     "checksum": "bd9dacd291b5d1b040e7a5c95008126f",
     "grade": false,
     "grade_id": "cell-1fc02b634eaba84d",
     "locked": true,
     "schema_version": 3,
     "solution": false,
     "task": false
    }
   },
   "source": [
    "## Exercise 2\n",
    "\n",
    "You can easily create a frequency table of the ages present in the dataset with the `.value_counts()` method, and report only the 10 most common:\n",
    "\n",
    "```python\n",
    "data['age'].value_counts().head(10)\n",
    "\n",
    "```\n",
    "\n",
    "If you run the code above, you'll find that the most common ages are 18 and 19. Just for fun, do the same using the `.groupby()` method and the `.count()` aggregation function. Notice that the function you have to submit has two outputs (which should be returned in this specific order): the frequency table (identical to the one that `.value_counts()` produces) and the [groupby object](https://pandas.pydata.org/pandas-docs/stable/reference/groupby.html) you used to calculate it."
   ]
  },
  {
   "cell_type": "code",
   "execution_count": 10,
   "metadata": {
    "deletable": false,
    "nbgrader": {
     "cell_type": "code",
     "checksum": "2830a295b5a1cc0553e436aa27a6b574",
     "grade": false,
     "grade_id": "cell-6dd51bae55a3921b",
     "locked": false,
     "schema_version": 3,
     "solution": true,
     "task": false
    }
   },
   "outputs": [],
   "source": [
    "def find_top10_ages(df):\n",
    "    \"\"\"\n",
    "    Find the 10 most common ages.\n",
    "    \n",
    "    Arguments:\n",
    "    df: The Pandas dataframe (the dataset)\n",
    "    \n",
    "    Output:\n",
    "    answer: A sorted 10-row Pandas series in which the index is the ages and the values are the frequencies.\n",
    "    gob: The groupby object that you used to calculate answer.\n",
    "    \"\"\"\n",
    "\n",
    "    # YOUR CODE HERE\n",
    "    answer = df.age.value_counts().head(10)\n",
    "    gob = df[['age','smoker']].groupby('age')\n",
    "    \n",
    "    return answer, gob"
   ]
  },
  {
   "cell_type": "code",
   "execution_count": 11,
   "metadata": {},
   "outputs": [
    {
     "data": {
      "text/plain": [
       "(18    69\n",
       " 19    68\n",
       " 20    29\n",
       " 51    29\n",
       " 45    29\n",
       " 46    29\n",
       " 47    29\n",
       " 48    29\n",
       " 50    29\n",
       " 52    29\n",
       " Name: age, dtype: int64,\n",
       " <pandas.core.groupby.generic.DataFrameGroupBy object at 0x7fe950b56f10>)"
      ]
     },
     "execution_count": 11,
     "metadata": {},
     "output_type": "execute_result"
    }
   ],
   "source": [
    "find_top10_ages(df)"
   ]
  },
  {
   "cell_type": "markdown",
   "metadata": {
    "deletable": false,
    "editable": false,
    "nbgrader": {
     "cell_type": "markdown",
     "checksum": "53fdfbe535769aba5526a7e18a5e07c5",
     "grade": false,
     "grade_id": "cell-a1a7ba7a59fbc4d2",
     "locked": true,
     "schema_version": 3,
     "solution": false,
     "task": false
    }
   },
   "source": [
    "## Exercise 3\n",
    "\n",
    "What is the correlation between age and number of children?"
   ]
  },
  {
   "cell_type": "code",
   "execution_count": 23,
   "metadata": {
    "deletable": false,
    "nbgrader": {
     "cell_type": "code",
     "checksum": "a824eac42fee4a5bb3c8d5a48558745a",
     "grade": false,
     "grade_id": "cell-af59dc5444431930",
     "locked": false,
     "schema_version": 3,
     "solution": true,
     "task": false
    }
   },
   "outputs": [],
   "source": [
    "def find_corr_age_children(df):\n",
    "    \"\"\"\n",
    "    Find the Pearson correlation coefficient of age and number of children\n",
    "    \n",
    "    Arguments:\n",
    "    df: The Pandas dataframe (the dataset)\n",
    "    \n",
    "    Output:\n",
    "    answer: A float or numpy float64.\n",
    "    \"\"\"\n",
    "    \n",
    "    # YOUR CODE HERE\n",
    "    \n",
    "    age_column = df.age\n",
    "    children_column = df.children\n",
    "    \n",
    "    answer = age_column.corr(children_column)\n",
    "    return answer"
   ]
  },
  {
   "cell_type": "code",
   "execution_count": 24,
   "metadata": {},
   "outputs": [
    {
     "data": {
      "text/plain": [
       "0.04246899855884944"
      ]
     },
     "execution_count": 24,
     "metadata": {},
     "output_type": "execute_result"
    }
   ],
   "source": [
    "find_corr_age_children(df)"
   ]
  },
  {
   "cell_type": "markdown",
   "metadata": {
    "deletable": false,
    "editable": false,
    "nbgrader": {
     "cell_type": "markdown",
     "checksum": "c6f4572f66773354119f19a4ca7729e5",
     "grade": false,
     "grade_id": "cell-45692adba8889ff4",
     "locked": true,
     "schema_version": 3,
     "solution": false,
     "task": false
    }
   },
   "source": [
    "## Testing Cells\n",
    "\n",
    "Run the below cells to check your answers. Make sure you run your solution cells first, otherwise you will get a `NameError` when checking your answers."
   ]
  },
  {
   "cell_type": "code",
   "execution_count": 12,
   "metadata": {
    "deletable": false,
    "editable": false,
    "nbgrader": {
     "cell_type": "code",
     "checksum": "169d15b969577a28f52e06d9d96a08ac",
     "grade": true,
     "grade_id": "cell-d89c73a6ecd58ee4",
     "locked": true,
     "points": 1,
     "schema_version": 3,
     "solution": false,
     "task": false
    }
   },
   "outputs": [
    {
     "name": "stdout",
     "output_type": "stream",
     "text": [
      "Exercise 1 looks correct!\n"
     ]
    }
   ],
   "source": [
    "# Ex 1\n",
    "assert type(find_most_common_region(df)) == type('northwest'), 'Exercise 1: Your output doesn\\'t seem to be a string! Check it using type(). Maybe you passed a Pandas Series as the output? To extract a value from a Series s, you can index like this s[x], where x is the position of the element.'\n",
    "assert find_most_common_region(df) == 'southeast', 'Exercise 1: This is not the right region. If you\\'re using .mode(), make sure you are working with the region column.'\n",
    "print(\"Exercise 1 looks correct!\")"
   ]
  },
  {
   "cell_type": "code",
   "execution_count": 13,
   "metadata": {
    "deletable": false,
    "editable": false,
    "nbgrader": {
     "cell_type": "code",
     "checksum": "7365c70bdcc91881a1e376ea8ee9420f",
     "grade": true,
     "grade_id": "cell-a494eb95874a3cf1",
     "locked": true,
     "points": 2,
     "schema_version": 3,
     "solution": false,
     "task": false
    }
   },
   "outputs": [
    {
     "name": "stdout",
     "output_type": "stream",
     "text": [
      "Exercise 2 looks correct!\n"
     ]
    }
   ],
   "source": [
    "# Ex 2\n",
    "assert len(find_top10_ages(df)) == 2, 'Exercise 2: Make sure your function outputs two objects: The frequency table and the GroupBy object.'\n",
    "plants = pd.DataFrame({'Plant': ['Rose', 'Rose','Lily', 'Lily'],'Max Growth': [380., 370., 24., 26.]})\n",
    "gb = plants.groupby(['Plant'])\n",
    "assert type(find_top10_ages(df)[0]) == type(plants['Plant']), 'Exercise 2: Are you sure your table is a Series? You can check with the type() command.'\n",
    "assert len(find_top10_ages(df)[0]) == 10, \"Exercise 2: Your frequency table doesn't have 10 rows! To get the first 10 rows of a Series, use .head(10).\"\n",
    "assert list(find_top10_ages(df)[0].values) == [69, 68, 29, 29, 29, 29, 29, 29, 29, 29], \"Exercise 2: Hmmm, your frequencies don't match ours. Check again! Maybe they aren't properly sorted? To sort a series Z -> A, use .sort_values(ascending=False)\"\n",
    "assert set(list(find_top10_ages(df)[0].index)) == set([18, 19, 51, 45, 46, 47, 48, 50, 52, 20]), \"Exercise 2: Check the ages... Are they correct? They should be the index of the series, and should be integers. To access the index of a Pandas series s, run s.index\"\n",
    "assert type(find_top10_ages(df)[1]) == type(gb), 'Exercise 2: Did you submit a GroupBy object? You can check with the type() command.'\n",
    "print(\"Exercise 2 looks correct!\")"
   ]
  },
  {
   "cell_type": "code",
   "execution_count": 25,
   "metadata": {
    "deletable": false,
    "editable": false,
    "nbgrader": {
     "cell_type": "code",
     "checksum": "b6a36b6fe41e2aba9f5141feaf209c38",
     "grade": true,
     "grade_id": "cell-ace4d92244873f15",
     "locked": true,
     "points": 1,
     "schema_version": 3,
     "solution": false,
     "task": false
    }
   },
   "outputs": [
    {
     "name": "stdout",
     "output_type": "stream",
     "text": [
      "Exercise 3 looks correct!\n"
     ]
    }
   ],
   "source": [
    "# Ex 3\n",
    "assert (type(find_corr_age_children(df)) == type(0.05) or type(find_corr_age_children(df)) == type(np.float64(4))), \"Exercise 3: You passed something that is not a float number or a numpy float64! Check with type(). You can use the .corr() method to create the correlation matrix, but then you have to extract only the number you are interested in. To access a specific element in a matrix, you can use the .iloc[] method.\"\n",
    "assert abs(find_corr_age_children(df) - 0.042468998558849488) <= 0.05, \"Exercise 3: Check your results! This number is way off from the true correlation!\"\n",
    "print(\"Exercise 3 looks correct!\")"
   ]
  }
 ],
 "metadata": {
  "c1_recart": "6.1.0-57c20131aabc1dc2a8c675852d80a7da",
  "kernelspec": {
   "display_name": "Python 3",
   "language": "python",
   "name": "python3"
  },
  "language_info": {
   "codemirror_mode": {
    "name": "ipython",
    "version": 3
   },
   "file_extension": ".py",
   "mimetype": "text/x-python",
   "name": "python",
   "nbconvert_exporter": "python",
   "pygments_lexer": "ipython3",
   "version": "3.8.8"
  }
 },
 "nbformat": 4,
 "nbformat_minor": 4
}
