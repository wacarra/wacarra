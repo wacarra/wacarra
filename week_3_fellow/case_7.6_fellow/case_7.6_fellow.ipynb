{
 "cells": [
  {
   "cell_type": "markdown",
   "metadata": {},
   "source": [
    "# What generalizable patterns can we find about health care costs for smokers?"
   ]
  },
  {
   "cell_type": "markdown",
   "metadata": {
    "tags": [
     "5_min"
    ]
   },
   "source": [
    "## Goals\n",
    "\n",
    "This case will be focused on building the core mathematical foundations necessary for further study of data science. Up until this point, we have been focused on analyzing data from an *empirical* perspective - that is, working with tangible data points in Python. However, more advanced study of the data science arena (such as with hypothesis testing & inference, predictive modeling, and machine learning) often requires some *theoretical* background as well, where we work with abstractions of the truth that aren't completely bound by the data we have. This case will address both."
   ]
  },
  {
   "cell_type": "markdown",
   "metadata": {
    "tags": [
     "5_min"
    ]
   },
   "source": [
    "## Introduction\n",
    "\n",
    "**Business Context.** You are an employee at a health insurance company. Your employer wants to better understand how their competition adjusts charges for smokers. You have been asked to investigate some historical data from this company to clarify the characteristics of smokers as part of this project.\n",
    "\n",
    "**Business Problem.** Your manager has asked you to answer the following question: **\"What is the payment, personal, and regional profile of a smoker?\"**\n",
    "\n",
    "**Analytical Context.** The relevant data is a public CSV file called `insurance.csv`, which contains information on various features which may affect health insurance charges.\n",
    "\n",
    "In this case, you will use what you know about basic statistics, along with Python and relevant plotting libraries. You will focus on ensuring that you have chosen appropriate metrics and plots to convey your observations."
   ]
  },
  {
   "cell_type": "markdown",
   "metadata": {
    "tags": [
     "5_min"
    ]
   },
   "source": [
    "## Loading up the data\n",
    "\n",
    "Let's load in the health insurance dataset in `data/insurance.csv`. The dataset consists of the following features:\n",
    "\n",
    "* **age:** the person's age, in years\n",
    "* **sex:** male or female\n",
    "* **bmi:** the person's Body Mass Index (MBI)\n",
    "* **children:** the number of children the person has\n",
    "* **smoker:** whether the person is a smoker or not\n",
    "* **region:** Northeast, Northwest, Southeast, Southwest\n",
    "* **charges:** the total insurance charges for that person"
   ]
  },
  {
   "cell_type": "code",
   "execution_count": 1,
   "metadata": {},
   "outputs": [],
   "source": [
    "import pandas as pd"
   ]
  },
  {
   "cell_type": "code",
   "execution_count": 17,
   "metadata": {},
   "outputs": [
    {
     "data": {
      "text/html": [
       "<div>\n",
       "<style scoped>\n",
       "    .dataframe tbody tr th:only-of-type {\n",
       "        vertical-align: middle;\n",
       "    }\n",
       "\n",
       "    .dataframe tbody tr th {\n",
       "        vertical-align: top;\n",
       "    }\n",
       "\n",
       "    .dataframe thead th {\n",
       "        text-align: right;\n",
       "    }\n",
       "</style>\n",
       "<table border=\"1\" class=\"dataframe\">\n",
       "  <thead>\n",
       "    <tr style=\"text-align: right;\">\n",
       "      <th></th>\n",
       "      <th>age</th>\n",
       "      <th>sex</th>\n",
       "      <th>bmi</th>\n",
       "      <th>children</th>\n",
       "      <th>smoker</th>\n",
       "      <th>region</th>\n",
       "      <th>charges</th>\n",
       "    </tr>\n",
       "  </thead>\n",
       "  <tbody>\n",
       "    <tr>\n",
       "      <th>0</th>\n",
       "      <td>19</td>\n",
       "      <td>female</td>\n",
       "      <td>27.900</td>\n",
       "      <td>0</td>\n",
       "      <td>yes</td>\n",
       "      <td>southwest</td>\n",
       "      <td>16884.92400</td>\n",
       "    </tr>\n",
       "    <tr>\n",
       "      <th>1</th>\n",
       "      <td>18</td>\n",
       "      <td>male</td>\n",
       "      <td>33.770</td>\n",
       "      <td>1</td>\n",
       "      <td>no</td>\n",
       "      <td>southeast</td>\n",
       "      <td>1725.55230</td>\n",
       "    </tr>\n",
       "    <tr>\n",
       "      <th>2</th>\n",
       "      <td>28</td>\n",
       "      <td>male</td>\n",
       "      <td>33.000</td>\n",
       "      <td>3</td>\n",
       "      <td>no</td>\n",
       "      <td>southeast</td>\n",
       "      <td>4449.46200</td>\n",
       "    </tr>\n",
       "    <tr>\n",
       "      <th>3</th>\n",
       "      <td>33</td>\n",
       "      <td>male</td>\n",
       "      <td>22.705</td>\n",
       "      <td>0</td>\n",
       "      <td>no</td>\n",
       "      <td>northwest</td>\n",
       "      <td>21984.47061</td>\n",
       "    </tr>\n",
       "    <tr>\n",
       "      <th>4</th>\n",
       "      <td>32</td>\n",
       "      <td>male</td>\n",
       "      <td>28.880</td>\n",
       "      <td>0</td>\n",
       "      <td>no</td>\n",
       "      <td>northwest</td>\n",
       "      <td>3866.85520</td>\n",
       "    </tr>\n",
       "  </tbody>\n",
       "</table>\n",
       "</div>"
      ],
      "text/plain": [
       "   age     sex     bmi  children smoker     region      charges\n",
       "0   19  female  27.900         0    yes  southwest  16884.92400\n",
       "1   18    male  33.770         1     no  southeast   1725.55230\n",
       "2   28    male  33.000         3     no  southeast   4449.46200\n",
       "3   33    male  22.705         0     no  northwest  21984.47061\n",
       "4   32    male  28.880         0     no  northwest   3866.85520"
      ]
     },
     "execution_count": 17,
     "metadata": {},
     "output_type": "execute_result"
    }
   ],
   "source": [
    "df = pd.read_csv(\"data/insurance.csv\")\n",
    "df.head()"
   ]
  },
  {
   "cell_type": "markdown",
   "metadata": {},
   "source": [
    "Let's use the ``info()`` method to identify the types of the variables in the dataset."
   ]
  },
  {
   "cell_type": "code",
   "execution_count": 3,
   "metadata": {},
   "outputs": [
    {
     "name": "stdout",
     "output_type": "stream",
     "text": [
      "<class 'pandas.core.frame.DataFrame'>\n",
      "RangeIndex: 1338 entries, 0 to 1337\n",
      "Data columns (total 7 columns):\n",
      " #   Column    Non-Null Count  Dtype  \n",
      "---  ------    --------------  -----  \n",
      " 0   age       1338 non-null   int64  \n",
      " 1   sex       1338 non-null   object \n",
      " 2   bmi       1338 non-null   float64\n",
      " 3   children  1338 non-null   int64  \n",
      " 4   smoker    1338 non-null   object \n",
      " 5   region    1338 non-null   object \n",
      " 6   charges   1338 non-null   float64\n",
      "dtypes: float64(2), int64(2), object(3)\n",
      "memory usage: 73.3+ KB\n"
     ]
    }
   ],
   "source": [
    "df.info()"
   ]
  },
  {
   "cell_type": "markdown",
   "metadata": {},
   "source": [
    "We can summarize the variables above as follows:\n",
    "\n",
    "| **Type**       | **Columns**         |\n",
    "|----------------|---------------------|\n",
    "| **Continuous** | bmi, charges        |\n",
    "| **Discrete**   | age, children       |\n",
    "| **Nominal**    | sex, smoker, region |\n",
    "| **Ordinal**    |                     |"
   ]
  },
  {
   "cell_type": "markdown",
   "metadata": {
    "tags": [
     "50_min"
    ]
   },
   "source": [
    "## Summary statistics for each variable\n",
    "\n",
    "Recall our original business problem - we want to ascertain the payment, personal, and regional profile of smokers in the US. As you learned in an earlier case, a good place to start is by looking at **summary statistics** of data on smokers - examples being the mean, median, and mode of a dataset. All three are central tendency measures, that is, they give us an idea of what the typical (most central) element looks like in a dataset for a given variable. Recall that:\n",
    "\n",
    "* **Mean** is the sum of all observations for a particular variable over the number of observations for that variable\n",
    "* **Median** is another measure of the data's \"center\" and gives the middlemost value when data is listed in ascending order (i.e. the 50th percentile)\n",
    "* **Mode** gives us the most common value that appears in the data. It is most often used for categorical data"
   ]
  },
  {
   "cell_type": "markdown",
   "metadata": {
    "tags": [
     "15_min"
    ]
   },
   "source": [
    "### Exercise 1:\n",
    "\n",
    "Use the `mean()`, `mode()`, `median()` and `groupby()` methods to answer the following questions:\n",
    "\n",
    "1. What is the mean charge of all cases?\n",
    "2. Is the mean charge for people who smoke greater than that for non-smokers? What is the percentage difference?\n",
    "3. Is smoking more prevalent in males or females within the dataset?\n",
    "4. What is the median charge for male smokers as opposed to female smokers? What is the percentage difference?"
   ]
  },
  {
   "cell_type": "markdown",
   "metadata": {
    "tags": [
     "ans_st"
    ]
   },
   "source": [
    "**Answer.**"
   ]
  },
  {
   "cell_type": "code",
   "execution_count": 4,
   "metadata": {},
   "outputs": [
    {
     "data": {
      "text/plain": [
       "13270.422265141257"
      ]
     },
     "execution_count": 4,
     "metadata": {},
     "output_type": "execute_result"
    }
   ],
   "source": [
    "df.charges.mean()"
   ]
  },
  {
   "cell_type": "code",
   "execution_count": 18,
   "metadata": {
    "scrolled": true
   },
   "outputs": [
    {
     "data": {
      "text/html": [
       "<div>\n",
       "<style scoped>\n",
       "    .dataframe tbody tr th:only-of-type {\n",
       "        vertical-align: middle;\n",
       "    }\n",
       "\n",
       "    .dataframe tbody tr th {\n",
       "        vertical-align: top;\n",
       "    }\n",
       "\n",
       "    .dataframe thead th {\n",
       "        text-align: right;\n",
       "    }\n",
       "</style>\n",
       "<table border=\"1\" class=\"dataframe\">\n",
       "  <thead>\n",
       "    <tr style=\"text-align: right;\">\n",
       "      <th></th>\n",
       "      <th>charges</th>\n",
       "    </tr>\n",
       "    <tr>\n",
       "      <th>smoker</th>\n",
       "      <th></th>\n",
       "    </tr>\n",
       "  </thead>\n",
       "  <tbody>\n",
       "    <tr>\n",
       "      <th>no</th>\n",
       "      <td>8434.268298</td>\n",
       "    </tr>\n",
       "    <tr>\n",
       "      <th>yes</th>\n",
       "      <td>32050.231832</td>\n",
       "    </tr>\n",
       "  </tbody>\n",
       "</table>\n",
       "</div>"
      ],
      "text/plain": [
       "             charges\n",
       "smoker              \n",
       "no       8434.268298\n",
       "yes     32050.231832"
      ]
     },
     "execution_count": 18,
     "metadata": {},
     "output_type": "execute_result"
    }
   ],
   "source": [
    "df[[\"smoker\", \"charges\"]].groupby(\"smoker\").mean()"
   ]
  },
  {
   "cell_type": "code",
   "execution_count": 21,
   "metadata": {},
   "outputs": [
    {
     "name": "stdout",
     "output_type": "stream",
     "text": [
      "Smokers pay 280.00% more than non-smokers on average\n"
     ]
    }
   ],
   "source": [
    "smoker_means = df[[\"smoker\",\"charges\"]].groupby(\"smoker\").mean()\n",
    "\n",
    "#referencing data frame above for \"Yes\" value\n",
    "smoker = (smoker_means.loc[\"yes\"])[0]\n",
    "\n",
    "#pulling the value from the \"no\" index\n",
    "non_smoker = (smoker_means.loc[\"no\"])[0]\n",
    "\n",
    "#calculating percentage\n",
    "percent = (smoker-non_smoker)/non_smoker\n",
    "\n",
    "#Curly braces pass values inside of strings, .2f gives us two decimal places\n",
    "print(\"Smokers pay {:.2f}% more than non-smokers on average\".format(percent*100))"
   ]
  },
  {
   "cell_type": "code",
   "execution_count": 20,
   "metadata": {},
   "outputs": [
    {
     "data": {
      "text/html": [
       "<div>\n",
       "<style scoped>\n",
       "    .dataframe tbody tr th:only-of-type {\n",
       "        vertical-align: middle;\n",
       "    }\n",
       "\n",
       "    .dataframe tbody tr th {\n",
       "        vertical-align: top;\n",
       "    }\n",
       "\n",
       "    .dataframe thead th {\n",
       "        text-align: right;\n",
       "    }\n",
       "</style>\n",
       "<table border=\"1\" class=\"dataframe\">\n",
       "  <thead>\n",
       "    <tr style=\"text-align: right;\">\n",
       "      <th></th>\n",
       "      <th>charges</th>\n",
       "    </tr>\n",
       "    <tr>\n",
       "      <th>sex</th>\n",
       "      <th></th>\n",
       "    </tr>\n",
       "  </thead>\n",
       "  <tbody>\n",
       "    <tr>\n",
       "      <th>female</th>\n",
       "      <td>9412.96250</td>\n",
       "    </tr>\n",
       "    <tr>\n",
       "      <th>male</th>\n",
       "      <td>9369.61575</td>\n",
       "    </tr>\n",
       "  </tbody>\n",
       "</table>\n",
       "</div>"
      ],
      "text/plain": [
       "           charges\n",
       "sex               \n",
       "female  9412.96250\n",
       "male    9369.61575"
      ]
     },
     "execution_count": 20,
     "metadata": {},
     "output_type": "execute_result"
    }
   ],
   "source": [
    "df[[\"sex\", \"charges\"]].groupby(\"sex\").median()"
   ]
  },
  {
   "cell_type": "code",
   "execution_count": 22,
   "metadata": {},
   "outputs": [
    {
     "data": {
      "text/plain": [
       "0    male\n",
       "dtype: object"
      ]
     },
     "execution_count": 22,
     "metadata": {},
     "output_type": "execute_result"
    }
   ],
   "source": [
    "df[df[\"smoker\"]==\"yes\"][\"sex\"].mode()"
   ]
  },
  {
   "cell_type": "code",
   "execution_count": 23,
   "metadata": {},
   "outputs": [
    {
     "data": {
      "text/html": [
       "<div>\n",
       "<style scoped>\n",
       "    .dataframe tbody tr th:only-of-type {\n",
       "        vertical-align: middle;\n",
       "    }\n",
       "\n",
       "    .dataframe tbody tr th {\n",
       "        vertical-align: top;\n",
       "    }\n",
       "\n",
       "    .dataframe thead th {\n",
       "        text-align: right;\n",
       "    }\n",
       "</style>\n",
       "<table border=\"1\" class=\"dataframe\">\n",
       "  <thead>\n",
       "    <tr style=\"text-align: right;\">\n",
       "      <th></th>\n",
       "      <th>charges</th>\n",
       "    </tr>\n",
       "    <tr>\n",
       "      <th>sex</th>\n",
       "      <th></th>\n",
       "    </tr>\n",
       "  </thead>\n",
       "  <tbody>\n",
       "    <tr>\n",
       "      <th>female</th>\n",
       "      <td>28950.4692</td>\n",
       "    </tr>\n",
       "    <tr>\n",
       "      <th>male</th>\n",
       "      <td>36085.2190</td>\n",
       "    </tr>\n",
       "  </tbody>\n",
       "</table>\n",
       "</div>"
      ],
      "text/plain": [
       "           charges\n",
       "sex               \n",
       "female  28950.4692\n",
       "male    36085.2190"
      ]
     },
     "execution_count": 23,
     "metadata": {},
     "output_type": "execute_result"
    }
   ],
   "source": [
    "df[df[\"smoker\"]==\"yes\"][[\"charges\", \"sex\"]].groupby(\"sex\").median()"
   ]
  },
  {
   "cell_type": "code",
   "execution_count": 25,
   "metadata": {},
   "outputs": [
    {
     "name": "stdout",
     "output_type": "stream",
     "text": [
      "Male smokers pay 24.64% more than female smokers on average\n"
     ]
    }
   ],
   "source": [
    "sex_charges = df[df[\"smoker\"]==\"yes\"][[\"charges\",\"sex\"]].groupby(\"sex\").median()\n",
    "female = (sex_charges.loc[\"female\"])[0]\n",
    "male = (sex_charges.loc[\"male\"])[0]\n",
    "percent = (male-female)/female \n",
    "print(\"Male smokers pay {:.2f}% more than female smokers on average\".format(percent*100))"
   ]
  },
  {
   "cell_type": "markdown",
   "metadata": {},
   "source": [
    "-------"
   ]
  },
  {
   "cell_type": "markdown",
   "metadata": {},
   "source": [
    "Of course, as we already know from previous cases, these measures of central tendency only tell us part of the story. The actual individual data points are not all located at the mean, median, or mode, but *distributed around them*, that is, they show **variability**."
   ]
  },
  {
   "cell_type": "markdown",
   "metadata": {
    "tags": [
     "15_min"
    ]
   },
   "source": [
    "### Exercise 2:\n",
    "\n",
    "Let's look at some aspects of the variability of insurance charges that smokers pay:\n",
    "\n",
    "1. What is the difference between the largest and smallest charges that smokers pay?\n",
    "2. What range of charges do the middle 50% of smokers pay? (that is, the charges between the 25th and 75th percentiles, also called the **interquartile range**)\n",
    "\n",
    "\n",
    "**Hint:** You can filter the DataFrame to get only smokers and get the maximum value of the `charges` variable as follows:\n",
    "\n",
    "```python\n",
    "mn = df[df[\"smoker\"] == \"yes\"][\"charges\"].min()\n",
    "```\n",
    "\n",
    "You can get the inter quartile range by using:\n",
    "\n",
    "```python\n",
    "iqr = charges.quantile(q=0.75) - charges.quantile(q=0.25)\n",
    "```"
   ]
  },
  {
   "cell_type": "markdown",
   "metadata": {
    "tags": [
     "ans_st"
    ]
   },
   "source": [
    "**Answer.**"
   ]
  },
  {
   "cell_type": "code",
   "execution_count": 52,
   "metadata": {},
   "outputs": [
    {
     "name": "stdout",
     "output_type": "stream",
     "text": [
      "Range: [$12829.46 , $63770.43]\n"
     ]
    }
   ],
   "source": [
    "# Range - difference of extreme values\n",
    "mn = df[df[\"smoker\"] == \"yes\"][\"charges\"].min()\n",
    "mx = df[df[\"smoker\"] == \"yes\"][\"charges\"].max()\n",
    "rnge = mx - mn\n",
    "print(\"Range: [${:.2f} , ${:.2f}]\".format(mn, mx))"
   ]
  },
  {
   "cell_type": "code",
   "execution_count": 51,
   "metadata": {},
   "outputs": [
    {
     "name": "stdout",
     "output_type": "stream",
     "text": [
      "The charges for the middle 50% of smokers range from $20826.24 to $41019.21.\n",
      "\n",
      "This is an interquartile range of $20192.96.\n"
     ]
    }
   ],
   "source": [
    "# Interquartile range\n",
    "charges = df[df[\"smoker\"] == \"yes\"][\"charges\"]\n",
    "iqr = charges.quantile(q=0.75) - charges.quantile(q=0.25)\n",
    "print(\n",
    "    \"The charges for the middle 50% of smokers range from ${:.2f} to ${:.2f}.\\n\\nThis is an interquartile range of ${:.2f}.\".format(\n",
    "        charges.quantile(q=0.25), charges.quantile(q=0.75), iqr\n",
    "    )\n",
    ")"
   ]
  },
  {
   "cell_type": "markdown",
   "metadata": {},
   "source": [
    "-------"
   ]
  },
  {
   "cell_type": "markdown",
   "metadata": {},
   "source": [
    "There is a measure of variability that is very similar to the interquartile range, but possesses some additional important mathematical properties that make it useful for tasks beyond simple descriptive statistics - the **standard deviation**. The formula for the standard deviation is as follows:\n",
    "\n",
    "$$\n",
    "\\sigma = \\sqrt{\\frac{\\sum(x_i-\\mu)^2}{N}}\n",
    "$$\n",
    "\n",
    "Let's break this down. First, the Greek letter $\\sigma$ (lowercase *sigma*) is the conventional way to represent the standard deviation in mathematical formulas. It is equal to the square root of this term:\n",
    "\n",
    "$$\\frac{\\sum(x_i-\\mu)^2}{N}$$\n",
    "\n",
    "What this term is doing might seem complicated, but it's not so bad. You first take each value in your dataset (that's $x_i$) and subtract the mean $\\mu$ from it. For instance, if the mean is 5 and $x_i$ is 11, then you have to subtract 5 from 11. You then raise the resulting number to the second power and repeat the process for all the numbers in your dataset. Then, you sum up all these values (that's what the Greek letter $\\Sigma$, uppercase *sigma*, means) and divide the sum by $N$, which is the number of elements in the dataset (we do this to make this quantity into an average).\n",
    "\n",
    "The reason why $(x_i-\\mu)$ is raised to the second power is because for values of $x_i$ that are less than the mean, this value is negative, so when you sum across all of these values, the negative values would cancel out the positive ones and give us zero! You can therefore think of the standard deviation as the average deviation from the mean to any point in the dataset, either to the left or to the right.\n",
    "\n",
    "We take the square root of the whole thing to bring it back to the same units that our dataset uses. For instance, if you have a dataset of people's heights, it makes little sense to have an average deviation in square feet or square meters, so you need to take the square root to have it in feet or meters."
   ]
  },
  {
   "cell_type": "markdown",
   "metadata": {
    "tags": [
     "15_min"
    ]
   },
   "source": [
    "### Analysis of regional charges\n",
    "\n",
    "Histograms can be used to compare different categorical variables against a common scale. This allows for a visual understanding of the spread of the data across these categories.\n",
    "\n",
    "We can have a histogram for each region:\n",
    "\n",
    "![Histograms region](data/images/histograms_region.png)"
   ]
  },
  {
   "cell_type": "code",
   "execution_count": 53,
   "metadata": {},
   "outputs": [
    {
     "data": {
      "text/html": [
       "<div>\n",
       "<style scoped>\n",
       "    .dataframe tbody tr th:only-of-type {\n",
       "        vertical-align: middle;\n",
       "    }\n",
       "\n",
       "    .dataframe tbody tr th {\n",
       "        vertical-align: top;\n",
       "    }\n",
       "\n",
       "    .dataframe thead tr th {\n",
       "        text-align: left;\n",
       "    }\n",
       "\n",
       "    .dataframe thead tr:last-of-type th {\n",
       "        text-align: right;\n",
       "    }\n",
       "</style>\n",
       "<table border=\"1\" class=\"dataframe\">\n",
       "  <thead>\n",
       "    <tr>\n",
       "      <th></th>\n",
       "      <th colspan=\"8\" halign=\"left\">charges</th>\n",
       "    </tr>\n",
       "    <tr>\n",
       "      <th></th>\n",
       "      <th>count</th>\n",
       "      <th>mean</th>\n",
       "      <th>std</th>\n",
       "      <th>min</th>\n",
       "      <th>25%</th>\n",
       "      <th>50%</th>\n",
       "      <th>75%</th>\n",
       "      <th>max</th>\n",
       "    </tr>\n",
       "    <tr>\n",
       "      <th>region</th>\n",
       "      <th></th>\n",
       "      <th></th>\n",
       "      <th></th>\n",
       "      <th></th>\n",
       "      <th></th>\n",
       "      <th></th>\n",
       "      <th></th>\n",
       "      <th></th>\n",
       "    </tr>\n",
       "  </thead>\n",
       "  <tbody>\n",
       "    <tr>\n",
       "      <th>northeast</th>\n",
       "      <td>324.0</td>\n",
       "      <td>13406.384516</td>\n",
       "      <td>11255.803066</td>\n",
       "      <td>1694.7964</td>\n",
       "      <td>5194.322288</td>\n",
       "      <td>10057.652025</td>\n",
       "      <td>16687.3641</td>\n",
       "      <td>58571.07448</td>\n",
       "    </tr>\n",
       "    <tr>\n",
       "      <th>northwest</th>\n",
       "      <td>325.0</td>\n",
       "      <td>12417.575374</td>\n",
       "      <td>11072.276928</td>\n",
       "      <td>1621.3402</td>\n",
       "      <td>4719.736550</td>\n",
       "      <td>8965.795750</td>\n",
       "      <td>14711.7438</td>\n",
       "      <td>60021.39897</td>\n",
       "    </tr>\n",
       "    <tr>\n",
       "      <th>southeast</th>\n",
       "      <td>364.0</td>\n",
       "      <td>14735.411438</td>\n",
       "      <td>13971.098589</td>\n",
       "      <td>1121.8739</td>\n",
       "      <td>4440.886200</td>\n",
       "      <td>9294.131950</td>\n",
       "      <td>19526.2869</td>\n",
       "      <td>63770.42801</td>\n",
       "    </tr>\n",
       "    <tr>\n",
       "      <th>southwest</th>\n",
       "      <td>325.0</td>\n",
       "      <td>12346.937377</td>\n",
       "      <td>11557.179101</td>\n",
       "      <td>1241.5650</td>\n",
       "      <td>4751.070000</td>\n",
       "      <td>8798.593000</td>\n",
       "      <td>13462.5200</td>\n",
       "      <td>52590.82939</td>\n",
       "    </tr>\n",
       "  </tbody>\n",
       "</table>\n",
       "</div>"
      ],
      "text/plain": [
       "          charges                                                      \\\n",
       "            count          mean           std        min          25%   \n",
       "region                                                                  \n",
       "northeast   324.0  13406.384516  11255.803066  1694.7964  5194.322288   \n",
       "northwest   325.0  12417.575374  11072.276928  1621.3402  4719.736550   \n",
       "southeast   364.0  14735.411438  13971.098589  1121.8739  4440.886200   \n",
       "southwest   325.0  12346.937377  11557.179101  1241.5650  4751.070000   \n",
       "\n",
       "                                                  \n",
       "                    50%         75%          max  \n",
       "region                                            \n",
       "northeast  10057.652025  16687.3641  58571.07448  \n",
       "northwest   8965.795750  14711.7438  60021.39897  \n",
       "southeast   9294.131950  19526.2869  63770.42801  \n",
       "southwest   8798.593000  13462.5200  52590.82939  "
      ]
     },
     "execution_count": 53,
     "metadata": {},
     "output_type": "execute_result"
    }
   ],
   "source": [
    "regional_charges = df[[\"charges\", \"region\"]].groupby(\"region\")\n",
    "regional_charges.describe()"
   ]
  },
  {
   "cell_type": "markdown",
   "metadata": {},
   "source": [
    "The Southeast region appears to have the highest charges. It has the highest mean and its third quartile spreads to higher values than those for the other regions. "
   ]
  },
  {
   "cell_type": "markdown",
   "metadata": {
    "tags": [
     "5_min"
    ]
   },
   "source": [
    "### Exercise 3:\n",
    "\n",
    "This is a table of the count of smokers per region as a proportion of the total number of smokers in the dataset. Why does the Southeast have higher charges than the other regions?\n",
    "\n",
    "| Region \t| Percentage of smokers \t|\n",
    "|-\t|-\t|\n",
    "| Northwest \t| 21% \t|\n",
    "| Northeast \t| 24% \t|\n",
    "| Southeast \t| 33% \t|\n",
    "| Southwest \t| 21% \t|\n",
    "\n"
   ]
  },
  {
   "cell_type": "markdown",
   "metadata": {
    "tags": [
     "ans_st"
    ]
   },
   "source": [
    "**Answer.**"
   ]
  },
  {
   "cell_type": "code",
   "execution_count": null,
   "metadata": {},
   "outputs": [],
   "source": []
  },
  {
   "cell_type": "markdown",
   "metadata": {},
   "source": [
    "-------"
   ]
  },
  {
   "cell_type": "markdown",
   "metadata": {},
   "source": [
    "It is often necessary or useful to calculate the **probability** of some event $A$ occurring, which takes on a value from 0 to 1 and is denoted $P(A)$. A probability of 0 means that an event is certain to not occur, and a probability of 1 means that it is certain to occur. To calculate the probability of events occurring, we can use the following rules (here, $A$ and $B$ are two events): \n",
    "\n",
    "1. $\\displaystyle P(A) = \\frac {\\textrm{# of outcomes when } A \\textrm{ occurs}} {\\textrm{# of total outcomes}}$\n",
    "2. $P(A \\textrm{ AND } B) = P(A) * P(B)$ (only applies to [independent events](https://www.statisticshowto.com/probability-and-statistics/dependent-events-independent/))\n",
    "3. $P(A \\textrm{ OR } B) = P(A) + P(B)$ (only applies to [mutually exclusive events](https://en.wikipedia.org/wiki/Mutual_exclusivity))"
   ]
  },
  {
   "cell_type": "markdown",
   "metadata": {
    "tags": [
     "5_min"
    ]
   },
   "source": [
    "### Exercise 4:\n",
    "\n",
    "The company is considering offering a lucky draw to give one client zero charges for the next month. They want to know how likely it is that a smoker is selected. Specifically:\n",
    "\n",
    "1. If the company did one lucky draw for each region individually, what is the probability that the selected person in the region that smokes the most is a smoker?\n",
    "2. If the company did one lucky draw for all regions together, what is the probability of a smoker from the region that smokes the most being selected?"
   ]
  },
  {
   "cell_type": "markdown",
   "metadata": {
    "tags": [
     "ans_st"
    ]
   },
   "source": [
    "**Answer.**"
   ]
  },
  {
   "cell_type": "code",
   "execution_count": 54,
   "metadata": {},
   "outputs": [
    {
     "name": "stdout",
     "output_type": "stream",
     "text": [
      "25.0\n"
     ]
    }
   ],
   "source": [
    "# Probability of a person in the Southeast being a smoker\n",
    "se_smokers = df[df[\"region\"] == \"southeast\"][\"smoker\"].value_counts()\n",
    "p = se_smokers[\"yes\"] / (se_smokers.sum())\n",
    "print(p * 100)"
   ]
  },
  {
   "cell_type": "code",
   "execution_count": 55,
   "metadata": {},
   "outputs": [
    {
     "name": "stdout",
     "output_type": "stream",
     "text": [
      "6.80\n"
     ]
    }
   ],
   "source": [
    "# Probability of a smoker from the Southeast being selected\n",
    "p = se_smokers[\"yes\"]/df.shape[0]\n",
    "print(\"{:.2f}\".format(p * 100))"
   ]
  },
  {
   "cell_type": "markdown",
   "metadata": {},
   "source": [
    "-------"
   ]
  },
  {
   "cell_type": "markdown",
   "metadata": {
    "tags": [
     "20_min"
    ]
   },
   "source": [
    "## Relationships between variables\n",
    "\n",
    "As we have seen in previous cases, properties of individual variables are important, but they are not the only important thing. Rather, data science often consists of the study of relationships between multiple variables. One way to give a quick numerical summary of a relationship between two variables is via the concept of **correlation**.\n",
    "\n",
    "The **Pearson correlation coefficient** (also called Pearson's $R$) is commonly used for this purpose and has values in the range \\[-1:1\\]. A positive correlation ($R > 0$) means that as one variable increases in value, the common trend is that the other variable increases in value, while a negative correlation ($R < 0$) means that as one variable increases, the other decreases. If $R = 1$, then that means there is a perfect positive linear relationship between the two variables; if $R = -1$, there is a perfect negative linear relationship."
   ]
  },
  {
   "cell_type": "markdown",
   "metadata": {
    "tags": [
     "15_min"
    ]
   },
   "source": [
    "### Exercise 5:\n",
    "\n",
    "Use `pandas` and the `.corr()` method to compute a correlation matrix to compare correlations between variables for smokers. Use this matrix to identify which variables are positively correlated, negatively correlated, and uncorrelated with the charges."
   ]
  },
  {
   "cell_type": "markdown",
   "metadata": {
    "tags": [
     "ans_st"
    ]
   },
   "source": [
    "**Answer.**"
   ]
  },
  {
   "cell_type": "code",
   "execution_count": 58,
   "metadata": {},
   "outputs": [
    {
     "ename": "ModuleNotFoundError",
     "evalue": "No module named 'matplotlib'",
     "output_type": "error",
     "traceback": [
      "\u001b[0;31m---------------------------------------------------------------------------\u001b[0m",
      "\u001b[0;31mModuleNotFoundError\u001b[0m                       Traceback (most recent call last)",
      "\u001b[0;32m<ipython-input-58-498835ee48f1>\u001b[0m in \u001b[0;36m<module>\u001b[0;34m\u001b[0m\n\u001b[0;32m----> 1\u001b[0;31m \u001b[0;32mimport\u001b[0m \u001b[0mmatplotlib\u001b[0m\u001b[0;34m\u001b[0m\u001b[0;34m\u001b[0m\u001b[0m\n\u001b[0m\u001b[1;32m      2\u001b[0m \u001b[0msmokers\u001b[0m \u001b[0;34m=\u001b[0m \u001b[0mdf\u001b[0m\u001b[0;34m[\u001b[0m\u001b[0mdf\u001b[0m\u001b[0;34m[\u001b[0m\u001b[0;34m\"smoker\"\u001b[0m\u001b[0;34m]\u001b[0m \u001b[0;34m==\u001b[0m \u001b[0;34m\"yes\"\u001b[0m\u001b[0;34m]\u001b[0m\u001b[0;34m\u001b[0m\u001b[0;34m\u001b[0m\u001b[0m\n\u001b[1;32m      3\u001b[0m central = smokers[\n\u001b[1;32m      4\u001b[0m     \u001b[0;34m(\u001b[0m\u001b[0msmokers\u001b[0m\u001b[0;34m[\u001b[0m\u001b[0;34m\"charges\"\u001b[0m\u001b[0;34m]\u001b[0m \u001b[0;34m>=\u001b[0m \u001b[0mcharges\u001b[0m\u001b[0;34m.\u001b[0m\u001b[0mquantile\u001b[0m\u001b[0;34m(\u001b[0m\u001b[0mq\u001b[0m\u001b[0;34m=\u001b[0m\u001b[0;36m0.25\u001b[0m\u001b[0;34m)\u001b[0m\u001b[0;34m)\u001b[0m\u001b[0;34m\u001b[0m\u001b[0;34m\u001b[0m\u001b[0m\n\u001b[1;32m      5\u001b[0m     \u001b[0;34m&\u001b[0m \u001b[0;34m(\u001b[0m\u001b[0msmokers\u001b[0m\u001b[0;34m[\u001b[0m\u001b[0;34m\"charges\"\u001b[0m\u001b[0;34m]\u001b[0m \u001b[0;34m<=\u001b[0m \u001b[0mcharges\u001b[0m\u001b[0;34m.\u001b[0m\u001b[0mquantile\u001b[0m\u001b[0;34m(\u001b[0m\u001b[0mq\u001b[0m\u001b[0;34m=\u001b[0m\u001b[0;36m0.75\u001b[0m\u001b[0;34m)\u001b[0m\u001b[0;34m)\u001b[0m\u001b[0;34m\u001b[0m\u001b[0;34m\u001b[0m\u001b[0m\n",
      "\u001b[0;31mModuleNotFoundError\u001b[0m: No module named 'matplotlib'"
     ]
    }
   ],
   "source": [
    "import matplotlib\n",
    "smokers = df[df[\"smoker\"] == \"yes\"]\n",
    "central = smokers[\n",
    "    (smokers[\"charges\"] >= charges.quantile(q=0.25))\n",
    "    & (smokers[\"charges\"] <= charges.quantile(q=0.75))\n",
    "]\n",
    "corr = central.corr()\n",
    "corr.style.background_gradient(cmap=\"coolwarm\").set_precision(2)"
   ]
  },
  {
   "cell_type": "markdown",
   "metadata": {},
   "source": [
    "-------"
   ]
  },
  {
   "cell_type": "markdown",
   "metadata": {},
   "source": [
    "We can see that there is virtually no correlation between the number of children and charges, which indicates that there is no linear relationship between these two variables."
   ]
  },
  {
   "cell_type": "markdown",
   "metadata": {},
   "source": [
    "### Exercise 6:\n",
    "\n",
    "These are scatterplots of the continuous variables present in the dataset. Explain what each of these means.\n",
    "\n",
    "![Scatterplot of BMI and charges](data/images/scatter_bmi_charges.png)\n",
    "![Scatterplot of age and charges](data/images/scatter_age_charges.png)\n"
   ]
  },
  {
   "cell_type": "markdown",
   "metadata": {
    "tags": [
     "ans_st"
    ]
   },
   "source": [
    "**Answer.**"
   ]
  },
  {
   "cell_type": "markdown",
   "metadata": {},
   "source": [
    "-------"
   ]
  },
  {
   "cell_type": "markdown",
   "metadata": {
    "tags": [
     "30_min"
    ]
   },
   "source": [
    "## Probability theory and distributions\n",
    "\n",
    "Thus far, we have been concerned with calculating statistical values which give insight into the data we already have; i.e. we have been taking a more *empirical* approach. However, we often have to be forward-looking and also predict the likelihood of future events, which is more *theoretical* in nature. We had a sampling of this in Exercise 4, but here we will talk more in detail about distributions and some of the basic theory around them.\n",
    "\n",
    "Suppose we were to plot the distribution of BMIs for the smokers in our dataset — that would give us a histogram. But a histogram is entirely based on a limited sample of past data, and doesn't allow us to directly make predictions about the general smoker population, *independent of our specific dataset*. To do this, we need a **probability density function (PDF)**, which is a theoretical construct that helps us compute the probability of where any randomly chosen smoker's BMI would fall, and which is not strictly beholden to the limits of our dataset (caveat: In order to use a PDF as an aid for inference, ie., to make general claims about a population using data from a sample, we need to pair it with some other techniques that make sure that the sample is representative of the whole).\n",
    "\n",
    "Notice that we didn't say that the PDF can directly tell us the probability that a randomly chosen smoker's BMI would be exactly some given value; say, 30. The reason for this is because BMI is a *continuous* value rather than a *discrete* value; it can take on any decimal value, so the probability that a person's BMI is *exactly* 30 is pretty much zero. It's virtually guaranteed that what we think is a 30 BMI is actually a 29.99 BMI, or a 30.01 BMI, or even a 30.001 BMI. Either way, finding a person with a BMI of exactly 30 is like trying to find a unicorn."
   ]
  },
  {
   "cell_type": "markdown",
   "metadata": {
    "tags": [
     "25_min"
    ]
   },
   "source": [
    "### Area under the curve\n",
    "\n",
    "Because of this, it makes more sense to compute the probability that a smoker's BMI lies within some range; say, between 29 and 31. The PDF is perfectly made for this - specifically, if we plot the PDF on a standard 2-dimensional coordinate plane (with an $x$-axis and $y$-axis), this probability is the area of the region that lies under the PDF and above 0 (the $x$-axis), with $x$ values between 29 and 31. For those of you familiar with calculus, this is called the **area under the curve**.\n",
    "\n",
    "One interesting consequence of this property of the PDF is that the total area under the PDF and above the $x$-axis, with no limits on what the $x$ values can be, has to be 1 (because the probability of an event has to lie between 0 and 1).\n",
    "\n",
    "One of the most famous distributions is the **normal distribution**, for which the mean, median, and mode are all equal and which is symmetric around the median. This distribution has a high peak in the center and tapers off as we move towards the left and right ends."
   ]
  },
  {
   "cell_type": "markdown",
   "metadata": {
    "tags": [
     "10_min"
    ]
   },
   "source": [
    "### Exercise 7:\n",
    "\n",
    "Here is a probability density function of the BMI of all smokers:\n",
    "\n",
    "![PDF of BMI of smokers](data/images/PDF_bmi_smokers.png)\n",
    "\n",
    "From this plot and the mean, median, and mode values, explain if this distribution is a good candidate for being perfectly normal."
   ]
  },
  {
   "cell_type": "markdown",
   "metadata": {
    "tags": [
     "ans_st"
    ]
   },
   "source": [
    "**Answer.**"
   ]
  },
  {
   "cell_type": "markdown",
   "metadata": {},
   "source": [
    "-------"
   ]
  },
  {
   "cell_type": "markdown",
   "metadata": {},
   "source": [
    "An ideal normal distribution looks like this:\n",
    "\n",
    "![\"A normal curve\"](data/images/normal.png)\n",
    "\n",
    "As you can see, there are some vertical lines overlaid on the curve. These represent rules of thumb which are *very* helpful to remember:\n",
    "\n",
    "* Approximately 68% of samples in a normal distribution fall within one standard deviation of the mean\n",
    "* Approximately 95% of samples fall within two standard deviations of the mean\n",
    "* Approximately 99.7% of samples fall within three standard deviations of the mean\n",
    "\n",
    "It is common practice to refer to a data point's number of standard deviations from the mean as its **$z$-score**.\n",
    "\n",
    "Relating this back to our discussion about area under the curve, the above rules of thumb can be interpreted as:\n",
    "\n",
    "* The area under the normal distribution PDF and above the $x$-axis, with a $z$-score between -1 and 1 is approximately 0.68.\n",
    "* The area under the normal distribution PDF and above the $x$-axis, with a $z$-score between -2 and 2 is approximately 0.95.\n",
    "* The area under the normal distribution PDF and above the $x$-axis, with a $z$-score between -3 and 3 is approximately 0.997."
   ]
  },
  {
   "cell_type": "markdown",
   "metadata": {
    "tags": [
     "10_min"
    ]
   },
   "source": [
    "### Exercise 8:\n",
    "\n",
    "Assume for now that the distribution of BMIs is perfectly normal. Compute the following:\n",
    "\n",
    "1. What is the probability that a smoker has a BMI of more than 30 (the threshold for obesity)?\n",
    "2. What is the probability that a smoker has a BMI of more than 37?\n",
    "3. What range of values have a 5% or lower probability of being observed if you randomly sample one person from this distribution?"
   ]
  },
  {
   "cell_type": "markdown",
   "metadata": {
    "tags": [
     "ans_st"
    ]
   },
   "source": [
    "**Answer.**"
   ]
  },
  {
   "cell_type": "markdown",
   "metadata": {},
   "source": [
    "-------"
   ]
  },
  {
   "cell_type": "markdown",
   "metadata": {
    "tags": [
     "3_min"
    ]
   },
   "source": [
    "## Conclusions\n",
    "\n",
    "From our analysis, we have seen that smokers pay substantially higher fees than non-smokers. Fees for smokers are also strongly correlated with BMI, particularly above the threshold for obesity. It seems that smoking is more common in males than females and that it is particularly prevalent in the Southeast region, which could account for the higher median charge in that region."
   ]
  },
  {
   "cell_type": "markdown",
   "metadata": {
    "tags": [
     "7_min"
    ]
   },
   "source": [
    "## Takeaways\n",
    "\n",
    "In this case, you saw that we can analyze historical data to understand the trends within it, and use those trends and some theoretical understanding of probability and statistics to predict the likelihood of future events. Key points include:\n",
    "\n",
    "1. Summary statistics can be used to quickly indicate where the \"center\" of a dataset is, or how spread out the dataset is.\n",
    "3. We can investigate correlations between variables. This is especially useful during exploratory data analysis, and when (as you will see in future cases) building models that predict the value of one variable of interest based on several others.\n",
    "3. The probability density function is what allows us to move from the fully empirical world of histograms, which are an imperfect and limited representation of the entire population, to modeling and inferring characteristics of that population. The area under the PDF and above 0 between two specific $x$-values $a$ and $b$ gives the probability that a randomly chosen sample from that population will have an $x$-value for that variable between $a$ and $b$.\n",
    "4. The normal distribution is a particularly special PDF which is perfectly symmetric and with its mean, median, and mode all equal, and is a pretty good fit to many natural phenomena."
   ]
  },
  {
   "cell_type": "markdown",
   "metadata": {},
   "source": [
    "## Attribution\n",
    "\n",
    "\"Standard deviation diagram\", M.W. Toews, 7 April 2007, Creative Commons Attribution 2.5 Generic license, https://commons.wikimedia.org/wiki/File:Standard_deviation_diagram.svg"
   ]
  }
 ],
 "metadata": {
  "c1_recart": "6.1.0-57c20131aabc1dc2a8c675852d80a7da",
  "kernelspec": {
   "display_name": "Python 3",
   "language": "python",
   "name": "python3"
  },
  "language_info": {
   "codemirror_mode": {
    "name": "ipython",
    "version": 3
   },
   "file_extension": ".py",
   "mimetype": "text/x-python",
   "name": "python",
   "nbconvert_exporter": "python",
   "pygments_lexer": "ipython3",
   "version": "3.8.8"
  }
 },
 "nbformat": 4,
 "nbformat_minor": 4
}
