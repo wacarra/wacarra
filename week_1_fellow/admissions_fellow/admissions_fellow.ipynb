{
 "cells": [
  {
   "cell_type": "markdown",
   "metadata": {},
   "source": [
    "# Admissions"
   ]
  },
  {
   "cell_type": "markdown",
   "metadata": {},
   "source": [
    "## Gender bias in graduate admissions \n",
    "\n",
    "Here, we will revisit an example of incorrect statistical analysis that was uncovered in <i>Science</i>, one of the most prestigious scientific publications in the world.  The problem concerns gender bias in graduate admissions\n",
    "at the University of California at Berkeley.  The following table shows admission by gender:\n",
    "\n",
    "|Sex | Accepted | Rejected|\n",
    "|----|----------|---------|\n",
    "|Female| 557    | 1278    |\n",
    "|Male  | 1198   | 1498    |"
   ]
  },
  {
   "cell_type": "markdown",
   "metadata": {},
   "source": [
    "This simple table of summary statistics appears to be troubling for UC Berkeley. It can be seen that about 30% of female applicants were admitted whereas nearly 45% of male applicants were admitted.  "
   ]
  },
  {
   "cell_type": "markdown",
   "metadata": {
    "tags": [
     "5_min"
    ]
   },
   "source": [
    "### Exercise 1:\n",
    "\n",
    "If you were presented with this table, what would your next steps be? Without looking ahead, brainstorm next steps and potential explanations for the imbalance across sexes."
   ]
  },
  {
   "cell_type": "markdown",
   "metadata": {
    "tags": [
     "ans_st"
    ]
   },
   "source": [
    "**Answer.**"
   ]
  },
  {
   "cell_type": "markdown",
   "metadata": {},
   "source": [
    "Look at acceptances and rejections each specfic department, program to see what the individual acceptance rates.\n",
    "Comparing admissions scores/rates across applicants\n",
    "Comparing to undergraduate admissions\n",
    "Historical trends\n",
    "Gender make-up of admissions board\n",
    "\n",
    "One gender is more likely to apply to a spcecific type of program\n",
    "Lower accceptance rate for specific admissions\n",
    "Variety of programs (STEM has historically lower female populations)\n",
    "Gender percentages in undergrad\n",
    "\n",
    "\n"
   ]
  },
  {
   "cell_type": "markdown",
   "metadata": {},
   "source": [
    "-------"
   ]
  },
  {
   "cell_type": "markdown",
   "metadata": {},
   "source": [
    "The original investigators (the authors of the <i>Science</i> paper referenced above) sought to gain further insights into admission by gender through the following visualization. In this plot, each bubble represents a department. The size of the bubble is proporitional to the total number of applicants to that department.\n",
    "\n",
    "<img src=\"data/percentByAccRate.png\" width=\"1000\">"
   ]
  },
  {
   "cell_type": "markdown",
   "metadata": {
    "tags": [
     "5_min"
    ]
   },
   "source": [
    "### Exercise 2:\n",
    "\n",
    "Analyze the graphic. What do you see? Any new insights or conclusions? Discuss with your team.\n",
    "\n",
    "**Hint:** Have you considered the differences among departments in the proportions of men and women applying to them?"
   ]
  },
  {
   "cell_type": "markdown",
   "metadata": {
    "tags": [
     "ans_st"
    ]
   },
   "source": [
    "**Answer.**"
   ]
  },
  {
   "cell_type": "code",
   "execution_count": null,
   "metadata": {},
   "outputs": [],
   "source": [
    "More women applicants in programs that have lower acceptance rates\n",
    "As the women's applicant pool increases their acceptance decreases\n",
    "Departments with the highest admitance rate have the lowest pool of women\n"
   ]
  },
  {
   "cell_type": "markdown",
   "metadata": {},
   "source": [
    "-------"
   ]
  },
  {
   "cell_type": "markdown",
   "metadata": {},
   "source": [
    "Motivated by Exercise 2, let's look at the following \"mosaic\" plot. This plot gives the fraction of men and women admitted/rejected across various departments with in the university:\n",
    "\n",
    "<img src=\"data/mosaicPlot.png\" width=\"1000\">     "
   ]
  },
  {
   "cell_type": "markdown",
   "metadata": {
    "tags": [
     "3_min"
    ]
   },
   "source": [
    "### Exercise 3:\n",
    "\n",
    "Does the mosaic plot above give additional information compared to the previous table and plot?"
   ]
  },
  {
   "cell_type": "markdown",
   "metadata": {
    "tags": [
     "ans_st"
    ]
   },
   "source": [
    "**Answer.**"
   ]
  },
  {
   "cell_type": "code",
   "execution_count": null,
   "metadata": {},
   "outputs": [],
   "source": [
    "This one is a random selection, there's more information in the bubbles\n",
    "This feels like selectively choosing\n",
    "This gives slightly more information for the genders because male is included\n",
    "Shows us the competitiveness of the program\n",
    "Rejecting a similar amount of both genders, regardless of competitiveness\n"
   ]
  },
  {
   "cell_type": "markdown",
   "metadata": {},
   "source": [
    "-------"
   ]
  },
  {
   "cell_type": "markdown",
   "metadata": {
    "tags": [
     "7_min"
    ]
   },
   "source": [
    "### Exercise 4:\n",
    "\n",
    "Summing it all up, how exactly would you explain, in your own words, what the higher rejection rate of women compared to men is caused by, at the university population level? What general conclusions can we draw from this case study?"
   ]
  },
  {
   "cell_type": "markdown",
   "metadata": {
    "tags": [
     "ans_st"
    ]
   },
   "source": [
    "**Answer.**"
   ]
  },
  {
   "cell_type": "code",
   "execution_count": null,
   "metadata": {},
   "outputs": [],
   "source": [
    "Across 6 departments shown the admittance rate is consistent within each department and gender\n",
    "Overall there are less females applying there are less females admitted\n",
    "As the women's applicant pool increases their acceptance decreases\n",
    "\n",
    "When you look at each individual program the male and women rejection rates are similar, but when you look at more competitive programs there are more women applying and also being rejected\n",
    "If they wanted to equalize they'd need to get more women applicants in the competitive programs to outweigh the rejections\n"
   ]
  },
  {
   "cell_type": "markdown",
   "metadata": {},
   "source": [
    "-------"
   ]
  },
  {
   "cell_type": "markdown",
   "metadata": {},
   "source": [
    "\n",
    "We learned from this case study that there can often be a conflict between statistics uncovered at the granular level vs. at the aggregate level. This is the paradox we have discovered (otherwise known as **Simpson's Paradox**)! Aggregating data can be dangerous since it can give us misleading patterns, and if you are not careful enough to perform a rigurous statistical analysis of the constituents, you'll have misleading conclusions too!"
   ]
  }
 ],
 "metadata": {
  "c1_recart": "5.1.1-SNAPSHOT-57c20131aabc1dc2a8c675852d80a7da",
  "kernelspec": {
   "display_name": "Python 3",
   "language": "python",
   "name": "python3"
  },
  "language_info": {
   "codemirror_mode": {
    "name": "ipython",
    "version": 3
   },
   "file_extension": ".py",
   "mimetype": "text/x-python",
   "name": "python",
   "nbconvert_exporter": "python",
   "pygments_lexer": "ipython3",
   "version": "3.6.7"
  }
 },
 "nbformat": 4,
 "nbformat_minor": 2
}
