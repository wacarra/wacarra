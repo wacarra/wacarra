{
 "cells": [
  {
   "cell_type": "markdown",
   "metadata": {},
   "source": [
    "# How does my company's sales data compare across different states over time?"
   ]
  },
  {
   "cell_type": "code",
   "execution_count": null,
   "metadata": {},
   "outputs": [],
   "source": [
    "import pandas as pd\n",
    "import numpy as np\n",
    "import json\n",
    "import plotly.express as px\n",
    "from datetime import datetime as dt\n",
    "\n",
    "import warnings\n",
    "warnings.filterwarnings('ignore')"
   ]
  },
  {
   "cell_type": "markdown",
   "metadata": {
    "tags": [
     "5_min"
    ]
   },
   "source": [
    "## Introduction\n",
    "\n",
    "**Business Context.** You are a business intelligence analyst for a supermarket conglomerate. Your company has stores all over the United States. The company has collected data consisting of line-level order information from all its stores. The company wishes to compare sales data across different months and geographies and make this information available to executive members and key shareholders. If each person has access to an interactive dashboard, it can offer a foundation for further dialogue and great decision making."
   ]
  },
  {
   "cell_type": "markdown",
   "metadata": {},
   "source": [
    "**Business Problem.** The company wants you to **make an interactive dashboard that company executives can use to visualize sales and profits across supermarket locations over various time periods.** The dashboard should be usable via a web browser like Chrome on the company's intranet."
   ]
  },
  {
   "cell_type": "markdown",
   "metadata": {},
   "source": [
    "**Analytical Context.** In the current case, we will be using Dash by Plotly to develop the dashboard. Dash is an open-source Business Intelligence (BI) platform which allows us to develop complicated interactive dashboards using only Python. It also lets us connect to various data sources and is easy to deploy as a web application.\n",
    "\n",
    "The case is structured as follows: you will (1) learn about the basic components of Dash; (2) walk through the basic elements of making a dashboard; and finally (3) make a dashboard that compares sales and profit over time across various states."
   ]
  },
  {
   "cell_type": "markdown",
   "metadata": {
    "tags": [
     "10_min"
    ]
   },
   "source": [
    "## Understanding the data\n",
    "\n",
    "Let's read the data into a `pandas` DataFrame and look at all the information we have:"
   ]
  },
  {
   "cell_type": "code",
   "execution_count": null,
   "metadata": {},
   "outputs": [],
   "source": [
    "df = pd.read_csv('app/data/superstore.csv', parse_dates=['Order Date', 'Ship Date'])\n",
    "df.head()"
   ]
  },
  {
   "cell_type": "code",
   "execution_count": null,
   "metadata": {},
   "outputs": [],
   "source": [
    "df.columns"
   ]
  },
  {
   "cell_type": "markdown",
   "metadata": {},
   "source": [
    "The data for the superstore has line-level data for each product purchased across different locations. The full list of features available is below:\n",
    "\n",
    "1. **Order ID**: ID of the order\n",
    "2. **Order Date**: Date of the order\n",
    "3. **Ship Date**: Shipping Date of the order\n",
    "4. **Ship Mode**: Shipping medium\n",
    "5. **Customer ID**: ID of the customer\n",
    "6. **Customer Name**: Name of the customer\n",
    "7. **Segment**: Consumer or corporate Sale\n",
    "8. **Country**: Country of store\n",
    "9. **City**: City of store\n",
    "10. **Postal Code**: Postal code of store\n",
    "11. **Region**: Region of store\n",
    "12. **Product ID**: ID of the product\n",
    "13. **Category**: Category of product\n",
    "14. **Sub-Category**: Sub-category of product\n",
    "15. **Product Name**: Name of product\n",
    "16. **Sales**: Value of sale\n",
    "17. **Quantity**: Quantity of product sold\n",
    "18. **Discount**: Discount offered\n",
    "19. **Profit**: Profit on sale"
   ]
  },
  {
   "cell_type": "markdown",
   "metadata": {
    "tags": [
     "7_min"
    ]
   },
   "source": [
    "### Exercise 1:\n",
    "\n",
    "Before we start with the development of our dashboard, it is important to determine what kind of information and visualizations might be useful for our client. Which of the following plots you think is important to include in our dashboard? Select all that apply.\n",
    "\n",
    "I. A boxplot that shows the distribution of quantities sold on each sale across time. \n",
    "\n",
    "II. A map of the Unite States that highlights the value of sales of their products across the states. \n",
    "\n",
    "III. A scatter plot of the value vs. profit of each sale. \n",
    "\n",
    "IV. A line plot comparing sales across all cities over time. \n",
    "\n",
    "V. A line line comparing sales across (user) selected states over time."
   ]
  },
  {
   "cell_type": "markdown",
   "metadata": {
    "tags": [
     "ans_st"
    ]
   },
   "source": [
    "**Answer.**"
   ]
  },
  {
   "cell_type": "markdown",
   "metadata": {},
   "source": [
    "-------"
   ]
  },
  {
   "cell_type": "markdown",
   "metadata": {
    "tags": [
     "35_min"
    ]
   },
   "source": [
    "## Creating basic plots using Plotly Express\n",
    "\n",
    "In this case, we will use [Plotly Express](https://plotly.com/python/plotly-express/) to create the charts that will be in our dashboard. One of the great advantages of Plotly Express is its ease of use and flexibility when creating interactive plots. For instance, we can create a simple sales vs. profit scatter plot as follows:"
   ]
  },
  {
   "cell_type": "code",
   "execution_count": null,
   "metadata": {},
   "outputs": [],
   "source": [
    "px.scatter(df, x=\"Sales\", y=\"Profit\", color=\"Category\")  "
   ]
  },
  {
   "cell_type": "markdown",
   "metadata": {},
   "source": [
    "Notice how it is really easy to zoom in on certain regions of the plot (double-click to go to the standard view). We can also see that hover-over text appears when we place the cursor on top of a point in the plot. We can add further information to the hover-over data as follows:"
   ]
  },
  {
   "cell_type": "code",
   "execution_count": null,
   "metadata": {},
   "outputs": [],
   "source": [
    "px.scatter(df, x=\"Sales\", y=\"Profit\", color=\"Category\", hover_data=['State','Sub-Category','Order ID','Product Name'])  "
   ]
  },
  {
   "cell_type": "markdown",
   "metadata": {
    "tags": [
     "10_min"
    ]
   },
   "source": [
    "### Exercise 2:\n",
    "\n",
    "Create a line plot which shows the history of the company's total monthly sales in the states of California, New York, and Texas. The plot should have three lines (one per state). Do you see any trends in the sales across these states?\n",
    "\n",
    "**Hint:** Use the `px.line` command to create a line plot. Create a new column which extracts the month and year of each sale with the command:\n",
    "\n",
    "~~~python\n",
    "df['Order_Month'] = pd.to_datetime(df['Order Date'].map(lambda x: \"{}-{}\".format(x.year, x.month)))\n",
    "~~~"
   ]
  },
  {
   "cell_type": "markdown",
   "metadata": {
    "tags": [
     "ans_st"
    ]
   },
   "source": [
    "**Answer.**"
   ]
  },
  {
   "cell_type": "markdown",
   "metadata": {},
   "source": [
    "-------"
   ]
  },
  {
   "cell_type": "markdown",
   "metadata": {
    "tags": [
     "15_min"
    ]
   },
   "source": [
    "### Creating a Choropleth  US map using Plotly Express\n",
    "\n",
    "A **choropleth** map is a type of thematic map that is used to visualize statistical data across geographic regions. Choropleth maps are usually created using three basic components: a **Map API** (such as Google Maps, Bing, or Mapbox) to retrieve updated map information and other functionalities, a **GeoJSON** file containing coordinates delimiting the areas (polygons) of interest, and the actual data that will be imprinted in the map.\n",
    "\n",
    "In the `Data` folder, we have added a GeoJSON file named `us.json` that contains the geographical data of all the US states. In this GeoJSON, each state has an unique identifier corresponding to its abbreviation: ```CA```, ```NY```, ```TX```, and so on. Since our DataFrame contains full names, we have also included a JSON file named `states.json`, which is simply a dictionary between full names of states and their abbreviations. Let's load this data and create a new column in our DataFrame with the abbreviations:"
   ]
  },
  {
   "cell_type": "code",
   "execution_count": null,
   "metadata": {},
   "outputs": [],
   "source": [
    "with open('app/data/us.json') as geo:\n",
    "    geojson = json.loads(geo.read())\n",
    "\n",
    "with open('app/data/states.json') as f:\n",
    "    states_dict = json.loads(f.read())\n",
    "\n",
    "\n",
    "df['State_abbr'] = df['State'].map(states_dict)"
   ]
  },
  {
   "cell_type": "markdown",
   "metadata": {},
   "source": [
    "Plotly Express uses Mapbox to create choropleth maps via the function `px.choropleth_mapbox` (you can also use the [`px.choropleth`](https://plotly.com/python/choropleth-maps/) function if you have access to a base map). Let's create a choropleth map showing the total sales across all states in the US:"
   ]
  },
  {
   "cell_type": "code",
   "execution_count": null,
   "metadata": {},
   "outputs": [],
   "source": [
    "dff=df.groupby('State_abbr').sum().reset_index()\n",
    "\n",
    "#Here we can see the syntax used for the creation of choropleth maps:\n",
    "\n",
    "px.choropleth_mapbox(dff,                         #Data\n",
    "        locations='State_abbr',                   #Column containing the identifiers used in the GeoJSON file \n",
    "        color='Sales',                            #Column giving the color intensity of the region\n",
    "        geojson=geojson,                          #The GeoJSON file\n",
    "        zoom=3,                                   #Zoom\n",
    "        mapbox_style=\"carto-positron\",            #Mapbox style, for different maps you need a Mapbox account and a token\n",
    "        center={\"lat\": 37.0902, \"lon\": -95.7129}, #Center\n",
    "        color_continuous_scale=\"Viridis\",         #Color Scheme\n",
    "        opacity=0.5,                              #Opacity of the map\n",
    "        )"
   ]
  },
  {
   "cell_type": "markdown",
   "metadata": {
    "tags": [
     "7_min"
    ]
   },
   "source": [
    "### Exercise 3:\n",
    "\n",
    "Create a choropleth map that highlights the number of `Phones` sales from February 4th, 2015 to October 6th, 2016 for the states in the South region. Which states where the top 3 phone sellers? What were their total profits?\n",
    "\n",
    "**Hint:** In order to encode the dates use `dt(YYYY,MM,DD).date()`."
   ]
  },
  {
   "cell_type": "markdown",
   "metadata": {
    "tags": [
     "ans_st"
    ]
   },
   "source": [
    "**Answer.**"
   ]
  },
  {
   "cell_type": "markdown",
   "metadata": {},
   "source": [
    "-------"
   ]
  },
  {
   "cell_type": "markdown",
   "metadata": {
    "tags": [
     "5_min"
    ]
   },
   "source": [
    "### Planning our dashboard\n",
    "\n",
    "Let's now revisit the business problem at hand. Recall the original request, which was to allow executive stakeholders the ability to visualize sales and profit across supermarket locations over various time periods. What features should the dashboard have to satisfy this?\n",
    "\n",
    "1. The most prevalent location feature in this dataset is `State` (there is `Postal Code`, but there are so many postal codes that this would result in the data being broken up so much that it would no longer be easily interpretable). Thus, it makes sense for the dashboard to allow users to filter on sales and profit by state.\n",
    "2. We could allow the user to enter their own start and end dates for the visualization. This satisfies the requirement that they can view trends over various time periods.\n",
    "    \n",
    "At this point, it is a good idea to have a sketch in mind for our dashboard. Several examples can be found in the [Dash App Gallery](https://dash-gallery.plotly.host/Portal/), which can be downloaded and used as inspiration for our dashboard. Although many of these dashboards seem complicated, most of them are actually not hard to make."
   ]
  },
  {
   "cell_type": "markdown",
   "metadata": {},
   "source": [
    "<img src=dash_sketch.jpg width=\"500\">"
   ]
  },
  {
   "cell_type": "markdown",
   "metadata": {
    "tags": [
     "30_min"
    ]
   },
   "source": [
    "## Basics of Dash"
   ]
  },
  {
   "cell_type": "markdown",
   "metadata": {
    "tags": [
     "8_min"
    ]
   },
   "source": [
    "### Structure of Dash apps\n",
    "\n",
    "At their core, Dash apps are web applications consisting of components which use Flask, ReactJS, Javascript, and Plotly. The authors of Dash have made sure we don't need to interact with any of these components directly via these other frameworks, and instead we can interact with all of them using only Python.\n",
    "\n",
    "All Dash apps are composed of two parts:\n",
    "\n",
    "1. **Layout**: This consists of the components that we use in our app (e.g. selectors, plots, HTML elements, div, etc.). The layout is composed of HTML components (`dash_html_components`) and Dash core components (`dash_core_components`). The layout is set using the `layout` parameter of the `app` variable and is a list of all the components that will render on the browser when we launch our Dash application. More specifically:\n",
    "\n",
    "    * **HTML components**: Allows us to use common HTML tags in Python such as `Div`, `H1`, etc. These are then converted by Dash into HTML for the browser. In addition, we can also pass various properties to the HTML components such as **style**, **className** and **id**. The full list of Dash HTML components is available here: https://dash.plot.ly/dash-html-components.\n",
    "     \n",
    "    * **Dash core components**: This group of components enables us to add graphs, sliders, inputs, tables, file uploaders, and more to our app using only Python code. Each of these components comes with its own set of parameters that can be configured to change the look, feel, and interactivity. The full list of Dash core components is available here: https://dash.plot.ly/dash-core-components. \n",
    "\n",
    "\n",
    "2. **Interactivity**: This is the cross-filtering of data whereby changing one plot changes other elements of our dashboard. We use Dash callback functions to make our app interactive; these functions take inputs from multiple sources and their output then changes other components of the app. This is similar to programming with Microsoft Excel: whenever an input cell changes, all of the cells that depend on that cell will get updated automatically. This is called **reactive programming**."
   ]
  },
  {
   "cell_type": "markdown",
   "metadata": {
    "tags": [
     "15_min"
    ]
   },
   "source": [
    "### Exercise 4:\n",
    "\n",
    "Let's create our very first dashboard using the following steps. In this exercise, we will use Jupyter Lab; however, you can follow similar steps in your Python IDE of preference (PyCharm, SublimeText, etc.). Just make sure your IDE is running with the provided virtual environment for this case and has the appropriate libraries installed. "
   ]
  },
  {
   "cell_type": "markdown",
   "metadata": {
    "tags": [
     "5_min"
    ]
   },
   "source": [
    "#### 4.1\n",
    "\n",
    "In JupyterLab, locate the file directory where you are running this case. Create new Terminal and Text windows (`File->New->Terminal, Text File`). In the Text window, paste the following code and save it as `Hello_Dash.py`, then run the code on the terminal using `python Hello_Dash.py`. Finally, in your browser go to `http://127.0.0.1:8050/`. What do you see?"
   ]
  },
  {
   "cell_type": "markdown",
   "metadata": {},
   "source": [
    "```python\n",
    "import dash\n",
    "from dash.dependencies import Input, Output, State, ClientsideFunction\n",
    "import dash_html_components as html\n",
    "import plotly.express as px\n",
    "import pandas as pd\n",
    "import json\n",
    "\n",
    "#Create the app\n",
    "app = dash.Dash(__name__)\n",
    "\n",
    "#Create Layout\n",
    "app.layout = html.Div([\n",
    "    html.H2(\"US Sales Map\", id='title'), #Creates the title of the app\n",
    "\n",
    "])\n",
    "\n",
    "#Initiate the server where the app will work\n",
    "if __name__ == \"__main__\":\n",
    "    app.run_server(host='0.0.0.0',port='8050',debug=True)\n",
    "```"
   ]
  },
  {
   "cell_type": "markdown",
   "metadata": {
    "tags": [
     "ans_st"
    ]
   },
   "source": [
    "**Answer.**"
   ]
  },
  {
   "cell_type": "markdown",
   "metadata": {},
   "source": [
    "-------"
   ]
  },
  {
   "cell_type": "markdown",
   "metadata": {
    "tags": [
     "10_min"
    ]
   },
   "source": [
    "#### 4.2\n",
    "\n",
    "Add a choropleth map of the company's total sales to the dashboard. In order to do this, first add the choropleth map created before Exercise 3 into the code (you will need to load the data as well) and name the figure `Map_Fig`. Finally, add a Dash Graph Component into the layout by adding the line:\n",
    "\n",
    "```python\n",
    "dcc.Graph(figure=Map_Fig, id='main-figure')\n",
    "``` "
   ]
  },
  {
   "cell_type": "markdown",
   "metadata": {
    "tags": [
     "ans_st"
    ]
   },
   "source": [
    "**Answer.**"
   ]
  },
  {
   "cell_type": "markdown",
   "metadata": {},
   "source": [
    "-------"
   ]
  },
  {
   "cell_type": "markdown",
   "metadata": {},
   "source": [
    "Finally, let's add a very simple interactivity to our dashboard. Let's create a slider that we can use to change the choropleth map into the scatterplot created just before Exercise 2. We will do this in two steps. Let's start by adding the scatterplot into the code and naming it `Scatter_Fig`. Then, add a slider component to the layout using the syntax:\n",
    "```bash\n",
    "dcc.Slider(min=0,max=1,marks={0:'US Map', 1:'Scatter Plot'},value=0,id='fig-slider',)  \n",
    "```"
   ]
  },
  {
   "cell_type": "markdown",
   "metadata": {},
   "source": [
    "The new app should look like this. Notice that moving the slider has no effect in the dashboard:"
   ]
  },
  {
   "cell_type": "markdown",
   "metadata": {},
   "source": [
    "![SegmentLocal](EX_431.gif \"segment\")"
   ]
  },
  {
   "cell_type": "markdown",
   "metadata": {},
   "source": [
    "Dash let us build interactions between its components with the use of **callback functions**. In order to create a callback, we simply need to identify the IDs and properties of the components we want to interact with and then create a function that encodes this interaction.\n",
    "\n",
    "For instance, we want the `value` property of the slider `fig-slider` to *modify* the `figure` property of the figure `main-figure`. Moreover, we want `value=0` to set `figure=Fig_Map` and `value=1` to set `figure=Scatter_Map`. We can tell Dash to do this by adding the following code to our app after the layout:"
   ]
  },
  {
   "cell_type": "markdown",
   "metadata": {},
   "source": [
    "```python\n",
    "@app.callback(\n",
    "    Output('main-figure','figure'),\n",
    "    [Input('fig-slider','value')])\n",
    "def slider_interaction(slider_val):\n",
    "    if slider_val==0:\n",
    "        fig=Map_Fig\n",
    "    else:\n",
    "        fig=Scatter_Fig\n",
    "    \n",
    "    return fig \n",
    "```"
   ]
  },
  {
   "cell_type": "markdown",
   "metadata": {},
   "source": [
    "Run the app once again and verify that the callback is working properly by moving the slider. \n",
    "\n",
    "**Note:** The `app.callback` is a decorator that adds further functionality to the function `slider-interaction` so that it can be used by Dash to update the webpage according to the changes in its components. "
   ]
  },
  {
   "cell_type": "markdown",
   "metadata": {},
   "source": [
    "The new app should look like this:"
   ]
  },
  {
   "cell_type": "markdown",
   "metadata": {},
   "source": [
    "![SegmentLocal](EX_432.gif \"segment\")"
   ]
  },
  {
   "cell_type": "markdown",
   "metadata": {},
   "source": [
    "![SegmentLocal](EX_432.gif \"segment\")\n",
    "\n",
    "The final code of this app is the following. \n",
    "\n",
    "```python\n",
    "import dash\n",
    "from dash.dependencies import Input, Output, State, ClientsideFunction\n",
    "import dash_html_components as html\n",
    "import dash_core_components as dcc\n",
    "import plotly.express as px\n",
    "import pandas as pd\n",
    "import json\n",
    "\n",
    "##################################################################################################\n",
    "#Load the data and create the map\n",
    "##################################################################################################\n",
    "df = pd.read_csv('Data/superstore.csv', parse_dates=['Order Date', 'Ship Date'])\n",
    "\n",
    "with open('Data/us.json') as geo:\n",
    "    geojson = json.loads(geo.read())\n",
    "\n",
    "with open('Data/states.json') as f:\n",
    "    states_dict = json.loads(f.read())\n",
    "\n",
    "df['State_abbr'] = df['State'].map(states_dict)\n",
    "\n",
    "\n",
    "#Create the map:\n",
    "dff=df.groupby('State_abbr').sum().reset_index()\n",
    "Map_Fig=px.choropleth_mapbox(dff,                         \n",
    "        locations='State_abbr',                   \n",
    "        color='Sales',                            \n",
    "        geojson=geojson,                          \n",
    "        zoom=3,                                   \n",
    "        mapbox_style=\"carto-positron\",            \n",
    "        center={\"lat\": 37.0902, \"lon\": -95.7129}, \n",
    "        color_continuous_scale=\"Viridis\",         \n",
    "        opacity=0.5,                              \n",
    "        )\n",
    "\n",
    "#Create the scatter plot:\n",
    "Scatter_Fig=px.scatter(df, x=\"Sales\", y=\"Profit\", color=\"Category\", hover_data=['State','Sub-Category','Order ID','Product Name'])  \n",
    "\n",
    "################################################################################################\n",
    "\n",
    "#Create the app\n",
    "app = dash.Dash(__name__)\n",
    "\n",
    "#Create Layout\n",
    "app.layout = html.Div([\n",
    "    html.H2(\"US Sales Map\", id='title'), #Creates the title of the app\n",
    "    dcc.Graph(figure=Map_Fig, id='main-figure'),\n",
    "    dcc.Slider(min=0,max=1,marks={0:'US Map', 1:'Scatter Plot'},value=0, id='fig-slider')  \n",
    "\n",
    "])\n",
    "\n",
    "@app.callback(\n",
    "    Output('main-figure','figure'),\n",
    "    [Input('fig-slider','value')])\n",
    "def slider_interction(slider_val):\n",
    "    if slider_val==0:\n",
    "        fig=Map_Fig\n",
    "    else:\n",
    "        fig=Scatter_Fig\n",
    "    \n",
    "    return fig \n",
    "\n",
    "\n",
    "#Initiate the server where the app will work\n",
    "if __name__ == \"__main__\":\n",
    "    app.run_server(host='0.0.0.0',port='8050',debug=True)\n",
    "```"
   ]
  },
  {
   "cell_type": "markdown",
   "metadata": {
    "tags": [
     "75_min"
    ]
   },
   "source": [
    "## Styling and improving our dashboard\n",
    "\n",
    "Congrats! You have already learned the most important functionalities of Dash! However, as you can see from Exercise 4, the resulting app does not look very pleasant to the eye and if we keep adding further functionalities and plots, our code will start to look messy pretty soon. Luckily, we can tidy the code of our app pretty easily by dividing the layout of our app into different files. For instance, let's take a look at the file tree of the `App` folder provided with the case:\n",
    "\n",
    "```bash\n",
    "App \n",
    "|   app.py\n",
    "|   index.py\n",
    "|     \n",
    "+---assets\n",
    "|   |   ds4a-img.svg\n",
    "|   |   ds4a_styles.css\n",
    "|   |   \n",
    "|           \n",
    "+---data\n",
    "|   |   states.json\n",
    "|   |   superstore.csv\n",
    "|   |   us.json\n",
    "|   |   \n",
    "|\n",
    "+---lib\n",
    "|   |   sidebar.py\n",
    "|   |   stats.py\n",
    "|   |   styles.py\n",
    "|   |   title.py\n",
    "|   |   us_map.py\n",
    "|   |   __init__.py  \n",
    "|\n",
    "```\n",
    "We have structured this file system so that all of the different parts of the layout of our app lie in the folder `lib`, some basic styling and figures lie in the folder `assets`, and the data used in the app is located in the folder `data`. The callbacks and layout definition will be located in the `index.py` file, which is the one we will run from the terminal. The way the file structure works is not trivial, but let's not worry too much about it now (you can review it afterwards)."
   ]
  },
  {
   "cell_type": "markdown",
   "metadata": {
    "tags": [
     "10_min"
    ]
   },
   "source": [
    "### Dash Bootstrap Components and Cascading Style Sheets\n",
    "\n",
    "Styles are added to HTML webpages via CSS files. These files describe how the different HTML components are displayed on the screen. For instance, let's take a look at the following style classes from the file `ds4a_styles.css`located in the `assets` folder (note that every time you want to use a custom Cascading Style Sheets (CSS) file or import images, you have to add them to a folder named `assets`):"
   ]
  },
  {
   "cell_type": "markdown",
   "metadata": {},
   "source": [
    "```css\n",
    ".ds4a-title {\n",
    "    position: fixed;\n",
    "    top: 0;\n",
    "    left: 0;\n",
    "    z-index: 999;\n",
    "    height: 120px;\n",
    "    width: 100%;\n",
    "    margin-left: 16rem;\n",
    "    margin-right: 2rem;\n",
    "    padding: 2rem 1rem;\n",
    "    background-color: #F8F9F9;\n",
    "}\n",
    "\n",
    ".ds4a-sidebar {\n",
    "    position: fixed;\n",
    "    top: 0;\n",
    "    left: 0;\n",
    "    bottom: 0;\n",
    "    width: 16rem;\n",
    "    padding: 2rem 1rem;\n",
    "    background-color: #1A5276; /*#EBEDEF;*/\n",
    "}\n",
    "```\n",
    "    \n",
    "Here we have a pair of CSS classes that will give style to the title and sidebar of our app. You can see that the sidebar has width `16rem` and the title will have a margin of `16rem` - we want no other component of our app to clash with the sidebar! In addition, we have set them to be in `fixed` position so that they are always visible. \n",
    "\n",
    "Of course, defining your own CSS classes for each component of the app can be a little tedious. In addition, handling the position of the components can sometimes be a little cumbersome. Luckily for us, there exist several CSS libraries that we can use for free. We will use the [Bootstrap CSS](https://getbootstrap.com/docs/3.4/) and [Dash Bootstrap Components](https://dash-bootstrap-components.opensource.faculty.ai/) libraries, which we can then add to our app as follows: \n",
    "\n",
    "```python\n",
    "import dash\n",
    "import dash_bootstrap_components as dbc \n",
    "\n",
    "app = dash.Dash(__name__, external_stylesheets = [dbc.themes.BOOTSTRAP]) #USING BOOTSTRAP'S CSS LIBRARY\n",
    "server = app.server\n",
    "\n",
    "#We need this for function callbacks not present in the app.layout\n",
    "app.config.suppress_callback_exceptions = True\n",
    "\n",
    "```\n",
    "\n",
    "Now, run the `index.py` file. You should see the following app:\n",
    "\n",
    "![SegmentLocal](Dash0.gif \"segment\")"
   ]
  },
  {
   "cell_type": "markdown",
   "metadata": {},
   "source": [
    "One of the great advantages of the Bootstrap library is that it uses a grid system to layout the components on the screen. It uses twelve columns that can be resized and relocated if desired. Let's use the grid system to center the title of our dashboard by editing the `title.py` file and adding the following:\n",
    "\n",
    "```python\n",
    "title=html.Div(className=\"ds4a-title\", \n",
    "\tchildren=[\n",
    "        dbc.Row([\n",
    "            dbc.Col(\n",
    "                html.H1(\"US Sales Dashboard\"),\n",
    "                width={\"size\": 6, \"offset\": 3}\n",
    "                )\n",
    "        ])\n",
    "    ],\n",
    "\tid=\"title\")\n",
    "```\n",
    "\n",
    "Here, we have created a single row and column of the grid. We resized the column by 6 units and moved it 3 units to the right."
   ]
  },
  {
   "cell_type": "markdown",
   "metadata": {
    "tags": [
     "20_min"
    ]
   },
   "source": [
    "### Exercise 5:"
   ]
  },
  {
   "cell_type": "markdown",
   "metadata": {
    "tags": [
     "10_min"
    ]
   },
   "source": [
    "#### 5.1\n",
    "\n",
    "Next, let's start populating our sidebar. Add one `dcc.DatePickerRange` and one `dcc.Dropdown` component into the sidebar. The dropdown should allow multiple selections of states in the US. Use the IDs `date_picker` and `state_dropdown` for these components.\n",
    "\n",
    "**Hint:** Read the documentation. The min and max dates of sales in our dataset are `dt(2014, 1, 2)` and `dt(2017, 12, 31)`. For the `value` and `options` properties of the dropdown, you may want to load the `state.json` as `states` then use the code:\n",
    "\n",
    "```python\n",
    "options=[{\"label\":key, \"value\":states[key]} for key in states.keys()],\n",
    "value=['CA','NY'],\n",
    "```\n",
    "\n",
    "You may want to add some words on top of each component as well. "
   ]
  },
  {
   "cell_type": "markdown",
   "metadata": {
    "tags": [
     "ans_st"
    ]
   },
   "source": [
    "**Answer.**"
   ]
  },
  {
   "cell_type": "markdown",
   "metadata": {},
   "source": [
    "-------"
   ]
  },
  {
   "cell_type": "markdown",
   "metadata": {
    "tags": [
     "10_min"
    ]
   },
   "source": [
    "#### 5.2\n",
    "\n",
    "Next, let's add the choropleth map from earlier into the `US_map.py` file. Then, add the line plot and scatterplot from earlier into the `stats.py` file. These plots should be situated side-by-side. Use the IDs `US_map`, `Line` and `Scatter`.\n",
    "\n",
    "**Hint:** If you want to change the color of the background in each figure, you can use the following:\n",
    "\n",
    "```python\n",
    "name_of_figure.update_layout(title='Title of plot',paper_bgcolor=\"#F8F9F9\")\n",
    "```"
   ]
  },
  {
   "cell_type": "markdown",
   "metadata": {
    "tags": [
     "ans_st"
    ]
   },
   "source": [
    "**Answer.**"
   ]
  },
  {
   "cell_type": "markdown",
   "metadata": {},
   "source": [
    "-------"
   ]
  },
  {
   "cell_type": "markdown",
   "metadata": {
    "tags": [
     "40_min"
    ]
   },
   "source": [
    "### Exercise 6:\n",
    "\n",
    "It's now time to add some interactivity to our app! By the end of this exercise, our app should look like this:\n",
    "\n",
    "![SegmentLocal](EX_6.gif \"segment\")\n"
   ]
  },
  {
   "cell_type": "markdown",
   "metadata": {
    "tags": [
     "15_min"
    ]
   },
   "source": [
    "#### 6.1\n",
    "\n",
    "Create a callback function that, upon selection of dates, updates the total sales amount in the choropleth map. Add this callback after the definition of the layout in the `index.py` file.  \n",
    "\n",
    "**Hint:** You can add multiple inputs to a callback. For instance, you can start your callback with the decorator:\n",
    "\n",
    "```python\n",
    "@app.callback(\n",
    "    Output(\"US_map\", \"figure\"),\n",
    "    [\n",
    "        Input(\"date_picker\", \"start_date\"),\n",
    "        Input(\"date_picker\", \"end_date\")\n",
    "    ],\n",
    ")\n",
    "```"
   ]
  },
  {
   "cell_type": "markdown",
   "metadata": {
    "tags": [
     "ans_st"
    ]
   },
   "source": [
    "**Answer.**"
   ]
  },
  {
   "cell_type": "markdown",
   "metadata": {},
   "source": [
    "-------"
   ]
  },
  {
   "cell_type": "markdown",
   "metadata": {
    "tags": [
     "15_min"
    ]
   },
   "source": [
    "#### 6.2\n",
    "\n",
    "Create a callback function that updates the scatterplot and line plot according to the date and state selections in the sidebar.\n",
    "\n",
    "**Hint:** Starting from Dash version 0.39, multiple outputs are allowed! You may start your callback as follows:\n",
    "\n",
    "```python\n",
    "@app.callback(\n",
    "    [Output(\"Line\", \"figure\"),Output(\"Scatter\",\"figure\")],\n",
    "    [\n",
    "        Input(\"state_dropdown\", \"value\"),\n",
    "        Input(\"date_picker\", \"start_date\"),\n",
    "        Input(\"date_picker\", \"end_date\")\n",
    "    ],\n",
    ")\n",
    "```"
   ]
  },
  {
   "cell_type": "markdown",
   "metadata": {
    "tags": [
     "ans_st"
    ]
   },
   "source": [
    "**Answer.**"
   ]
  },
  {
   "cell_type": "markdown",
   "metadata": {},
   "source": [
    "-------"
   ]
  },
  {
   "cell_type": "markdown",
   "metadata": {},
   "source": [
    "**Note:** What happens if you remove all states from the dropdown? What happens if you select a date that is not in the range of the DataFrame? This cases should be taken care of carefully! We can avoid these scenarios by modifying our callbacks. Another possibility is to use the `PreventUpdate` action from the `dash.exceptions` library."
   ]
  },
  {
   "cell_type": "markdown",
   "metadata": {
    "tags": [
     "10_min"
    ]
   },
   "source": [
    "#### 6.3\n",
    "\n",
    "Finally, let's allow the user to add states to the dropdown menu by clicking on the map. This can be done using the `clickData` property of graph components.  \n",
    "\n",
    "**Hint:** First try to create a callback that prints the `clickData` of the `US_map` graph to the terminal. You can also input current states of components into a callback function using `State('component_id','component_property')`. "
   ]
  },
  {
   "cell_type": "markdown",
   "metadata": {
    "tags": [
     "ans_st"
    ]
   },
   "source": [
    "**Answer.**"
   ]
  },
  {
   "cell_type": "markdown",
   "metadata": {},
   "source": [
    "-------"
   ]
  },
  {
   "cell_type": "markdown",
   "metadata": {
    "tags": [
     "3_min"
    ]
   },
   "source": [
    "### Exercise 7:\n",
    "\n",
    "We now have a fully functional map which updates as the period selected changes. Let's try to answer the following business questions:\n",
    "\n",
    "1. Which state had the highest sales in December of 2015?\n",
    "2. Which state had the lowest sales in the year 2015?\n"
   ]
  },
  {
   "cell_type": "markdown",
   "metadata": {
    "tags": [
     "ans_st"
    ]
   },
   "source": [
    "**Answer.**"
   ]
  },
  {
   "cell_type": "markdown",
   "metadata": {},
   "source": [
    "-------"
   ]
  },
  {
   "cell_type": "markdown",
   "metadata": {
    "tags": [
     "2_min"
    ]
   },
   "source": [
    "## Conclusions\n",
    "\n",
    "In this case, we built an interactive dashboard that allows business users to gain insight into sales and profit performance by category across different states. This dashboard allowed us to deep-dive into each state via selection on a map, and greatly eased communication of our findings to a non-technical audience."
   ]
  },
  {
   "cell_type": "markdown",
   "metadata": {
    "tags": [
     "3_min"
    ]
   },
   "source": [
    "## Takeaways\n",
    "\n",
    "In this case, you learned about and put together a simple Dash app with the following features:\n",
    "\n",
    "1. App layout components, such as maps and plots, using Dash HTML and Dash core components\n",
    "2. A `pandas` data source for those components\n",
    "4. User input capabilities\n",
    "5. Callback functions that automatically manipulated the components based on the user input\n",
    "\n",
    "This dashboard can then be deployed to an AWS server or a company's private intranet for use by all stakeholders. "
   ]
  }
 ],
 "metadata": {
  "c1_recart": "6.5.0-57c20131aabc1dc2a8c675852d80a7da"
 },
 "nbformat": 4,
 "nbformat_minor": 4
}
