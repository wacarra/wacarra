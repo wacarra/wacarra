{
 "cells": [
  {
   "cell_type": "markdown",
   "metadata": {
    "tags": [
     "110_min"
    ]
   },
   "source": [
    "\n",
    "# What features determine the price of an Airbnb rental?"
   ]
  },
  {
   "cell_type": "markdown",
   "metadata": {
    "tags": [
     "2_min"
    ]
   },
   "source": [
    "## Goals\n",
    "\n",
    "This case gives you a relatively comprehensive walkthrough of an **exploratory data analysis (EDA)** process on an unfamiliar dataset. You will learn how to systematically approach investigating an unknown dataset while maintaining a creative and open mind to search for insights. By the end, we hope you are confident with tackling datasets outside of a structured environment and appreciate the tremendous value a proper EDA process brings to any data science problem."
   ]
  },
  {
   "cell_type": "markdown",
   "metadata": {
    "tags": [
     "5_min"
    ]
   },
   "source": [
    "## Introduction\n",
    "\n",
    "**Business Context**. Airbnb is an enormous online marketplace for everyday people to rent places to stay. It is a large and lucrative market, but many vendors are simply individuals who are renting their own primary residence for short visits. Even larger vendors are typically small businesses with only a small number of places to rent. As a result, they have limited ability to assess large-scale trends and set optimal prices.\n",
    "\n",
    "Airbnb has rolled out a new service to help listers set prices. Airbnb makes a percentage commission off of the listings, so they are incentivized to help listers price optimally; that is, at the maximum possible point where they will still close a deal. You are an Airbnb consultant helping with this new pricing service.\n",
    "\n",
    "**Business Problem**. Your initial task is to explore the data with the goal of answering the question: **\"What features are most relevant to the price of an Airbnb listing?\"**\n",
    "\n",
    "**Analytical Context**. We will use the publicly available and well-maintained dataset created by the Inside Airbnb advocacy group. We will focus on listings in New York City within the last year, taking advantage of larger datasets when there are important details to explore.\n",
    "\n",
    "The case is structured as follows: we will (1) do basic data exploration by plotting distributions of key quantities; (2) introduce the concept of correlation to find the key features; (3) introduce the idea of interaction effects to correct for the effects of key features; (4) discuss how to iteratively generate hypotheses and choose data visualizations to support your conclusions; (5) look at one very specific type of interaction effect, the temporal effect, and how to correct for it; and finally (6) pull everything together to identify the key factors that affect the price."
   ]
  },
  {
   "cell_type": "markdown",
   "metadata": {
    "tags": [
     "2_min"
    ]
   },
   "source": [
    "## Some basic data exploration\n",
    "\n",
    "Our dataset has 30,179 rows and 81 columns. The following are details about some of the most important columns:\n",
    "\n",
    "1. ```neighbourhood```:  which neighborhood the property is in\n",
    "2. ```longitude```, ```latitude```: longitude and latitude\n",
    "3. ```property_type```: type of property, such as apartment, condo etc.\n",
    "4. ```bathrooms```: number of bathrooms\n",
    "5. ```bedrooms```: number of bathrooms\n",
    "6. ```price```:  price of the listing\n",
    "7. ```number_of_reviews```: number of reviews given by customers who stayed there\n",
    "8. ```parking```: 1 means there is parking available, -1 means there is not\n",
    "\n",
    "For other categorical variables, such as ```outdoor_friendly```, ```gym```, etc., the 1,-1 should be interpreted similarly to ```parking``` as explained above."
   ]
  },
  {
   "cell_type": "markdown",
   "metadata": {
    "tags": [
     "4_min"
    ]
   },
   "source": [
    "### Plotting the marginal distributions of key quantities of interest\n",
    "\n",
    "As you have seen in previous cases, it is good to first develop an idea of how the values of a few key quantities of interest are distributed. We always start investigating by gaining an overhead view of various parameters in our data. Let's start by doing so for some numeric variables, such as ```price```, ```bedrooms```, ```bathrooms```, and ```number_of_reviews```.\n",
    "\n",
    "These are some summary statistics for these variables:\n",
    "\n",
    "<table border=\"1\" class=\"dataframe\">  <thead>    <tr style=\"text-align: right;\">      <th></th>      <th>price</th>      <th>bedrooms</th>      <th>bathrooms</th>      <th>number_of_reviews</th>    </tr>  </thead>  <tbody>    <tr>      <th>count</th>      <td>30179.000000</td>      <td>30179.000000</td>      <td>30179.000000</td>      <td>30179.000000</td>    </tr>    <tr>      <th>mean</th>      <td>132.949965</td>      <td>1.265516</td>      <td>1.151595</td>      <td>4.459889</td>    </tr>    <tr>      <th>std</th>      <td>93.151824</td>      <td>0.614659</td>      <td>0.422225</td>      <td>5.265633</td>    </tr>    <tr>      <th>min</th>      <td>0.000000</td>      <td>1.000000</td>      <td>0.500000</td>      <td>0.000000</td>    </tr>    <tr>      <th>25%</th>      <td>65.000000</td>      <td>1.000000</td>      <td>1.000000</td>      <td>0.000000</td>    </tr>    <tr>      <th>50%</th>      <td>100.000000</td>      <td>1.000000</td>      <td>1.000000</td>      <td>2.000000</td>    </tr>    <tr>      <th>75%</th>      <td>175.000000</td>      <td>1.000000</td>      <td>1.000000</td>      <td>7.000000</td>    </tr>    <tr>      <th>max</th>      <td>500.000000</td>      <td>11.000000</td>      <td>7.500000</td>      <td>20.000000</td>    </tr>  </tbody></table>\n",
    "\n",
    "And these are the 90th, 95th and 99th percentiles (also called the 0.9, 0.95 and 0.99 quantiles, respectively):\n",
    "\n",
    "<table border=\"1\" class=\"dataframe\">  <thead>    <tr style=\"text-align: right;\">      <th></th>      <th>price</th>      <th>bedrooms</th>      <th>bathrooms</th>      <th>number_of_reviews</th>    </tr>  </thead>  <tbody>    <tr>      <th>0.90</th>      <td>250.0</td>      <td>2.0</td>      <td>2.0</td>      <td>13.0</td>    </tr>    <tr>      <th>0.95</th>      <td>325.0</td>      <td>3.0</td>      <td>2.0</td>      <td>16.0</td>    </tr>    <tr>      <th>0.99</th>      <td>450.0</td>      <td>4.0</td>      <td>2.5</td>      <td>20.0</td>    </tr>  </tbody></table>\n",
    "\n",
    "You might find it difficult to interpret these tables, because there are too many numbers. Plots are a more intuitive way to look at data, so let's plot the distributions."
   ]
  },
  {
   "cell_type": "markdown",
   "metadata": {
    "tags": [
     "3_min"
    ]
   },
   "source": [
    "### Exercise 1\n",
    "\n",
    "#### 1.1\n",
    "\n",
    "What are the basic shapes of these distributions (e.g. normal, skewed, multi-modal, etc.)? Are the distributions fairly smooth, or do they exhibit \"spiky\" or \"discontinuous\" behavior? If the latter, can you explain where it might come from?\n",
    "\n",
    "![Histogram of Price](data/images/price_histogram.png)\n",
    "![Histogram of Bedrooms](data/images/bedrooms_histogram.png)\n",
    "![Histogram of Bathrooms](data/images/bathrooms_histogram.png)\n",
    "![Histogram of Number of reviews](data/images/number_of_reviews_histogram.png)"
   ]
  },
  {
   "cell_type": "markdown",
   "metadata": {
    "tags": [
     "ans_st"
    ]
   },
   "source": [
    "**Answer.**"
   ]
  },
  {
   "cell_type": "markdown",
   "metadata": {},
   "source": [
    "-------"
   ]
  },
  {
   "cell_type": "markdown",
   "metadata": {
    "tags": [
     "5_min"
    ]
   },
   "source": [
    "#### 1.2\n",
    "\n",
    "Can you detect any outliers from these histograms? If so, do they suggest (i) data error; or (ii) data that should be omitted from our future analysis?"
   ]
  },
  {
   "cell_type": "markdown",
   "metadata": {
    "tags": [
     "ans_st"
    ]
   },
   "source": [
    "**Answer.**"
   ]
  },
  {
   "cell_type": "markdown",
   "metadata": {},
   "source": [
    "-------"
   ]
  },
  {
   "cell_type": "markdown",
   "metadata": {
    "tags": [
     "5_min"
    ]
   },
   "source": [
    "### Exercise 2 (optional)\n",
    "\n",
    "Run the following cells. Experiment with different bandwidths and bin widths. Document your findings and share them with the class."
   ]
  },
  {
   "cell_type": "code",
   "execution_count": null,
   "metadata": {},
   "outputs": [],
   "source": [
    "# If you need to stop the app, simply restart your kernel\n",
    "import c1applet.histdens as histdens\n",
    "hdapp = histdens.app"
   ]
  },
  {
   "cell_type": "code",
   "execution_count": null,
   "metadata": {},
   "outputs": [],
   "source": [
    "try:\n",
    "    hdapp.run_server(mode='inline')\n",
    "except:\n",
    "    print(\"Please run this cell again!\")"
   ]
  },
  {
   "cell_type": "markdown",
   "metadata": {
    "tags": [
     "2_min"
    ]
   },
   "source": [
    "## Inspecting price against variables of interest\n",
    "\n",
    "Now that we have looked at the variables of interest in isolation, it makes sense to look at them in relation to price. For this, we will use box plots. Here are some box plots of `price` in which the data are grouped by a second column:\n",
    "\n",
    "![\"Boxplots of Price vs. bedrooms](data/images/price_bedrooms_boxplot.png)\n",
    "![\"Boxplots of Price vs. bathrooms](data/images/price_bathrooms_boxplot.png)\n",
    "![\"Boxplots of Price vs. number of reviews](data/images/price_number_of_reviews_boxplot.png)\n",
    "![\"Boxplots of Price vs. review score cleanliness](data/images/price_review_score_cleanliness_boxplot.png)"
   ]
  },
  {
   "cell_type": "markdown",
   "metadata": {
    "tags": [
     "5_min"
    ]
   },
   "source": [
    "### Exercise 3\n",
    "\n",
    "Comment on the relationship between price and the respective variable in each of the above plots."
   ]
  },
  {
   "cell_type": "markdown",
   "metadata": {
    "tags": [
     "ans_st"
    ]
   },
   "source": [
    "**Answer.**"
   ]
  },
  {
   "cell_type": "markdown",
   "metadata": {},
   "source": [
    "-------"
   ]
  },
  {
   "cell_type": "markdown",
   "metadata": {
    "tags": [
     "5_min"
    ]
   },
   "source": [
    "## Investigating correlations\n",
    "\n",
    "Although plotting the relationship between price and a few other variables is a good first step, overall there are too many variables to individually plot and manually inspect. We need a more systematic method. How do we proceed? Let's look at the ```price``` vs. ```bedrooms``` plot again:\n",
    "\n",
    "![\"Boxplots of Price vs. bedrooms](data/images/price_bedrooms_boxplot.png)\n",
    "\n",
    "We see that as the number of bedrooms increases, the price also generally increases. Correlation is one way to capture this relationship. Recall that correlation of two quantities is a measurement of how much they tend to increase together, measured on a scale going from -1 to 1. This is a graphical representation of how to interpret a correlation coefficient:\n",
    "\n",
    "![Correlation](data/images/correlation_explanation.png)\n",
    "\n",
    "Since correlation is just a single number summarizing an entire joint distribution, it can be misleading and does not eliminate the need to plot and visually inspect the key variables that it suggests are important. Nonetheless, it is quite helpful for quickly scanning for very strong relationships in the data and whittling down a much larger list of potential factors. In this case, the correlation between `price` and `bedrooms` is:\n",
    "\n",
    "$$\n",
    "r_{price,bedrooms} = 0.454539\n",
    "$$\n",
    "\n",
    "A **[correlation matrix](https://www.displayr.com/what-is-a-correlation-matrix/)** then gives all of the pairwise correlations between all of the variables. But since the correlation matrix for the whole dataset would be too large to print here (it would have 65 rows and 65 columns), and since we are only concerned with relationships between `price` and the other variables, we will only print the particular column that corresponds to `price` (this is a 65-row Series):\n",
    "\n",
    "<table border=\"1\" class=\"dataframe\">  <thead>    <tr style=\"text-align: right;\">      <th></th>      <th>price</th>    </tr>  </thead>  <tbody>    <tr>      <th>id</th>      <td>0.027533</td>    </tr>    <tr>      <th>host_id</th>      <td>0.028931</td>    </tr>    <tr>      <th>host_since</th>      <td>-0.009671</td>    </tr>    <tr>      <th>host_response_rate</th>      <td>0.034280</td>    </tr>    <tr>      <th>host_is_superhost</th>      <td>-0.016325</td>    </tr>    <tr>      <th>host_listings_count</th>      <td>0.194891</td>    </tr>    <tr>      <th>host_identity_verified</th>      <td>-0.022861</td>    </tr>    <tr>      <th>latitude</th>      <td>0.079542</td>    </tr>    <tr>      <th>longitude</th>      <td>-0.294196</td>    </tr>    <tr>      <th>accommodates</th>      <td>0.571541</td>    </tr>    <tr>      <th>bathrooms</th>      <td>0.163276</td>    </tr>    <tr>      <th>bedrooms</th>      <td>0.454539</td>    </tr>    <tr>      <th>beds</th>      <td>0.421355</td>    </tr>    <tr>      <th>price</th>      <td>1.000000</td>    </tr>    <tr>      <th>guests_included</th>      <td>0.321970</td>    </tr>    <tr>      <th>extra_people</th>      <td>0.075439</td>    </tr>    <tr>      <th>minimum_nights</th>      <td>0.048627</td>    </tr>    <tr>      <th>has_availability</th>      <td>NaN</td>    </tr>    <tr>      <th>availability_30</th>      <td>0.075208</td>    </tr>    <tr>      <th>availability_60</th>      <td>0.099858</td>    </tr>    <tr>      <th>availability_90</th>      <td>0.093483</td>    </tr>    <tr>      <th>availability_365</th>      <td>0.118864</td>    </tr>    <tr>      <th>number_of_reviews</th>      <td>-0.029229</td>    </tr>    <tr>      <th>number_of_reviews_ltm</th>      <td>-0.011481</td>    </tr>    <tr>      <th>review_scores_rating</th>      <td>0.064228</td>    </tr>    <tr>      <th>review_scores_accuracy</th>      <td>0.033125</td>    </tr>    <tr>      <th>review_scores_cleanliness</th>      <td>0.095329</td>    </tr>    <tr>      <th>review_scores_checkin</th>      <td>0.014043</td>    </tr>    <tr>      <th>review_scores_communication</th>      <td>0.017169</td>    </tr>    <tr>      <th>review_scores_location</th>      <td>0.140308</td>    </tr>    <tr>      <th>review_scores_value</th>      <td>-0.005942</td>    </tr>    <tr>      <th>instant_bookable</th>      <td>0.024415</td>    </tr>    <tr>      <th>calculated_host_listings_count</th>      <td>0.185098</td>    </tr>    <tr>      <th>calculated_host_listings_count_entire_homes</th>      <td>0.218890</td>    </tr>    <tr>      <th>calculated_host_listings_count_private_rooms</th>      <td>-0.127504</td>    </tr>    <tr>      <th>calculated_host_listings_count_shared_rooms</th>      <td>-0.101389</td>    </tr>    <tr>      <th>reviews_per_month</th>      <td>0.063172</td>    </tr>    <tr>      <th>check_in_24h</th>      <td>0.053180</td>    </tr>    <tr>      <th>air_conditioning</th>      <td>0.196582</td>    </tr>    <tr>      <th>high_end_electronics</th>      <td>0.027578</td>    </tr>    <tr>      <th>bbq</th>      <td>0.110258</td>    </tr>    <tr>      <th>balcony</th>      <td>0.079413</td>    </tr>    <tr>      <th>nature_and_views</th>      <td>0.000173</td>    </tr>    <tr>      <th>bed_linen</th>      <td>0.105295</td>    </tr>    <tr>      <th>breakfast</th>      <td>0.007514</td>    </tr>    <tr>      <th>tv</th>      <td>0.271563</td>    </tr>    <tr>      <th>coffee_machine</th>      <td>0.133457</td>    </tr>    <tr>      <th>cooking_basics</th>      <td>0.087954</td>    </tr>    <tr>      <th>white_goods</th>      <td>0.214283</td>    </tr>    <tr>      <th>elevator</th>      <td>0.229610</td>    </tr>    <tr>      <th>gym</th>      <td>0.209892</td>    </tr>    <tr>      <th>child_friendly</th>      <td>0.206189</td>    </tr>    <tr>      <th>parking</th>      <td>-0.019383</td>    </tr>    <tr>      <th>outdoor_space</th>      <td>0.046216</td>    </tr>    <tr>      <th>host_greeting</th>      <td>-0.051356</td>    </tr>    <tr>      <th>hot_tub_sauna_or_pool</th>      <td>0.064996</td>    </tr>    <tr>      <th>internet</th>      <td>0.024220</td>    </tr>    <tr>      <th>long_term_stays</th>      <td>0.096381</td>    </tr>    <tr>      <th>pets_allowed</th>      <td>0.070507</td>    </tr>    <tr>      <th>private_entrance</th>      <td>0.146453</td>    </tr>    <tr>      <th>secure</th>      <td>0.019678</td>    </tr>    <tr>      <th>self_check_in</th>      <td>0.108914</td>    </tr>    <tr>      <th>smoking_allowed</th>      <td>-0.054131</td>    </tr>    <tr>      <th>accessible</th>      <td>0.038301</td>    </tr>    <tr>      <th>event_suitable</th>      <td>0.012606</td>    </tr>  </tbody></table>"
   ]
  },
  {
   "cell_type": "markdown",
   "metadata": {},
   "source": [
    "Let's now have a look at the variables that are most positively or negatively correlated with price.\n",
    "\n",
    "Positively correlated:\n",
    "\n",
    "<table border=\"1\" class=\"dataframe\">  <thead>    <tr style=\"text-align: right;\">      <th></th>      <th>price</th>    </tr>  </thead>  <tbody>    <tr>      <th>price</th>      <td>1.000000</td>    </tr>    <tr>      <th>accommodates</th>      <td>0.571541</td>    </tr>    <tr>      <th>bedrooms</th>      <td>0.454539</td>    </tr>    <tr>      <th>beds</th>      <td>0.421355</td>    </tr>    <tr>      <th>guests_included</th>      <td>0.321970</td>    </tr>    <tr>      <th>tv</th>      <td>0.271563</td>    </tr>    <tr>      <th>elevator</th>      <td>0.229610</td>    </tr>    <tr>      <th>calculated_host_listings_count_entire_homes</th>      <td>0.218890</td>    </tr>    <tr>      <th>white_goods</th>      <td>0.214283</td>    </tr>    <tr>      <th>gym</th>      <td>0.209892</td>    </tr>  </tbody></table>\n",
    "\n",
    "Negatively correlated:\n",
    "\n",
    "<table border=\"1\" class=\"dataframe\">  <thead>    <tr style=\"text-align: right;\">      <th></th>      <th>price</th>    </tr>  </thead>  <tbody>    <tr>      <th>longitude</th>      <td>-0.294196</td>    </tr>    <tr>      <th>calculated_host_listings_count_private_rooms</th>      <td>-0.127504</td>    </tr>    <tr>      <th>calculated_host_listings_count_shared_rooms</th>      <td>-0.101389</td>    </tr>    <tr>      <th>smoking_allowed</th>      <td>-0.054131</td>    </tr>    <tr>      <th>host_greeting</th>      <td>-0.051356</td>    </tr>    <tr>      <th>number_of_reviews</th>      <td>-0.029229</td>    </tr>    <tr>      <th>host_identity_verified</th>      <td>-0.022861</td>    </tr>    <tr>      <th>parking</th>      <td>-0.019383</td>    </tr>    <tr>      <th>host_is_superhost</th>      <td>-0.016325</td>    </tr>    <tr>      <th>number_of_reviews_ltm</th>      <td>-0.011481</td>    </tr>  </tbody></table>"
   ]
  },
  {
   "cell_type": "markdown",
   "metadata": {
    "tags": [
     "7_min"
    ]
   },
   "source": [
    "### Exercise 4\n",
    "\n",
    "From the tables above, which factors are most correlated with price (positive or negative)? Which correlations are surprising, and what do you hypothesize might explain them?"
   ]
  },
  {
   "cell_type": "markdown",
   "metadata": {
    "tags": [
     "ans_st"
    ]
   },
   "source": [
    "**Answer.**"
   ]
  },
  {
   "cell_type": "markdown",
   "metadata": {},
   "source": [
    "-------"
   ]
  },
  {
   "cell_type": "markdown",
   "metadata": {
    "tags": [
     "1_min"
    ]
   },
   "source": [
    "## Location, location, location!\n",
    "\n",
    "We have already found quite a few variables that are reasonably correlated with price. We could continue our exploration by looking at each of these variables in turn, but we know that in real estate, location data is quite special, and so we will first explore how location affects the price in greater detail."
   ]
  },
  {
   "cell_type": "markdown",
   "metadata": {
    "tags": [
     "2_min"
    ]
   },
   "source": [
    "### Using heat maps to understand the price distribution with location\n",
    "\n",
    "Here, we have a heat map of the price of apartments in NYC. This will give us a sense of where the important locations are:"
   ]
  },
  {
   "cell_type": "code",
   "execution_count": null,
   "metadata": {},
   "outputs": [],
   "source": [
    "%%html\n",
    "<iframe src=\"data/hmap.html\" width=\"1200\" height=\"1000\"></iframe>"
   ]
  },
  {
   "cell_type": "markdown",
   "metadata": {
    "tags": [
     "2_min"
    ]
   },
   "source": [
    "### Exercise 5\n",
    "\n",
    "#### 5.1\n",
    "\n",
    "What areas in NYC have expensive rentals? "
   ]
  },
  {
   "cell_type": "markdown",
   "metadata": {
    "tags": [
     "ans_st"
    ]
   },
   "source": [
    "**Answer.**"
   ]
  },
  {
   "cell_type": "markdown",
   "metadata": {},
   "source": [
    "-------"
   ]
  },
  {
   "cell_type": "markdown",
   "metadata": {
    "tags": [
     "3_min"
    ]
   },
   "source": [
    "#### 5.2\n",
    "\n",
    "Looking at this map, you can (roughly) see the correlation between price and longitude/latitude. Does location appear to be strongly related to price? Does it seem likely that this relationship would be well summarized by the correlation?"
   ]
  },
  {
   "cell_type": "markdown",
   "metadata": {
    "tags": [
     "ans_st"
    ]
   },
   "source": [
    "**Answer.**"
   ]
  },
  {
   "cell_type": "markdown",
   "metadata": {},
   "source": [
    "-------"
   ]
  },
  {
   "cell_type": "markdown",
   "metadata": {
    "tags": [
     "5_min"
    ]
   },
   "source": [
    "## Interaction effects\n",
    "\n",
    "Now that we have explored some of the factors that are expected to affect price, let's focus on understanding the unexpected correlations, such as the negative correlation between price and parking. For reference, this is the density plot of price for parking vs. no parking:\n",
    "\n",
    "![Density plot of price for parking vs. parking](data/images/density_parking_no_parking.png)\n",
    "\n",
    "We saw before that the correlation between price and parking is -0.019383. Since parking is desirable, we expect the price to increase with parking. When we see a pattern like this, we should suspect the existence of **interaction effects** that are complicating the parking vs. price relationship. Interaction effects are when the relationship between two variables is *conditional*, or depends on the value of a third, hidden variable.\n",
    "\n",
    "We strongly recommend that you lean on your domain expertise when looking at data and really explore correlations/relationships that appear funny, weird, or counterintuitive. We may find interaction effects, or we may find that certain long-held assumptions from our domain expertise are not correct (e.g. maybe parking is not desirable in certain parts of the world)."
   ]
  },
  {
   "cell_type": "markdown",
   "metadata": {
    "tags": [
     "7_min"
    ]
   },
   "source": [
    "### Finding the hidden variable\n",
    "\n",
    "So, what could this third variable potentially be? Well, we have seen that location has a huge impact on prices. Perhaps high-price areas don't have many parking spots, whereas low-price areas do? We don't know this for sure, but it's a worthwhile guess.\n",
    "\n",
    "More formally, we hypothesize that this observed negative correlation is the result of interaction effects arising from location. In order to investigate this hypothesis, we ought to break down the locations by neighborhood and see if this negative correlation between price and parking still holds *within* neighborhoods. The neighborhoods are discrete and there are many listings per neighborhood, so we can simply compute the correlation for every neighborhood individually. Mathematically, this is exactly the same thing as *conditioning* on the neighborhood and computing the *conditional correlation*.\n",
    "\n",
    "Let's control for this third variable, `neighbourhood`, and compute the correlations between `price` and `parking` *for each neighborhood separately*. Then, we can plot how many neighborhoods show a correlation between -1 and -0.5, how many between -0.5 and 0, how many between 0 and 0.5 and how many between 0.5 and 1:\n",
    "\n",
    "![Histogram of correlations](data/images/correlations_histogram.png)\n",
    "\n",
    "We see that most neighborhoods show positive correlation between the price of the listing and the availability of parking."
   ]
  },
  {
   "cell_type": "markdown",
   "metadata": {
    "tags": [
     "8_min"
    ]
   },
   "source": [
    "### Exercise 6\n",
    "\n",
    "Explain the relationship between the histogram and our finding that parking is negatively correlated with price."
   ]
  },
  {
   "cell_type": "markdown",
   "metadata": {
    "tags": [
     "ans_st"
    ]
   },
   "source": [
    "**Answer.**"
   ]
  },
  {
   "cell_type": "markdown",
   "metadata": {},
   "source": [
    "-------"
   ]
  },
  {
   "cell_type": "markdown",
   "metadata": {
    "tags": [
     "3_min"
    ]
   },
   "source": [
    "These are density plots that overlay the distribution of price for parking and non-parking properties for the neighborhoods `St. George`,`Greenwood Heights`,`Rego Park`, and `Brooklyn Navy Yard`. We observe a somewhat positive correlation of parking vs. no parking for each:\n",
    "\n",
    "![Faceted density plots](data/images/faceted_density.png)\n",
    "\n",
    "As we have seen, the existence of unexpected correlations should spur investigation into potential interaction effects, which lead to potentially interesting hypotheses. Thus, one good way of generating iterative hypotheses is to find and think about potential interaction effects."
   ]
  },
  {
   "cell_type": "markdown",
   "metadata": {
    "tags": [
     "2_min"
    ]
   },
   "source": [
    "### How does price vary by property type?\n",
    "\n",
    "We saw that finding conditional correlations or interactions is a good way to generate further hypotheses, as many interesting lines of investigation arise from investigating these **[confounding variables](https://www.statisticshowto.datasciencecentral.com/experimental-design/confounding-variable/)**. Here is another example - let's now look at how price varies with property type. The plot below shows the price of a one-bedroom listing broken down by property type:\n",
    "\n",
    "![Boxplot of one-bedroom properties across property types](data/images/boxplot_one_bedroom_property_types.png)\n",
    "\n",
    "And this is the same but for two-bedroom properties:\n",
    "\n",
    "![Boxplot of two-bedroom properties across property types](data/images/boxplot_two_bedroom_property_types.png)"
   ]
  },
  {
   "cell_type": "markdown",
   "metadata": {
    "tags": [
     "3_min"
    ]
   },
   "source": [
    "### Exercise 7\n",
    "\n",
    "What can you conclude about the variation in price for each of the two property types?"
   ]
  },
  {
   "cell_type": "markdown",
   "metadata": {
    "tags": [
     "ans_st"
    ]
   },
   "source": [
    "**Answer.**"
   ]
  },
  {
   "cell_type": "markdown",
   "metadata": {},
   "source": [
    "-------"
   ]
  },
  {
   "cell_type": "markdown",
   "metadata": {
    "tags": [
     "3_min"
    ]
   },
   "source": [
    "## More hypothesis generation\n",
    "\n",
    "So far, we have primarily been interested in understanding what factors influence the price of an existing listing. However, a natural follow-up question to ask is: \"What can I do to increase the price of my listing without spending too much money?\"\n",
    "\n",
    "Looking through the list of correlations, two immediately stand out: \n",
    "\n",
    "| Variable          | Correlation with price  | \n",
    "| :-------------  | :----------: | \n",
    "|  air_conditioning | 0.196582     | \n",
    "|  tv             | 0.271563         | \n",
    "\n",
    "Some air conditioning is relatively cheap, and has a large correlation of 0.189. Televisions are very cheap, and have an enormous correlation of 0.26. This suggests that one of the best things I can do for a listing is run out and buy a TV if I don't have one - a 300 dollar TV might increase the value of a listing by 30 dollars per night!"
   ]
  },
  {
   "cell_type": "markdown",
   "metadata": {
    "tags": [
     "4_min"
    ]
   },
   "source": [
    "### Exercise 8\n",
    "\n",
    "Do you believe this would work? Can you come up with any simple explanation that would argue for one way or the other?"
   ]
  },
  {
   "cell_type": "markdown",
   "metadata": {
    "tags": [
     "ans_st"
    ]
   },
   "source": [
    "**Answer.**"
   ]
  },
  {
   "cell_type": "markdown",
   "metadata": {},
   "source": [
    "-------"
   ]
  },
  {
   "cell_type": "markdown",
   "metadata": {
    "tags": [
     "5_min"
    ]
   },
   "source": [
    "## Exploring temporal effects: summer in Rio and winter in Moscow\n",
    "\n",
    "We have seen that conditional plots can be a useful way to \"correct\" comparisons by taking into account interaction effects.\n",
    "\n",
    "Time is a very common interaction effect that appears across lots of datasets. For Airbnb data, this is especially important, as Airbnb is often more expensive near holidays, and so reasonable price estimates must take this into account. In practice, this is one of the most important corrections offered by Airbnb price consultancy firms, and corrections usually take advantage of data pooled from many somewhat similar cities. This is vital to achieve good corrections, but it is easy to make mistakes by failing to account for important city-to-city differences.\n",
    "\n",
    "We begin by plotting average prices against the date:\n",
    "\n",
    "![Average price against date](data/images/average_price_date.png)\n",
    "\n",
    "And using a smaller interval:\n",
    "\n",
    "![Average price against date (smaller interval)](data/images/average_price_date_smaller.png)\n",
    "\n",
    "When analyzing **time series data** like this, it is common to view it as a sum of several contributing effects over time, plus some noise. The two common types of summands in such a representation are:\n",
    "\n",
    "1. **Seasonal effects**: This is a summand that is periodic, often with periods corresponding to calendar units (weekly, monthly, yearly).\n",
    "2. **Trend effects**: This is a smooth summand that goes up or down over an entire series, representing long-term patterns such as price inflation."
   ]
  },
  {
   "cell_type": "markdown",
   "metadata": {
    "tags": [
     "5_min"
    ]
   },
   "source": [
    "### Exercise 9\n",
    "\n",
    "#### 9.1\n",
    "\n",
    "Visually, can you see any strong seasonal or trend components? What do they mean?"
   ]
  },
  {
   "cell_type": "markdown",
   "metadata": {
    "tags": [
     "ans_st"
    ]
   },
   "source": [
    "**Answer.**"
   ]
  },
  {
   "cell_type": "markdown",
   "metadata": {},
   "source": [
    "-------"
   ]
  },
  {
   "cell_type": "markdown",
   "metadata": {
    "tags": [
     "2_min"
    ]
   },
   "source": [
    "#### 9.2\n",
    "\n",
    "What is the enormous spike that you see in this chart? Is it real, and how would you describe what is going on in layman's terms?"
   ]
  },
  {
   "cell_type": "markdown",
   "metadata": {
    "tags": [
     "ans_st"
    ]
   },
   "source": [
    "**Answer.**"
   ]
  },
  {
   "cell_type": "markdown",
   "metadata": {},
   "source": [
    "-------"
   ]
  },
  {
   "cell_type": "markdown",
   "metadata": {
    "tags": [
     "5_min"
    ]
   },
   "source": [
    "#### 9.3\n",
    "\n",
    "Can we guess the busiest season (excluding Christmas) from this raw chart?"
   ]
  },
  {
   "cell_type": "markdown",
   "metadata": {
    "tags": [
     "ans_st"
    ]
   },
   "source": [
    "**Answer.**"
   ]
  },
  {
   "cell_type": "markdown",
   "metadata": {},
   "source": [
    "-------"
   ]
  },
  {
   "cell_type": "markdown",
   "metadata": {},
   "source": [
    "This brings us to an important topic - bringing in auxiliary datasets! The Inside Airbnb website includes calendar data for many cities, and we can use these to adjust for the trend component. To get some diversity, we should make sure to source some data from: 1) a city close to NYC; 2) a city in the US with very different weather from NYC; and 3) some cities very far away from NYC."
   ]
  },
  {
   "cell_type": "markdown",
   "metadata": {
    "tags": [
     "3_min"
    ]
   },
   "source": [
    "## Conclusions\n",
    "\n",
    "In this case, we saw that Airbnb prices are influenced by many factors. Some of the main ones include location, number of bedrooms, and number of guests. Some, such as the number of bedrooms, exhibited a large and nearly linear relationship to price. But others, such as location, exhibited very non-linear relationships. We will learn how to deal with these types of complex relationships in future cases.\n",
    "\n",
    "We also found some surprising correlations, such as the negative correlation between price and parking. However, after breaking the data down by neighborhoods and incorporating the interaction effect of location, this negative correlation went away entirely."
   ]
  },
  {
   "cell_type": "markdown",
   "metadata": {
    "tags": [
     "7_min"
    ]
   },
   "source": [
    "## Takeaways\n",
    "\n",
    "In this case, you learned the following exploration process:\n",
    "\n",
    "1. First, look at the distributions of the available variables to look for interesting patterns and/or outliers.\n",
    "2. Then, use a correlation matrix to quickly reveal the most promising candidate variables for further investigation.\n",
    "3. Using the various charts and plots at your disposal, investigate candidate variables in turn. Note which ones exhibit intriguing and unexpected correlations.\n",
    "4. Explore potential interaction effects for the variables exhibiting unexpected correlations. Suspected important interactions should be looked at directly with further plotting.\n",
    "5. Finally, take some time to carefully plot any interactions that you know to be important from domain knowledge.\n",
    "\n",
    "This process can be a bit daunting at first, but it is widely used by veteran data analysts and scientists and is extremely effective in most situations.\n",
    "\n",
    "We assume this walkthrough was new to many of you, so there is a large amount of learning to digest here. We strongly recommend that you review this case again by yourself until each step seems logical. It is crucial that you feel comfortable with this EDA process as we move towards later cases. By using this process to iteratively generate hypotheses and investigate them, you can uncover great insight about what is going on without building a single formal model. Formal modeling will be discussed in future cases."
   ]
  },
  {
   "cell_type": "markdown",
   "metadata": {},
   "source": [
    "## Attribution\n",
    "\n",
    "\"New York\", Inside Airbnb, [Public Domain](http://creativecommons.org/publicdomain/zero/1.0/), http://insideairbnb.com/get-the-data.html\n",
    "\n",
    "\"Dash styleguide\", Chris P., [MIT License](https://blog.codepen.io/documentation/terms-of-service/), https://codepen.io/chriddyp/pen/bWLwgP"
   ]
  }
 ],
 "metadata": {
  "c1_recart": "6.5.0-57c20131aabc1dc2a8c675852d80a7da"
 },
 "nbformat": 4,
 "nbformat_minor": 2
}
