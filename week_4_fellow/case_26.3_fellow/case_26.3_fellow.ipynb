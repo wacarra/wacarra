{
 "cells": [
  {
   "cell_type": "markdown",
   "metadata": {},
   "source": [
    "# Data Wrangling in Excel"
   ]
  },
  {
   "cell_type": "markdown",
   "metadata": {
    "tags": [
     "3_min"
    ]
   },
   "source": [
    "## Introduction\n",
    "\n",
    "In previous cases, we learned about how to find the data we need from Excel sheets. We saw how to use functions such as `INDEX` + `MATCH` to find the data, and how to summarize data with functions like `SUM`, `COUNT`, and `AVERAGE`.\n",
    "\n",
    "In this case, we will learn how to manipulate *text* in Excel - it's not only for numbers! We will be working with the Excel workbook file [`esports_earnings.xlsx`](data/esports_earnings.xlsx), which has information for the top 1,000 players in E-Sports in the world in 10 popular games, as measured by their career earnings. E-Sports are an exciting and thriving form of competition where players compete in video games rather than physical sports. This file is inside the `data` folder."
   ]
  },
  {
   "cell_type": "markdown",
   "metadata": {
    "tags": [
     "5_min"
    ]
   },
   "source": [
    "## Text data - numbers are only half the story!\n",
    "\n",
    "When working with datasets over your professional life, you will find a lot of data that is stored as text rather than numbers. Sometimes we will even find *unstructured* text fields, which are free-form text blocks that do not conform to specific rules and is therefore much harder for computers to understand.\n",
    "\n",
    "Our dataset has 3 sheets:\n",
    "\n",
    "1. `highest_earning_players`, which holds the list of the top 1,000 players together with their full names, their handle or nickname in the game they play, their country of origin, their total earnings, the game they play, and the genre of that game\n",
    "2. `highest_earning_teams` is very similar, but contains the names of teams instead of players. No country is listed since one team can have players from many countries\n",
    "3. `country_codes`, which has the list of all countries along with their country codes and the continents they are on\n",
    "\n",
    "Notice that the sheet `highest_earning_players` does not include the full name of the country or continent for each player - let's fix that."
   ]
  },
  {
   "cell_type": "markdown",
   "metadata": {
    "tags": [
     "12_min"
    ]
   },
   "source": [
    "### Exercise 1\n",
    "\n",
    "Using `INDEX` + `MATCH`, fill out the `CountryName` and `ContinentName` columns in the `highest\\_earning_players` sheet with the corresponding country names and continent names for all players."
   ]
  },
  {
   "cell_type": "markdown",
   "metadata": {
    "tags": [
     "ans_st"
    ]
   },
   "source": [
    "**Answer.**"
   ]
  },
  {
   "cell_type": "markdown",
   "metadata": {},
   "source": [
    "-------"
   ]
  },
  {
   "cell_type": "markdown",
   "metadata": {
    "tags": [
     "5_min"
    ]
   },
   "source": [
    "### Extracting text\n",
    "\n",
    "The first functions we will learn will be those that allow us to extract part of a block of text. **`LEFT`**, as its name implies, allows us to get the left-most part of a text string. The first argument is the text from which you wish to extract a part, and the second argument is the numbers of characters you want to extract. Take a look at the example in cell G4 of the `aux_formulas` sheet. You can play around with the number in cell J4 to extract a few more or a few less characters out of the text string.\n",
    "\n",
    "**`RIGHT`** works exactly the same way, but takes characters counting from (you guessed it) the right!\n",
    "\n",
    "Finally, **`MID`** grabs characters from the middle of the text string. It takes as arguments the text, the position of the first character from which to begin extracting text, and the number of characters to extract. See the example in cell G7 of the `aux_formulas` sheet.\n",
    "\n",
    "As you may have noticed, everything in a text string is counted as a character - spaces, punctuation marks, and even emojis (if you choose to insert one into a cell)!"
   ]
  },
  {
   "cell_type": "markdown",
   "metadata": {
    "tags": [
     "5_min"
    ]
   },
   "source": [
    "### Exercise 2\n",
    "\n",
    "Get the first letter for all players' first names and place them in the `FirstInitial` column in the `highest_earning_players` sheet. Do the same for the last names in `LastInitial`."
   ]
  },
  {
   "cell_type": "markdown",
   "metadata": {
    "tags": [
     "ans_st"
    ]
   },
   "source": [
    "**Answer.**"
   ]
  },
  {
   "cell_type": "markdown",
   "metadata": {},
   "source": [
    "-------"
   ]
  },
  {
   "cell_type": "markdown",
   "metadata": {
    "tags": [
     "3_min"
    ]
   },
   "source": [
    "We just learned how to grab parts of strings, but how about the reverse - putting parts of strings together into a whole? **`CONCATENATE`** allows us to *concatenate* (i.e. add up) as many pieces of text as we want into a single string.\n",
    "\n",
    "`CONCATENATE` is extremely simple - it will join together all the values you pass as arguments, whether they are text strings, numbers, or any other format. See the example in cell G13 of `aux_formulas`."
   ]
  },
  {
   "cell_type": "markdown",
   "metadata": {
    "tags": [
     "5_min"
    ]
   },
   "source": [
    "### Exercise 3\n",
    "\n",
    "Using `CONCATENATE`, place the full initials (Name and Last Name) for all players in the `FullInitial` column."
   ]
  },
  {
   "cell_type": "markdown",
   "metadata": {
    "tags": [
     "ans_st"
    ]
   },
   "source": [
    "**Answer.**"
   ]
  },
  {
   "cell_type": "markdown",
   "metadata": {},
   "source": [
    "-------"
   ]
  },
  {
   "cell_type": "markdown",
   "metadata": {
    "tags": [
     "7_min"
    ]
   },
   "source": [
    "### Cleaning and formatting text\n",
    "\n",
    "Other functions help us with cleaning and formatting text, such as `TRIM`, `PROPER`, `UPPER`, and `LOWER`.\n",
    "\n",
    "**`TRIM`** cleans unnecessary spaces out of text. You will often receive datasets with text values that have trailing spaces at the beginning or the end of a text value, or double spaces between words. `TRIM` deletes all spaces at the start and end, and leaves only singles spaces between words. The only argument it requires is the text to be cleaned.\n",
    "\n",
    "**`UPPER`** makes a body of text fully uppercase, while **`LOWER`** makes it fully lowercase. **`PROPER`** capitalizes the first letter of every word. You can see examples of all of these in cells G21 through G24 on the `aux_formulas` sheet."
   ]
  },
  {
   "cell_type": "markdown",
   "metadata": {
    "tags": [
     "7_min"
    ]
   },
   "source": [
    "### Exercise 4\n",
    "\n",
    "Write down the formula necessary to transform the text `pLeasE_ fiX mEE!_` to `FIX ME`. Assume that the text to fix is placed in the A1 cell."
   ]
  },
  {
   "cell_type": "markdown",
   "metadata": {
    "tags": [
     "ans_st"
    ]
   },
   "source": [
    "**Answer.**"
   ]
  },
  {
   "cell_type": "markdown",
   "metadata": {},
   "source": [
    "-------"
   ]
  },
  {
   "cell_type": "markdown",
   "metadata": {
    "tags": [
     "6_min"
    ]
   },
   "source": [
    "### Searching text (optional)\n",
    "\n",
    "Finally, the **`SEARCH`** and **`FIND`** functions allow us to find a specific combination of characters inside our text. At first glance they seem identical:\n",
    "\n",
    "* Both allow us to search for the position of a certain text value inside another text value\n",
    "* Both take as arguments the value to look for, and the value within which to look for it\n",
    "* Both return a number representing the position of the found value, or an error if it is not found\n",
    "\n",
    "But they do have a couple of key differences. First, `FIND` is case-sensitive and `SEARCH` is case-insensitive. The second (and more important) difference is that the `SEARCH` function accepts **wildcard** characters, which means that it can find *variations* of a text value. There are 2 wildcards - the \"?\" character represents *any single character*, and the \"\\*\" wildcard represents *any number of any characters*. You can take a look at a couple of examples in the G34 and G35 cells in the `aux_formulas` sheet."
   ]
  },
  {
   "cell_type": "markdown",
   "metadata": {
    "tags": [
     "9_min"
    ]
   },
   "source": [
    "### Exercise 5 (optional)\n",
    "\n",
    "Using `FIND`, calculate how many of the top players handles include at least one uppercase \"E\"."
   ]
  },
  {
   "cell_type": "markdown",
   "metadata": {
    "tags": [
     "ans_st"
    ]
   },
   "source": [
    "**Answer.**"
   ]
  },
  {
   "cell_type": "markdown",
   "metadata": {},
   "source": [
    "-------"
   ]
  },
  {
   "cell_type": "markdown",
   "metadata": {
    "tags": [
     "8_min"
    ]
   },
   "source": [
    "## Pivot tables and pivot charts\n",
    "\n",
    "Despite all the technological change happening around it, there is one thing that Excel still does better than anything else in the market - **pivot tables**.\n",
    "\n",
    "To create a pivot table, select the entire range of data we want to analyze (in this case, the range `A1:N1001`), then in your toolbar navigate to \"Insert -> Pivot Table\". You should get a pop-up asking you about the range and a couple more options (yours may look different than the below depending on which version of Excel you are using). Click \"Ok\", and boom! - your first pivot table should show up on your screen.\n",
    "\n",
    "![](data/images/create_pivottable.png)\n",
    "\n",
    "The pivot table should start in the top-left corner of a new sheet. On the right side, you will see a pane with the title \"PivotTable Fields\" that contains the names of all columns in our original sheet. Just below it, you will see 4 areas - \"Filters\", \"Columns\", \"Rows\", and \"Values\".\n",
    "\n",
    "Pivot tables are magical because of how easy they are to use. In order to analyze data, all we need to do is drag fields from the \"PivotTable Fields\" pane into one of these 4 areas!"
   ]
  },
  {
   "cell_type": "markdown",
   "metadata": {
    "tags": [
     "8_min"
    ]
   },
   "source": [
    "### How does a pivot table work?\n",
    "\n",
    "In order to understand this, we first need to understand what those 4 areas mean. In general:\n",
    "\n",
    "1. \"Rows\" indicate which fields you want to group your data by using the pivot table's rows\n",
    "2. \"Columns\"indicate which fields you want to group your data by using the pivot table's columns\n",
    "3. \"Values\" indicate which fields you want to show the values of in the pivot table\n",
    "4. \"Filters\" indicate which fields you want to be able to filter your data by before showing it in the pivot table \n",
    "\n",
    "Let's take an example - suppose we want to know which country has the most players in the top 1,000. Then we need to *group* our players by `CountryWithoutComma`, then *count* the number of players per country. Here, we will `CurrentHandle` as a proxy for a particular player, though we could easily have used another field as well. Hence, we can do the following in our pivot table to achieve our objective:\n",
    "\n",
    "1. Drag the `CountryWithoutComma` field to the \"Rows\" area\n",
    "2. Drag the `CurrentHandle` field to the \"Values\" area\n",
    "\n",
    "That's it! Your pivot table should be showing the count of players per country."
   ]
  },
  {
   "cell_type": "markdown",
   "metadata": {
    "tags": [
     "3_min"
    ]
   },
   "source": [
    "### Exercise 6\n",
    "\n",
    "Which 3 countries have the highest number of e-sports players in the top 10?"
   ]
  },
  {
   "cell_type": "markdown",
   "metadata": {
    "tags": [
     "ans_st"
    ]
   },
   "source": [
    "**Answer.**"
   ]
  },
  {
   "cell_type": "markdown",
   "metadata": {},
   "source": [
    "-------"
   ]
  },
  {
   "cell_type": "markdown",
   "metadata": {
    "tags": [
     "3_min"
    ]
   },
   "source": [
    "With the power of pivot tables, we can analyze data very quickly to reach conclusions. We can add more than one field to the 4 areas in order to find more detail in the data and reach conclusions. For example, to see the total amount of prize money earned by a particular country, all you need to do is to add the `TotalUSDPrize` field to the \"Values\" area, below `CurrentHandle`. Your pivot table should now look something like this:\n",
    "\n",
    "![](data/images/pivot_table_1.png)\n",
    "\n",
    "We can see that even though Korea has the most players in the top 1,000, it does not have the highest earnings as a country (that honor goes to China)."
   ]
  },
  {
   "cell_type": "markdown",
   "metadata": {
    "tags": [
     "5_min"
    ]
   },
   "source": [
    "### Exercise 7\n",
    "\n",
    "Add the `Game` field to the \"Rows\" area, below the `CountryWithoutComma` field. What does ordering the \"Rows\" fields like this mean? In which game does Korea have its highest earnings?\n",
    "\n",
    "Now move the `Game` field *above* the `CountryWithoutComma` field. What does this ordering of the \"Rows\" fields mean? Which game has the highest earnings total, and how much did Korea earn from that game?"
   ]
  },
  {
   "cell_type": "markdown",
   "metadata": {
    "tags": [
     "ans_st"
    ]
   },
   "source": [
    "**Answer.**"
   ]
  },
  {
   "cell_type": "markdown",
   "metadata": {},
   "source": [
    "-------"
   ]
  },
  {
   "cell_type": "markdown",
   "metadata": {
    "tags": [
     "2_min"
    ]
   },
   "source": [
    "Pivot tables also allow us to use the \"Filters\" area to look only at what matters to us. For example, we could add the `ContinentName` field there, in order to only look at data from certain continents.\n",
    "\n",
    "When you drag a field into the Filter area, it will be visible as a filtering option *on top* of the data in the pivot table."
   ]
  },
  {
   "cell_type": "markdown",
   "metadata": {
    "tags": [
     "5_min"
    ]
   },
   "source": [
    "### Exercise 8\n",
    "\n",
    "Filter only the data from Europe. Which European country has the most players? Which has the most earnings?"
   ]
  },
  {
   "cell_type": "markdown",
   "metadata": {
    "tags": [
     "ans_st"
    ]
   },
   "source": [
    "**Answer.**"
   ]
  },
  {
   "cell_type": "markdown",
   "metadata": {},
   "source": [
    "-------"
   ]
  },
  {
   "cell_type": "markdown",
   "metadata": {
    "tags": [
     "6_min"
    ]
   },
   "source": [
    "## Additional summary options\n",
    "\n",
    "Pivot tables allow you to summarize data in different ways. By default, it summarizes using the sum for numeric fields, and the count for non-numeric fields. But you can summarize using the average, minimum, maximum, or some other aggregation function of the data. You can change the summary statistic used by right-clicking on the summary column and changing the current statistic under the \"Summarize Values By...\" sub-menu.\n",
    "\n",
    "You can even add a single field several times to any area in order to show different summary statistics of that field at the same time. For example, we can drag `ContinentName` into the \"Rows\" area and both the average and sum of `TotalUSDPrize` in order to see which continent has the highest total earnings, as well as which continent has the highest average earnings:\n",
    "\n",
    "![](data/images/pivot_summary_options.png)\n",
    "\n",
    "![](data/images/pivot_summary_results.png)\n",
    "\n",
    "It's interesting that one of the continents with the lowest total earnings has the highest average, by far."
   ]
  },
  {
   "cell_type": "markdown",
   "metadata": {
    "tags": [
     "3_min"
    ]
   },
   "source": [
    "### Exercise 9 (optional)\n",
    "\n",
    "In what game did Oceania get most of its earnings?"
   ]
  },
  {
   "cell_type": "markdown",
   "metadata": {
    "tags": [
     "ans_st"
    ]
   },
   "source": [
    "**Answer.**"
   ]
  },
  {
   "cell_type": "markdown",
   "metadata": {},
   "source": [
    "-------"
   ]
  },
  {
   "cell_type": "markdown",
   "metadata": {},
   "source": [
    "You can also show the values in the pivot table as comparative/relative statistics, such as the percentage out of the total. To do this, right-click on the column you want to show as a comparative/relative statistic and click on \"Summarize Values By... -> More Options\", then go to the \"Show data as\" tab in the window that pops up. There are many options, from showing the data as a percentage of the column total, to showing a ranking vs. other data in that column."
   ]
  },
  {
   "cell_type": "markdown",
   "metadata": {
    "tags": [
     "10_min"
    ]
   },
   "source": [
    "### Exercise 10\n",
    "\n",
    "What percentage of earnings in the First-Person Shooter genre came from the Counter-Strike game? What percentage of earnings in Korea came from the Starcraft II game?\n",
    "\n",
    "**Hint:** You may want to use the \"% of Parent Row Total\" selection."
   ]
  },
  {
   "cell_type": "markdown",
   "metadata": {
    "tags": [
     "ans_st"
    ]
   },
   "source": [
    "**Answer.**"
   ]
  },
  {
   "cell_type": "markdown",
   "metadata": {},
   "source": [
    "-------"
   ]
  },
  {
   "cell_type": "markdown",
   "metadata": {
    "tags": [
     "5_min"
    ]
   },
   "source": [
    "As you can see, Pivot tables are a very powerful tool! But there is still one very powerful thing we can do with Pivot Tables that helps us visualize these patterns - **pivot charts**.\n",
    "\n",
    "Pivot charts are nothing more than charts made from pivot tables. Create a pivot table with the sum of `TotalUSDPrize` in the \"Values\" area, and the `Genre` field in the \"Rows\" area. Now, select any cell in your pivot table, then go to the toolbar and select \"Insert -> PivotChart\" - you should get the following:\n",
    "\n",
    "![](data/images/pivot_chart_1.png)\n",
    "\n",
    "We see that the field in the \"Rows\" area (`Genre`) is shown on the x-axis and divides it into categories, while the field in the \"Values\" area (`TotalUSDPrize`) is shown on the y-axis.\n",
    "\n",
    "The magic of pivot charts is that they are linked to your pivot table. Try dragging the `Genre` field out and bring the `Game` field in, or drag both in at the same time and see what happens:\n",
    "\n",
    "![](data/images/pivot_chart_2.png)\n",
    "\n",
    "Again, the \"Rows\" area fields are shown on the x-axis - but now both at the same time and dividing it into sub-categories."
   ]
  },
  {
   "cell_type": "markdown",
   "metadata": {
    "tags": [
     "8_min"
    ]
   },
   "source": [
    "### Exercise 11 (optional)\n",
    "\n",
    "Create a pivot chart that summarizes the percentage of earnings for the Dota2 game that came from each country."
   ]
  },
  {
   "cell_type": "markdown",
   "metadata": {
    "tags": [
     "7_min"
    ]
   },
   "source": [
    "### Exercise 12 (optional)\n",
    "\n",
    "Create a pivot chart that summarizes the average earnings by country and game genre."
   ]
  },
  {
   "cell_type": "markdown",
   "metadata": {
    "tags": [
     "4_min"
    ]
   },
   "source": [
    "## Conclusion & Takeaways\n",
    "\n",
    "In this case, we learned how to work with text data. We also learned about one of the most important functionalities in Excel - pivot tables and pivot charts. Hopefully by now, you feel sufficiently acquainted with Excel to query, manipulate, and visualize small- to medium-sized datasets using it.\n",
    "\n",
    "As you work more with more complex languages like Python and SQL, you will find that many of the things you will be doing are analogous to what you have done in Excel (only on much larger, complex datasets). Because of this, we highly encourage you to come back to these Excel cases to build intuition and become more comfortable with what you will be doing in those languages."
   ]
  }
 ],
 "metadata": {
  "c1_recart": "6.3.0-57c20131aabc1dc2a8c675852d80a7da",
  "kernelspec": {
   "display_name": "Python 3",
   "language": "python",
   "name": "python3"
  },
  "language_info": {
   "codemirror_mode": {
    "name": "ipython",
    "version": 3
   },
   "file_extension": ".py",
   "mimetype": "text/x-python",
   "name": "python",
   "nbconvert_exporter": "python",
   "pygments_lexer": "ipython3",
   "version": "3.8.8"
  }
 },
 "nbformat": 4,
 "nbformat_minor": 2
}
