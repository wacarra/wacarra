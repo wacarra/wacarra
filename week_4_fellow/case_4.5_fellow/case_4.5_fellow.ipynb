{
 "cells": [
  {
   "cell_type": "markdown",
   "metadata": {},
   "source": [
    "# How can we clearly communicate GDP trends using visualizations?"
   ]
  },
  {
   "cell_type": "markdown",
   "metadata": {
    "tags": [
     "2_min"
    ]
   },
   "source": [
    "## Goals\n",
    "\n"
   ]
  },
  {
   "cell_type": "markdown",
   "metadata": {},
   "source": [
    "By the end of this case, you should have:\n",
    "\n",
    "* Gained more hands-on experience with creating Python plots\n",
    "* Learned how to select an appropriate plot type or other way to visualize specific kinds of data\n",
    "* Learned how to make professional visualizations"
   ]
  },
  {
   "cell_type": "markdown",
   "metadata": {
    "tags": [
     "10_min"
    ]
   },
   "source": [
    "## Case Introduction"
   ]
  },
  {
   "cell_type": "markdown",
   "metadata": {},
   "source": [
    "**Business Context.** You are an employee for GoodEconomists, an NGO that campaigns for raising living standards globally. With limited financial resources, GoodEconomists does not have a large budget for outreach and marketing. Instead, they rely on publishing content with compelling stories and excellent visuals to have their voice heard. You have been asked to work on data presentation and graphs for their upcoming report on [GDP](https://en.wikipedia.org/wiki/Gross_domestic_product) and its implications. \n",
    "\n",
    "**Business Problem.** Your manager has asked you to answer the following question: **\"How can we clearly communicate the strong correlations that GDP has to other factors?\"**\n",
    "\n",
    "**Analytical Context.** The relevant data is a pair of public CSV files containing information on GDP for different countries. The first one is on GDP and life expectancy and is called `data/gdp_data.csv`. It only has five columns, but we can extract quite a lot of information from these:\n",
    "\n",
    "* **Country:** The name of the country (`str`)\n",
    "* **Continent:** The name of the continent (`str`)\n",
    "* **lifeExp:** The average life span of a person in that country in years (`float`)\n",
    "* **pop**: The population of the country (`int`)\n",
    "* **gdpPercap:** The GDP per capita, or the average economic output of each person in the country (`float`)\n",
    "\n",
    "We also have a dataset `data/gdp_data_years.csv`. It is similar, but formatted differently. Each column is a year so we can see GDP trends over time. It does not include population size and life expectancy data:\n",
    "\n",
    "* **Country Name:** The name of the country (`str`)\n",
    "* **Country Code:** The three-letter code for the country (`str`)\n",
    "* **1960:** The GDP value in 1960 in USD (`float`)\n",
    "* **`<all other columns>`:** the same as 1960 but for the respective year\n",
    "\n",
    "We will use what we know about Python, `pandas`, `matplotlib`, and `seaborn` and focus on finding the best way to visualize the relevant data."
   ]
  },
  {
   "cell_type": "markdown",
   "metadata": {
    "tags": [
     "5_min"
    ]
   },
   "source": [
    "## Loading the datasets and setting up\n",
    "\n"
   ]
  },
  {
   "cell_type": "markdown",
   "metadata": {},
   "source": [
    "Let's set up the plotting libraries and load the datasets:"
   ]
  },
  {
   "cell_type": "code",
   "execution_count": null,
   "metadata": {},
   "outputs": [],
   "source": [
    "%matplotlib inline\n",
    "\n",
    "import pandas as pd\n",
    "from matplotlib import pyplot as plt\n",
    "\n",
    "# increase the size and quality of any plots we produce\n",
    "import matplotlib as mpl\n",
    "\n",
    "mpl.rcParams[\"figure.dpi\"] = 300"
   ]
  },
  {
   "cell_type": "code",
   "execution_count": null,
   "metadata": {},
   "outputs": [],
   "source": [
    "# read the first dataset with pandas\n",
    "df = pd.read_csv(\"data/gdp_data.csv\")\n",
    "df.head()"
   ]
  },
  {
   "cell_type": "code",
   "execution_count": null,
   "metadata": {},
   "outputs": [],
   "source": [
    "df_years = pd.read_csv(\"data/gdp_data_years.csv\")\n",
    "df_years.head()"
   ]
  },
  {
   "cell_type": "markdown",
   "metadata": {
    "tags": [
     "10_min"
    ]
   },
   "source": [
    "## Data & chart types"
   ]
  },
  {
   "cell_type": "markdown",
   "metadata": {},
   "source": [
    "Nearly any dataset that you want to present or visualize will consist of variables that can be thought of in different ways. Recall from previous cases that we have both **categorical** and **numerical** variables. For example, in our dataset the variable `continent` is a **categorical** variable, because we can categorize countries by which continent they belong to, yet this categorization isn't inherently comparable - we don't know which order the continents go in (though we could invent a way, such as by total population or surface area).\n",
    "\n",
    "We also have the variable `population`, which is **numerical**. We can clearly order countries by population.\n",
    "\n",
    "While there are hundreds of different charts and variations of charts, the main charts we will focus on are:\n",
    "\n",
    "* Table\n",
    "* Bar chart\n",
    "* Pie chart\n",
    "* Scatterplot\n",
    "* Line chart\n",
    "* Box plot\n",
    "\n",
    "You should already be familiar with these from previous cases. Choosing which of these is most appropriate usually comes down to both what kind of data you have (categorical or numerical or both) and what kind of message you are trying to communicate. For example, you might want to show how your data changes over time, how it is distributed, or how two groups compare to each other. It's very common to see others misuse chart types, or present data badly even within a properly chosen chart."
   ]
  },
  {
   "cell_type": "markdown",
   "metadata": {
    "tags": [
     "45_min"
    ]
   },
   "source": [
    "## GDP, population, and life expectancy"
   ]
  },
  {
   "cell_type": "markdown",
   "metadata": {
    "tags": [
     "20_min"
    ]
   },
   "source": [
    "### Exercise 1:\n",
    "\n",
    "Look at the population of each continent (by summing the population of each country in that continent). Which continents are the most and least populous? Let's try visualizing the relative total population of each continent using:\n",
    "\n",
    "* A table\n",
    "* A bar chart\n",
    "* A pie chart\n",
    "\n",
    "Use `pandas` and the `.plot()` method on DataFrames for this. Make the images as meaningful as possible for your readers, so ensure that you add titles, descriptions, and any other important information to each visualization. Here are some guidelines to keep in mind:\n",
    "\n",
    "* The title of each plot should explain the *message* of the visualization, not just a description of the data. So instead of \"Population by Continent\", try to find the story behind the data and use that as the title of each graphic.\n",
    "* Use labels and legends as appropriate\n",
    "\n",
    "Explain the advantages and disadvantages of each approach."
   ]
  },
  {
   "cell_type": "markdown",
   "metadata": {
    "tags": [
     "ans_st"
    ]
   },
   "source": [
    "**Answer.**"
   ]
  },
  {
   "cell_type": "markdown",
   "metadata": {},
   "source": [
    "-------"
   ]
  },
  {
   "cell_type": "markdown",
   "metadata": {
    "tags": [
     "25_min"
    ]
   },
   "source": [
    "### Exercise 2\n",
    "\n",
    "Now that we've taken a quick look at the dataset and population by continent, let's start looking at the data we actually came for: the GDP of each country. We want to know how GDP affects life expectancy. You have a hypothesis that people in richer countries live longer.\n",
    "\n",
    "Create a scatterplot of GDP per capita vs. life expectancy. Then, create another one where points have been *colored* according to which continent they are on. Explain if your hypothesis is correct or not and any other interesting trends that you notice. Make additional plots to explain further aspects of the data as necessary.\n",
    "\n",
    "Once again, pay close attention to your labels and titles as you try to convey a lot of information in a relatively small space.\n",
    "\n",
    "Why is a scatterplot appropriate for this task?"
   ]
  },
  {
   "cell_type": "markdown",
   "metadata": {
    "tags": [
     "ans_st"
    ]
   },
   "source": [
    "**Answer.**"
   ]
  },
  {
   "cell_type": "markdown",
   "metadata": {},
   "source": [
    "-------"
   ]
  },
  {
   "cell_type": "markdown",
   "metadata": {
    "tags": [
     "60_min"
    ]
   },
   "source": [
    "## GDP trends over time\n",
    "\n",
    "So far, we've looked at data for a single point in time, so we have used bar charts and scatterplots to present it. Our second dataset includes data collected from the 1960s to the 2010s, so we will naturally turn towards line graphs.\n",
    "\n",
    "Note that the format of one column per year is a bit tricky to work with. You will probably need to use the **['transpose()'](https://pandas.pydata.org/pandas-docs/stable/reference/api/pandas.DataFrame.transpose.html)** function in `pandas` which also can be called by using the shortcut `df.T` (on a dataframe called `df`)."
   ]
  },
  {
   "cell_type": "markdown",
   "metadata": {
    "tags": [
     "10_min"
    ]
   },
   "source": [
    "### Exercise 3\n",
    "\n",
    "You remember that GDP has been growing over time, but you wonder by how much. Ignoring the country-level GDP breakdown for now, compute the total world GDP we have on record for each year. Explain why the plot you chose is appropriate. As always, take care to use good labels. What is one problem you might encounter with just summing up all the country-level GDPs to get the world GDP?"
   ]
  },
  {
   "cell_type": "markdown",
   "metadata": {
    "tags": [
     "ans_st"
    ]
   },
   "source": [
    "**Answer.**"
   ]
  },
  {
   "cell_type": "markdown",
   "metadata": {},
   "source": [
    "-------"
   ]
  },
  {
   "cell_type": "markdown",
   "metadata": {
    "tags": [
     "15_min"
    ]
   },
   "source": [
    "### Exercise 4\n",
    "People are often more interested in specific countries than in the world as a whole. Pick any five countries that you think might be interesting from the list and create a graph to compare how their GDPs have evolved over time. Explain any trends that you see."
   ]
  },
  {
   "cell_type": "markdown",
   "metadata": {
    "tags": [
     "ans_st"
    ]
   },
   "source": [
    "**Answer.**"
   ]
  },
  {
   "cell_type": "markdown",
   "metadata": {},
   "source": [
    "-------"
   ]
  },
  {
   "cell_type": "markdown",
   "metadata": {
    "tags": [
     "30_min"
    ]
   },
   "source": [
    "### Exercise 5\n",
    "\n",
    "Line charts are a good way to show movement over time, but we \"lost\" a lot of data in the above exercises looking only at total GDP growth across all countries. We did not really look at the individual GDPs of various countries. Of course, this came be quite cumbersome as there are a lot of countries!\n",
    "\n",
    "A good tradeoff between looking at the full distribution of a dataset and looking only at an aggregate is to use a [box plot](https://en.wikipedia.org/wiki/Box_plot). Create two box plots for all the years from 2005 onwards that summarize the distribution of GDPs for the 20 countries with the highest GDP.\n",
    "\n",
    "1. First, find the countries with the highest GDP, based on the 2019 data, and create a box plot for those\n",
    "2. Next, create a box plot which excludes the top 3 countries (USA, China, Japan) to make the data for the countries with a lower GDP easier to visualize.\n",
    "\n",
    "Explain any trends in the data and why the visualization choices you made are appropriate."
   ]
  },
  {
   "cell_type": "markdown",
   "metadata": {
    "tags": [
     "ans_st"
    ]
   },
   "source": [
    "**Answer.**"
   ]
  },
  {
   "cell_type": "markdown",
   "metadata": {},
   "source": [
    "-------"
   ]
  },
  {
   "cell_type": "markdown",
   "metadata": {
    "tags": [
     "3_min"
    ]
   },
   "source": [
    "## Conclusions\n",
    "\n",
    "GDP is a metric that has become controversial because it is a very crude way of measuring economic activity. However, it can provide an interesting lens to look at specific countries and how they relate to each other. After looking at correlations like \"people in richer countries live longer\" it's tempting to make a causation link (e.g. \"if poorer countries raise their GDP, their citizens will live longer\"), but correlation is not the same as causation.\n",
    "\n",
    "We saw that the USA and China dwarf most other countries in terms of GDP, and that Japan's once strong GDP growth has leveled off in the last few decades."
   ]
  },
  {
   "cell_type": "markdown",
   "metadata": {
    "tags": [
     "7_min"
    ]
   },
   "source": [
    "## Takeaways\n",
    "\n",
    "To presenting data well, you need to constantly keep two things in mind:\n",
    "\n",
    "1. Choose the correct way to visualize the data\n",
    "2. Make the story easy to understand by being careful with the presentation details such as titles and labels\n",
    "\n",
    "In this case, you saw that:\n",
    "\n",
    "* Bar charts are good for basic analysis, showing how categorical variables relate to numerical variables. In very specific circumstances, pie charts can also be used for this when you are interested in relative vs. absolute sizes\n",
    "* Scatterplots are used to show how to numerical variables relate to each other, and are good for looking at correlations\n",
    "* Line charts are almost always appropriate to show how continuous data changes over time\n",
    "* Box plots are a great tool if you need to show more than a basic summary (such as an average), but you don't want to plot the full distribution of each variable (which can be cumbersome and overly detailed)\n",
    "\n",
    "You also saw how important it is to get all of the details right when presenting data. It's very common for people to use wrong or misleading labels, or to use titles that don't add anything to the visualization. Always be careful that you are using the correct units, and clearly labeling what these are, while using the title to summarize the message behind the data."
   ]
  }
 ],
 "metadata": {
  "c1_recart": "6.3.0-57c20131aabc1dc2a8c675852d80a7da"
 },
 "nbformat": 4,
 "nbformat_minor": 4
}
