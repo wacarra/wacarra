{
 "cells": [
  {
   "cell_type": "markdown",
   "metadata": {},
   "source": [
    "# What patterns exist between energy consumption and generation?"
   ]
  },
  {
   "cell_type": "markdown",
   "metadata": {
    "tags": [
     "2_min"
    ]
   },
   "source": [
    "## Goals\n",
    "\n",
    "By the end of this case, you will be even more familiar with using `pandas` for data transformation. You'll also gain experience with how to generate data visualizations like heat maps, line plots, strip plots, and box plots in Python. For these, you'll use the `matplotlib` and `seaborn` libraries."
   ]
  },
  {
   "cell_type": "markdown",
   "metadata": {
    "tags": [
     "3_min"
    ]
   },
   "source": [
    "## Inspecting the datasets\n",
    "\n",
    "Let's start by importing our packages:"
   ]
  },
  {
   "cell_type": "code",
   "execution_count": 2,
   "metadata": {},
   "outputs": [
    {
     "name": "stdout",
     "output_type": "stream",
     "text": [
      "Collecting matplotlib\n",
      "  Using cached matplotlib-3.4.2-cp38-cp38-manylinux1_x86_64.whl (10.3 MB)\n",
      "Requirement already satisfied: python-dateutil>=2.7 in /opt/conda/lib/python3.8/site-packages (from matplotlib) (2.8.1)\n",
      "Collecting cycler>=0.10\n",
      "  Using cached cycler-0.10.0-py2.py3-none-any.whl (6.5 kB)\n",
      "Requirement already satisfied: pyparsing>=2.2.1 in /opt/conda/lib/python3.8/site-packages (from matplotlib) (2.4.7)\n",
      "Collecting pillow>=6.2.0\n",
      "  Using cached Pillow-8.2.0-cp38-cp38-manylinux1_x86_64.whl (3.0 MB)\n",
      "Requirement already satisfied: numpy>=1.16 in /opt/conda/lib/python3.8/site-packages (from matplotlib) (1.20.2)\n",
      "Collecting kiwisolver>=1.0.1\n",
      "  Using cached kiwisolver-1.3.1-cp38-cp38-manylinux1_x86_64.whl (1.2 MB)\n",
      "Requirement already satisfied: six in /opt/conda/lib/python3.8/site-packages (from cycler>=0.10->matplotlib) (1.15.0)\n",
      "Installing collected packages: pillow, kiwisolver, cycler, matplotlib\n",
      "Successfully installed cycler-0.10.0 kiwisolver-1.3.1 matplotlib-3.4.2 pillow-8.2.0\n"
     ]
    }
   ],
   "source": [
    "! pip install matplotlib"
   ]
  },
  {
   "cell_type": "code",
   "execution_count": 4,
   "metadata": {},
   "outputs": [
    {
     "name": "stdout",
     "output_type": "stream",
     "text": [
      "Collecting seaborn\n",
      "  Using cached seaborn-0.11.1-py3-none-any.whl (285 kB)\n",
      "Requirement already satisfied: numpy>=1.15 in /opt/conda/lib/python3.8/site-packages (from seaborn) (1.20.2)\n",
      "Collecting scipy>=1.0\n",
      "  Using cached scipy-1.6.3-cp38-cp38-manylinux1_x86_64.whl (27.2 MB)\n",
      "Requirement already satisfied: matplotlib>=2.2 in /opt/conda/lib/python3.8/site-packages (from seaborn) (3.4.2)\n",
      "Requirement already satisfied: pandas>=0.23 in /opt/conda/lib/python3.8/site-packages (from seaborn) (1.2.4)\n",
      "Requirement already satisfied: kiwisolver>=1.0.1 in /opt/conda/lib/python3.8/site-packages (from matplotlib>=2.2->seaborn) (1.3.1)\n",
      "Requirement already satisfied: python-dateutil>=2.7 in /opt/conda/lib/python3.8/site-packages (from matplotlib>=2.2->seaborn) (2.8.1)\n",
      "Requirement already satisfied: pyparsing>=2.2.1 in /opt/conda/lib/python3.8/site-packages (from matplotlib>=2.2->seaborn) (2.4.7)\n",
      "Requirement already satisfied: pillow>=6.2.0 in /opt/conda/lib/python3.8/site-packages (from matplotlib>=2.2->seaborn) (8.2.0)\n",
      "Requirement already satisfied: cycler>=0.10 in /opt/conda/lib/python3.8/site-packages (from matplotlib>=2.2->seaborn) (0.10.0)\n",
      "Requirement already satisfied: six in /opt/conda/lib/python3.8/site-packages (from cycler>=0.10->matplotlib>=2.2->seaborn) (1.15.0)\n",
      "Requirement already satisfied: pytz>=2017.3 in /opt/conda/lib/python3.8/site-packages (from pandas>=0.23->seaborn) (2021.1)\n",
      "Installing collected packages: scipy, seaborn\n",
      "Successfully installed scipy-1.6.3 seaborn-0.11.1\n"
     ]
    }
   ],
   "source": [
    "! pip install seaborn"
   ]
  },
  {
   "cell_type": "code",
   "execution_count": 5,
   "metadata": {},
   "outputs": [],
   "source": [
    "# Load packages\n",
    "import os\n",
    "import pandas as pd\n",
    "import numpy as np\n",
    "\n",
    "# Required for basic python plotting functionality\n",
    "import matplotlib.pyplot as plt\n",
    "\n",
    "# Advanced plotting functionality with seaborn\n",
    "import seaborn as sns\n",
    "\n",
    "sns.set(style=\"whitegrid\")  # can set style depending on how you'd like it to look"
   ]
  },
  {
   "cell_type": "markdown",
   "metadata": {},
   "source": [
    "And now the CSV files:"
   ]
  },
  {
   "cell_type": "code",
   "execution_count": 6,
   "metadata": {},
   "outputs": [],
   "source": [
    "# Load the data into python\n",
    "energy_df = pd.read_csv(\"data/energy_consumption.csv\")\n",
    "electricity_df = pd.read_csv(\"data/electricity_generation.csv\")"
   ]
  },
  {
   "cell_type": "markdown",
   "metadata": {},
   "source": [
    "As usual, we take a look at the head of each dataset:"
   ]
  },
  {
   "cell_type": "code",
   "execution_count": 7,
   "metadata": {},
   "outputs": [
    {
     "data": {
      "text/html": [
       "<div>\n",
       "<style scoped>\n",
       "    .dataframe tbody tr th:only-of-type {\n",
       "        vertical-align: middle;\n",
       "    }\n",
       "\n",
       "    .dataframe tbody tr th {\n",
       "        vertical-align: top;\n",
       "    }\n",
       "\n",
       "    .dataframe thead th {\n",
       "        text-align: right;\n",
       "    }\n",
       "</style>\n",
       "<table border=\"1\" class=\"dataframe\">\n",
       "  <thead>\n",
       "    <tr style=\"text-align: right;\">\n",
       "      <th></th>\n",
       "      <th>MSN</th>\n",
       "      <th>YYYYMM</th>\n",
       "      <th>Value</th>\n",
       "      <th>Column_Order</th>\n",
       "      <th>Description</th>\n",
       "      <th>Unit</th>\n",
       "    </tr>\n",
       "  </thead>\n",
       "  <tbody>\n",
       "    <tr>\n",
       "      <th>0</th>\n",
       "      <td>TXRCBUS</td>\n",
       "      <td>194913</td>\n",
       "      <td>4460.588</td>\n",
       "      <td>1</td>\n",
       "      <td>Primary Energy Consumed by the Residential Sector</td>\n",
       "      <td>Trillion Btu</td>\n",
       "    </tr>\n",
       "    <tr>\n",
       "      <th>1</th>\n",
       "      <td>TXRCBUS</td>\n",
       "      <td>195013</td>\n",
       "      <td>4829.528</td>\n",
       "      <td>1</td>\n",
       "      <td>Primary Energy Consumed by the Residential Sector</td>\n",
       "      <td>Trillion Btu</td>\n",
       "    </tr>\n",
       "    <tr>\n",
       "      <th>2</th>\n",
       "      <td>TXRCBUS</td>\n",
       "      <td>195113</td>\n",
       "      <td>5104.680</td>\n",
       "      <td>1</td>\n",
       "      <td>Primary Energy Consumed by the Residential Sector</td>\n",
       "      <td>Trillion Btu</td>\n",
       "    </tr>\n",
       "    <tr>\n",
       "      <th>3</th>\n",
       "      <td>TXRCBUS</td>\n",
       "      <td>195213</td>\n",
       "      <td>5158.406</td>\n",
       "      <td>1</td>\n",
       "      <td>Primary Energy Consumed by the Residential Sector</td>\n",
       "      <td>Trillion Btu</td>\n",
       "    </tr>\n",
       "    <tr>\n",
       "      <th>4</th>\n",
       "      <td>TXRCBUS</td>\n",
       "      <td>195313</td>\n",
       "      <td>5052.749</td>\n",
       "      <td>1</td>\n",
       "      <td>Primary Energy Consumed by the Residential Sector</td>\n",
       "      <td>Trillion Btu</td>\n",
       "    </tr>\n",
       "  </tbody>\n",
       "</table>\n",
       "</div>"
      ],
      "text/plain": [
       "       MSN  YYYYMM     Value  Column_Order  \\\n",
       "0  TXRCBUS  194913  4460.588             1   \n",
       "1  TXRCBUS  195013  4829.528             1   \n",
       "2  TXRCBUS  195113  5104.680             1   \n",
       "3  TXRCBUS  195213  5158.406             1   \n",
       "4  TXRCBUS  195313  5052.749             1   \n",
       "\n",
       "                                         Description          Unit  \n",
       "0  Primary Energy Consumed by the Residential Sector  Trillion Btu  \n",
       "1  Primary Energy Consumed by the Residential Sector  Trillion Btu  \n",
       "2  Primary Energy Consumed by the Residential Sector  Trillion Btu  \n",
       "3  Primary Energy Consumed by the Residential Sector  Trillion Btu  \n",
       "4  Primary Energy Consumed by the Residential Sector  Trillion Btu  "
      ]
     },
     "execution_count": 7,
     "metadata": {},
     "output_type": "execute_result"
    }
   ],
   "source": [
    "# Look at energy (consumption) data\n",
    "energy_df.head()"
   ]
  },
  {
   "cell_type": "code",
   "execution_count": 8,
   "metadata": {},
   "outputs": [
    {
     "data": {
      "text/html": [
       "<div>\n",
       "<style scoped>\n",
       "    .dataframe tbody tr th:only-of-type {\n",
       "        vertical-align: middle;\n",
       "    }\n",
       "\n",
       "    .dataframe tbody tr th {\n",
       "        vertical-align: top;\n",
       "    }\n",
       "\n",
       "    .dataframe thead th {\n",
       "        text-align: right;\n",
       "    }\n",
       "</style>\n",
       "<table border=\"1\" class=\"dataframe\">\n",
       "  <thead>\n",
       "    <tr style=\"text-align: right;\">\n",
       "      <th></th>\n",
       "      <th>MSN</th>\n",
       "      <th>YYYYMM</th>\n",
       "      <th>Value</th>\n",
       "      <th>Column_Order</th>\n",
       "      <th>Description</th>\n",
       "      <th>Unit</th>\n",
       "    </tr>\n",
       "  </thead>\n",
       "  <tbody>\n",
       "    <tr>\n",
       "      <th>0</th>\n",
       "      <td>CLETPUS</td>\n",
       "      <td>194913</td>\n",
       "      <td>135451.32</td>\n",
       "      <td>1</td>\n",
       "      <td>Electricity Net Generation From Coal, All Sectors</td>\n",
       "      <td>Million Kilowatthours</td>\n",
       "    </tr>\n",
       "    <tr>\n",
       "      <th>1</th>\n",
       "      <td>CLETPUS</td>\n",
       "      <td>195013</td>\n",
       "      <td>154519.994</td>\n",
       "      <td>1</td>\n",
       "      <td>Electricity Net Generation From Coal, All Sectors</td>\n",
       "      <td>Million Kilowatthours</td>\n",
       "    </tr>\n",
       "    <tr>\n",
       "      <th>2</th>\n",
       "      <td>CLETPUS</td>\n",
       "      <td>195113</td>\n",
       "      <td>185203.657</td>\n",
       "      <td>1</td>\n",
       "      <td>Electricity Net Generation From Coal, All Sectors</td>\n",
       "      <td>Million Kilowatthours</td>\n",
       "    </tr>\n",
       "    <tr>\n",
       "      <th>3</th>\n",
       "      <td>CLETPUS</td>\n",
       "      <td>195213</td>\n",
       "      <td>195436.666</td>\n",
       "      <td>1</td>\n",
       "      <td>Electricity Net Generation From Coal, All Sectors</td>\n",
       "      <td>Million Kilowatthours</td>\n",
       "    </tr>\n",
       "    <tr>\n",
       "      <th>4</th>\n",
       "      <td>CLETPUS</td>\n",
       "      <td>195313</td>\n",
       "      <td>218846.325</td>\n",
       "      <td>1</td>\n",
       "      <td>Electricity Net Generation From Coal, All Sectors</td>\n",
       "      <td>Million Kilowatthours</td>\n",
       "    </tr>\n",
       "  </tbody>\n",
       "</table>\n",
       "</div>"
      ],
      "text/plain": [
       "       MSN  YYYYMM       Value  Column_Order  \\\n",
       "0  CLETPUS  194913   135451.32             1   \n",
       "1  CLETPUS  195013  154519.994             1   \n",
       "2  CLETPUS  195113  185203.657             1   \n",
       "3  CLETPUS  195213  195436.666             1   \n",
       "4  CLETPUS  195313  218846.325             1   \n",
       "\n",
       "                                         Description                   Unit  \n",
       "0  Electricity Net Generation From Coal, All Sectors  Million Kilowatthours  \n",
       "1  Electricity Net Generation From Coal, All Sectors  Million Kilowatthours  \n",
       "2  Electricity Net Generation From Coal, All Sectors  Million Kilowatthours  \n",
       "3  Electricity Net Generation From Coal, All Sectors  Million Kilowatthours  \n",
       "4  Electricity Net Generation From Coal, All Sectors  Million Kilowatthours  "
      ]
     },
     "execution_count": 8,
     "metadata": {},
     "output_type": "execute_result"
    }
   ],
   "source": [
    "# Look at electricity (generation) data\n",
    "electricity_df.head()"
   ]
  },
  {
   "cell_type": "markdown",
   "metadata": {
    "tags": [
     "1_min"
    ]
   },
   "source": [
    "## Pre-processing data to simplify analysis moving forward\n",
    "\n",
    "Data cleaning (i.e. data wrangling or data munging) is one of the most important first steps that you take when you analyze a dataset. Our energy dataset was not an exception to this. Recall what we had to do in lecture:\n",
    "\n",
    "1. Remove missing values.\n",
    "2. Shorten the descriptions.\n",
    "3. Remove unnecessary columns.\n",
    "4. Split the `YYYYMM` column.\n",
    "5. Understand month 13 and remove it from the dataset.\n",
    "\n",
    "Let's go over these one-by-one:"
   ]
  },
  {
   "cell_type": "markdown",
   "metadata": {
    "tags": [
     "10_min"
    ]
   },
   "source": [
    "### Removing missing values\n",
    "\n",
    "Before you remove missing values, you first need to detect them. The hint that made us realize we had missing data was that the `Value` column, instead of being of type `float64` as it would be logical, was of type `object`. That rose our suspicions, which were later confirmed when we found out that hidden amongst the numbers there was a string, `Not Available`, that made Python treat this numeric feature as a text feature.\n",
    "\n",
    "To inspect the data types of a DataFrame, you can use the **`.dtypes`** attribute (it is not a method, so you don't add parenthesis):"
   ]
  },
  {
   "cell_type": "code",
   "execution_count": 9,
   "metadata": {},
   "outputs": [
    {
     "data": {
      "text/plain": [
       "MSN             object\n",
       "YYYYMM           int64\n",
       "Value           object\n",
       "Column_Order     int64\n",
       "Description     object\n",
       "Unit            object\n",
       "dtype: object"
      ]
     },
     "execution_count": 9,
     "metadata": {},
     "output_type": "execute_result"
    }
   ],
   "source": [
    "electricity_df.dtypes"
   ]
  },
  {
   "cell_type": "markdown",
   "metadata": {},
   "source": [
    "A nifty hack to detect if a numeric column contains text is by sorting it. Here we use **`.sort_values()`**. Text values will then appear either at the top or the bottom of the sorted Series:"
   ]
  },
  {
   "cell_type": "code",
   "execution_count": 10,
   "metadata": {},
   "outputs": [
    {
     "data": {
      "text/plain": [
       "7172           -0.001\n",
       "7177           -0.004\n",
       "7160           -0.009\n",
       "6498           -0.016\n",
       "6487           -0.069\n",
       "            ...      \n",
       "2116    Not Available\n",
       "2115    Not Available\n",
       "2114    Not Available\n",
       "2094    Not Available\n",
       "6418    Not Available\n",
       "Name: Value, Length: 8216, dtype: object"
      ]
     },
     "execution_count": 10,
     "metadata": {},
     "output_type": "execute_result"
    }
   ],
   "source": [
    "electricity_df[\"Value\"].sort_values() # To Z-A sort, put ascending=False inside the parenthesis"
   ]
  },
  {
   "cell_type": "markdown",
   "metadata": {},
   "source": [
    "There's definitely some text there!\n",
    "\n",
    "Let's replace the `Not Available` string with a native missing value representation. Here we'll use `numpy`'s `np.nan`. (An even better option is `pandas`'s `pd.NA`, but this one only works in newer versions of `pandas`.) To replace values in a `pandas` Series, you use, quite unsurprisingly, the **`.replace()`** method (the first argument is the value you are replacing, and the second argument is the value you are replacing it with):"
   ]
  },
  {
   "cell_type": "code",
   "execution_count": 11,
   "metadata": {},
   "outputs": [],
   "source": [
    "electricity_df[\"Value\"] = electricity_df[\"Value\"].replace(\"Not Available\", np.nan)"
   ]
  },
  {
   "cell_type": "markdown",
   "metadata": {
    "tags": [
     "10_min"
    ]
   },
   "source": [
    "### Finishing up with the `Value` column\n",
    "\n",
    "Let's see if we succeeded. For this, we will use the **`.isna()`** and **`.value_counts()`** methods. `.isna()` creates a boolean Series in which there is a `True` if the corresponding value in `Value` is a `np.nan`, and a `False` otherwise. Then, `.value_counts()` counts the instances of `True` and `False` in that Boolean Series. This way, we can easily detect that there are 830 missing cells in our `Value` column:"
   ]
  },
  {
   "cell_type": "code",
   "execution_count": 12,
   "metadata": {},
   "outputs": [
    {
     "data": {
      "text/plain": [
       "False    7386\n",
       "True      830\n",
       "Name: Value, dtype: int64"
      ]
     },
     "execution_count": 12,
     "metadata": {},
     "output_type": "execute_result"
    }
   ],
   "source": [
    "electricity_df[\"Value\"].isna().value_counts()"
   ]
  },
  {
   "cell_type": "markdown",
   "metadata": {},
   "source": [
    "Now, we use the **`.dropna()`** method to remove all rows in which at least one entry is missing:"
   ]
  },
  {
   "cell_type": "code",
   "execution_count": 13,
   "metadata": {},
   "outputs": [],
   "source": [
    "energy_df = energy_df.dropna()\n",
    "electricity_df = electricity_df.dropna()"
   ]
  },
  {
   "cell_type": "markdown",
   "metadata": {},
   "source": [
    "Finally, we convert `Value` to the `float64` data type, and we're done with our first task:"
   ]
  },
  {
   "cell_type": "code",
   "execution_count": 14,
   "metadata": {},
   "outputs": [],
   "source": [
    "electricity_df[\"Value\"] = electricity_df[\"Value\"].astype(float)"
   ]
  },
  {
   "cell_type": "code",
   "execution_count": 15,
   "metadata": {},
   "outputs": [
    {
     "data": {
      "text/plain": [
       "MSN              object\n",
       "YYYYMM            int64\n",
       "Value           float64\n",
       "Column_Order      int64\n",
       "Description      object\n",
       "Unit             object\n",
       "dtype: object"
      ]
     },
     "execution_count": 15,
     "metadata": {},
     "output_type": "execute_result"
    }
   ],
   "source": [
    "electricity_df.dtypes"
   ]
  },
  {
   "cell_type": "markdown",
   "metadata": {},
   "source": [
    "We've just introduced a lot of new methods! Let's take a moment to recap:\n",
    "\n",
    "* `.dtypes` lets you access the data types of the columns of a DataFrame.\n",
    "* `.sort_values()` sorts a Series.\n",
    "* `.replace()` is used to replace values (including replacing strings with the `np.nan` missing value representation).\n",
    "* `.isna()` and `.value_counts()` used together can tell us how many missing values we have in a Series."
   ]
  },
  {
   "cell_type": "markdown",
   "metadata": {
    "tags": [
     "1_min"
    ]
   },
   "source": [
    "### Renaming descriptions\n",
    "\n",
    "Did you know that `.replace()` can also take dictionaries as input? This allows us to replace lots of `{original:replacement}` pairs with a single operation. "
   ]
  },
  {
   "cell_type": "markdown",
   "metadata": {
    "tags": [
     "5_min"
    ]
   },
   "source": [
    "### Example 1\n",
    "\n",
    "Use the `.replace()` method with the below dictionaries to rename the values in the `Description` columns of `energy_df` and `electricity_df`."
   ]
  },
  {
   "cell_type": "code",
   "execution_count": 16,
   "metadata": {},
   "outputs": [],
   "source": [
    "energy_short_dict = {\n",
    "    \"Primary Energy Consumed by the Commercial Sector\": \"PEC Commercial Sector\",\n",
    "    \"Primary Energy Consumed by the Electric Power Sector\": \"PEC Electric Power Sector\",\n",
    "    \"Primary Energy Consumed by the Industrial Sector\": \"PEC Industrial Sector\",\n",
    "    \"Primary Energy Consumed by the Residential Sector\": \"PEC Residential Sector\",\n",
    "    \"Primary Energy Consumed by the Transportation Sector\": \"PEC Transportation Sector\",\n",
    "    \"Primary Energy Consumption Total\": \"PEC Total\",\n",
    "    \"Total Energy Consumed by the Commercial Sector\": \"TEC Commercial Sector\",\n",
    "    \"Total Energy Consumed by the Industrial Sector\": \"TEC Industrial Sector\",\n",
    "    \"Total Energy Consumed by the Residential Sector\": \"TEC Residential Sector\",\n",
    "    \"Total Energy Consumed by the Transportation Sector\": \"TEC Transportation Sector\",\n",
    "}\n",
    "\n",
    "\n",
    "electricity_short_dict = {\n",
    "    \"Electricity Net Generation From Coal, All Sectors\": \"ENG Coal\",\n",
    "    \"Electricity Net Generation From Conventional Hydroelectric Power, All Sectors\": \"ENG HE Power\",\n",
    "    \"Electricity Net Generation From Geothermal, All Sectors\": \"ENG Geothermal\",\n",
    "    \"Electricity Net Generation From Hydroelectric Pumped Storage, All Sectors\": \"ENG HE Pumped Storage\",\n",
    "    \"Electricity Net Generation From Natural Gas, All Sectors\": \"ENG Natural Gas\",\n",
    "    \"Electricity Net Generation From Nuclear Electric Power, All Sectors\": \"ENG Nuclear Electric Power\",\n",
    "    \"Electricity Net Generation From Other Gases, All Sectors\": \"ENG Other Gases\",\n",
    "    \"Electricity Net Generation From Petroleum, All Sectors\": \"ENG Petroleum\",\n",
    "    \"Electricity Net Generation From Solar, All Sectors\": \"ENG Solar\",\n",
    "    \"Electricity Net Generation From Waste, All Sectors\": \"ENG Waste\",\n",
    "    \"Electricity Net Generation From Wind, All Sectors\": \"ENG Wind\",\n",
    "    \"Electricity Net Generation From Wood, All Sectors\": \"ENG Wood\",\n",
    "    \"Electricity Net Generation Total (including from sources not shown), All Sectors\": \"ENG Total\",\n",
    "}"
   ]
  },
  {
   "cell_type": "markdown",
   "metadata": {},
   "source": [
    "**Answer.** Shown below:"
   ]
  },
  {
   "cell_type": "code",
   "execution_count": 17,
   "metadata": {},
   "outputs": [],
   "source": [
    "energy_df[\"Description\"] = energy_df[\"Description\"].replace(energy_short_dict)\n",
    "electricity_df[\"Description\"] = electricity_df[\"Description\"].replace(electricity_short_dict)"
   ]
  },
  {
   "cell_type": "markdown",
   "metadata": {
    "tags": [
     "5_min"
    ]
   },
   "source": [
    "### Exercise 1\n",
    "\n",
    "Create a replacement dictionary and then change `Trillion Btu` in `energy_df` for `Trillion British Thermal Units`."
   ]
  },
  {
   "cell_type": "markdown",
   "metadata": {
    "tags": [
     "ans_st"
    ]
   },
   "source": [
    "**Answer.**"
   ]
  },
  {
   "cell_type": "code",
   "execution_count": 19,
   "metadata": {},
   "outputs": [
    {
     "data": {
      "text/plain": [
       "array(['Trillion Btu'], dtype=object)"
      ]
     },
     "execution_count": 19,
     "metadata": {},
     "output_type": "execute_result"
    }
   ],
   "source": [
    "energy_df['Unit'].unique()"
   ]
  },
  {
   "cell_type": "code",
   "execution_count": 22,
   "metadata": {},
   "outputs": [],
   "source": [
    "TBU_dict = {\"Trillion Btu\": \"Trillion British Thermal Units\"}"
   ]
  },
  {
   "cell_type": "code",
   "execution_count": 25,
   "metadata": {},
   "outputs": [
    {
     "data": {
      "text/html": [
       "<div>\n",
       "<style scoped>\n",
       "    .dataframe tbody tr th:only-of-type {\n",
       "        vertical-align: middle;\n",
       "    }\n",
       "\n",
       "    .dataframe tbody tr th {\n",
       "        vertical-align: top;\n",
       "    }\n",
       "\n",
       "    .dataframe thead th {\n",
       "        text-align: right;\n",
       "    }\n",
       "</style>\n",
       "<table border=\"1\" class=\"dataframe\">\n",
       "  <thead>\n",
       "    <tr style=\"text-align: right;\">\n",
       "      <th></th>\n",
       "      <th>MSN</th>\n",
       "      <th>YYYYMM</th>\n",
       "      <th>Value</th>\n",
       "      <th>Column_Order</th>\n",
       "      <th>Description</th>\n",
       "      <th>Unit</th>\n",
       "    </tr>\n",
       "  </thead>\n",
       "  <tbody>\n",
       "    <tr>\n",
       "      <th>0</th>\n",
       "      <td>TXRCBUS</td>\n",
       "      <td>194913</td>\n",
       "      <td>4460.588</td>\n",
       "      <td>1</td>\n",
       "      <td>PEC Residential Sector</td>\n",
       "      <td>Trillion British Thermal Units</td>\n",
       "    </tr>\n",
       "    <tr>\n",
       "      <th>1</th>\n",
       "      <td>TXRCBUS</td>\n",
       "      <td>195013</td>\n",
       "      <td>4829.528</td>\n",
       "      <td>1</td>\n",
       "      <td>PEC Residential Sector</td>\n",
       "      <td>Trillion British Thermal Units</td>\n",
       "    </tr>\n",
       "    <tr>\n",
       "      <th>2</th>\n",
       "      <td>TXRCBUS</td>\n",
       "      <td>195113</td>\n",
       "      <td>5104.680</td>\n",
       "      <td>1</td>\n",
       "      <td>PEC Residential Sector</td>\n",
       "      <td>Trillion British Thermal Units</td>\n",
       "    </tr>\n",
       "    <tr>\n",
       "      <th>3</th>\n",
       "      <td>TXRCBUS</td>\n",
       "      <td>195213</td>\n",
       "      <td>5158.406</td>\n",
       "      <td>1</td>\n",
       "      <td>PEC Residential Sector</td>\n",
       "      <td>Trillion British Thermal Units</td>\n",
       "    </tr>\n",
       "    <tr>\n",
       "      <th>4</th>\n",
       "      <td>TXRCBUS</td>\n",
       "      <td>195313</td>\n",
       "      <td>5052.749</td>\n",
       "      <td>1</td>\n",
       "      <td>PEC Residential Sector</td>\n",
       "      <td>Trillion British Thermal Units</td>\n",
       "    </tr>\n",
       "  </tbody>\n",
       "</table>\n",
       "</div>"
      ],
      "text/plain": [
       "       MSN  YYYYMM     Value  Column_Order             Description  \\\n",
       "0  TXRCBUS  194913  4460.588             1  PEC Residential Sector   \n",
       "1  TXRCBUS  195013  4829.528             1  PEC Residential Sector   \n",
       "2  TXRCBUS  195113  5104.680             1  PEC Residential Sector   \n",
       "3  TXRCBUS  195213  5158.406             1  PEC Residential Sector   \n",
       "4  TXRCBUS  195313  5052.749             1  PEC Residential Sector   \n",
       "\n",
       "                             Unit  \n",
       "0  Trillion British Thermal Units  \n",
       "1  Trillion British Thermal Units  \n",
       "2  Trillion British Thermal Units  \n",
       "3  Trillion British Thermal Units  \n",
       "4  Trillion British Thermal Units  "
      ]
     },
     "execution_count": 25,
     "metadata": {},
     "output_type": "execute_result"
    }
   ],
   "source": [
    "energy_df[\"Unit\"] = energy_df[\"Unit\"].replace(TBU_dict)\n",
    "energy_df.head()"
   ]
  },
  {
   "cell_type": "markdown",
   "metadata": {},
   "source": [
    "-------"
   ]
  },
  {
   "cell_type": "markdown",
   "metadata": {
    "tags": [
     "4_min"
    ]
   },
   "source": [
    "### Removing unnecessary columns\n",
    "\n",
    "This one is even easier than the previous two. To drop a column from a DataFrame, you use the **`.drop()`** method:"
   ]
  },
  {
   "cell_type": "code",
   "execution_count": 26,
   "metadata": {},
   "outputs": [
    {
     "data": {
      "text/html": [
       "<div>\n",
       "<style scoped>\n",
       "    .dataframe tbody tr th:only-of-type {\n",
       "        vertical-align: middle;\n",
       "    }\n",
       "\n",
       "    .dataframe tbody tr th {\n",
       "        vertical-align: top;\n",
       "    }\n",
       "\n",
       "    .dataframe thead th {\n",
       "        text-align: right;\n",
       "    }\n",
       "</style>\n",
       "<table border=\"1\" class=\"dataframe\">\n",
       "  <thead>\n",
       "    <tr style=\"text-align: right;\">\n",
       "      <th></th>\n",
       "      <th>YYYYMM</th>\n",
       "      <th>Value</th>\n",
       "      <th>Description</th>\n",
       "      <th>Unit</th>\n",
       "    </tr>\n",
       "  </thead>\n",
       "  <tbody>\n",
       "    <tr>\n",
       "      <th>0</th>\n",
       "      <td>194913</td>\n",
       "      <td>4460.588</td>\n",
       "      <td>PEC Residential Sector</td>\n",
       "      <td>Trillion British Thermal Units</td>\n",
       "    </tr>\n",
       "    <tr>\n",
       "      <th>1</th>\n",
       "      <td>195013</td>\n",
       "      <td>4829.528</td>\n",
       "      <td>PEC Residential Sector</td>\n",
       "      <td>Trillion British Thermal Units</td>\n",
       "    </tr>\n",
       "    <tr>\n",
       "      <th>2</th>\n",
       "      <td>195113</td>\n",
       "      <td>5104.680</td>\n",
       "      <td>PEC Residential Sector</td>\n",
       "      <td>Trillion British Thermal Units</td>\n",
       "    </tr>\n",
       "    <tr>\n",
       "      <th>3</th>\n",
       "      <td>195213</td>\n",
       "      <td>5158.406</td>\n",
       "      <td>PEC Residential Sector</td>\n",
       "      <td>Trillion British Thermal Units</td>\n",
       "    </tr>\n",
       "    <tr>\n",
       "      <th>4</th>\n",
       "      <td>195313</td>\n",
       "      <td>5052.749</td>\n",
       "      <td>PEC Residential Sector</td>\n",
       "      <td>Trillion British Thermal Units</td>\n",
       "    </tr>\n",
       "  </tbody>\n",
       "</table>\n",
       "</div>"
      ],
      "text/plain": [
       "   YYYYMM     Value             Description                            Unit\n",
       "0  194913  4460.588  PEC Residential Sector  Trillion British Thermal Units\n",
       "1  195013  4829.528  PEC Residential Sector  Trillion British Thermal Units\n",
       "2  195113  5104.680  PEC Residential Sector  Trillion British Thermal Units\n",
       "3  195213  5158.406  PEC Residential Sector  Trillion British Thermal Units\n",
       "4  195313  5052.749  PEC Residential Sector  Trillion British Thermal Units"
      ]
     },
     "execution_count": 26,
     "metadata": {},
     "output_type": "execute_result"
    }
   ],
   "source": [
    "energy_df = energy_df.drop(columns=[\"MSN\", \"Column_Order\"])\n",
    "electricity_df = electricity_df.drop(columns=[\"MSN\", \"Column_Order\"])\n",
    "\n",
    "# Making sure it worked -- hooray!\n",
    "energy_df.head()"
   ]
  },
  {
   "cell_type": "markdown",
   "metadata": {
    "tags": [
     "7_min"
    ]
   },
   "source": [
    "### Splitting the `YYYYMM` column\n",
    "\n",
    "Sometimes you have IDs or dates in a format that contains valuable but disparate bits of information squeezed together as a single string. For instance:\n",
    "\n",
    "* `FordMustang2019`. This contains three features: `Ford` (make), `Mustang` (model), and `2019` (year).\n",
    "* `SamsungGalaxy`. This has two: `Samsung` (make) and `Galaxy` (model).\n",
    "* `199901`. Here we have a year (`1999`) and a month (`01`). This is what we have in this dataset.\n",
    "\n",
    "One clever way to separate the features is by using string methods in `pandas`. You access them appending `.str` to the Series and then calling the method as such. In this case, we want to split `199901` into `1999` and `01`, so one good strategy would be to split the string right after the fourth character. You might remember from a previous case that if you want to take the first 4 characters of a string, you can slice it with `[0:4]`. Let's do that and get the years (we had first to convert `YYYYMM` into a string column because it was originally stored as an integer column):"
   ]
  },
  {
   "cell_type": "code",
   "execution_count": 27,
   "metadata": {},
   "outputs": [
    {
     "data": {
      "text/html": [
       "<div>\n",
       "<style scoped>\n",
       "    .dataframe tbody tr th:only-of-type {\n",
       "        vertical-align: middle;\n",
       "    }\n",
       "\n",
       "    .dataframe tbody tr th {\n",
       "        vertical-align: top;\n",
       "    }\n",
       "\n",
       "    .dataframe thead th {\n",
       "        text-align: right;\n",
       "    }\n",
       "</style>\n",
       "<table border=\"1\" class=\"dataframe\">\n",
       "  <thead>\n",
       "    <tr style=\"text-align: right;\">\n",
       "      <th></th>\n",
       "      <th>YYYYMM</th>\n",
       "      <th>Value</th>\n",
       "      <th>Description</th>\n",
       "      <th>Unit</th>\n",
       "      <th>YYYY</th>\n",
       "    </tr>\n",
       "  </thead>\n",
       "  <tbody>\n",
       "    <tr>\n",
       "      <th>0</th>\n",
       "      <td>194913</td>\n",
       "      <td>4460.588</td>\n",
       "      <td>PEC Residential Sector</td>\n",
       "      <td>Trillion British Thermal Units</td>\n",
       "      <td>1949</td>\n",
       "    </tr>\n",
       "    <tr>\n",
       "      <th>1</th>\n",
       "      <td>195013</td>\n",
       "      <td>4829.528</td>\n",
       "      <td>PEC Residential Sector</td>\n",
       "      <td>Trillion British Thermal Units</td>\n",
       "      <td>1950</td>\n",
       "    </tr>\n",
       "    <tr>\n",
       "      <th>2</th>\n",
       "      <td>195113</td>\n",
       "      <td>5104.680</td>\n",
       "      <td>PEC Residential Sector</td>\n",
       "      <td>Trillion British Thermal Units</td>\n",
       "      <td>1951</td>\n",
       "    </tr>\n",
       "    <tr>\n",
       "      <th>3</th>\n",
       "      <td>195213</td>\n",
       "      <td>5158.406</td>\n",
       "      <td>PEC Residential Sector</td>\n",
       "      <td>Trillion British Thermal Units</td>\n",
       "      <td>1952</td>\n",
       "    </tr>\n",
       "    <tr>\n",
       "      <th>4</th>\n",
       "      <td>195313</td>\n",
       "      <td>5052.749</td>\n",
       "      <td>PEC Residential Sector</td>\n",
       "      <td>Trillion British Thermal Units</td>\n",
       "      <td>1953</td>\n",
       "    </tr>\n",
       "  </tbody>\n",
       "</table>\n",
       "</div>"
      ],
      "text/plain": [
       "   YYYYMM     Value             Description                            Unit  \\\n",
       "0  194913  4460.588  PEC Residential Sector  Trillion British Thermal Units   \n",
       "1  195013  4829.528  PEC Residential Sector  Trillion British Thermal Units   \n",
       "2  195113  5104.680  PEC Residential Sector  Trillion British Thermal Units   \n",
       "3  195213  5158.406  PEC Residential Sector  Trillion British Thermal Units   \n",
       "4  195313  5052.749  PEC Residential Sector  Trillion British Thermal Units   \n",
       "\n",
       "   YYYY  \n",
       "0  1949  \n",
       "1  1950  \n",
       "2  1951  \n",
       "3  1952  \n",
       "4  1953  "
      ]
     },
     "execution_count": 27,
     "metadata": {},
     "output_type": "execute_result"
    }
   ],
   "source": [
    "energy_df[\"YYYYMM\"] = energy_df[\"YYYYMM\"].astype(str)\n",
    "energy_df[\"YYYY\"] = energy_df[\"YYYYMM\"].str[0:4] # Notice that we wrote .str before slicing\n",
    "energy_df.head()"
   ]
  },
  {
   "cell_type": "markdown",
   "metadata": {},
   "source": [
    "Let's do the same for the `electricity_df` DataFrame:"
   ]
  },
  {
   "cell_type": "code",
   "execution_count": 28,
   "metadata": {},
   "outputs": [],
   "source": [
    "electricity_df[\"YYYYMM\"] = electricity_df[\"YYYYMM\"].astype(str)\n",
    "electricity_df[\"YYYY\"] = electricity_df[\"YYYYMM\"].str[0:4]"
   ]
  },
  {
   "cell_type": "markdown",
   "metadata": {
    "tags": [
     "8_min"
    ]
   },
   "source": [
    "### Exercise 2\n",
    "\n",
    "Get the months and add them to both DataFrames as the `MM` column.\n",
    "\n",
    "**Hint:** You can use [negative slicing with strings](https://www.w3schools.com/python/gloss_python_string_negative_indexing.asp) as well!"
   ]
  },
  {
   "cell_type": "markdown",
   "metadata": {},
   "source": [
    "**Answer.** Shown below:"
   ]
  },
  {
   "cell_type": "code",
   "execution_count": 29,
   "metadata": {},
   "outputs": [
    {
     "data": {
      "text/html": [
       "<div>\n",
       "<style scoped>\n",
       "    .dataframe tbody tr th:only-of-type {\n",
       "        vertical-align: middle;\n",
       "    }\n",
       "\n",
       "    .dataframe tbody tr th {\n",
       "        vertical-align: top;\n",
       "    }\n",
       "\n",
       "    .dataframe thead th {\n",
       "        text-align: right;\n",
       "    }\n",
       "</style>\n",
       "<table border=\"1\" class=\"dataframe\">\n",
       "  <thead>\n",
       "    <tr style=\"text-align: right;\">\n",
       "      <th></th>\n",
       "      <th>YYYYMM</th>\n",
       "      <th>Value</th>\n",
       "      <th>Description</th>\n",
       "      <th>Unit</th>\n",
       "      <th>YYYY</th>\n",
       "      <th>MM</th>\n",
       "    </tr>\n",
       "  </thead>\n",
       "  <tbody>\n",
       "    <tr>\n",
       "      <th>0</th>\n",
       "      <td>194913</td>\n",
       "      <td>4460.588</td>\n",
       "      <td>PEC Residential Sector</td>\n",
       "      <td>Trillion British Thermal Units</td>\n",
       "      <td>1949</td>\n",
       "      <td>13</td>\n",
       "    </tr>\n",
       "    <tr>\n",
       "      <th>1</th>\n",
       "      <td>195013</td>\n",
       "      <td>4829.528</td>\n",
       "      <td>PEC Residential Sector</td>\n",
       "      <td>Trillion British Thermal Units</td>\n",
       "      <td>1950</td>\n",
       "      <td>13</td>\n",
       "    </tr>\n",
       "    <tr>\n",
       "      <th>2</th>\n",
       "      <td>195113</td>\n",
       "      <td>5104.680</td>\n",
       "      <td>PEC Residential Sector</td>\n",
       "      <td>Trillion British Thermal Units</td>\n",
       "      <td>1951</td>\n",
       "      <td>13</td>\n",
       "    </tr>\n",
       "    <tr>\n",
       "      <th>3</th>\n",
       "      <td>195213</td>\n",
       "      <td>5158.406</td>\n",
       "      <td>PEC Residential Sector</td>\n",
       "      <td>Trillion British Thermal Units</td>\n",
       "      <td>1952</td>\n",
       "      <td>13</td>\n",
       "    </tr>\n",
       "    <tr>\n",
       "      <th>4</th>\n",
       "      <td>195313</td>\n",
       "      <td>5052.749</td>\n",
       "      <td>PEC Residential Sector</td>\n",
       "      <td>Trillion British Thermal Units</td>\n",
       "      <td>1953</td>\n",
       "      <td>13</td>\n",
       "    </tr>\n",
       "  </tbody>\n",
       "</table>\n",
       "</div>"
      ],
      "text/plain": [
       "   YYYYMM     Value             Description                            Unit  \\\n",
       "0  194913  4460.588  PEC Residential Sector  Trillion British Thermal Units   \n",
       "1  195013  4829.528  PEC Residential Sector  Trillion British Thermal Units   \n",
       "2  195113  5104.680  PEC Residential Sector  Trillion British Thermal Units   \n",
       "3  195213  5158.406  PEC Residential Sector  Trillion British Thermal Units   \n",
       "4  195313  5052.749  PEC Residential Sector  Trillion British Thermal Units   \n",
       "\n",
       "   YYYY  MM  \n",
       "0  1949  13  \n",
       "1  1950  13  \n",
       "2  1951  13  \n",
       "3  1952  13  \n",
       "4  1953  13  "
      ]
     },
     "execution_count": 29,
     "metadata": {},
     "output_type": "execute_result"
    }
   ],
   "source": [
    "energy_df[\"MM\"] = energy_df[\"YYYYMM\"].str[-2:]\n",
    "electricity_df[\"MM\"] = electricity_df[\"YYYYMM\"].str[-2:]\n",
    "\n",
    "energy_df.head()"
   ]
  },
  {
   "cell_type": "markdown",
   "metadata": {
    "tags": [
     "8_min"
    ]
   },
   "source": [
    "Let's now remove the month 13 rows, since those are simply the sum of all the other values for each year. We can take advantage of the `.drop()` method again, because not only it can drop columns, it can also drop rows:"
   ]
  },
  {
   "cell_type": "code",
   "execution_count": 30,
   "metadata": {},
   "outputs": [
    {
     "data": {
      "text/html": [
       "<div>\n",
       "<style scoped>\n",
       "    .dataframe tbody tr th:only-of-type {\n",
       "        vertical-align: middle;\n",
       "    }\n",
       "\n",
       "    .dataframe tbody tr th {\n",
       "        vertical-align: top;\n",
       "    }\n",
       "\n",
       "    .dataframe thead th {\n",
       "        text-align: right;\n",
       "    }\n",
       "</style>\n",
       "<table border=\"1\" class=\"dataframe\">\n",
       "  <thead>\n",
       "    <tr style=\"text-align: right;\">\n",
       "      <th></th>\n",
       "      <th>YYYYMM</th>\n",
       "      <th>Value</th>\n",
       "      <th>Description</th>\n",
       "      <th>Unit</th>\n",
       "      <th>YYYY</th>\n",
       "      <th>MM</th>\n",
       "    </tr>\n",
       "  </thead>\n",
       "  <tbody>\n",
       "    <tr>\n",
       "      <th>24</th>\n",
       "      <td>197301</td>\n",
       "      <td>1339.270</td>\n",
       "      <td>PEC Residential Sector</td>\n",
       "      <td>Trillion British Thermal Units</td>\n",
       "      <td>1973</td>\n",
       "      <td>01</td>\n",
       "    </tr>\n",
       "    <tr>\n",
       "      <th>25</th>\n",
       "      <td>197302</td>\n",
       "      <td>1174.899</td>\n",
       "      <td>PEC Residential Sector</td>\n",
       "      <td>Trillion British Thermal Units</td>\n",
       "      <td>1973</td>\n",
       "      <td>02</td>\n",
       "    </tr>\n",
       "    <tr>\n",
       "      <th>26</th>\n",
       "      <td>197303</td>\n",
       "      <td>983.374</td>\n",
       "      <td>PEC Residential Sector</td>\n",
       "      <td>Trillion British Thermal Units</td>\n",
       "      <td>1973</td>\n",
       "      <td>03</td>\n",
       "    </tr>\n",
       "    <tr>\n",
       "      <th>27</th>\n",
       "      <td>197304</td>\n",
       "      <td>715.391</td>\n",
       "      <td>PEC Residential Sector</td>\n",
       "      <td>Trillion British Thermal Units</td>\n",
       "      <td>1973</td>\n",
       "      <td>04</td>\n",
       "    </tr>\n",
       "    <tr>\n",
       "      <th>28</th>\n",
       "      <td>197305</td>\n",
       "      <td>535.914</td>\n",
       "      <td>PEC Residential Sector</td>\n",
       "      <td>Trillion British Thermal Units</td>\n",
       "      <td>1973</td>\n",
       "      <td>05</td>\n",
       "    </tr>\n",
       "  </tbody>\n",
       "</table>\n",
       "</div>"
      ],
      "text/plain": [
       "    YYYYMM     Value             Description                            Unit  \\\n",
       "24  197301  1339.270  PEC Residential Sector  Trillion British Thermal Units   \n",
       "25  197302  1174.899  PEC Residential Sector  Trillion British Thermal Units   \n",
       "26  197303   983.374  PEC Residential Sector  Trillion British Thermal Units   \n",
       "27  197304   715.391  PEC Residential Sector  Trillion British Thermal Units   \n",
       "28  197305   535.914  PEC Residential Sector  Trillion British Thermal Units   \n",
       "\n",
       "    YYYY  MM  \n",
       "24  1973  01  \n",
       "25  1973  02  \n",
       "26  1973  03  \n",
       "27  1973  04  \n",
       "28  1973  05  "
      ]
     },
     "execution_count": 30,
     "metadata": {},
     "output_type": "execute_result"
    }
   ],
   "source": [
    "dropme_energy = energy_df[\"MM\"]==\"13\" # We filter the rows with month 13\n",
    "energy_df = energy_df.drop(energy_df[dropme_energy].index)\n",
    "energy_df.head()"
   ]
  },
  {
   "cell_type": "markdown",
   "metadata": {},
   "source": [
    "Here, we first defined the condition `dropme_energy`, which is a Boolean Series. Then we filtered our DataFrame according to that condition and extracted the indices of the rows that we wanted to remove. We did that with `energy_df[dropme_energy].index`. And finally, we passed those indices to the `.drop()` function."
   ]
  },
  {
   "cell_type": "markdown",
   "metadata": {},
   "source": [
    "We now do the same with the `electricity_df` DataFrame:"
   ]
  },
  {
   "cell_type": "code",
   "execution_count": 31,
   "metadata": {},
   "outputs": [
    {
     "data": {
      "text/html": [
       "<div>\n",
       "<style scoped>\n",
       "    .dataframe tbody tr th:only-of-type {\n",
       "        vertical-align: middle;\n",
       "    }\n",
       "\n",
       "    .dataframe tbody tr th {\n",
       "        vertical-align: top;\n",
       "    }\n",
       "\n",
       "    .dataframe thead th {\n",
       "        text-align: right;\n",
       "    }\n",
       "</style>\n",
       "<table border=\"1\" class=\"dataframe\">\n",
       "  <thead>\n",
       "    <tr style=\"text-align: right;\">\n",
       "      <th></th>\n",
       "      <th>YYYYMM</th>\n",
       "      <th>Value</th>\n",
       "      <th>Description</th>\n",
       "      <th>Unit</th>\n",
       "      <th>YYYY</th>\n",
       "      <th>MM</th>\n",
       "    </tr>\n",
       "  </thead>\n",
       "  <tbody>\n",
       "    <tr>\n",
       "      <th>24</th>\n",
       "      <td>197301</td>\n",
       "      <td>75190.149</td>\n",
       "      <td>ENG Coal</td>\n",
       "      <td>Million Kilowatthours</td>\n",
       "      <td>1973</td>\n",
       "      <td>01</td>\n",
       "    </tr>\n",
       "    <tr>\n",
       "      <th>25</th>\n",
       "      <td>197302</td>\n",
       "      <td>67797.946</td>\n",
       "      <td>ENG Coal</td>\n",
       "      <td>Million Kilowatthours</td>\n",
       "      <td>1973</td>\n",
       "      <td>02</td>\n",
       "    </tr>\n",
       "    <tr>\n",
       "      <th>26</th>\n",
       "      <td>197303</td>\n",
       "      <td>67387.612</td>\n",
       "      <td>ENG Coal</td>\n",
       "      <td>Million Kilowatthours</td>\n",
       "      <td>1973</td>\n",
       "      <td>03</td>\n",
       "    </tr>\n",
       "    <tr>\n",
       "      <th>27</th>\n",
       "      <td>197304</td>\n",
       "      <td>63935.049</td>\n",
       "      <td>ENG Coal</td>\n",
       "      <td>Million Kilowatthours</td>\n",
       "      <td>1973</td>\n",
       "      <td>04</td>\n",
       "    </tr>\n",
       "    <tr>\n",
       "      <th>28</th>\n",
       "      <td>197305</td>\n",
       "      <td>64927.181</td>\n",
       "      <td>ENG Coal</td>\n",
       "      <td>Million Kilowatthours</td>\n",
       "      <td>1973</td>\n",
       "      <td>05</td>\n",
       "    </tr>\n",
       "  </tbody>\n",
       "</table>\n",
       "</div>"
      ],
      "text/plain": [
       "    YYYYMM      Value Description                   Unit  YYYY  MM\n",
       "24  197301  75190.149    ENG Coal  Million Kilowatthours  1973  01\n",
       "25  197302  67797.946    ENG Coal  Million Kilowatthours  1973  02\n",
       "26  197303  67387.612    ENG Coal  Million Kilowatthours  1973  03\n",
       "27  197304  63935.049    ENG Coal  Million Kilowatthours  1973  04\n",
       "28  197305  64927.181    ENG Coal  Million Kilowatthours  1973  05"
      ]
     },
     "execution_count": 31,
     "metadata": {},
     "output_type": "execute_result"
    }
   ],
   "source": [
    "dropme_electricity = electricity_df[\"MM\"]==\"13\" # We filter the rows with month 13\n",
    "electricity_df = electricity_df.drop(electricity_df[dropme_electricity].index)\n",
    "electricity_df.head()"
   ]
  },
  {
   "cell_type": "markdown",
   "metadata": {
    "tags": [
     "13_min"
    ]
   },
   "source": [
    "## Identifying the relationship between energy consumption and generation\n",
    "\n",
    "Here's how to make the `PEC Electric Power Sector` vs. `ENG Nuclear Electric Power` scatterplot using `matplotlib`. First, we filter the DataFrames to keep only the rows we need:"
   ]
  },
  {
   "cell_type": "code",
   "execution_count": 32,
   "metadata": {},
   "outputs": [],
   "source": [
    "# Filtering the DataFrames\n",
    "consume_df = energy_df[energy_df[\"Description\"] == \"PEC Electric Power Sector\"]\n",
    "generate_df = electricity_df[electricity_df[\"Description\"] == \"ENG Nuclear Electric Power\"]\n",
    "\n",
    "# Getting rid of unnecesary columns\n",
    "consume_df = consume_df.drop(columns=[\"Description\", \"Unit\", \"YYYY\", \"MM\"])\n",
    "generate_df = generate_df.drop(columns=[\"Description\", \"Unit\", \"YYYY\", \"MM\"])"
   ]
  },
  {
   "cell_type": "markdown",
   "metadata": {},
   "source": [
    "Then, we merge the DataFrames using the **`pd.merge()`** function. To join two DataFrames this way, there has to be a column with common values in both (this column is called the **join key**). Our datasets have all their columns in common, but the one we will use is `YYYYMM` because in order to make our scatterplot we need both datasets to be aligned by their dates:"
   ]
  },
  {
   "cell_type": "code",
   "execution_count": 33,
   "metadata": {},
   "outputs": [
    {
     "data": {
      "text/html": [
       "<div>\n",
       "<style scoped>\n",
       "    .dataframe tbody tr th:only-of-type {\n",
       "        vertical-align: middle;\n",
       "    }\n",
       "\n",
       "    .dataframe tbody tr th {\n",
       "        vertical-align: top;\n",
       "    }\n",
       "\n",
       "    .dataframe thead th {\n",
       "        text-align: right;\n",
       "    }\n",
       "</style>\n",
       "<table border=\"1\" class=\"dataframe\">\n",
       "  <thead>\n",
       "    <tr style=\"text-align: right;\">\n",
       "      <th></th>\n",
       "      <th>YYYYMM</th>\n",
       "      <th>Value_x</th>\n",
       "      <th>Value_y</th>\n",
       "    </tr>\n",
       "  </thead>\n",
       "  <tbody>\n",
       "    <tr>\n",
       "      <th>0</th>\n",
       "      <td>197301</td>\n",
       "      <td>1691.096</td>\n",
       "      <td>6246.251</td>\n",
       "    </tr>\n",
       "    <tr>\n",
       "      <th>1</th>\n",
       "      <td>197302</td>\n",
       "      <td>1511.458</td>\n",
       "      <td>5928.069</td>\n",
       "    </tr>\n",
       "    <tr>\n",
       "      <th>2</th>\n",
       "      <td>197303</td>\n",
       "      <td>1559.159</td>\n",
       "      <td>6649.007</td>\n",
       "    </tr>\n",
       "    <tr>\n",
       "      <th>3</th>\n",
       "      <td>197304</td>\n",
       "      <td>1470.152</td>\n",
       "      <td>5876.392</td>\n",
       "    </tr>\n",
       "    <tr>\n",
       "      <th>4</th>\n",
       "      <td>197305</td>\n",
       "      <td>1551.631</td>\n",
       "      <td>5696.657</td>\n",
       "    </tr>\n",
       "  </tbody>\n",
       "</table>\n",
       "</div>"
      ],
      "text/plain": [
       "   YYYYMM   Value_x   Value_y\n",
       "0  197301  1691.096  6246.251\n",
       "1  197302  1511.458  5928.069\n",
       "2  197303  1559.159  6649.007\n",
       "3  197304  1470.152  5876.392\n",
       "4  197305  1551.631  5696.657"
      ]
     },
     "execution_count": 33,
     "metadata": {},
     "output_type": "execute_result"
    }
   ],
   "source": [
    "merged_df = pd.merge(consume_df, generate_df, on=\"YYYYMM\")\n",
    "merged_df.head()"
   ]
  },
  {
   "cell_type": "markdown",
   "metadata": {},
   "source": [
    "As you see, we got two `Value` columns , but we don't know which one is consumption and which one is generation. To fix this, we use the `suffixes` argument:"
   ]
  },
  {
   "cell_type": "code",
   "execution_count": 34,
   "metadata": {},
   "outputs": [
    {
     "data": {
      "text/html": [
       "<div>\n",
       "<style scoped>\n",
       "    .dataframe tbody tr th:only-of-type {\n",
       "        vertical-align: middle;\n",
       "    }\n",
       "\n",
       "    .dataframe tbody tr th {\n",
       "        vertical-align: top;\n",
       "    }\n",
       "\n",
       "    .dataframe thead th {\n",
       "        text-align: right;\n",
       "    }\n",
       "</style>\n",
       "<table border=\"1\" class=\"dataframe\">\n",
       "  <thead>\n",
       "    <tr style=\"text-align: right;\">\n",
       "      <th></th>\n",
       "      <th>YYYYMM</th>\n",
       "      <th>Value_CONSUME</th>\n",
       "      <th>Value_GENERATE</th>\n",
       "    </tr>\n",
       "  </thead>\n",
       "  <tbody>\n",
       "    <tr>\n",
       "      <th>0</th>\n",
       "      <td>197301</td>\n",
       "      <td>1691.096</td>\n",
       "      <td>6246.251</td>\n",
       "    </tr>\n",
       "    <tr>\n",
       "      <th>1</th>\n",
       "      <td>197302</td>\n",
       "      <td>1511.458</td>\n",
       "      <td>5928.069</td>\n",
       "    </tr>\n",
       "    <tr>\n",
       "      <th>2</th>\n",
       "      <td>197303</td>\n",
       "      <td>1559.159</td>\n",
       "      <td>6649.007</td>\n",
       "    </tr>\n",
       "    <tr>\n",
       "      <th>3</th>\n",
       "      <td>197304</td>\n",
       "      <td>1470.152</td>\n",
       "      <td>5876.392</td>\n",
       "    </tr>\n",
       "    <tr>\n",
       "      <th>4</th>\n",
       "      <td>197305</td>\n",
       "      <td>1551.631</td>\n",
       "      <td>5696.657</td>\n",
       "    </tr>\n",
       "  </tbody>\n",
       "</table>\n",
       "</div>"
      ],
      "text/plain": [
       "   YYYYMM  Value_CONSUME  Value_GENERATE\n",
       "0  197301       1691.096        6246.251\n",
       "1  197302       1511.458        5928.069\n",
       "2  197303       1559.159        6649.007\n",
       "3  197304       1470.152        5876.392\n",
       "4  197305       1551.631        5696.657"
      ]
     },
     "execution_count": 34,
     "metadata": {},
     "output_type": "execute_result"
    }
   ],
   "source": [
    "merged_df = pd.merge(consume_df, generate_df, on=\"YYYYMM\", suffixes=[\"_CONSUME\", \"_GENERATE\"])\n",
    "merged_df.head()"
   ]
  },
  {
   "cell_type": "markdown",
   "metadata": {},
   "source": [
    "This is the code to make the plot (`plt` is the alias we used to import `matplotlib`'s plotting module):"
   ]
  },
  {
   "cell_type": "code",
   "execution_count": 35,
   "metadata": {},
   "outputs": [
    {
     "data": {
      "text/plain": [
       "Text(0, 0.5, 'PEC Electric Power Sector')"
      ]
     },
     "execution_count": 35,
     "metadata": {},
     "output_type": "execute_result"
    },
    {
     "data": {
      "image/png": "[encoded data removed]",
      "text/plain": [
       "<Figure size 432x288 with 1 Axes>"
      ]
     },
     "metadata": {},
     "output_type": "display_data"
    }
   ],
   "source": [
    "plt.scatter(x = merged_df[\"Value_GENERATE\"], y = merged_df[\"Value_CONSUME\"]) # The plot\n",
    "plt.title(\"Nuclear Electric Power Analysis\") # Adding a title\n",
    "plt.xlabel(\"ENG Nuclear Electric Power\") # Adding axis labels\n",
    "plt.ylabel(\"PEC Electric Power Sector\")"
   ]
  },
  {
   "cell_type": "markdown",
   "metadata": {},
   "source": [
    "#### A word about `pd.merge()`\n",
    "\n",
    "The `pd.merge()` function will definitely be one the most important elements in your toolbox in the future, so it makes sense that we explain it a little more here. When you merge two DataFrames you are joining them by their shared key. There are four main kinds of merge operations in `pandas`: left joins, right joins, inner joins, and full joins. Let's explain them graphically.\n",
    "\n",
    "This will be our `left` DataFrame (we called it `L`):\n",
    "\n",
    "<table border=\"1\" class=\"dataframe\">  <thead>    <tr style=\"text-align: right;\">      <th></th>      <th>number_plate</th>      <th>has_tickets</th>    </tr>  </thead>  <tbody>    <tr>      <th>0</th>      <td>IBV2750</td>      <td>True</td>    </tr>    <tr>      <th>1</th>      <td>EUS687</td>      <td>False</td>    </tr>    <tr>      <th>2</th>      <td>AYE7756</td>      <td>True</td>    </tr>  </tbody></table>\n",
    "\n",
    "And this will be our `right` DataFrame (`R`):\n",
    "\n",
    "<table border=\"1\" class=\"dataframe\">  <thead>    <tr style=\"text-align: right;\">      <th></th>      <th>number_plate</th>      <th>owners_name</th>    </tr>  </thead>  <tbody>    <tr>      <th>0</th>      <td>6TRJ244</td>      <td>Michael Holmes</td>    </tr>    <tr>      <th>1</th>      <td>EUS687</td>      <td>Jenny Liu</td>    </tr>    <tr>      <th>2</th>      <td>532484</td>      <td>Geoffrey Frank</td>    </tr>  </tbody></table>\n",
    "\n",
    "##### Left join\n",
    "\n",
    "Arguably the most common way of merging DataFrames is using a **left join**, that graphically looks like this:\n",
    "~~~python\n",
    "pd.merge(L, R, on=\"number_plate\", how=\"left\")\n",
    "~~~\n",
    "\n",
    "<table border=\"1\" class=\"dataframe\">  <thead>    <tr style=\"text-align: right;\">      <th></th>      <th>number_plate</th>      <th>has_tickets</th>      <th>owners_name</th>    </tr>  </thead>  <tbody>    <tr>      <th>0</th>      <td>IBV2750</td>      <td>True</td>      <td>NaN</td>    </tr>    <tr>      <th>1</th>      <td>EUS687</td>      <td>False</td>      <td>Jenny Liu</td>    </tr>    <tr>      <th>2</th>      <td>AYE7756</td>      <td>True</td>      <td>NaN</td>    </tr>  </tbody></table>\n",
    "\n",
    "Here we took all the elements of the `left` DataFrame and tried to find a match in the `right` DataFrame for each one of them. Then we reported all the elements of the `left` DataFrame regardless of whether we did find a match or not. In this case, the only car that had a match was `EUS687` and hence it is the only one that has an associated `owners_name` in the result.\n",
    "\n",
    "##### Right join\n",
    "\n",
    "This is exactly the same as the left join, with the difference that we report all the elements of the `right` DataFrame instead of those of the `left` DataFrame:\n",
    "\n",
    "~~~python\n",
    "pd.merge(L, R, on=\"number_plate\", how=\"right\")\n",
    "~~~\n",
    "\n",
    "<table border=\"1\" class=\"dataframe\">  <thead>    <tr style=\"text-align: right;\">      <th></th>      <th>number_plate</th>      <th>has_tickets</th>      <th>owners_name</th>    </tr>  </thead>  <tbody>    <tr>      <th>0</th>      <td>6TRJ244</td>      <td>NaN</td>      <td>Michael Holmes</td>    </tr>    <tr>      <th>1</th>      <td>EUS687</td>      <td>False</td>      <td>Jenny Liu</td>    </tr>    <tr>      <th>2</th>      <td>532484</td>      <td>NaN</td>      <td>Geoffrey Frank</td>    </tr>  </tbody></table>\n",
    "\n",
    "This would be equivalent to `pd.merge(R, L, on=\"number_plate\", how=\"left\")` (notice that we swapped the DataFrames).\n",
    "\n",
    "##### Inner join\n",
    "\n",
    "This kind of join only reports those elements that are both in the `right` and the `left` DataFrames:\n",
    "\n",
    "~~~python\n",
    "pd.merge(L, R, on=\"number_plate\", how=\"inner\")\n",
    "~~~\n",
    "\n",
    "<table border=\"1\" class=\"dataframe\">  <thead>    <tr style=\"text-align: right;\">      <th></th>      <th>number_plate</th>      <th>has_tickets</th>      <th>owners_name</th>    </tr>  </thead>  <tbody>    <tr>      <th>0</th>      <td>EUS687</td>      <td>False</td>      <td>Jenny Liu</td>    </tr>  </tbody></table>\n",
    "\n",
    "##### Full join\n",
    "\n",
    "Finally, a **full join** reports all the elements of both DataFrames, including those that had a match and those that did not:\n",
    "\n",
    "~~~python\n",
    "pd.merge(L, R, on=\"number_plate\", how=\"outer\")\n",
    "~~~\n",
    "\n",
    "<table border=\"1\" class=\"dataframe\">  <thead>    <tr style=\"text-align: right;\">      <th></th>      <th>number_plate</th>      <th>has_tickets</th>      <th>owners_name</th>    </tr>  </thead>  <tbody>    <tr>      <th>0</th>      <td>IBV2750</td>      <td>True</td>      <td>NaN</td>    </tr>    <tr>      <th>1</th>      <td>EUS687</td>      <td>False</td>      <td>Jenny Liu</td>    </tr>    <tr>      <th>2</th>      <td>AYE7756</td>      <td>True</td>      <td>NaN</td>    </tr>    <tr>      <th>3</th>      <td>6TRJ244</td>      <td>NaN</td>      <td>Michael Holmes</td>    </tr>    <tr>      <th>4</th>      <td>532484</td>      <td>NaN</td>      <td>Geoffrey Frank</td>    </tr>  </tbody></table>\n",
    "\n",
    "Keep in mind that the keyword for a full join in `pandas` is not ~`full`~ but `outer`. This is because \"full join\" is a shortened form of \"full outer join\"."
   ]
  },
  {
   "cell_type": "markdown",
   "metadata": {
    "tags": [
     "7_min"
    ]
   },
   "source": [
    "### Exercise 3\n",
    "\n",
    "Copy the code of the previous cells and paste it below. Then modify it to make a scatterplot of `PEC Commercial Sector` vs. `ENG Nuclear Electric Power` this time."
   ]
  },
  {
   "cell_type": "markdown",
   "metadata": {
    "tags": [
     "ans_st"
    ]
   },
   "source": [
    "**Answer.**"
   ]
  },
  {
   "cell_type": "code",
   "execution_count": 37,
   "metadata": {},
   "outputs": [],
   "source": [
    "# Filtering the DataFrames\n",
    "consume_df = energy_df[energy_df[\"Description\"] == \"PEC Commercial Sector\"]\n",
    "generate_df = electricity_df[electricity_df[\"Description\"] == \"ENG Nuclear Electric Power\"]\n",
    "\n",
    "# Getting rid of unnecesary columns\n",
    "consume_df = consume_df.drop(columns=[\"Description\", \"Unit\", \"YYYY\", \"MM\"])\n",
    "generate_df = generate_df.drop(columns=[\"Description\", \"Unit\", \"YYYY\", \"MM\"])"
   ]
  },
  {
   "cell_type": "code",
   "execution_count": 38,
   "metadata": {},
   "outputs": [
    {
     "data": {
      "text/html": [
       "<div>\n",
       "<style scoped>\n",
       "    .dataframe tbody tr th:only-of-type {\n",
       "        vertical-align: middle;\n",
       "    }\n",
       "\n",
       "    .dataframe tbody tr th {\n",
       "        vertical-align: top;\n",
       "    }\n",
       "\n",
       "    .dataframe thead th {\n",
       "        text-align: right;\n",
       "    }\n",
       "</style>\n",
       "<table border=\"1\" class=\"dataframe\">\n",
       "  <thead>\n",
       "    <tr style=\"text-align: right;\">\n",
       "      <th></th>\n",
       "      <th>YYYYMM</th>\n",
       "      <th>Value_x</th>\n",
       "      <th>Value_y</th>\n",
       "    </tr>\n",
       "  </thead>\n",
       "  <tbody>\n",
       "    <tr>\n",
       "      <th>0</th>\n",
       "      <td>197301</td>\n",
       "      <td>657.977</td>\n",
       "      <td>6246.251</td>\n",
       "    </tr>\n",
       "    <tr>\n",
       "      <th>1</th>\n",
       "      <td>197302</td>\n",
       "      <td>623.759</td>\n",
       "      <td>5928.069</td>\n",
       "    </tr>\n",
       "    <tr>\n",
       "      <th>2</th>\n",
       "      <td>197303</td>\n",
       "      <td>492.136</td>\n",
       "      <td>6649.007</td>\n",
       "    </tr>\n",
       "    <tr>\n",
       "      <th>3</th>\n",
       "      <td>197304</td>\n",
       "      <td>363.393</td>\n",
       "      <td>5876.392</td>\n",
       "    </tr>\n",
       "    <tr>\n",
       "      <th>4</th>\n",
       "      <td>197305</td>\n",
       "      <td>288.630</td>\n",
       "      <td>5696.657</td>\n",
       "    </tr>\n",
       "  </tbody>\n",
       "</table>\n",
       "</div>"
      ],
      "text/plain": [
       "   YYYYMM  Value_x   Value_y\n",
       "0  197301  657.977  6246.251\n",
       "1  197302  623.759  5928.069\n",
       "2  197303  492.136  6649.007\n",
       "3  197304  363.393  5876.392\n",
       "4  197305  288.630  5696.657"
      ]
     },
     "execution_count": 38,
     "metadata": {},
     "output_type": "execute_result"
    }
   ],
   "source": [
    "merged_df = pd.merge(consume_df, generate_df, on=\"YYYYMM\")\n",
    "merged_df.head()"
   ]
  },
  {
   "cell_type": "code",
   "execution_count": 39,
   "metadata": {},
   "outputs": [
    {
     "data": {
      "text/html": [
       "<div>\n",
       "<style scoped>\n",
       "    .dataframe tbody tr th:only-of-type {\n",
       "        vertical-align: middle;\n",
       "    }\n",
       "\n",
       "    .dataframe tbody tr th {\n",
       "        vertical-align: top;\n",
       "    }\n",
       "\n",
       "    .dataframe thead th {\n",
       "        text-align: right;\n",
       "    }\n",
       "</style>\n",
       "<table border=\"1\" class=\"dataframe\">\n",
       "  <thead>\n",
       "    <tr style=\"text-align: right;\">\n",
       "      <th></th>\n",
       "      <th>YYYYMM</th>\n",
       "      <th>Value_CONSUME</th>\n",
       "      <th>Value_GENERATE</th>\n",
       "    </tr>\n",
       "  </thead>\n",
       "  <tbody>\n",
       "    <tr>\n",
       "      <th>0</th>\n",
       "      <td>197301</td>\n",
       "      <td>657.977</td>\n",
       "      <td>6246.251</td>\n",
       "    </tr>\n",
       "    <tr>\n",
       "      <th>1</th>\n",
       "      <td>197302</td>\n",
       "      <td>623.759</td>\n",
       "      <td>5928.069</td>\n",
       "    </tr>\n",
       "    <tr>\n",
       "      <th>2</th>\n",
       "      <td>197303</td>\n",
       "      <td>492.136</td>\n",
       "      <td>6649.007</td>\n",
       "    </tr>\n",
       "    <tr>\n",
       "      <th>3</th>\n",
       "      <td>197304</td>\n",
       "      <td>363.393</td>\n",
       "      <td>5876.392</td>\n",
       "    </tr>\n",
       "    <tr>\n",
       "      <th>4</th>\n",
       "      <td>197305</td>\n",
       "      <td>288.630</td>\n",
       "      <td>5696.657</td>\n",
       "    </tr>\n",
       "  </tbody>\n",
       "</table>\n",
       "</div>"
      ],
      "text/plain": [
       "   YYYYMM  Value_CONSUME  Value_GENERATE\n",
       "0  197301        657.977        6246.251\n",
       "1  197302        623.759        5928.069\n",
       "2  197303        492.136        6649.007\n",
       "3  197304        363.393        5876.392\n",
       "4  197305        288.630        5696.657"
      ]
     },
     "execution_count": 39,
     "metadata": {},
     "output_type": "execute_result"
    }
   ],
   "source": [
    "merged_df = pd.merge(consume_df, generate_df, on=\"YYYYMM\", suffixes=[\"_CONSUME\", \"_GENERATE\"])\n",
    "merged_df.head()"
   ]
  },
  {
   "cell_type": "code",
   "execution_count": 40,
   "metadata": {},
   "outputs": [
    {
     "data": {
      "text/plain": [
       "Text(0, 0.5, 'PEC Commercial Sector')"
      ]
     },
     "execution_count": 40,
     "metadata": {},
     "output_type": "execute_result"
    },
    {
     "data": {
      "image/png": "[encoded data removed]",
      "text/plain": [
       "<Figure size 432x288 with 1 Axes>"
      ]
     },
     "metadata": {},
     "output_type": "display_data"
    }
   ],
   "source": [
    "plt.scatter(x = merged_df[\"Value_GENERATE\"], y = merged_df[\"Value_CONSUME\"]) # The plot\n",
    "plt.title(\"Nuclear Electric Power Analysis\") # Adding a title\n",
    "plt.xlabel(\"ENG Nuclear Electric Power\") # Adding axis labels\n",
    "plt.ylabel(\"PEC Commercial Sector\")"
   ]
  },
  {
   "cell_type": "markdown",
   "metadata": {},
   "source": [
    "-------"
   ]
  },
  {
   "cell_type": "markdown",
   "metadata": {
    "tags": [
     "12_min"
    ]
   },
   "source": [
    "## Trends in energy consumption and generation over time\n",
    "\n",
    "While a scatterplot helps us visualize the relationship between two variables, it does not allow us to look at something across time. For this, we will use the line plot. A line plot is excellent for viewing time series data and will help us determine trends and cyclical patterns across time for both electric power sector energy consumption and nuclear electric power energy generation.\n",
    "\n",
    "Let's build a line plot for the `PEC Electric Power Sector` description:"
   ]
  },
  {
   "cell_type": "code",
   "execution_count": 41,
   "metadata": {},
   "outputs": [
    {
     "data": {
      "text/plain": [
       "[<matplotlib.lines.Line2D at 0x7f12155a4220>]"
      ]
     },
     "execution_count": 41,
     "metadata": {},
     "output_type": "execute_result"
    },
    {
     "data": {
      "image/png": "[encoded data removed]",
      "text/plain": [
       "<Figure size 432x288 with 1 Axes>"
      ]
     },
     "metadata": {},
     "output_type": "display_data"
    }
   ],
   "source": [
    "# Filtering the DataFrame\n",
    "consume_df = energy_df[energy_df[\"Description\"] == \"PEC Electric Power Sector\"].copy()\n",
    "plt.plot(consume_df[\"Value\"]) # plt.plot is the matplotlib function to draw line plots"
   ]
  },
  {
   "cell_type": "markdown",
   "metadata": {},
   "source": [
    "This plot looks okay, but the horizontal axis is not very meaningful. Its labels are numbers that don't seem to be dates. A quick inspection of our data reveals that these are simply the row indices of the DataFrame:"
   ]
  },
  {
   "cell_type": "code",
   "execution_count": 42,
   "metadata": {},
   "outputs": [
    {
     "data": {
      "text/html": [
       "<div>\n",
       "<style scoped>\n",
       "    .dataframe tbody tr th:only-of-type {\n",
       "        vertical-align: middle;\n",
       "    }\n",
       "\n",
       "    .dataframe tbody tr th {\n",
       "        vertical-align: top;\n",
       "    }\n",
       "\n",
       "    .dataframe thead th {\n",
       "        text-align: right;\n",
       "    }\n",
       "</style>\n",
       "<table border=\"1\" class=\"dataframe\">\n",
       "  <thead>\n",
       "    <tr style=\"text-align: right;\">\n",
       "      <th></th>\n",
       "      <th>YYYYMM</th>\n",
       "      <th>Value</th>\n",
       "      <th>Description</th>\n",
       "      <th>Unit</th>\n",
       "      <th>YYYY</th>\n",
       "      <th>MM</th>\n",
       "    </tr>\n",
       "  </thead>\n",
       "  <tbody>\n",
       "    <tr>\n",
       "      <th>5080</th>\n",
       "      <td>197301</td>\n",
       "      <td>1691.096</td>\n",
       "      <td>PEC Electric Power Sector</td>\n",
       "      <td>Trillion British Thermal Units</td>\n",
       "      <td>1973</td>\n",
       "      <td>01</td>\n",
       "    </tr>\n",
       "    <tr>\n",
       "      <th>5081</th>\n",
       "      <td>197302</td>\n",
       "      <td>1511.458</td>\n",
       "      <td>PEC Electric Power Sector</td>\n",
       "      <td>Trillion British Thermal Units</td>\n",
       "      <td>1973</td>\n",
       "      <td>02</td>\n",
       "    </tr>\n",
       "    <tr>\n",
       "      <th>5082</th>\n",
       "      <td>197303</td>\n",
       "      <td>1559.159</td>\n",
       "      <td>PEC Electric Power Sector</td>\n",
       "      <td>Trillion British Thermal Units</td>\n",
       "      <td>1973</td>\n",
       "      <td>03</td>\n",
       "    </tr>\n",
       "    <tr>\n",
       "      <th>5083</th>\n",
       "      <td>197304</td>\n",
       "      <td>1470.152</td>\n",
       "      <td>PEC Electric Power Sector</td>\n",
       "      <td>Trillion British Thermal Units</td>\n",
       "      <td>1973</td>\n",
       "      <td>04</td>\n",
       "    </tr>\n",
       "    <tr>\n",
       "      <th>5084</th>\n",
       "      <td>197305</td>\n",
       "      <td>1551.631</td>\n",
       "      <td>PEC Electric Power Sector</td>\n",
       "      <td>Trillion British Thermal Units</td>\n",
       "      <td>1973</td>\n",
       "      <td>05</td>\n",
       "    </tr>\n",
       "  </tbody>\n",
       "</table>\n",
       "</div>"
      ],
      "text/plain": [
       "      YYYYMM     Value                Description  \\\n",
       "5080  197301  1691.096  PEC Electric Power Sector   \n",
       "5081  197302  1511.458  PEC Electric Power Sector   \n",
       "5082  197303  1559.159  PEC Electric Power Sector   \n",
       "5083  197304  1470.152  PEC Electric Power Sector   \n",
       "5084  197305  1551.631  PEC Electric Power Sector   \n",
       "\n",
       "                                Unit  YYYY  MM  \n",
       "5080  Trillion British Thermal Units  1973  01  \n",
       "5081  Trillion British Thermal Units  1973  02  \n",
       "5082  Trillion British Thermal Units  1973  03  \n",
       "5083  Trillion British Thermal Units  1973  04  \n",
       "5084  Trillion British Thermal Units  1973  05  "
      ]
     },
     "execution_count": 42,
     "metadata": {},
     "output_type": "execute_result"
    }
   ],
   "source": [
    "consume_df.head()"
   ]
  },
  {
   "cell_type": "markdown",
   "metadata": {},
   "source": [
    "In order to put the dates on the horizontal axis, we need to convert the `YYYYMM` column to `pandas`'s native `datetime` data type. We've done this before in another case, but here's again how to do it:"
   ]
  },
  {
   "cell_type": "code",
   "execution_count": 43,
   "metadata": {},
   "outputs": [
    {
     "data": {
      "text/html": [
       "<div>\n",
       "<style scoped>\n",
       "    .dataframe tbody tr th:only-of-type {\n",
       "        vertical-align: middle;\n",
       "    }\n",
       "\n",
       "    .dataframe tbody tr th {\n",
       "        vertical-align: top;\n",
       "    }\n",
       "\n",
       "    .dataframe thead th {\n",
       "        text-align: right;\n",
       "    }\n",
       "</style>\n",
       "<table border=\"1\" class=\"dataframe\">\n",
       "  <thead>\n",
       "    <tr style=\"text-align: right;\">\n",
       "      <th></th>\n",
       "      <th>YYYYMM</th>\n",
       "      <th>Value</th>\n",
       "      <th>Description</th>\n",
       "      <th>Unit</th>\n",
       "      <th>YYYY</th>\n",
       "      <th>MM</th>\n",
       "      <th>Date</th>\n",
       "    </tr>\n",
       "  </thead>\n",
       "  <tbody>\n",
       "    <tr>\n",
       "      <th>5080</th>\n",
       "      <td>197301</td>\n",
       "      <td>1691.096</td>\n",
       "      <td>PEC Electric Power Sector</td>\n",
       "      <td>Trillion British Thermal Units</td>\n",
       "      <td>1973</td>\n",
       "      <td>01</td>\n",
       "      <td>1973-01-01</td>\n",
       "    </tr>\n",
       "    <tr>\n",
       "      <th>5081</th>\n",
       "      <td>197302</td>\n",
       "      <td>1511.458</td>\n",
       "      <td>PEC Electric Power Sector</td>\n",
       "      <td>Trillion British Thermal Units</td>\n",
       "      <td>1973</td>\n",
       "      <td>02</td>\n",
       "      <td>1973-02-01</td>\n",
       "    </tr>\n",
       "    <tr>\n",
       "      <th>5082</th>\n",
       "      <td>197303</td>\n",
       "      <td>1559.159</td>\n",
       "      <td>PEC Electric Power Sector</td>\n",
       "      <td>Trillion British Thermal Units</td>\n",
       "      <td>1973</td>\n",
       "      <td>03</td>\n",
       "      <td>1973-03-01</td>\n",
       "    </tr>\n",
       "    <tr>\n",
       "      <th>5083</th>\n",
       "      <td>197304</td>\n",
       "      <td>1470.152</td>\n",
       "      <td>PEC Electric Power Sector</td>\n",
       "      <td>Trillion British Thermal Units</td>\n",
       "      <td>1973</td>\n",
       "      <td>04</td>\n",
       "      <td>1973-04-01</td>\n",
       "    </tr>\n",
       "    <tr>\n",
       "      <th>5084</th>\n",
       "      <td>197305</td>\n",
       "      <td>1551.631</td>\n",
       "      <td>PEC Electric Power Sector</td>\n",
       "      <td>Trillion British Thermal Units</td>\n",
       "      <td>1973</td>\n",
       "      <td>05</td>\n",
       "      <td>1973-05-01</td>\n",
       "    </tr>\n",
       "  </tbody>\n",
       "</table>\n",
       "</div>"
      ],
      "text/plain": [
       "      YYYYMM     Value                Description  \\\n",
       "5080  197301  1691.096  PEC Electric Power Sector   \n",
       "5081  197302  1511.458  PEC Electric Power Sector   \n",
       "5082  197303  1559.159  PEC Electric Power Sector   \n",
       "5083  197304  1470.152  PEC Electric Power Sector   \n",
       "5084  197305  1551.631  PEC Electric Power Sector   \n",
       "\n",
       "                                Unit  YYYY  MM       Date  \n",
       "5080  Trillion British Thermal Units  1973  01 1973-01-01  \n",
       "5081  Trillion British Thermal Units  1973  02 1973-02-01  \n",
       "5082  Trillion British Thermal Units  1973  03 1973-03-01  \n",
       "5083  Trillion British Thermal Units  1973  04 1973-04-01  \n",
       "5084  Trillion British Thermal Units  1973  05 1973-05-01  "
      ]
     },
     "execution_count": 43,
     "metadata": {},
     "output_type": "execute_result"
    }
   ],
   "source": [
    "converted_date = pd.to_datetime(consume_df[\"YYYYMM\"], format=\"%Y%m\")\n",
    "consume_df[\"Date\"] = converted_date\n",
    "consume_df.head()"
   ]
  },
  {
   "cell_type": "markdown",
   "metadata": {},
   "source": [
    "Let's explain what we've just done. First, we used `pd.to_datetime()` to convert `consume_df[\"YYYYMM\"]` into the `datetime` type. The `format=\"%Y%m\"` argument is simply telling `pandas` that the `YYYYMM` column starts with the year (the `%Y` part) and then has the month (the `%m` part), and does not include information about the day.\n",
    "\n",
    "Now equipped with our newly created `Date` column, we can remake the plot and add a title and axis labels:"
   ]
  },
  {
   "cell_type": "code",
   "execution_count": 44,
   "metadata": {},
   "outputs": [
    {
     "data": {
      "text/plain": [
       "Text(0, 0.5, 'Value - PEC Electric Power Sector')"
      ]
     },
     "execution_count": 44,
     "metadata": {},
     "output_type": "execute_result"
    },
    {
     "data": {
      "image/png": "[encoded data removed]",
      "text/plain": [
       "<Figure size 1080x216 with 1 Axes>"
      ]
     },
     "metadata": {},
     "output_type": "display_data"
    }
   ],
   "source": [
    "plt.figure(figsize=(15, 3)) # To make it larger\n",
    "plt.plot(consume_df[\"Date\"], consume_df[\"Value\"]) # The order is plt.plot(x,y)\n",
    "plt.title(\"Line Plot: PEC Electric Power Sector\")\n",
    "plt.xlabel(\"Date\")\n",
    "plt.ylabel(\"Value - PEC Electric Power Sector\")"
   ]
  },
  {
   "cell_type": "markdown",
   "metadata": {
    "tags": [
     "12_min"
    ]
   },
   "source": [
    "### Exercise 4\n",
    "\n",
    "Repeat the steps above, but make a line plot of `ENG Nuclear Electric Power` instead.\n",
    "\n",
    "**Hint:** Here's the first line of the answer to help you get started:\n",
    "\n",
    "~~~python\n",
    "generate_df = electricity_df[electricity_df[\"Description\"] == \"ENG Nuclear Electric Power\"]\n",
    "~~~"
   ]
  },
  {
   "cell_type": "markdown",
   "metadata": {
    "tags": [
     "ans_st"
    ]
   },
   "source": [
    "**Answer.**"
   ]
  },
  {
   "cell_type": "code",
   "execution_count": 60,
   "metadata": {},
   "outputs": [
    {
     "data": {
      "text/plain": [
       "Text(0, 0.5, 'Value - ENG Nuclear Electric Power')"
      ]
     },
     "execution_count": 60,
     "metadata": {},
     "output_type": "execute_result"
    },
    {
     "data": {
      "image/png": "[encoded data removed]",
      "text/plain": [
       "<Figure size 1080x216 with 1 Axes>"
      ]
     },
     "metadata": {},
     "output_type": "display_data"
    }
   ],
   "source": [
    "# Filtering the DataFrames\n",
    "generate_df = electricity_df[electricity_df[\"Description\"] == \"ENG Nuclear Electric Power\"].copy()\n",
    "converted_date = pd.to_datetime(generate_df[\"YYYYMM\"], format=\"%Y%m\")\n",
    "generate_df[\"Date\"] = converted_date\n",
    "plt.figure(figsize=(15, 3)) # To make it larger\n",
    "plt.plot(generate_df[\"Date\"], generate_df[\"Value\"]) # The order is plt.plot(x,y)\n",
    "plt.title(\"Line Plot: ENG Nuclear Electric Power\")\n",
    "plt.xlabel(\"Date\")\n",
    "plt.ylabel(\"Value - ENG Nuclear Electric Power\")"
   ]
  },
  {
   "cell_type": "markdown",
   "metadata": {},
   "source": [
    "-------"
   ]
  },
  {
   "cell_type": "markdown",
   "metadata": {
    "tags": [
     "5_min"
    ]
   },
   "source": [
    "To wrap up this section, let's make a plot of percentage variations. For that, we will use the handy [**`.pct_change()`**](https://pandas.pydata.org/docs/reference/api/pandas.DataFrame.pct_change.html) Series method:"
   ]
  },
  {
   "cell_type": "code",
   "execution_count": 61,
   "metadata": {},
   "outputs": [
    {
     "data": {
      "text/plain": [
       "Text(0, 0.5, 'ENG Nuclear Electric Power (% change)')"
      ]
     },
     "execution_count": 61,
     "metadata": {},
     "output_type": "execute_result"
    },
    {
     "data": {
      "image/png": "[encoded data removed]",
      "text/plain": [
       "<Figure size 1080x216 with 1 Axes>"
      ]
     },
     "metadata": {},
     "output_type": "display_data"
    }
   ],
   "source": [
    "plt.figure(figsize=(15, 3)) # To make it larger\n",
    "plt.plot(generate_df[\"Date\"], generate_df[\"Value\"].pct_change())\n",
    "plt.title(\"Line Plot: ENG Nuclear Electric Power (percentage change)\")\n",
    "plt.xlabel(\"Date\")\n",
    "plt.ylabel(\"ENG Nuclear Electric Power (% change)\")"
   ]
  },
  {
   "cell_type": "markdown",
   "metadata": {
    "tags": [
     "1_min"
    ]
   },
   "source": [
    "## Using ```seaborn```\n",
    "\n",
    "\n",
    "While ```matplotlib``` is a nice plotting package, it is meant to be a general plotting tool. ```seaborn``` is an extremely useful data visualization library specifically designed for statistical figures. We will go through some important plotting functionality while continuing to identify trends in the energy data. We will only be scratching the surface of ```seaborn```, but [here](https://seaborn.pydata.org/api.html) is a list of all the possible plots."
   ]
  },
  {
   "cell_type": "markdown",
   "metadata": {
    "tags": [
     "7_min"
    ]
   },
   "source": [
    "### Heat maps\n",
    "\n",
    "Let's now look at consumption and generation levels month-by-month over time to see if the peak cyclical patterns we see are stable across many decades of data.\n",
    "\n",
    "```seaborn``` offers the powerful heat map method [**```heatmap()```**](https://seaborn.pydata.org/generated/seaborn.heatmap.html#seaborn.heatmap) that will allow us to nicely visualize the monthly energy consumed and electricity generated over time. Before we use it, let's first create a pivot table as usual:"
   ]
  },
  {
   "cell_type": "code",
   "execution_count": 53,
   "metadata": {},
   "outputs": [
    {
     "data": {
      "text/html": [
       "<div>\n",
       "<style scoped>\n",
       "    .dataframe tbody tr th:only-of-type {\n",
       "        vertical-align: middle;\n",
       "    }\n",
       "\n",
       "    .dataframe tbody tr th {\n",
       "        vertical-align: top;\n",
       "    }\n",
       "\n",
       "    .dataframe thead th {\n",
       "        text-align: right;\n",
       "    }\n",
       "</style>\n",
       "<table border=\"1\" class=\"dataframe\">\n",
       "  <thead>\n",
       "    <tr style=\"text-align: right;\">\n",
       "      <th>YYYY</th>\n",
       "      <th>1973</th>\n",
       "      <th>1974</th>\n",
       "      <th>1975</th>\n",
       "      <th>1976</th>\n",
       "      <th>1977</th>\n",
       "      <th>1978</th>\n",
       "      <th>1979</th>\n",
       "      <th>1980</th>\n",
       "      <th>1981</th>\n",
       "      <th>1982</th>\n",
       "      <th>...</th>\n",
       "      <th>2010</th>\n",
       "      <th>2011</th>\n",
       "      <th>2012</th>\n",
       "      <th>2013</th>\n",
       "      <th>2014</th>\n",
       "      <th>2015</th>\n",
       "      <th>2016</th>\n",
       "      <th>2017</th>\n",
       "      <th>2018</th>\n",
       "      <th>2019</th>\n",
       "    </tr>\n",
       "    <tr>\n",
       "      <th>MM</th>\n",
       "      <th></th>\n",
       "      <th></th>\n",
       "      <th></th>\n",
       "      <th></th>\n",
       "      <th></th>\n",
       "      <th></th>\n",
       "      <th></th>\n",
       "      <th></th>\n",
       "      <th></th>\n",
       "      <th></th>\n",
       "      <th></th>\n",
       "      <th></th>\n",
       "      <th></th>\n",
       "      <th></th>\n",
       "      <th></th>\n",
       "      <th></th>\n",
       "      <th></th>\n",
       "      <th></th>\n",
       "      <th></th>\n",
       "      <th></th>\n",
       "      <th></th>\n",
       "    </tr>\n",
       "  </thead>\n",
       "  <tbody>\n",
       "    <tr>\n",
       "      <th>01</th>\n",
       "      <td>6246.251</td>\n",
       "      <td>7602.790</td>\n",
       "      <td>13938.354</td>\n",
       "      <td>16098.884</td>\n",
       "      <td>22152.064</td>\n",
       "      <td>25832.949</td>\n",
       "      <td>27792.163</td>\n",
       "      <td>19745.966</td>\n",
       "      <td>23778.769</td>\n",
       "      <td>25677.834</td>\n",
       "      <td>...</td>\n",
       "      <td>72569.341</td>\n",
       "      <td>72742.813</td>\n",
       "      <td>72381.186</td>\n",
       "      <td>71405.817</td>\n",
       "      <td>73162.609</td>\n",
       "      <td>74269.974</td>\n",
       "      <td>72524.775</td>\n",
       "      <td>73120.612</td>\n",
       "      <td>74649.040</td>\n",
       "      <td>73700.844</td>\n",
       "    </tr>\n",
       "    <tr>\n",
       "      <th>02</th>\n",
       "      <td>5928.069</td>\n",
       "      <td>8115.522</td>\n",
       "      <td>12733.338</td>\n",
       "      <td>14377.127</td>\n",
       "      <td>19600.518</td>\n",
       "      <td>21832.500</td>\n",
       "      <td>25910.788</td>\n",
       "      <td>19277.338</td>\n",
       "      <td>21595.261</td>\n",
       "      <td>20187.619</td>\n",
       "      <td>...</td>\n",
       "      <td>65245.370</td>\n",
       "      <td>64789.078</td>\n",
       "      <td>63847.023</td>\n",
       "      <td>61483.385</td>\n",
       "      <td>62638.950</td>\n",
       "      <td>63461.493</td>\n",
       "      <td>65638.141</td>\n",
       "      <td>63560.371</td>\n",
       "      <td>64790.030</td>\n",
       "      <td>64714.894</td>\n",
       "    </tr>\n",
       "    <tr>\n",
       "      <th>03</th>\n",
       "      <td>6649.007</td>\n",
       "      <td>8777.497</td>\n",
       "      <td>14881.784</td>\n",
       "      <td>13992.977</td>\n",
       "      <td>20672.203</td>\n",
       "      <td>22448.665</td>\n",
       "      <td>24334.822</td>\n",
       "      <td>20038.872</td>\n",
       "      <td>22004.399</td>\n",
       "      <td>22755.478</td>\n",
       "      <td>...</td>\n",
       "      <td>64634.721</td>\n",
       "      <td>65661.598</td>\n",
       "      <td>61728.613</td>\n",
       "      <td>62947.389</td>\n",
       "      <td>62397.080</td>\n",
       "      <td>64546.799</td>\n",
       "      <td>66148.894</td>\n",
       "      <td>65093.200</td>\n",
       "      <td>67032.656</td>\n",
       "      <td>65079.691</td>\n",
       "    </tr>\n",
       "    <tr>\n",
       "      <th>04</th>\n",
       "      <td>5876.392</td>\n",
       "      <td>7128.892</td>\n",
       "      <td>13327.245</td>\n",
       "      <td>10981.808</td>\n",
       "      <td>19866.564</td>\n",
       "      <td>17579.902</td>\n",
       "      <td>18417.942</td>\n",
       "      <td>18793.503</td>\n",
       "      <td>20646.019</td>\n",
       "      <td>21784.661</td>\n",
       "      <td>...</td>\n",
       "      <td>57611.073</td>\n",
       "      <td>54547.338</td>\n",
       "      <td>55870.931</td>\n",
       "      <td>56766.882</td>\n",
       "      <td>56384.588</td>\n",
       "      <td>59784.495</td>\n",
       "      <td>62731.845</td>\n",
       "      <td>56743.352</td>\n",
       "      <td>59133.155</td>\n",
       "      <td>60580.927</td>\n",
       "    </tr>\n",
       "    <tr>\n",
       "      <th>05</th>\n",
       "      <td>5696.657</td>\n",
       "      <td>6562.335</td>\n",
       "      <td>13763.765</td>\n",
       "      <td>11929.390</td>\n",
       "      <td>20599.284</td>\n",
       "      <td>20416.170</td>\n",
       "      <td>15024.851</td>\n",
       "      <td>18384.807</td>\n",
       "      <td>19723.090</td>\n",
       "      <td>21638.768</td>\n",
       "      <td>...</td>\n",
       "      <td>66658.365</td>\n",
       "      <td>57012.914</td>\n",
       "      <td>62081.445</td>\n",
       "      <td>62848.155</td>\n",
       "      <td>62947.430</td>\n",
       "      <td>65826.525</td>\n",
       "      <td>66576.493</td>\n",
       "      <td>61312.753</td>\n",
       "      <td>67320.248</td>\n",
       "      <td>67123.546</td>\n",
       "    </tr>\n",
       "    <tr>\n",
       "      <th>06</th>\n",
       "      <td>6784.152</td>\n",
       "      <td>7079.595</td>\n",
       "      <td>12743.820</td>\n",
       "      <td>15757.435</td>\n",
       "      <td>21517.301</td>\n",
       "      <td>22185.187</td>\n",
       "      <td>16065.455</td>\n",
       "      <td>18322.206</td>\n",
       "      <td>21165.626</td>\n",
       "      <td>24026.011</td>\n",
       "      <td>...</td>\n",
       "      <td>68301.322</td>\n",
       "      <td>65270.134</td>\n",
       "      <td>65140.085</td>\n",
       "      <td>66429.690</td>\n",
       "      <td>68138.232</td>\n",
       "      <td>68516.165</td>\n",
       "      <td>67175.324</td>\n",
       "      <td>67010.782</td>\n",
       "      <td>69687.556</td>\n",
       "      <td>68804.879</td>\n",
       "    </tr>\n",
       "    <tr>\n",
       "      <th>07</th>\n",
       "      <td>6960.486</td>\n",
       "      <td>10209.908</td>\n",
       "      <td>15372.216</td>\n",
       "      <td>17708.727</td>\n",
       "      <td>21824.835</td>\n",
       "      <td>25007.094</td>\n",
       "      <td>20824.729</td>\n",
       "      <td>21023.937</td>\n",
       "      <td>23079.647</td>\n",
       "      <td>25467.060</td>\n",
       "      <td>...</td>\n",
       "      <td>71913.468</td>\n",
       "      <td>72344.850</td>\n",
       "      <td>69129.329</td>\n",
       "      <td>70539.238</td>\n",
       "      <td>71940.126</td>\n",
       "      <td>71412.176</td>\n",
       "      <td>70349.347</td>\n",
       "      <td>71314.219</td>\n",
       "      <td>72456.009</td>\n",
       "      <td>72198.595</td>\n",
       "    </tr>\n",
       "    <tr>\n",
       "      <th>08</th>\n",
       "      <td>7785.326</td>\n",
       "      <td>12333.452</td>\n",
       "      <td>15879.687</td>\n",
       "      <td>18362.580</td>\n",
       "      <td>22749.668</td>\n",
       "      <td>25599.306</td>\n",
       "      <td>24204.083</td>\n",
       "      <td>24332.931</td>\n",
       "      <td>26946.387</td>\n",
       "      <td>24986.071</td>\n",
       "      <td>...</td>\n",
       "      <td>71574.103</td>\n",
       "      <td>71338.566</td>\n",
       "      <td>69602.111</td>\n",
       "      <td>71344.379</td>\n",
       "      <td>71128.746</td>\n",
       "      <td>72415.352</td>\n",
       "      <td>71526.405</td>\n",
       "      <td>72384.218</td>\n",
       "      <td>72282.467</td>\n",
       "      <td>71910.684</td>\n",
       "    </tr>\n",
       "    <tr>\n",
       "      <th>09</th>\n",
       "      <td>7862.383</td>\n",
       "      <td>11009.752</td>\n",
       "      <td>14396.011</td>\n",
       "      <td>17290.311</td>\n",
       "      <td>19629.992</td>\n",
       "      <td>22188.917</td>\n",
       "      <td>21803.870</td>\n",
       "      <td>23572.294</td>\n",
       "      <td>24398.455</td>\n",
       "      <td>25390.532</td>\n",
       "      <td>...</td>\n",
       "      <td>69371.195</td>\n",
       "      <td>66848.854</td>\n",
       "      <td>64510.882</td>\n",
       "      <td>65798.971</td>\n",
       "      <td>67534.500</td>\n",
       "      <td>66476.372</td>\n",
       "      <td>65448.176</td>\n",
       "      <td>68097.918</td>\n",
       "      <td>64724.753</td>\n",
       "      <td>65892.180</td>\n",
       "    </tr>\n",
       "    <tr>\n",
       "      <th>10</th>\n",
       "      <td>7518.195</td>\n",
       "      <td>10863.505</td>\n",
       "      <td>14626.168</td>\n",
       "      <td>17355.218</td>\n",
       "      <td>19041.045</td>\n",
       "      <td>22996.549</td>\n",
       "      <td>20934.359</td>\n",
       "      <td>24509.631</td>\n",
       "      <td>20555.822</td>\n",
       "      <td>23247.700</td>\n",
       "      <td>...</td>\n",
       "      <td>62750.833</td>\n",
       "      <td>63336.970</td>\n",
       "      <td>59743.218</td>\n",
       "      <td>63183.533</td>\n",
       "      <td>62390.988</td>\n",
       "      <td>60570.921</td>\n",
       "      <td>60733.343</td>\n",
       "      <td>65994.785</td>\n",
       "      <td>59396.905</td>\n",
       "      <td>62032.622</td>\n",
       "    </tr>\n",
       "    <tr>\n",
       "      <th>11</th>\n",
       "      <td>8142.033</td>\n",
       "      <td>11004.327</td>\n",
       "      <td>14164.018</td>\n",
       "      <td>16134.204</td>\n",
       "      <td>19458.412</td>\n",
       "      <td>24900.669</td>\n",
       "      <td>19255.175</td>\n",
       "      <td>20983.909</td>\n",
       "      <td>22783.424</td>\n",
       "      <td>23235.022</td>\n",
       "      <td>...</td>\n",
       "      <td>62655.206</td>\n",
       "      <td>64473.880</td>\n",
       "      <td>56712.757</td>\n",
       "      <td>64975.456</td>\n",
       "      <td>65140.185</td>\n",
       "      <td>60263.941</td>\n",
       "      <td>65178.776</td>\n",
       "      <td>66617.853</td>\n",
       "      <td>63954.370</td>\n",
       "      <td>NaN</td>\n",
       "    </tr>\n",
       "    <tr>\n",
       "      <th>12</th>\n",
       "      <td>8030.511</td>\n",
       "      <td>13288.168</td>\n",
       "      <td>16678.669</td>\n",
       "      <td>21114.871</td>\n",
       "      <td>23771.398</td>\n",
       "      <td>25415.160</td>\n",
       "      <td>20586.386</td>\n",
       "      <td>22130.182</td>\n",
       "      <td>25996.603</td>\n",
       "      <td>24376.491</td>\n",
       "      <td>...</td>\n",
       "      <td>73683.304</td>\n",
       "      <td>71837.372</td>\n",
       "      <td>68583.669</td>\n",
       "      <td>71293.578</td>\n",
       "      <td>73362.548</td>\n",
       "      <td>69633.664</td>\n",
       "      <td>71662.429</td>\n",
       "      <td>73699.572</td>\n",
       "      <td>71657.288</td>\n",
       "      <td>NaN</td>\n",
       "    </tr>\n",
       "  </tbody>\n",
       "</table>\n",
       "<p>12 rows × 47 columns</p>\n",
       "</div>"
      ],
      "text/plain": [
       "YYYY      1973       1974       1975       1976       1977       1978  \\\n",
       "MM                                                                      \n",
       "01    6246.251   7602.790  13938.354  16098.884  22152.064  25832.949   \n",
       "02    5928.069   8115.522  12733.338  14377.127  19600.518  21832.500   \n",
       "03    6649.007   8777.497  14881.784  13992.977  20672.203  22448.665   \n",
       "04    5876.392   7128.892  13327.245  10981.808  19866.564  17579.902   \n",
       "05    5696.657   6562.335  13763.765  11929.390  20599.284  20416.170   \n",
       "06    6784.152   7079.595  12743.820  15757.435  21517.301  22185.187   \n",
       "07    6960.486  10209.908  15372.216  17708.727  21824.835  25007.094   \n",
       "08    7785.326  12333.452  15879.687  18362.580  22749.668  25599.306   \n",
       "09    7862.383  11009.752  14396.011  17290.311  19629.992  22188.917   \n",
       "10    7518.195  10863.505  14626.168  17355.218  19041.045  22996.549   \n",
       "11    8142.033  11004.327  14164.018  16134.204  19458.412  24900.669   \n",
       "12    8030.511  13288.168  16678.669  21114.871  23771.398  25415.160   \n",
       "\n",
       "YYYY       1979       1980       1981       1982  ...       2010       2011  \\\n",
       "MM                                                ...                         \n",
       "01    27792.163  19745.966  23778.769  25677.834  ...  72569.341  72742.813   \n",
       "02    25910.788  19277.338  21595.261  20187.619  ...  65245.370  64789.078   \n",
       "03    24334.822  20038.872  22004.399  22755.478  ...  64634.721  65661.598   \n",
       "04    18417.942  18793.503  20646.019  21784.661  ...  57611.073  54547.338   \n",
       "05    15024.851  18384.807  19723.090  21638.768  ...  66658.365  57012.914   \n",
       "06    16065.455  18322.206  21165.626  24026.011  ...  68301.322  65270.134   \n",
       "07    20824.729  21023.937  23079.647  25467.060  ...  71913.468  72344.850   \n",
       "08    24204.083  24332.931  26946.387  24986.071  ...  71574.103  71338.566   \n",
       "09    21803.870  23572.294  24398.455  25390.532  ...  69371.195  66848.854   \n",
       "10    20934.359  24509.631  20555.822  23247.700  ...  62750.833  63336.970   \n",
       "11    19255.175  20983.909  22783.424  23235.022  ...  62655.206  64473.880   \n",
       "12    20586.386  22130.182  25996.603  24376.491  ...  73683.304  71837.372   \n",
       "\n",
       "YYYY       2012       2013       2014       2015       2016       2017  \\\n",
       "MM                                                                       \n",
       "01    72381.186  71405.817  73162.609  74269.974  72524.775  73120.612   \n",
       "02    63847.023  61483.385  62638.950  63461.493  65638.141  63560.371   \n",
       "03    61728.613  62947.389  62397.080  64546.799  66148.894  65093.200   \n",
       "04    55870.931  56766.882  56384.588  59784.495  62731.845  56743.352   \n",
       "05    62081.445  62848.155  62947.430  65826.525  66576.493  61312.753   \n",
       "06    65140.085  66429.690  68138.232  68516.165  67175.324  67010.782   \n",
       "07    69129.329  70539.238  71940.126  71412.176  70349.347  71314.219   \n",
       "08    69602.111  71344.379  71128.746  72415.352  71526.405  72384.218   \n",
       "09    64510.882  65798.971  67534.500  66476.372  65448.176  68097.918   \n",
       "10    59743.218  63183.533  62390.988  60570.921  60733.343  65994.785   \n",
       "11    56712.757  64975.456  65140.185  60263.941  65178.776  66617.853   \n",
       "12    68583.669  71293.578  73362.548  69633.664  71662.429  73699.572   \n",
       "\n",
       "YYYY       2018       2019  \n",
       "MM                          \n",
       "01    74649.040  73700.844  \n",
       "02    64790.030  64714.894  \n",
       "03    67032.656  65079.691  \n",
       "04    59133.155  60580.927  \n",
       "05    67320.248  67123.546  \n",
       "06    69687.556  68804.879  \n",
       "07    72456.009  72198.595  \n",
       "08    72282.467  71910.684  \n",
       "09    64724.753  65892.180  \n",
       "10    59396.905  62032.622  \n",
       "11    63954.370        NaN  \n",
       "12    71657.288        NaN  \n",
       "\n",
       "[12 rows x 47 columns]"
      ]
     },
     "execution_count": 53,
     "metadata": {},
     "output_type": "execute_result"
    }
   ],
   "source": [
    "pivoted_df = pd.pivot_table(data=generate_df, index=\"MM\", columns=\"YYYY\", values=\"Value\")\n",
    "pivoted_df"
   ]
  },
  {
   "cell_type": "markdown",
   "metadata": {},
   "source": [
    "Now it's simply a matter of using `sns.heatmap()`. You can customize the plot (like setting its size and adding a title and axis labels) using `matplotlib` just as with the previous plots, because `seaborn` is built on top of `matplotlib`:"
   ]
  },
  {
   "cell_type": "code",
   "execution_count": 54,
   "metadata": {},
   "outputs": [
    {
     "data": {
      "text/plain": [
       "<AxesSubplot:xlabel='YYYY', ylabel='MM'>"
      ]
     },
     "execution_count": 54,
     "metadata": {},
     "output_type": "execute_result"
    },
    {
     "data": {
      "image/png": "[encoded data removed]",
      "text/plain": [
       "<Figure size 1080x216 with 2 Axes>"
      ]
     },
     "metadata": {},
     "output_type": "display_data"
    }
   ],
   "source": [
    "plt.figure(figsize=(15, 3)) # We can set the size using matplotlib\n",
    "sns.heatmap(pivoted_df, cmap=\"coolwarm\") # cmap defines the color palette"
   ]
  },
  {
   "cell_type": "markdown",
   "metadata": {
    "tags": [
     "7_min"
    ]
   },
   "source": [
    "### Box plots\n",
    "\n",
    "We can create box plots just as easily with the `sns.boxplot()` function. In the cell below, we ask `seaborn` to group our data by `Description` (the x-axis) and plot the distribution of `Value` for each `Description`. The `plt.xticks(rotation=90)` line is a bit of `matplotlib` code that rotates the x-axis labels by 90 degrees to prevent label collisions:"
   ]
  },
  {
   "cell_type": "code",
   "execution_count": 55,
   "metadata": {},
   "outputs": [
    {
     "data": {
      "text/plain": [
       "(array([ 0,  1,  2,  3,  4,  5,  6,  7,  8,  9, 10]),\n",
       " [Text(0, 0, 'PEC Residential Sector'),\n",
       "  Text(1, 0, 'TEC Residential Sector'),\n",
       "  Text(2, 0, 'PEC Commercial Sector'),\n",
       "  Text(3, 0, 'TEC Commercial Sector'),\n",
       "  Text(4, 0, 'PEC Industrial Sector'),\n",
       "  Text(5, 0, 'TEC Industrial Sector'),\n",
       "  Text(6, 0, 'PEC Transportation Sector'),\n",
       "  Text(7, 0, 'TEC Transportation Sector'),\n",
       "  Text(8, 0, 'PEC Electric Power Sector'),\n",
       "  Text(9, 0, 'Energy Consumption Balancing Item'),\n",
       "  Text(10, 0, 'PEC Total')])"
      ]
     },
     "execution_count": 55,
     "metadata": {},
     "output_type": "execute_result"
    },
    {
     "data": {
      "image/png": "[encoded data removed]",
      "text/plain": [
       "<Figure size 432x288 with 1 Axes>"
      ]
     },
     "metadata": {},
     "output_type": "display_data"
    }
   ],
   "source": [
    "sns.boxplot(x=\"Description\", y=\"Value\", data=energy_df)\n",
    "plt.xticks(rotation=90)"
   ]
  },
  {
   "cell_type": "markdown",
   "metadata": {},
   "source": [
    "The size of some `seaborn` plots won't be affected by `plt.figure(figsize=())`. This is the case for box plots - the syntax is just slightly different:"
   ]
  },
  {
   "cell_type": "code",
   "execution_count": 56,
   "metadata": {},
   "outputs": [
    {
     "data": {
      "text/plain": [
       "(array([ 0,  1,  2,  3,  4,  5,  6,  7,  8,  9, 10]),\n",
       " [Text(0, 0, 'PEC Residential Sector'),\n",
       "  Text(1, 0, 'TEC Residential Sector'),\n",
       "  Text(2, 0, 'PEC Commercial Sector'),\n",
       "  Text(3, 0, 'TEC Commercial Sector'),\n",
       "  Text(4, 0, 'PEC Industrial Sector'),\n",
       "  Text(5, 0, 'TEC Industrial Sector'),\n",
       "  Text(6, 0, 'PEC Transportation Sector'),\n",
       "  Text(7, 0, 'TEC Transportation Sector'),\n",
       "  Text(8, 0, 'PEC Electric Power Sector'),\n",
       "  Text(9, 0, 'Energy Consumption Balancing Item'),\n",
       "  Text(10, 0, 'PEC Total')])"
      ]
     },
     "execution_count": 56,
     "metadata": {},
     "output_type": "execute_result"
    },
    {
     "data": {
      "image/png": "[encoded data removed]",
      "text/plain": [
       "<Figure size 1080x432 with 1 Axes>"
      ]
     },
     "metadata": {},
     "output_type": "display_data"
    }
   ],
   "source": [
    "fig, ax = plt.subplots(figsize=(15,6))\n",
    "sns.boxplot(x=\"Description\", y=\"Value\", data=energy_df, ax=ax)\n",
    "plt.xticks(rotation=90)"
   ]
  },
  {
   "cell_type": "markdown",
   "metadata": {
    "tags": [
     "5_min"
    ]
   },
   "source": [
    "### Strip plots\n",
    "\n",
    "### Exercise 5 (optional)\n",
    "\n",
    "Making strip plots is very easy - you use `sns.stripplot()`. Copy the previous code cell and modify it to make a strip plot instead of a box plot."
   ]
  },
  {
   "cell_type": "markdown",
   "metadata": {
    "tags": [
     "ans_st"
    ]
   },
   "source": [
    "**Answer.**"
   ]
  },
  {
   "cell_type": "code",
   "execution_count": 57,
   "metadata": {},
   "outputs": [
    {
     "data": {
      "text/plain": [
       "(array([ 0,  1,  2,  3,  4,  5,  6,  7,  8,  9, 10]),\n",
       " [Text(0, 0, 'PEC Residential Sector'),\n",
       "  Text(1, 0, 'TEC Residential Sector'),\n",
       "  Text(2, 0, 'PEC Commercial Sector'),\n",
       "  Text(3, 0, 'TEC Commercial Sector'),\n",
       "  Text(4, 0, 'PEC Industrial Sector'),\n",
       "  Text(5, 0, 'TEC Industrial Sector'),\n",
       "  Text(6, 0, 'PEC Transportation Sector'),\n",
       "  Text(7, 0, 'TEC Transportation Sector'),\n",
       "  Text(8, 0, 'PEC Electric Power Sector'),\n",
       "  Text(9, 0, 'Energy Consumption Balancing Item'),\n",
       "  Text(10, 0, 'PEC Total')])"
      ]
     },
     "execution_count": 57,
     "metadata": {},
     "output_type": "execute_result"
    },
    {
     "data": {
      "image/png": "[encoded data removed]",
      "text/plain": [
       "<Figure size 1080x432 with 1 Axes>"
      ]
     },
     "metadata": {},
     "output_type": "display_data"
    }
   ],
   "source": [
    "fig, ax = plt.subplots(figsize=(15,6))\n",
    "sns.stripplot(x=\"Description\", y=\"Value\", data=energy_df, ax=ax)\n",
    "plt.xticks(rotation=90)"
   ]
  },
  {
   "cell_type": "markdown",
   "metadata": {},
   "source": [
    "-------"
   ]
  },
  {
   "cell_type": "markdown",
   "metadata": {},
   "source": [
    "## Appendix\n",
    "\n",
    "Here is a summary of the functions and tools introduced in this workshop:\n",
    "\n",
    "* `pandas` data exploration functions \n",
    "    * [`dtypes`](https://pandas.pydata.org/pandas-docs/stable/reference/api/pandas.DataFrame.dtypes.html): This is an attribute of `pandas` DataFrames that tells you the data types of the columns of the DataFrame. We don't use parenthesis when we access it.\n",
    "    * [`.isna()`](https://pandas.pydata.org/docs/reference/api/pandas.DataFrame.isna.html): When you call this function on a DataFrame or Series, it outputs a boolean object whose values are `True` if the corresponding value in the DataFrame is a null value, and `False` otherwise.\n",
    "    * [`.value_counts()`](https://pandas.pydata.org/docs/reference/api/pandas.Series.value_counts.html): This Series method creates a frequency table of the values in a Series.\n",
    "* `pandas` data transformation functions\n",
    "    * [`.drop()`](https://pandas.pydata.org/pandas-docs/stable/reference/api/pandas.DataFrame.drop.html): Drops either columns or rows in a DataFrame. To drop columns, you pass the `columns` argument and a list of the columns you want to remove. To drop rows, you do the same, only using the argument `index` instead.\n",
    "    * [`.dropna()`](https://pandas.pydata.org/pandas-docs/stable/reference/api/pandas.DataFrame.dropna.html): This method finds all the rows in a DataFrame or Series that contain null fields and removes them. If you call it on a DataFrame, you can optionally specify which columns to look for null values in, so that null values in other columns are allowed (for this, you use the `subset` argument).\n",
    "    * `.pct_change()`: This method computes the percentage change in a Series, comparing each item with the previous one (other lags are [possible](https://pandas.pydata.org/docs/reference/api/pandas.Series.pct_change.html)).\n",
    "    * [`.replace()`](https://pandas.pydata.org/docs/reference/api/pandas.DataFrame.replace.html): Call this method to replace values in a DataFrame or Series. You can pass a dictionary.\n",
    "    * [`.sort_values()`](https://pandas.pydata.org/docs/reference/api/pandas.DataFrame.sort_values.html): To sort a DataFrame or Series. You use `by` to tell `pandas` which column you would like to sort by, and to do a Z-A sort (or, equivalently, a 9-0 sort) you pass `ascending=False`.\n",
    "* `seaborn` plotting functions\n",
    "    * [`.boxplot()`](https://seaborn.pydata.org/generated/seaborn.boxplot.html) for box plots\n",
    "    * [`.heatmap()`](https://seaborn.pydata.org/generated/seaborn.heatmap.html) for heat maps\n",
    "    * [`.stripplot()`](https://seaborn.pydata.org/generated/seaborn.stripplot.html) for strip plots"
   ]
  }
 ],
 "metadata": {
  "c1_recart": "6.3.0-57c20131aabc1dc2a8c675852d80a7da",
  "kernelspec": {
   "display_name": "Python 3",
   "language": "python",
   "name": "python3"
  },
  "language_info": {
   "codemirror_mode": {
    "name": "ipython",
    "version": 3
   },
   "file_extension": ".py",
   "mimetype": "text/x-python",
   "name": "python",
   "nbconvert_exporter": "python",
   "pygments_lexer": "ipython3",
   "version": "3.8.8"
  }
 },
 "nbformat": 4,
 "nbformat_minor": 2
}
