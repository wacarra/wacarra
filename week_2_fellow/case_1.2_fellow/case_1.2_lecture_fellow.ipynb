{
 "cells": [
  {
   "cell_type": "markdown",
   "metadata": {},
   "source": [
    "# How are trading volume and volatility related for energy stocks?"
   ]
  },
  {
   "cell_type": "markdown",
   "metadata": {
    "tags": [
     "5_min"
    ]
   },
   "source": [
    "## Introduction\n",
    "\n",
    "**Business Context.** You are an analyst at a large mutual fund focused on natural resource stock investments. Natural resources are vital for a variety of industries in our economy. Recently, your division has taken interest in the following stocks:\n",
    "\n",
    "1. Dominion Energy Inc.\n",
    "2. Exelon Corp.\n",
    "3. NextEra Energy Inc.\n",
    "4. Southern Co.\n",
    "5. Duke Energy Corp.\n",
    "\n",
    "These stocks are all part of the energy sector, an important but volatile sector of the stock market. (A stock is considered volatile if its price exhibits large percentage changes day-to-day.) While high volatility increases the chance of great gains, it also makes it more likely to incur large losses, so risk must be managed carefully when investing in high-volatility stocks.\n",
    "\n",
    "Because your firm is quite large, there must be enough trading volume (average amount of shares transacted per day) so that it can easily transact in these stocks. Otherwise, this effect compounded with the stocks' naturally high volatility could make these too risky for the mutual fund to invest in. A stock with higher trading volume is easier to buy or sell quickly, which is extremely important in a volatile market.\n",
    "\n",
    "**Business Problem.** Given that both low trading volume and high volatility present risks to your investments, your team lead asks you to investigate the following: **\"How is the volatility of energy stocks related to their average daily trading volume?\"**\n",
    "\n",
    "**Analytical Context.** The data you've been given comprises price and trading volume data for the above stocks. This case begins with a brief overview of this data, after which you will: (1) perform some basic feature engineering; (2) calculate and interpret relevant summary statistics; and (3) inspect the relationship between volatility and trading volume."
   ]
  },
  {
   "cell_type": "markdown",
   "metadata": {
    "tags": [
     "3_min"
    ]
   },
   "source": [
    "## The data\n",
    "\n",
    "We have CSV files that include data for each of the following stocks:\n",
    "\n",
    "1. Dominion Energy Inc. (Stock Symbol: `D`)\n",
    "2. Exelon Corp. (Stock Symbol: `EXC`)\n",
    "3. NextEra Energy Inc. (Stock Symbol: `NEE`)\n",
    "4. Southern Co. (Stock Symbol: `SO`)\n",
    "5. Duke Energy Corp. (Stock Symbol: `DUK`)\n",
    "\n",
    "The available data for each stock includes:\n",
    "\n",
    "1. **Date:** The day of the year\n",
    "2. **Open:** The stock opening price of the day\n",
    "3. **High:** The highest observed stock price of the day\n",
    "4. **Low:** The lowest observed stock price of the day\n",
    "5. **Close:** The stock closing price of the day\n",
    "6. **Volume:** The volume of the stock traded over the day\n",
    "\n",
    "To get a better sense of the available data, let's first take a look at just the data for Dominion Energy, listed on the New York Stock Exchange under the symbol `D`. These are the first 10 rows of our dataset:\n",
    "\n",
    "<style type=\"text/css\">\n",
    ".tg  {border-collapse:collapse;border-spacing:0;}\n",
    ".tg td{border-color:black;border-style:solid;border-width:1px;font-family:Arial, sans-serif;font-size:14px;\n",
    "  overflow:hidden;padding:10px 5px;word-break:normal;}\n",
    ".tg th{border-color:black;border-style:solid;border-width:1px;font-family:Arial, sans-serif;font-size:14px;\n",
    "  font-weight:normal;overflow:hidden;padding:10px 5px;word-break:normal;}\n",
    ".tg .tg-0lax{text-align:left;vertical-align:top}\n",
    "</style>\n",
    "<table class=\"tg\">\n",
    "<thead>\n",
    "  <tr>\n",
    "    <th class=\"tg-0lax\">Date</th>\n",
    "    <th class=\"tg-0lax\">Open</th>\n",
    "    <th class=\"tg-0lax\">High</th>\n",
    "    <th class=\"tg-0lax\">Low</th>\n",
    "    <th class=\"tg-0lax\">Close</th>\n",
    "    <th class=\"tg-0lax\">Volume</th>\n",
    "  </tr>\n",
    "</thead>\n",
    "<tbody>\n",
    "  <tr>\n",
    "    <td class=\"tg-0lax\">2014-07-01</td>\n",
    "    <td class=\"tg-0lax\">63.406</td>\n",
    "    <td class=\"tg-0lax\">63.486</td>\n",
    "    <td class=\"tg-0lax\">62.618</td>\n",
    "    <td class=\"tg-0lax\">63.077</td>\n",
    "    <td class=\"tg-0lax\">3626031</td>\n",
    "  </tr>\n",
    "  <tr>\n",
    "    <td class=\"tg-0lax\">2014-07-02</td>\n",
    "    <td class=\"tg-0lax\">62.929</td>\n",
    "    <td class=\"tg-0lax\">62.935</td>\n",
    "    <td class=\"tg-0lax\">61.403</td>\n",
    "    <td class=\"tg-0lax\">61.73</td>\n",
    "    <td class=\"tg-0lax\">4079097</td>\n",
    "  </tr>\n",
    "  <tr>\n",
    "    <td class=\"tg-0lax\">2014-07-03</td>\n",
    "    <td class=\"tg-0lax\">61.394</td>\n",
    "    <td class=\"tg-0lax\">61.394</td>\n",
    "    <td class=\"tg-0lax\">60.303</td>\n",
    "    <td class=\"tg-0lax\">60.863</td>\n",
    "    <td class=\"tg-0lax\">2937489</td>\n",
    "  </tr>\n",
    "  <tr>\n",
    "    <td class=\"tg-0lax\">2014-07-07</td>\n",
    "    <td class=\"tg-0lax\">60.718</td>\n",
    "    <td class=\"tg-0lax\">61.43</td>\n",
    "    <td class=\"tg-0lax\">60.611</td>\n",
    "    <td class=\"tg-0lax\">61.038</td>\n",
    "    <td class=\"tg-0lax\">3122145</td>\n",
    "  </tr>\n",
    "  <tr>\n",
    "    <td class=\"tg-0lax\">2014-07-08</td>\n",
    "    <td class=\"tg-0lax\">60.931</td>\n",
    "    <td class=\"tg-0lax\">61.348</td>\n",
    "    <td class=\"tg-0lax\">60.88</td>\n",
    "    <td class=\"tg-0lax\">61.296</td>\n",
    "    <td class=\"tg-0lax\">3048285</td>\n",
    "  </tr>\n",
    "  <tr>\n",
    "    <td class=\"tg-0lax\">2014-07-09</td>\n",
    "    <td class=\"tg-0lax\">61.385</td>\n",
    "    <td class=\"tg-0lax\">61.501</td>\n",
    "    <td class=\"tg-0lax\">60.897</td>\n",
    "    <td class=\"tg-0lax\">61.34</td>\n",
    "    <td class=\"tg-0lax\">1948182</td>\n",
    "  </tr>\n",
    "  <tr>\n",
    "    <td class=\"tg-0lax\">2014-07-10</td>\n",
    "    <td class=\"tg-0lax\">61.26</td>\n",
    "    <td class=\"tg-0lax\">62.049</td>\n",
    "    <td class=\"tg-0lax\">61.163</td>\n",
    "    <td class=\"tg-0lax\">62.031</td>\n",
    "    <td class=\"tg-0lax\">2471888</td>\n",
    "  </tr>\n",
    "  <tr>\n",
    "    <td class=\"tg-0lax\">2014-07-11</td>\n",
    "    <td class=\"tg-0lax\">61.871</td>\n",
    "    <td class=\"tg-0lax\">62.031</td>\n",
    "    <td class=\"tg-0lax\">61.535</td>\n",
    "    <td class=\"tg-0lax\">61.607</td>\n",
    "    <td class=\"tg-0lax\">1418862</td>\n",
    "  </tr>\n",
    "  <tr>\n",
    "    <td class=\"tg-0lax\">2014-07-14</td>\n",
    "    <td class=\"tg-0lax\">61.802</td>\n",
    "    <td class=\"tg-0lax\">61.827</td>\n",
    "    <td class=\"tg-0lax\">61.057</td>\n",
    "    <td class=\"tg-0lax\">61.075</td>\n",
    "    <td class=\"tg-0lax\">1810671</td>\n",
    "  </tr>\n",
    "  <tr>\n",
    "    <td class=\"tg-0lax\">2014-07-15</td>\n",
    "    <td class=\"tg-0lax\">61.028</td>\n",
    "    <td class=\"tg-0lax\">61.696</td>\n",
    "    <td class=\"tg-0lax\">60.994</td>\n",
    "    <td class=\"tg-0lax\">61.625</td>\n",
    "    <td class=\"tg-0lax\">2714819</td>\n",
    "  </tr>\n",
    "</tbody>\n",
    "</table>\n"
   ]
  },
  {
   "cell_type": "markdown",
   "metadata": {
    "tags": [
     "10_min"
    ]
   },
   "source": [
    "## Creating additional variables relevant to stock volatility\n",
    "\n",
    "Sometimes we don't have all the variables we need for our analysis out of the box, but we can use the existing ones to create new variables that are more relevant. This is called **feature engineering**. In most practical situations you will need to do at least some feature engineering.\n",
    "\n",
    "Let's first add a new column with the name of the symbol:\n",
    "   \n",
    "    \n",
    "<style type=\"text/css\">\n",
    ".tg  {border-collapse:collapse;border-spacing:0;}\n",
    ".tg td{border-color:black;border-style:solid;border-width:1px;font-family:Arial, sans-serif;font-size:14px;\n",
    "  overflow:hidden;padding:10px 5px;word-break:normal;}\n",
    ".tg th{border-color:black;border-style:solid;border-width:1px;font-family:Arial, sans-serif;font-size:14px;\n",
    "  font-weight:normal;overflow:hidden;padding:10px 5px;word-break:normal;}\n",
    ".tg .tg-0lax{text-align:left;vertical-align:top}\n",
    "</style>\n",
    "<table class=\"tg\">\n",
    "<thead>\n",
    "  <tr>\n",
    "    <th class=\"tg-0lax\">Date</th>\n",
    "    <th class=\"tg-0lax\">Open</th>\n",
    "    <th class=\"tg-0lax\">High</th>\n",
    "    <th class=\"tg-0lax\">Low</th>\n",
    "    <th class=\"tg-0lax\">Close</th>\n",
    "    <th class=\"tg-0lax\">Volume</th>\n",
    "    <th class=\"tg-0lax\">Symbol</th>\n",
    "  </tr>\n",
    "</thead>\n",
    "<tbody>\n",
    "  <tr>\n",
    "    <td class=\"tg-0lax\">2014-07-01</td>\n",
    "    <td class=\"tg-0lax\">63.406</td>\n",
    "    <td class=\"tg-0lax\">63.486</td>\n",
    "    <td class=\"tg-0lax\">62.618</td>\n",
    "    <td class=\"tg-0lax\">63.077</td>\n",
    "    <td class=\"tg-0lax\">3626031</td>\n",
    "    <td class=\"tg-0lax\">D</td>\n",
    "  </tr>\n",
    "  <tr>\n",
    "    <td class=\"tg-0lax\">2014-07-02</td>\n",
    "    <td class=\"tg-0lax\">62.929</td>\n",
    "    <td class=\"tg-0lax\">62.935</td>\n",
    "    <td class=\"tg-0lax\">61.403</td>\n",
    "    <td class=\"tg-0lax\">61.73</td>\n",
    "    <td class=\"tg-0lax\">4079097</td>\n",
    "    <td class=\"tg-0lax\">D</td>\n",
    "  </tr>\n",
    "  <tr>\n",
    "    <td class=\"tg-0lax\">2014-07-03</td>\n",
    "    <td class=\"tg-0lax\">61.394</td>\n",
    "    <td class=\"tg-0lax\">61.394</td>\n",
    "    <td class=\"tg-0lax\">60.303</td>\n",
    "    <td class=\"tg-0lax\">60.863</td>\n",
    "    <td class=\"tg-0lax\">2937489</td>\n",
    "    <td class=\"tg-0lax\">D</td>\n",
    "  </tr>\n",
    "  <tr>\n",
    "    <td class=\"tg-0lax\">2014-07-07</td>\n",
    "    <td class=\"tg-0lax\">60.718</td>\n",
    "    <td class=\"tg-0lax\">61.43</td>\n",
    "    <td class=\"tg-0lax\">60.611</td>\n",
    "    <td class=\"tg-0lax\">61.038</td>\n",
    "    <td class=\"tg-0lax\">3122145</td>\n",
    "    <td class=\"tg-0lax\">D</td>\n",
    "  </tr>\n",
    "  <tr>\n",
    "    <td class=\"tg-0lax\">2014-07-08</td>\n",
    "    <td class=\"tg-0lax\">60.931</td>\n",
    "    <td class=\"tg-0lax\">61.348</td>\n",
    "    <td class=\"tg-0lax\">60.88</td>\n",
    "    <td class=\"tg-0lax\">61.296</td>\n",
    "    <td class=\"tg-0lax\">3048285</td>\n",
    "    <td class=\"tg-0lax\">D</td>\n",
    "  </tr>\n",
    "  <tr>\n",
    "    <td class=\"tg-0lax\">2014-07-09</td>\n",
    "    <td class=\"tg-0lax\">61.385</td>\n",
    "    <td class=\"tg-0lax\">61.501</td>\n",
    "    <td class=\"tg-0lax\">60.897</td>\n",
    "    <td class=\"tg-0lax\">61.34</td>\n",
    "    <td class=\"tg-0lax\">1948182</td>\n",
    "    <td class=\"tg-0lax\">D</td>\n",
    "  </tr>\n",
    "  <tr>\n",
    "    <td class=\"tg-0lax\">2014-07-10</td>\n",
    "    <td class=\"tg-0lax\">61.26</td>\n",
    "    <td class=\"tg-0lax\">62.049</td>\n",
    "    <td class=\"tg-0lax\">61.163</td>\n",
    "    <td class=\"tg-0lax\">62.031</td>\n",
    "    <td class=\"tg-0lax\">2471888</td>\n",
    "    <td class=\"tg-0lax\">D</td>\n",
    "  </tr>\n",
    "  <tr>\n",
    "    <td class=\"tg-0lax\">2014-07-11</td>\n",
    "    <td class=\"tg-0lax\">61.871</td>\n",
    "    <td class=\"tg-0lax\">62.031</td>\n",
    "    <td class=\"tg-0lax\">61.535</td>\n",
    "    <td class=\"tg-0lax\">61.607</td>\n",
    "    <td class=\"tg-0lax\">1418862</td>\n",
    "    <td class=\"tg-0lax\">D</td>\n",
    "  </tr>\n",
    "  <tr>\n",
    "    <td class=\"tg-0lax\">2014-07-14</td>\n",
    "    <td class=\"tg-0lax\">61.802</td>\n",
    "    <td class=\"tg-0lax\">61.827</td>\n",
    "    <td class=\"tg-0lax\">61.057</td>\n",
    "    <td class=\"tg-0lax\">61.075</td>\n",
    "    <td class=\"tg-0lax\">1810671</td>\n",
    "    <td class=\"tg-0lax\">D</td>\n",
    "  </tr>\n",
    "  <tr>\n",
    "    <td class=\"tg-0lax\">2014-07-15</td>\n",
    "    <td class=\"tg-0lax\">61.028</td>\n",
    "    <td class=\"tg-0lax\">61.696</td>\n",
    "    <td class=\"tg-0lax\">60.994</td>\n",
    "    <td class=\"tg-0lax\">61.625</td>\n",
    "    <td class=\"tg-0lax\">2714819</td>\n",
    "    <td class=\"tg-0lax\">D</td>\n",
    "  </tr>\n",
    "</tbody>\n",
    "</table>\n",
    "<br>\n",
    "\n",
    "Since we're working only with Stock `D` for now, the symbol is `D` for all the rows."
   ]
  },
  {
   "cell_type": "markdown",
   "metadata": {},
   "source": [
    "There's a variable `Volume` that is a bit difficult to read, because its numbers are very large. What if we create a new variable, `Volume_Millions`, to make working with it easier? This new variable will have exactly the same data, but expressed in millions of shares (not units of shares). This means that its formula will be:\n",
    "\n",
    "$$\n",
    "Volume\\_Millions = \\frac{Volume}{1,000,000}\n",
    "$$\n",
    "\n",
    "And here it is:\n",
    "\n",
    "<style type=\"text/css\">\n",
    ".tg  {border-collapse:collapse;border-spacing:0;}\n",
    ".tg td{border-color:black;border-style:solid;border-width:1px;font-family:Arial, sans-serif;font-size:14px;\n",
    "  overflow:hidden;padding:10px 5px;word-break:normal;}\n",
    ".tg th{border-color:black;border-style:solid;border-width:1px;font-family:Arial, sans-serif;font-size:14px;\n",
    "  font-weight:normal;overflow:hidden;padding:10px 5px;word-break:normal;}\n",
    ".tg .tg-0lax{text-align:left;vertical-align:top}\n",
    "</style>\n",
    "<table class=\"tg\">\n",
    "<thead>\n",
    "  <tr>\n",
    "    <th class=\"tg-0lax\">Date</th>\n",
    "    <th class=\"tg-0lax\">Open</th>\n",
    "    <th class=\"tg-0lax\">High</th>\n",
    "    <th class=\"tg-0lax\">Low</th>\n",
    "    <th class=\"tg-0lax\">Close</th>\n",
    "    <th class=\"tg-0lax\">Volume</th>\n",
    "    <th class=\"tg-0lax\">Symbol</th>\n",
    "    <th class=\"tg-0lax\">Volume_Millions</th>\n",
    "  </tr>\n",
    "</thead>\n",
    "<tbody>\n",
    "  <tr>\n",
    "    <td class=\"tg-0lax\">2014-07-01</td>\n",
    "    <td class=\"tg-0lax\">63.406</td>\n",
    "    <td class=\"tg-0lax\">63.486</td>\n",
    "    <td class=\"tg-0lax\">62.618</td>\n",
    "    <td class=\"tg-0lax\">63.077</td>\n",
    "    <td class=\"tg-0lax\">3626031</td>\n",
    "    <td class=\"tg-0lax\">D</td>\n",
    "    <td class=\"tg-0lax\">3.626031</td>\n",
    "  </tr>\n",
    "  <tr>\n",
    "    <td class=\"tg-0lax\">2014-07-02</td>\n",
    "    <td class=\"tg-0lax\">62.929</td>\n",
    "    <td class=\"tg-0lax\">62.935</td>\n",
    "    <td class=\"tg-0lax\">61.403</td>\n",
    "    <td class=\"tg-0lax\">61.73</td>\n",
    "    <td class=\"tg-0lax\">4079097</td>\n",
    "    <td class=\"tg-0lax\">D</td>\n",
    "    <td class=\"tg-0lax\">4.079097</td>\n",
    "  </tr>\n",
    "  <tr>\n",
    "    <td class=\"tg-0lax\">2014-07-03</td>\n",
    "    <td class=\"tg-0lax\">61.394</td>\n",
    "    <td class=\"tg-0lax\">61.394</td>\n",
    "    <td class=\"tg-0lax\">60.303</td>\n",
    "    <td class=\"tg-0lax\">60.863</td>\n",
    "    <td class=\"tg-0lax\">2937489</td>\n",
    "    <td class=\"tg-0lax\">D</td>\n",
    "    <td class=\"tg-0lax\">2.937489</td>\n",
    "  </tr>\n",
    "  <tr>\n",
    "    <td class=\"tg-0lax\">2014-07-07</td>\n",
    "    <td class=\"tg-0lax\">60.718</td>\n",
    "    <td class=\"tg-0lax\">61.43</td>\n",
    "    <td class=\"tg-0lax\">60.611</td>\n",
    "    <td class=\"tg-0lax\">61.038</td>\n",
    "    <td class=\"tg-0lax\">3122145</td>\n",
    "    <td class=\"tg-0lax\">D</td>\n",
    "    <td class=\"tg-0lax\">3.122145</td>\n",
    "  </tr>\n",
    "  <tr>\n",
    "    <td class=\"tg-0lax\">2014-07-08</td>\n",
    "    <td class=\"tg-0lax\">60.931</td>\n",
    "    <td class=\"tg-0lax\">61.348</td>\n",
    "    <td class=\"tg-0lax\">60.88</td>\n",
    "    <td class=\"tg-0lax\">61.296</td>\n",
    "    <td class=\"tg-0lax\">3048285</td>\n",
    "    <td class=\"tg-0lax\">D</td>\n",
    "    <td class=\"tg-0lax\">3.048285</td>\n",
    "  </tr>\n",
    "  <tr>\n",
    "    <td class=\"tg-0lax\">2014-07-09</td>\n",
    "    <td class=\"tg-0lax\">61.385</td>\n",
    "    <td class=\"tg-0lax\">61.501</td>\n",
    "    <td class=\"tg-0lax\">60.897</td>\n",
    "    <td class=\"tg-0lax\">61.34</td>\n",
    "    <td class=\"tg-0lax\">1948182</td>\n",
    "    <td class=\"tg-0lax\">D</td>\n",
    "    <td class=\"tg-0lax\">1.948182</td>\n",
    "  </tr>\n",
    "  <tr>\n",
    "    <td class=\"tg-0lax\">2014-07-10</td>\n",
    "    <td class=\"tg-0lax\">61.26</td>\n",
    "    <td class=\"tg-0lax\">62.049</td>\n",
    "    <td class=\"tg-0lax\">61.163</td>\n",
    "    <td class=\"tg-0lax\">62.031</td>\n",
    "    <td class=\"tg-0lax\">2471888</td>\n",
    "    <td class=\"tg-0lax\">D</td>\n",
    "    <td class=\"tg-0lax\">2.471888</td>\n",
    "  </tr>\n",
    "  <tr>\n",
    "    <td class=\"tg-0lax\">2014-07-11</td>\n",
    "    <td class=\"tg-0lax\">61.871</td>\n",
    "    <td class=\"tg-0lax\">62.031</td>\n",
    "    <td class=\"tg-0lax\">61.535</td>\n",
    "    <td class=\"tg-0lax\">61.607</td>\n",
    "    <td class=\"tg-0lax\">1418862</td>\n",
    "    <td class=\"tg-0lax\">D</td>\n",
    "    <td class=\"tg-0lax\">1.418862</td>\n",
    "  </tr>\n",
    "  <tr>\n",
    "    <td class=\"tg-0lax\">2014-07-14</td>\n",
    "    <td class=\"tg-0lax\">61.802</td>\n",
    "    <td class=\"tg-0lax\">61.827</td>\n",
    "    <td class=\"tg-0lax\">61.057</td>\n",
    "    <td class=\"tg-0lax\">61.075</td>\n",
    "    <td class=\"tg-0lax\">1810671</td>\n",
    "    <td class=\"tg-0lax\">D</td>\n",
    "    <td class=\"tg-0lax\">1.810671</td>\n",
    "  </tr>\n",
    "  <tr>\n",
    "    <td class=\"tg-0lax\">2014-07-15</td>\n",
    "    <td class=\"tg-0lax\">61.028</td>\n",
    "    <td class=\"tg-0lax\">61.696</td>\n",
    "    <td class=\"tg-0lax\">60.994</td>\n",
    "    <td class=\"tg-0lax\">61.625</td>\n",
    "    <td class=\"tg-0lax\">2714819</td>\n",
    "    <td class=\"tg-0lax\">D</td>\n",
    "    <td class=\"tg-0lax\">2.714819</td>\n",
    "  </tr>\n",
    "</tbody>\n",
    "</table>"
   ]
  },
  {
   "cell_type": "markdown",
   "metadata": {},
   "source": [
    "Moving forward, we need to have a feature in our DataFrame that is related to volatility. Because this currently does not exist, we must create it from the already available features. Recall that volatility is a measure of the variability of daily returns over a period of time, so let's create a feature for daily returns.\n",
    "\n",
    "Daily returns are defined as the percentage gain or loss of a stock when comparing today's close price to the previous day's close price. Therefore:\n",
    "\n",
    "$$\n",
    "Return = \\frac{Close_t}{Close_{t-1}} - 1\n",
    "$$\n",
    "\n",
    "where $t$ is an index of the days. Notice that we subtract 1 from the fraction to make this a rate of increase/decrease. That way, for instance, in the case where $Close_t$ and $Close_{t-1}$ are equal (no change), then $Return$ would be\n",
    "\n",
    "$$\\begin{aligned} Return &= 1 - 1 \\\\ &= 0 \\end{aligned}$$\n"
   ]
  },
  {
   "cell_type": "markdown",
   "metadata": {
    "tags": [
     "3_min"
    ]
   },
   "source": [
    "### Exercise 1\n",
    "\n",
    "Imagine a day in which the price of the shares at the close was lower than at the previous day's close. Which of the following will be true?\n",
    "\n",
    "* A. $Return = 0$\n",
    "* B. $Return > 0$\n",
    "* C. $Return < 0$\n",
    "* D. $Return = 1$"
   ]
  },
  {
   "cell_type": "markdown",
   "metadata": {
    "tags": [
     "ans_st"
    ]
   },
   "source": [
    "**Answer.**"
   ]
  },
  {
   "cell_type": "code",
   "execution_count": null,
   "metadata": {},
   "outputs": [],
   "source": []
  },
  {
   "cell_type": "markdown",
   "metadata": {},
   "source": [
    "-------"
   ]
  },
  {
   "cell_type": "markdown",
   "metadata": {
    "tags": [
     "5_min"
    ]
   },
   "source": [
    "We can create a new column `Close_Previous` to help us remember the closing price of the previous day ($Close_{t-1}$) and another one `Return` that corresponds to $Return$. Here is our updated DataFrame:\n",
    "\n",
    "\n",
    "<style type=\"text/css\">\n",
    ".tg  {border-collapse:collapse;border-spacing:0;}\n",
    ".tg td{border-color:black;border-style:solid;border-width:1px;font-family:Arial, sans-serif;font-size:14px;\n",
    "  overflow:hidden;padding:10px 5px;word-break:normal;}\n",
    ".tg th{border-color:black;border-style:solid;border-width:1px;font-family:Arial, sans-serif;font-size:14px;\n",
    "  font-weight:normal;overflow:hidden;padding:10px 5px;word-break:normal;}\n",
    ".tg .tg-0lax{text-align:left;vertical-align:top}\n",
    "</style>\n",
    "<table class=\"tg\">\n",
    "<thead>\n",
    "  <tr>\n",
    "    <th class=\"tg-0lax\">Date</th>\n",
    "    <th class=\"tg-0lax\">Open</th>\n",
    "    <th class=\"tg-0lax\">High</th>\n",
    "    <th class=\"tg-0lax\">Low</th>\n",
    "    <th class=\"tg-0lax\">Close</th>\n",
    "    <th class=\"tg-0lax\">Volume</th>\n",
    "    <th class=\"tg-0lax\">Symbol</th>\n",
    "    <th class=\"tg-0lax\">Volume_Millions</th>\n",
    "    <th class=\"tg-0lax\">Close_Previous</th>\n",
    "    <th class=\"tg-0lax\">Return</th>\n",
    "  </tr>\n",
    "</thead>\n",
    "<tbody>\n",
    "  <tr>\n",
    "    <td class=\"tg-0lax\">2014-07-01</td>\n",
    "    <td class=\"tg-0lax\">63.406</td>\n",
    "    <td class=\"tg-0lax\">63.486</td>\n",
    "    <td class=\"tg-0lax\">62.618</td>\n",
    "    <td class=\"tg-0lax\">63.077</td>\n",
    "    <td class=\"tg-0lax\">3626031</td>\n",
    "    <td class=\"tg-0lax\">D</td>\n",
    "    <td class=\"tg-0lax\">3.626031</td>\n",
    "    <td class=\"tg-0lax\">NaN</td>\n",
    "    <td class=\"tg-0lax\">NaN</td>\n",
    "  </tr>\n",
    "  <tr>\n",
    "    <td class=\"tg-0lax\">2014-07-02</td>\n",
    "    <td class=\"tg-0lax\">62.929</td>\n",
    "    <td class=\"tg-0lax\">62.935</td>\n",
    "    <td class=\"tg-0lax\">61.403</td>\n",
    "    <td class=\"tg-0lax\">61.73</td>\n",
    "    <td class=\"tg-0lax\">4079097</td>\n",
    "    <td class=\"tg-0lax\">D</td>\n",
    "    <td class=\"tg-0lax\">4.079097</td>\n",
    "    <td class=\"tg-0lax\">63.077</td>\n",
    "    <td class=\"tg-0lax\">-0.021355</td>\n",
    "  </tr>\n",
    "  <tr>\n",
    "    <td class=\"tg-0lax\">2014-07-03</td>\n",
    "    <td class=\"tg-0lax\">61.394</td>\n",
    "    <td class=\"tg-0lax\">61.394</td>\n",
    "    <td class=\"tg-0lax\">60.303</td>\n",
    "    <td class=\"tg-0lax\">60.863</td>\n",
    "    <td class=\"tg-0lax\">2937489</td>\n",
    "    <td class=\"tg-0lax\">D</td>\n",
    "    <td class=\"tg-0lax\">2.937489</td>\n",
    "    <td class=\"tg-0lax\">61.73</td>\n",
    "    <td class=\"tg-0lax\">-0.014045</td>\n",
    "  </tr>\n",
    "  <tr>\n",
    "    <td class=\"tg-0lax\">2014-07-07</td>\n",
    "    <td class=\"tg-0lax\">60.718</td>\n",
    "    <td class=\"tg-0lax\">61.43</td>\n",
    "    <td class=\"tg-0lax\">60.611</td>\n",
    "    <td class=\"tg-0lax\">61.038</td>\n",
    "    <td class=\"tg-0lax\">3122145</td>\n",
    "    <td class=\"tg-0lax\">D</td>\n",
    "    <td class=\"tg-0lax\">3.122145</td>\n",
    "    <td class=\"tg-0lax\">60.863</td>\n",
    "    <td class=\"tg-0lax\">0.002875</td>\n",
    "  </tr>\n",
    "  <tr>\n",
    "    <td class=\"tg-0lax\">2014-07-08</td>\n",
    "    <td class=\"tg-0lax\">60.931</td>\n",
    "    <td class=\"tg-0lax\">61.348</td>\n",
    "    <td class=\"tg-0lax\">60.88</td>\n",
    "    <td class=\"tg-0lax\">61.296</td>\n",
    "    <td class=\"tg-0lax\">3048285</td>\n",
    "    <td class=\"tg-0lax\">D</td>\n",
    "    <td class=\"tg-0lax\">3.048285</td>\n",
    "    <td class=\"tg-0lax\">61.038</td>\n",
    "    <td class=\"tg-0lax\">0.004227</td>\n",
    "  </tr>\n",
    "  <tr>\n",
    "    <td class=\"tg-0lax\">2014-07-09</td>\n",
    "    <td class=\"tg-0lax\">61.385</td>\n",
    "    <td class=\"tg-0lax\">61.501</td>\n",
    "    <td class=\"tg-0lax\">60.897</td>\n",
    "    <td class=\"tg-0lax\">61.34</td>\n",
    "    <td class=\"tg-0lax\">1948182</td>\n",
    "    <td class=\"tg-0lax\">D</td>\n",
    "    <td class=\"tg-0lax\">1.948182</td>\n",
    "    <td class=\"tg-0lax\">61.296</td>\n",
    "    <td class=\"tg-0lax\">0.000718</td>\n",
    "  </tr>\n",
    "  <tr>\n",
    "    <td class=\"tg-0lax\">2014-07-10</td>\n",
    "    <td class=\"tg-0lax\">61.26</td>\n",
    "    <td class=\"tg-0lax\">62.049</td>\n",
    "    <td class=\"tg-0lax\">61.163</td>\n",
    "    <td class=\"tg-0lax\">62.031</td>\n",
    "    <td class=\"tg-0lax\">2471888</td>\n",
    "    <td class=\"tg-0lax\">D</td>\n",
    "    <td class=\"tg-0lax\">2.471888</td>\n",
    "    <td class=\"tg-0lax\">61.34</td>\n",
    "    <td class=\"tg-0lax\">0.011265</td>\n",
    "  </tr>\n",
    "  <tr>\n",
    "    <td class=\"tg-0lax\">2014-07-11</td>\n",
    "    <td class=\"tg-0lax\">61.871</td>\n",
    "    <td class=\"tg-0lax\">62.031</td>\n",
    "    <td class=\"tg-0lax\">61.535</td>\n",
    "    <td class=\"tg-0lax\">61.607</td>\n",
    "    <td class=\"tg-0lax\">1418862</td>\n",
    "    <td class=\"tg-0lax\">D</td>\n",
    "    <td class=\"tg-0lax\">1.418862</td>\n",
    "    <td class=\"tg-0lax\">62.031</td>\n",
    "    <td class=\"tg-0lax\">-0.006835</td>\n",
    "  </tr>\n",
    "  <tr>\n",
    "    <td class=\"tg-0lax\">2014-07-14</td>\n",
    "    <td class=\"tg-0lax\">61.802</td>\n",
    "    <td class=\"tg-0lax\">61.827</td>\n",
    "    <td class=\"tg-0lax\">61.057</td>\n",
    "    <td class=\"tg-0lax\">61.075</td>\n",
    "    <td class=\"tg-0lax\">1810671</td>\n",
    "    <td class=\"tg-0lax\">D</td>\n",
    "    <td class=\"tg-0lax\">1.810671</td>\n",
    "    <td class=\"tg-0lax\">61.607</td>\n",
    "    <td class=\"tg-0lax\">-0.008635</td>\n",
    "  </tr>\n",
    "  <tr>\n",
    "    <td class=\"tg-0lax\">2014-07-15</td>\n",
    "    <td class=\"tg-0lax\">61.028</td>\n",
    "    <td class=\"tg-0lax\">61.696</td>\n",
    "    <td class=\"tg-0lax\">60.994</td>\n",
    "    <td class=\"tg-0lax\">61.625</td>\n",
    "    <td class=\"tg-0lax\">2714819</td>\n",
    "    <td class=\"tg-0lax\">D</td>\n",
    "    <td class=\"tg-0lax\">2.714819</td>\n",
    "    <td class=\"tg-0lax\">61.075</td>\n",
    "    <td class=\"tg-0lax\">0.009005</td>\n",
    "  </tr>\n",
    "</tbody>\n",
    "</table>\n",
    "\n",
    "You can verify that, for the 8 of July, for instance, the closing price was 61.296 and the closing price of the previous day was 61.038, which means that:\n",
    "\n",
    "$$\\begin{aligned}\n",
    "Return_{Jul\\ 8,\\ 2014} &= \\frac{61.296}{61.038} - 1 \\\\\n",
    "&= 0.004226875\n",
    "\\end{aligned}$$\n"
   ]
  },
  {
   "cell_type": "markdown",
   "metadata": {},
   "source": [
    "Let's create another quantity to measure our volatility. Let's call it `VolStat`. This quantity takes the range of the price of each day (`High` - `Low`) rather than the difference between today's closing price and yesterday's closing price. The formula is:\n",
    "\n",
    "$$\n",
    "VolStat = \\frac{High_t - Low_t}{Open_t}\n",
    "$$\n",
    "\n",
    "This metric captures movements in the middle of each day, rather than just movements between days. We divide by $Open_t$ to normalize the result so that we get a number that is more comparable across days. The DataFrame with this new feature looks like this:\n",
    "\n",
    "\n",
    "<table>\n",
    "<thead>\n",
    "  <tr>\n",
    "    <th>Date</th>\n",
    "    <th>Open</th>\n",
    "    <th>High</th>\n",
    "    <th>Low</th>\n",
    "    <th>Close</th>\n",
    "    <th>Volume</th>\n",
    "    <th>Symbol</th>\n",
    "    <th>Volume_Millions</th>\n",
    "    <th>Close_Previous</th>\n",
    "    <th>Return</th>\n",
    "    <th>VolStat</th>\n",
    "  </tr>\n",
    "</thead>\n",
    "<tbody>\n",
    "  <tr>\n",
    "    <td>2014-07-01</td>\n",
    "    <td>63.406</td>\n",
    "    <td>63.486</td>\n",
    "    <td>62.618</td>\n",
    "    <td>63.077</td>\n",
    "    <td>3626031</td>\n",
    "    <td>D</td>\n",
    "    <td>3.626031</td>\n",
    "    <td>NaN</td>\n",
    "    <td>NaN</td>\n",
    "    <td>0.01369</td>\n",
    "  </tr>\n",
    "  <tr>\n",
    "    <td>2014-07-02</td>\n",
    "    <td>62.929</td>\n",
    "    <td>62.935</td>\n",
    "    <td>61.403</td>\n",
    "    <td>61.73</td>\n",
    "    <td>4079097</td>\n",
    "    <td>D</td>\n",
    "    <td>4.079097</td>\n",
    "    <td>63.077</td>\n",
    "    <td>-0.021355</td>\n",
    "    <td>0.024345</td>\n",
    "  </tr>\n",
    "  <tr>\n",
    "    <td>2014-07-03</td>\n",
    "    <td>61.394</td>\n",
    "    <td>61.394</td>\n",
    "    <td>60.303</td>\n",
    "    <td>60.863</td>\n",
    "    <td>2937489</td>\n",
    "    <td>D</td>\n",
    "    <td>2.937489</td>\n",
    "    <td>61.73</td>\n",
    "    <td>-0.014045</td>\n",
    "    <td>0.01777</td>\n",
    "  </tr>\n",
    "  <tr>\n",
    "    <td>2014-07-07</td>\n",
    "    <td>60.718</td>\n",
    "    <td>61.43</td>\n",
    "    <td>60.611</td>\n",
    "    <td>61.038</td>\n",
    "    <td>3122145</td>\n",
    "    <td>D</td>\n",
    "    <td>3.122145</td>\n",
    "    <td>60.863</td>\n",
    "    <td>0.002875</td>\n",
    "    <td>0.013489</td>\n",
    "  </tr>\n",
    "  <tr>\n",
    "    <td>2014-07-08</td>\n",
    "    <td>60.931</td>\n",
    "    <td>61.348</td>\n",
    "    <td>60.88</td>\n",
    "    <td>61.296</td>\n",
    "    <td>3048285</td>\n",
    "    <td>D</td>\n",
    "    <td>3.048285</td>\n",
    "    <td>61.038</td>\n",
    "    <td>0.004227</td>\n",
    "    <td>0.007681</td>\n",
    "  </tr>\n",
    "  <tr>\n",
    "    <td>2014-07-09</td>\n",
    "    <td>61.385</td>\n",
    "    <td>61.501</td>\n",
    "    <td>60.897</td>\n",
    "    <td>61.34</td>\n",
    "    <td>1948182</td>\n",
    "    <td>D</td>\n",
    "    <td>1.948182</td>\n",
    "    <td>61.296</td>\n",
    "    <td>0.000718</td>\n",
    "    <td>0.00984</td>\n",
    "  </tr>\n",
    "  <tr>\n",
    "    <td>2014-07-10</td>\n",
    "    <td>61.26</td>\n",
    "    <td>62.049</td>\n",
    "    <td>61.163</td>\n",
    "    <td>62.031</td>\n",
    "    <td>2471888</td>\n",
    "    <td>D</td>\n",
    "    <td>2.471888</td>\n",
    "    <td>61.34</td>\n",
    "    <td>0.011265</td>\n",
    "    <td>0.014463</td>\n",
    "  </tr>\n",
    "  <tr>\n",
    "    <td>2014-07-11</td>\n",
    "    <td>61.871</td>\n",
    "    <td>62.031</td>\n",
    "    <td>61.535</td>\n",
    "    <td>61.607</td>\n",
    "    <td>1418862</td>\n",
    "    <td>D</td>\n",
    "    <td>1.418862</td>\n",
    "    <td>62.031</td>\n",
    "    <td>-0.006835</td>\n",
    "    <td>0.008017</td>\n",
    "  </tr>\n",
    "  <tr>\n",
    "    <td>2014-07-14</td>\n",
    "    <td>61.802</td>\n",
    "    <td>61.827</td>\n",
    "    <td>61.057</td>\n",
    "    <td>61.075</td>\n",
    "    <td>1810671</td>\n",
    "    <td>D</td>\n",
    "    <td>1.810671</td>\n",
    "    <td>61.607</td>\n",
    "    <td>-0.008635</td>\n",
    "    <td>0.012459</td>\n",
    "  </tr>\n",
    "  <tr>\n",
    "    <td>2014-07-15</td>\n",
    "    <td>61.028</td>\n",
    "    <td>61.696</td>\n",
    "    <td>60.994</td>\n",
    "    <td>61.625</td>\n",
    "    <td>2714819</td>\n",
    "    <td>D</td>\n",
    "    <td>2.714819</td>\n",
    "    <td>61.075</td>\n",
    "    <td>0.009005</td>\n",
    "    <td>0.011503</td>\n",
    "  </tr>\n",
    "</tbody>\n",
    "</table>\n",
    "\n",
    "We're all set - let's start exploring our data!"
   ]
  },
  {
   "cell_type": "markdown",
   "metadata": {
    "tags": [
     "10_min"
    ]
   },
   "source": [
    "## Learning about the data distribution through summary statistics\n",
    "\n",
    "Let's imagine a hypothetical situation - suppose you have a list of ages taken from a survey you conducted among your friends. The ages are:\n",
    "\n",
    "```\n",
    "21, 30, 35, 40, 41, 45, 44, 44, 48, 43, 70\n",
    "```\n",
    "\n",
    "If you needed to summarize this set of numbers, you could group them in subsets (by tens for example; e.g. 20s, 30s, 40s, etc.) and count the number of numbers within each subset. In this example, the resulting **frequency table** would be:\n",
    "\n",
    "| Group | Number of people |\n",
    "| ------| -----------------|\n",
    "20-29 | 1 |\n",
    "30-39 | 2 |\n",
    "40-49 | 7 |\n",
    "50-59 | 0 |\n",
    "60-69 | 0 |\n",
    "70-79 | 1 |\n",
    "\n",
    "So, instead of reciting the ages of your friends one-by-one every time someone asks you about them, you can simply report the frequency table and say \"most of my friends are between 40 and 49 years old\". When you make claims like this, you are describing the **distribution** of the available data across the subsets you have defined.\n",
    "\n",
    "If you plot a frequency table in which the categories are intervals, you get something called a **histogram**:\n",
    "\n",
    "![\"Histogram of ages\"](data/images/histogram_of_ages.png)\n",
    "\n",
    "You can vary the width of the bins in a histogram to get a higher or lower resolution summary of your picture, depending on your needs. For instance, this is the same dataset, but summarized by a histogram in which each bar is only five years wide:\n",
    "\n",
    "![\"Histogram of ages\"](data/images/histogram_of_ages_5_years.png)\n",
    "\n",
    "The ideal bin width will depend on your particular needs. `pandas` provides you with sensible defaults, so most of the time you won't have to worry too much about it.\n",
    "\n",
    "Now that we know what a distribution is and how to represent it graphically, let's plot the distribution of our `Volume_Millions` column:\n",
    "\n",
    "![\"Histogram of Volume_Millions\"](data/images/histogram_of_volume_millions.png)\n",
    "\n",
    "Let's interpret it. There are some important things that catch our eye as soon as we see the histogram:\n",
    "\n",
    "* The variable ranges between ~1 and ~12 (recall these are millions of shares).\n",
    "* On most days, the traded volume is higher than 1 million but lower than 4 million. Therefore, a \"typical\" day would be a day in which the number of traded shares is between those two numbers. It seems that there is non-trivial variability even in a typical day.\n",
    "* There are very few days with traded volume higher than 6 million. It is very rare to see days with very high traded volumes (extreme values are called **outliers**).\n",
    "* Since this distribution has a \"tail\" on the right side, we say it is \"right-skewed\"."
   ]
  },
  {
   "cell_type": "markdown",
   "metadata": {
    "tags": [
     "5_min"
    ]
   },
   "source": [
    "### Exercise 2\n",
    "\n",
    "Let's plot a histogram of `Open` for `D`. Interpret this one as well.\n",
    "\n",
    "![\"Histogram of Open\"](data/images/histogram_of_open.png)"
   ]
  },
  {
   "cell_type": "markdown",
   "metadata": {
    "tags": [
     "ans_st"
    ]
   },
   "source": [
    "**Answer.**"
   ]
  },
  {
   "cell_type": "markdown",
   "metadata": {},
   "source": [
    "-------"
   ]
  },
  {
   "cell_type": "markdown",
   "metadata": {
    "tags": [
     "3_min"
    ]
   },
   "source": [
    "While creating frequency tables and plotting them is useful, we sometimes want to have an even more summarized view of our data. For that, we compute **summary statistics**. You can think of your histogram as a summary of your raw data, and your summary statistics as a summary of the shape of your histogram.\n",
    "\n",
    "Probably the most straightforward statistics are the minimum and the maximum. You can plot them over your histogram to see them in context, like in this histogram of `Open`:\n",
    "\n",
    "![\"Histogram of Open with minimum and maximum\"](data/images/histogram_of_open_min_max.png)\n",
    "\n",
    "So the minimum value of `Open` is 57.77 and the maximum is 81.55."
   ]
  },
  {
   "cell_type": "markdown",
   "metadata": {
    "tags": [
     "2_min"
    ]
   },
   "source": [
    "### Exercise 3\n",
    "\n",
    "The **range** of a variable is the number you get when you subtract the minimum value from the maximum value. It is useful to help you get an idea of all the possible values that your variable can take or has taken in a particular sample. What is the range of `Open` for the `D` stock?"
   ]
  },
  {
   "cell_type": "markdown",
   "metadata": {
    "tags": [
     "ans_st"
    ]
   },
   "source": [
    "**Answer.**"
   ]
  },
  {
   "cell_type": "markdown",
   "metadata": {},
   "source": [
    "-------"
   ]
  },
  {
   "cell_type": "markdown",
   "metadata": {
    "tags": [
     "13_min"
    ]
   },
   "source": [
    "As much as the minimum and the maximum give you important information about the shape of your distribution/histogram, they are often not enough. As an example of one thing they don't show, think of two histograms with exactly the same range, but one is symmetric and the other isn't. Only knowing the most extreme values doesn't allow you to observe the symmetry or asymmetry of your distribution.\n",
    "\n",
    "That's why data practitioners make use of other summary statistics, one of which (probably the most famous) is the **arithmetic mean** (or simply the **mean**).\n",
    "\n",
    "The formula for the mean is the following:\n",
    "\n",
    "$$\n",
    "\\bar{X} = \\displaystyle\\frac{\\displaystyle\\sum_{i=1}^{n} a_i}{n}\n",
    "$$\n",
    "\n",
    "where $X$ is your variable (that is, the values in your data sample), $\\bar{X}$ is the mean of your variable, $n$ is the number of data points in your data sample, and $a_i$ is the value of the $i$-th data point in your data sample.\n",
    "\n",
    "If you're not familiar with [summation notation](https://en.wikipedia.org/wiki/Summation#Notation), here is an equivalent:\n",
    "\n",
    "$$\n",
    "\\bar{X} = \\frac{a_1 + a_2 + a_3 + ... + a_n}{n}\n",
    "$$\n",
    "\n",
    "So to compute the mean, you sum up all the values in your data sample and then divide the result by the number of data points in your data sample.\n",
    "\n",
    "Let's visualize the mean of `Open` (the mean is the yellow line):\n",
    "\n",
    "![\"Histogram of Open with mean\"](data/images/histogram_of_open_mean.png)\n",
    "\n",
    "As you can see, the mean is at the middle of this histogram.\n",
    "\n",
    "Conceptually, the mean is a type of average that attempts to report the \"center\" of your distribution; i.e. the \"center\" of your histogram. If your data are mostly concentrated around the middle of the histogram, then the mean is a very good summary of the \"typical value\" of your dataset. If your data are not concentrated around the center, then your mean loses credibility as the typical value."
   ]
  },
  {
   "cell_type": "markdown",
   "metadata": {},
   "source": [
    "Another central tendency measure is the **median**. The median, just like the mean, reports an approximation of the center of the distribution. It is computed differently and it also behaves differently in certain situations, which is the reason why it is used alongside the mean.\n",
    "\n",
    "Let's say you have a data sample called $X$. To calculate the median, you have to:\n",
    "\n",
    "1. Sort $X$ from smallest to largest.\n",
    "2. Pick the value that is right in the middle - that's your median.\n",
    "\n",
    "If your data sample happens to have an even number of elements, then you'll find that there are *two* numbers in the middle of the ordered set, not just one. In that case, you add them and then divide the sum by 2. The result is your median.\n",
    "\n",
    "Let's visualize the median. This is a plot of `Open` in which the *mean* is in yellow and the *median* is in green:\n",
    "\n",
    "![\"Histogram of Open with mean and median\"](data/images/histogram_of_open_mean_median.png)\n",
    "\n",
    "Since the median is exactly at the middle point in your dataset, 50% of your data points will be smaller than that value and 50% will be larger than that value."
   ]
  },
  {
   "cell_type": "markdown",
   "metadata": {
    "tags": [
     "5_min"
    ]
   },
   "source": [
    "### Exercise 4\n",
    "\n",
    "Recall the distribution of the `Volume_Millions` column:\n",
    "\n",
    "![\"Histogram of Volume_Millions\"](data/images/histogram_of_volume_millions.png)\n",
    "\n",
    "Which of the following is true about this distribution?\n",
    "\n",
    "* A. The mean and the median will coincide.\n",
    "* B. The mean will be greater than the median.\n",
    "* C. The mean will be less than the median."
   ]
  },
  {
   "cell_type": "markdown",
   "metadata": {
    "tags": [
     "ans_st"
    ]
   },
   "source": [
    "**Answer.**"
   ]
  },
  {
   "cell_type": "markdown",
   "metadata": {},
   "source": [
    "-------"
   ]
  },
  {
   "cell_type": "markdown",
   "metadata": {
    "tags": [
     "2_min"
    ]
   },
   "source": [
    "There are two additional summary statistics worth mentioning. The first is the [**mode**](https://en.wikipedia.org/wiki/Mode_(statistics)). The mode is simply the value that appears most often in your dataset. If there is one value that is the most frequent, the distribution is said to be *unimodal* (one mode), but if several values are very frequent (which makes the distribution look like a [Bactrian camel's back](https://en.wikipedia.org/wiki/Bactrian_camel)), then it is [*multimodal*](https://en.wikipedia.org/wiki/Multimodal_distribution).\n",
    "\n",
    "The second one is the **quantile** function. This function gives you the $q$-th percentile of your dataset; i.e. the value such that $q$ percent of your dataset is less than that value. The median is a classical case of this, where $q = 50$. As another example, a cutoff of $q = 25$ means that 25\\% of your data are below the resulting value."
   ]
  },
  {
   "cell_type": "markdown",
   "metadata": {
    "tags": [
     "5_min"
    ]
   },
   "source": [
    "### Exercise 5\n",
    "\n",
    "This is the distribution of the `Close` column:\n",
    "\n",
    "![\"Histogram of Close\"](data/images/histogram_of_close.png)\n",
    "\n",
    "Try to imagine where the lines should be for these quantiles:\n",
    "\n",
    "* $q=0$\n",
    "* $q=25$\n",
    "* $q=50$\n",
    "* $q=75$\n",
    "* $q=100$\n",
    "\n",
    "If you can draw the histogram on paper, try drawing the vertical lines by hand and then take a photo and share it with the class."
   ]
  },
  {
   "cell_type": "markdown",
   "metadata": {
    "tags": [
     "ans_st"
    ]
   },
   "source": [
    "**Answer.**"
   ]
  },
  {
   "cell_type": "markdown",
   "metadata": {},
   "source": [
    "-------"
   ]
  },
  {
   "cell_type": "markdown",
   "metadata": {
    "tags": [
     "10_min"
    ]
   },
   "source": [
    "### Exercise 6\n",
    "\n",
    "Let's visualize the relationship between the shape of a histogram and its summary statistics. Run the cell below and open the link that appears. Play around with the parameters and share with the class everything that you find interesting. Every time that you change the parameters, a distribution of random numbers is generated and its mean and quantiles are computed.\n",
    "\n",
    "**Hint:** We suggest you try doing this as well:\n",
    "\n",
    "1. Set both parameters all the way to the left. The resulting distribution is called a **uniform distribution**. What can you say about its summary statistics?\n",
    "2. Set both parameters all the way to the right. Now what do you see?\n",
    "3. Set one parameter all the way to the right and the other all the way to the left. What happens?"
   ]
  },
  {
   "cell_type": "code",
   "execution_count": 5,
   "metadata": {},
   "outputs": [
    {
     "name": "stdout",
     "output_type": "stream",
     "text": [
      "Dash app running on https://workspace.ds4a.com/user/wacarray@gmail.com/proxy/8050/\n"
     ]
    }
   ],
   "source": [
    "# Please run this cell TWICE\n",
    "# If you need to stop the app, simply restart your kernel\n",
    "import c1applet.c1applet as c1\n",
    "c1app = c1.app\n",
    "c1app.run_server(port='8050')"
   ]
  },
  {
   "cell_type": "markdown",
   "metadata": {
    "tags": [
     "3_min"
    ]
   },
   "source": [
    "## Analyzing each stock's volatility levels\n",
    "\n",
    "Let's now work with the complete dataset. Now we have data for all five stocks in a single table. These are the summary statistics for the `VolStat` column for each stock:\n",
    "\n",
    "\n",
    "<table border=\"1\" class=\"dataframe\">  <thead>    <tr style=\"text-align: right;\">      <th>Symbol</th>      <th>count</th>      <th>mean</th>      <th>std</th>      <th>min</th>      <th>25%</th>      <th>50%</th>      <th>75%</th>      <th>max</th>    </tr>    <tr>      <th></th>      <th></th>      <th></th>      <th></th>      <th></th>      <th></th>      <th></th>      <th></th>      <th></th>    </tr>  </thead>  <tbody>    <tr>      <th>D</th>      <td>850.0</td>      <td>0.014364</td>      <td>0.006420</td>      <td>0.003636</td>      <td>0.009789</td>      <td>0.013084</td>      <td>0.017269</td>      <td>0.049232</td>    </tr>    <tr>      <th>DUK</th>      <td>850.0</td>      <td>0.014070</td>      <td>0.006368</td>      <td>0.003548</td>      <td>0.009649</td>      <td>0.012351</td>      <td>0.017350</td>      <td>0.054170</td>    </tr>    <tr>      <th>EXC</th>      <td>850.0</td>      <td>0.018529</td>      <td>0.008725</td>      <td>0.005390</td>      <td>0.012319</td>      <td>0.016744</td>      <td>0.022779</td>      <td>0.093240</td>    </tr>    <tr>      <th>NEE</th>      <td>850.0</td>      <td>0.014801</td>      <td>0.006672</td>      <td>0.004454</td>      <td>0.010192</td>      <td>0.013178</td>      <td>0.017617</td>      <td>0.056885</td>    </tr>    <tr>      <th>SO</th>      <td>850.0</td>      <td>0.013325</td>      <td>0.005952</td>      <td>0.002926</td>      <td>0.009068</td>      <td>0.012017</td>      <td>0.015934</td>      <td>0.047707</td>    </tr>  </tbody></table>\n",
    "\n",
    "**Note:** The `std` column refers to the *standard deviation*. Don't worry about this one for now; we'll cover this concept in future cases.\n",
    "\n",
    "One immediate observation of note is that the volatility level on any given day can vary widely. This is evident from the wide spread between the minimum and maximum ```VolStat``` levels seen here. For example, stock symbol `D` has a minimum ```VolStat``` value of 0.003636, while its maximum ```VolStat``` value is 0.049232. That's more than a 10x increase in the value of ```VolStat```!"
   ]
  },
  {
   "cell_type": "markdown",
   "metadata": {
    "tags": [
     "3_min"
    ]
   },
   "source": [
    "### Exercise 7\n",
    "\n",
    "What are some insights you can draw from the ```VolStat``` summary statistics in terms of volatility levels?"
   ]
  },
  {
   "cell_type": "markdown",
   "metadata": {
    "tags": [
     "ans_st"
    ]
   },
   "source": [
    "**Answer.**"
   ]
  },
  {
   "cell_type": "markdown",
   "metadata": {},
   "source": [
    "-------"
   ]
  },
  {
   "cell_type": "markdown",
   "metadata": {
    "tags": [
     "5_min"
    ]
   },
   "source": [
    "## Labeling data points as high or low volatility\n",
    "\n",
    "Now that we've determined that the volatility levels of each stock can vary widely, the next logical step is to group periods of high and low volatility so that we can then look at how volume differs between those time periods.\n",
    "\n",
    "However, we don't currently have a column that identifies when volatility is high and when it is low. Therefore, we must create a new column called ```VolLevel``` using some volatility threshold. For example, we'd like to have a new column value determined by:\n",
    "\n",
    "```python\n",
    "if VolStat > threshold:\n",
    "    VolLevel = 'HIGH'\n",
    "else:\n",
    "    VolLevel = 'LOW'\n",
    "```\n",
    "\n",
    "Here we will define low volatility levels by any ```VolStat``` below the 50th percentile (i.e. below the median). Each percentile value must be calculated by symbol to ensure that each symbol is individually analyzed.\n",
    "\n",
    "This is a sample of our dataset with this added column:\n",
    "\n",
    "<table>\n",
    "<thead>\n",
    "  <tr>\n",
    "    <th>Date</th>\n",
    "    <th>Open</th>\n",
    "    <th>High</th>\n",
    "    <th>Low</th>\n",
    "    <th>Close</th>\n",
    "    <th>Volume</th>\n",
    "    <th>Symbol</th>\n",
    "    <th>Close_Previous</th>\n",
    "    <th>Return</th>\n",
    "    <th>Volume_Millions</th>\n",
    "    <th>VolStat</th>\n",
    "    <th>threshold</th>\n",
    "    <th>VolLevel</th>\n",
    "  </tr>\n",
    "</thead>\n",
    "<tbody>\n",
    "  <tr>\n",
    "    <td>2014-07-01</td>\n",
    "    <td>63.406</td>\n",
    "    <td>63.486</td>\n",
    "    <td>62.618</td>\n",
    "    <td>63.077</td>\n",
    "    <td>3626031</td>\n",
    "    <td>D</td>\n",
    "    <td>NaN</td>\n",
    "    <td>NaN</td>\n",
    "    <td>3.626031</td>\n",
    "    <td>0.01369</td>\n",
    "    <td>0.013084</td>\n",
    "    <td>HIGH</td>\n",
    "  </tr>\n",
    "  <tr>\n",
    "    <td>2014-07-02</td>\n",
    "    <td>62.929</td>\n",
    "    <td>62.935</td>\n",
    "    <td>61.403</td>\n",
    "    <td>61.73</td>\n",
    "    <td>4079097</td>\n",
    "    <td>D</td>\n",
    "    <td>63.077</td>\n",
    "    <td>-0.021355</td>\n",
    "    <td>4.079097</td>\n",
    "    <td>0.024345</td>\n",
    "    <td>0.013084</td>\n",
    "    <td>HIGH</td>\n",
    "  </tr>\n",
    "  <tr>\n",
    "    <td>2014-07-03</td>\n",
    "    <td>61.394</td>\n",
    "    <td>61.394</td>\n",
    "    <td>60.303</td>\n",
    "    <td>60.863</td>\n",
    "    <td>2937489</td>\n",
    "    <td>D</td>\n",
    "    <td>61.73</td>\n",
    "    <td>-0.014045</td>\n",
    "    <td>2.937489</td>\n",
    "    <td>0.01777</td>\n",
    "    <td>0.013084</td>\n",
    "    <td>HIGH</td>\n",
    "  </tr>\n",
    "  <tr>\n",
    "    <td>2014-07-07</td>\n",
    "    <td>60.718</td>\n",
    "    <td>61.43</td>\n",
    "    <td>60.611</td>\n",
    "    <td>61.038</td>\n",
    "    <td>3122145</td>\n",
    "    <td>D</td>\n",
    "    <td>60.863</td>\n",
    "    <td>0.002875</td>\n",
    "    <td>3.122145</td>\n",
    "    <td>0.013489</td>\n",
    "    <td>0.013084</td>\n",
    "    <td>HIGH</td>\n",
    "  </tr>\n",
    "  <tr>\n",
    "    <td>2014-07-08</td>\n",
    "    <td>60.931</td>\n",
    "    <td>61.348</td>\n",
    "    <td>60.88</td>\n",
    "    <td>61.296</td>\n",
    "    <td>3048285</td>\n",
    "    <td>D</td>\n",
    "    <td>61.038</td>\n",
    "    <td>0.004227</td>\n",
    "    <td>3.048285</td>\n",
    "    <td>0.007681</td>\n",
    "    <td>0.013084</td>\n",
    "    <td>LOW</td>\n",
    "  </tr>\n",
    "  <tr>\n",
    "    <td>2014-07-09</td>\n",
    "    <td>61.385</td>\n",
    "    <td>61.501</td>\n",
    "    <td>60.897</td>\n",
    "    <td>61.34</td>\n",
    "    <td>1948182</td>\n",
    "    <td>D</td>\n",
    "    <td>61.296</td>\n",
    "    <td>0.000718</td>\n",
    "    <td>1.948182</td>\n",
    "    <td>0.00984</td>\n",
    "    <td>0.013084</td>\n",
    "    <td>LOW</td>\n",
    "  </tr>\n",
    "  <tr>\n",
    "    <td>2014-07-10</td>\n",
    "    <td>61.26</td>\n",
    "    <td>62.049</td>\n",
    "    <td>61.163</td>\n",
    "    <td>62.031</td>\n",
    "    <td>2471888</td>\n",
    "    <td>D</td>\n",
    "    <td>61.34</td>\n",
    "    <td>0.011265</td>\n",
    "    <td>2.471888</td>\n",
    "    <td>0.014463</td>\n",
    "    <td>0.013084</td>\n",
    "    <td>HIGH</td>\n",
    "  </tr>\n",
    "  <tr>\n",
    "    <td>2014-07-11</td>\n",
    "    <td>61.871</td>\n",
    "    <td>62.031</td>\n",
    "    <td>61.535</td>\n",
    "    <td>61.607</td>\n",
    "    <td>1418862</td>\n",
    "    <td>D</td>\n",
    "    <td>62.031</td>\n",
    "    <td>-0.006835</td>\n",
    "    <td>1.418862</td>\n",
    "    <td>0.008017</td>\n",
    "    <td>0.013084</td>\n",
    "    <td>LOW</td>\n",
    "  </tr>\n",
    "  <tr>\n",
    "    <td>2014-07-14</td>\n",
    "    <td>61.802</td>\n",
    "    <td>61.827</td>\n",
    "    <td>61.057</td>\n",
    "    <td>61.075</td>\n",
    "    <td>1810671</td>\n",
    "    <td>D</td>\n",
    "    <td>61.607</td>\n",
    "    <td>-0.008635</td>\n",
    "    <td>1.810671</td>\n",
    "    <td>0.012459</td>\n",
    "    <td>0.013084</td>\n",
    "    <td>LOW</td>\n",
    "  </tr>\n",
    "  <tr>\n",
    "    <td>2014-07-15</td>\n",
    "    <td>61.028</td>\n",
    "    <td>61.696</td>\n",
    "    <td>60.994</td>\n",
    "    <td>61.625</td>\n",
    "    <td>2714819</td>\n",
    "    <td>D</td>\n",
    "    <td>61.075</td>\n",
    "    <td>0.009005</td>\n",
    "    <td>2.714819</td>\n",
    "    <td>0.011503</td>\n",
    "    <td>0.013084</td>\n",
    "    <td>LOW</td>\n",
    "  </tr>\n",
    "</tbody>\n",
    "</table>"
   ]
  },
  {
   "cell_type": "markdown",
   "metadata": {
    "tags": [
     "2_min"
    ]
   },
   "source": [
    "## Is daily trading volume affected by the level of volatility?\n",
    "\n",
    "To explore the relationship between volatility level (`VolLevel`) and daily trading volume (`Volume_Millions`), let's group by `Symbol` and `VolLevel` and take a look at the average value of `Volume_Millions` for the high and low volatility groups:\n",
    "\n",
    "\n",
    "<table border=\"1\" class=\"dataframe\">  <thead>    <tr style=\"text-align: right;\">      <th>Symbol</th>      <th>VolLevel</th>      <th>Volume_Millions (avg.)</th>    </tr>    <tr>      <th></th>      <th></th>      <th></th>    </tr>  </thead>  <tbody>    <tr>      <th rowspan=\"2\" valign=\"top\">D</th>      <th>HIGH</th>      <td>3.124387</td>    </tr>    <tr>      <th>LOW</th>      <td>2.377182</td>    </tr>    <tr>      <th rowspan=\"2\" valign=\"top\">DUK</th>      <th>HIGH</th>      <td>3.959825</td>    </tr>    <tr>      <th>LOW</th>      <td>2.804479</td>    </tr>    <tr>      <th rowspan=\"2\" valign=\"top\">EXC</th>      <th>HIGH</th>      <td>8.009471</td>    </tr>    <tr>      <th>LOW</th>      <td>5.369258</td>    </tr>    <tr>      <th rowspan=\"2\" valign=\"top\">NEE</th>      <th>HIGH</th>      <td>2.559527</td>    </tr>    <tr>      <th>LOW</th>      <td>1.763768</td>    </tr>    <tr>      <th rowspan=\"2\" valign=\"top\">SO</th>      <th>HIGH</th>      <td>6.422478</td>    </tr>    <tr>      <th>LOW</th>      <td>4.623356</td>    </tr>  </tbody></table>"
   ]
  },
  {
   "cell_type": "markdown",
   "metadata": {
    "tags": [
     "3_min"
    ]
   },
   "source": [
    "### Exercise 8\n",
    "\n",
    "What is a pattern you immediately notice regarding the volatility regimes?"
   ]
  },
  {
   "cell_type": "markdown",
   "metadata": {
    "tags": [
     "ans_st"
    ]
   },
   "source": [
    "**Answer.**"
   ]
  },
  {
   "cell_type": "markdown",
   "metadata": {},
   "source": [
    "-------"
   ]
  },
  {
   "cell_type": "markdown",
   "metadata": {
    "tags": [
     "3_min"
    ]
   },
   "source": [
    "## Graphing volatility across time\n",
    "\n",
    "We've now satisfactorily answered our original question. However, you don't need to just analyze data in tabular format. When doing data science, it is very important to analyze your data visually as well.\n",
    "\n",
    "Below is a **time series plot** of the `VolStat` column for each stock symbol. A time series plot has the date/time on the $x$-axis, and the value of what you are looking at across time (in this case, `VolStat`) on the $y$-axis:\n",
    "\n",
    "![Time series plot](data/images/time_series.png)"
   ]
  },
  {
   "cell_type": "markdown",
   "metadata": {
    "tags": [
     "3_min"
    ]
   },
   "source": [
    "### Exercise 9\n",
    "\n",
    "What interesting patterns do you notice in the time series plot?"
   ]
  },
  {
   "cell_type": "markdown",
   "metadata": {
    "tags": [
     "ans_st"
    ]
   },
   "source": [
    "**Answer.**"
   ]
  },
  {
   "cell_type": "markdown",
   "metadata": {},
   "source": [
    "-------"
   ]
  },
  {
   "cell_type": "markdown",
   "metadata": {
    "tags": [
     "2_min"
    ]
   },
   "source": [
    "As our data covers several years, it is also interesting to group the data by calendar month, ignoring the year component (e.g. averaging together all Januarys). This allows us to see if some points of the year, on average, are more susceptible to volatile trading patterns.\n",
    "\n",
    "This is a plot of the mean `VolStat` by calendar month and stock symbol:\n",
    "\n",
    "![\"Plot of VolStat by calendar month](data/images/time_series_month.png)"
   ]
  },
  {
   "cell_type": "markdown",
   "metadata": {
    "tags": [
     "2_min"
    ]
   },
   "source": [
    "### Exercise 10\n",
    "\n",
    "Identify:\n",
    "\n",
    "* The month(s) that seem(s) to have the highest volatility\n",
    "* The month(s) that seem(s) to have the lowest volatility\n",
    "* Any general patterns that you notice over the whole year"
   ]
  },
  {
   "cell_type": "markdown",
   "metadata": {
    "tags": [
     "ans_st"
    ]
   },
   "source": [
    "**Answer.**"
   ]
  },
  {
   "cell_type": "markdown",
   "metadata": {},
   "source": [
    "-------"
   ]
  },
  {
   "cell_type": "markdown",
   "metadata": {
    "colab_type": "text",
    "id": "fRJpHnIEmW_-",
    "tags": [
     "2_min"
    ]
   },
   "source": [
    "## Conclusions\n",
    "\n",
    "Having completed the analysis of the energy sector stock data, we have identified a number of interesting patterns relating volatility to trading volume. Specifically, we found that periods of high volatility also exhibit very high volume. This trend is consistent across all symbols.\n",
    "\n",
    "We also saw that each stock exhibited \"volatility clustering\" - periods of high volatility tend to be clumped together. Each of the stocks experienced high volatility at relatively similar times which suggests some broader market factor may be affecting the energy sector."
   ]
  },
  {
   "cell_type": "markdown",
   "metadata": {},
   "source": [
    "## Attribution\n",
    "\n",
    "\"Huge Stock Market Dataset\", No. 10, 2017, Boris Marjanovic, Public Domain. https://www.kaggle.com/borismarjanovic/price-volume-data-for-all-us-stocks-etfs\n",
    "\n",
    "\"Dash styleguide\", Chris P., [MIT License](https://blog.codepen.io/documentation/terms-of-service/), https://codepen.io/chriddyp/pen/bWLwgP"
   ]
  }
 ],
 "metadata": {
  "c1_recart": "6.0.0-57c20131aabc1dc2a8c675852d80a7da",
  "kernelspec": {
   "display_name": "Python 3",
   "language": "python",
   "name": "python3"
  },
  "language_info": {
   "codemirror_mode": {
    "name": "ipython",
    "version": 3
   },
   "file_extension": ".py",
   "mimetype": "text/x-python",
   "name": "python",
   "nbconvert_exporter": "python",
   "pygments_lexer": "ipython3",
   "version": "3.8.8"
  }
 },
 "nbformat": 4,
 "nbformat_minor": 2
}
