{
 "cells": [
  {
   "cell_type": "markdown",
   "metadata": {},
   "source": [
    "# How are trading volume and volatility related for energy stocks?"
   ]
  },
  {
   "cell_type": "markdown",
   "metadata": {
    "tags": [
     "1_min"
    ]
   },
   "source": [
    "## Goals\n",
    "\n",
    "In this lab, we will be replicating some of the analyses we conducted in the main lecture. You will gain more familiarity with the `pandas` library, which was introduced in the pre-foundational Python program, and will learn how to do basic feature engineering, how to plot distributions and how to calculate summary statistics."
   ]
  },
  {
   "cell_type": "markdown",
   "metadata": {
    "tags": [
     "2_min"
    ]
   },
   "source": [
    "## Importing the required libraries\n",
    "\n",
    "Let's start by importing `pandas`:"
   ]
  },
  {
   "cell_type": "code",
   "execution_count": 8,
   "metadata": {},
   "outputs": [],
   "source": [
    "# Import the Pandas package\n",
    "import pandas as pd"
   ]
  },
  {
   "cell_type": "markdown",
   "metadata": {},
   "source": [
    "We also import a second package, `matplotlib`, which is the basic Python library for plotting. We are interested only in the `pyplot` module, so we run this (here we use `plt` as the alias for the `pyplot` module that comes with the `matplotlib` package - `plt` as an alias is customary):"
   ]
  },
  {
   "cell_type": "code",
   "execution_count": 9,
   "metadata": {},
   "outputs": [
    {
     "name": "stdout",
     "output_type": "stream",
     "text": [
      "Requirement already satisfied: pandas in /opt/conda/lib/python3.8/site-packages (from -r requirements.txt (line 1)) (1.2.4)\n",
      "Requirement already satisfied: numpy in /opt/conda/lib/python3.8/site-packages (from -r requirements.txt (line 2)) (1.20.2)\n",
      "Collecting matplotlib\n",
      "  Downloading matplotlib-3.4.1-cp38-cp38-manylinux1_x86_64.whl (10.3 MB)\n",
      "\u001b[K     |████████████████████████████████| 10.3 MB 11 kB/s  eta 0:00:01    |█████▍                          | 1.7 MB 3.2 MB/s eta 0:00:03     |███████                         | 2.2 MB 3.2 MB/s eta 0:00:03     |███████████████████▏            | 6.2 MB 1.4 MB/s eta 0:00:04\n",
      "\u001b[?25hCollecting tabulate\n",
      "  Downloading tabulate-0.8.9-py3-none-any.whl (25 kB)\n",
      "Requirement already satisfied: jupyter-dash in /opt/conda/lib/python3.8/site-packages (from -r requirements.txt (line 5)) (0.4.0)\n",
      "Requirement already satisfied: requests in /opt/conda/lib/python3.8/site-packages (from jupyter-dash->-r requirements.txt (line 5)) (2.25.1)\n",
      "Requirement already satisfied: dash in /opt/conda/lib/python3.8/site-packages (from jupyter-dash->-r requirements.txt (line 5)) (1.20.0)\n",
      "Requirement already satisfied: retrying in /opt/conda/lib/python3.8/site-packages (from jupyter-dash->-r requirements.txt (line 5)) (1.3.3)\n",
      "Requirement already satisfied: flask in /opt/conda/lib/python3.8/site-packages (from jupyter-dash->-r requirements.txt (line 5)) (1.1.2)\n",
      "Requirement already satisfied: ansi2html in /opt/conda/lib/python3.8/site-packages (from jupyter-dash->-r requirements.txt (line 5)) (0.0.0)\n",
      "Requirement already satisfied: ipython in /opt/conda/lib/python3.8/site-packages (from jupyter-dash->-r requirements.txt (line 5)) (7.22.0)\n",
      "Requirement already satisfied: ipykernel in /opt/conda/lib/python3.8/site-packages (from jupyter-dash->-r requirements.txt (line 5)) (5.5.3)\n",
      "Requirement already satisfied: python-dateutil>=2.7 in /opt/conda/lib/python3.8/site-packages (from matplotlib->-r requirements.txt (line 3)) (2.8.1)\n",
      "Collecting pillow>=6.2.0\n",
      "  Downloading Pillow-8.2.0-cp38-cp38-manylinux1_x86_64.whl (3.0 MB)\n",
      "\u001b[K     |████████████████████████████████| 3.0 MB 32.6 MB/s eta 0:00:01     |███▊                            | 348 kB 32.6 MB/s eta 0:00:01     |██████████▋                     | 983 kB 32.6 MB/s eta 0:00:01     |███████████████████▏            | 1.8 MB 32.6 MB/s eta 0:00:01\n",
      "\u001b[?25hRequirement already satisfied: pyparsing>=2.2.1 in /opt/conda/lib/python3.8/site-packages (from matplotlib->-r requirements.txt (line 3)) (2.4.7)\n",
      "Collecting kiwisolver>=1.0.1\n",
      "  Downloading kiwisolver-1.3.1-cp38-cp38-manylinux1_x86_64.whl (1.2 MB)\n",
      "\u001b[K     |████████████████████████████████| 1.2 MB 42.4 MB/s eta 0:00:01\n",
      "\u001b[?25hCollecting cycler>=0.10\n",
      "  Downloading cycler-0.10.0-py2.py3-none-any.whl (6.5 kB)\n",
      "Requirement already satisfied: six in /opt/conda/lib/python3.8/site-packages (from cycler>=0.10->matplotlib->-r requirements.txt (line 3)) (1.15.0)\n",
      "Requirement already satisfied: pytz>=2017.3 in /opt/conda/lib/python3.8/site-packages (from pandas->-r requirements.txt (line 1)) (2021.1)\n",
      "Requirement already satisfied: dash-html-components==1.1.3 in /opt/conda/lib/python3.8/site-packages (from dash->jupyter-dash->-r requirements.txt (line 5)) (1.1.3)\n",
      "Requirement already satisfied: plotly in /opt/conda/lib/python3.8/site-packages (from dash->jupyter-dash->-r requirements.txt (line 5)) (4.14.3)\n",
      "Requirement already satisfied: future in /opt/conda/lib/python3.8/site-packages (from dash->jupyter-dash->-r requirements.txt (line 5)) (0.18.2)\n",
      "Requirement already satisfied: flask-compress in /opt/conda/lib/python3.8/site-packages (from dash->jupyter-dash->-r requirements.txt (line 5)) (1.9.0)\n",
      "Requirement already satisfied: dash-renderer==1.9.1 in /opt/conda/lib/python3.8/site-packages (from dash->jupyter-dash->-r requirements.txt (line 5)) (1.9.1)\n",
      "Requirement already satisfied: dash-table==4.11.3 in /opt/conda/lib/python3.8/site-packages (from dash->jupyter-dash->-r requirements.txt (line 5)) (4.11.3)\n",
      "Requirement already satisfied: dash-core-components==1.16.0 in /opt/conda/lib/python3.8/site-packages (from dash->jupyter-dash->-r requirements.txt (line 5)) (1.16.0)\n",
      "Requirement already satisfied: click>=5.1 in /opt/conda/lib/python3.8/site-packages (from flask->jupyter-dash->-r requirements.txt (line 5)) (7.1.2)\n",
      "Requirement already satisfied: Jinja2>=2.10.1 in /opt/conda/lib/python3.8/site-packages (from flask->jupyter-dash->-r requirements.txt (line 5)) (2.11.3)\n",
      "Requirement already satisfied: Werkzeug>=0.15 in /opt/conda/lib/python3.8/site-packages (from flask->jupyter-dash->-r requirements.txt (line 5)) (1.0.1)\n",
      "Requirement already satisfied: itsdangerous>=0.24 in /opt/conda/lib/python3.8/site-packages (from flask->jupyter-dash->-r requirements.txt (line 5)) (1.1.0)\n",
      "Requirement already satisfied: MarkupSafe>=0.23 in /opt/conda/lib/python3.8/site-packages (from Jinja2>=2.10.1->flask->jupyter-dash->-r requirements.txt (line 5)) (1.1.1)\n",
      "Requirement already satisfied: brotli in /opt/conda/lib/python3.8/site-packages (from flask-compress->dash->jupyter-dash->-r requirements.txt (line 5)) (1.0.9)\n",
      "Requirement already satisfied: traitlets>=4.1.0 in /opt/conda/lib/python3.8/site-packages (from ipykernel->jupyter-dash->-r requirements.txt (line 5)) (5.0.5)\n",
      "Requirement already satisfied: jupyter-client in /opt/conda/lib/python3.8/site-packages (from ipykernel->jupyter-dash->-r requirements.txt (line 5)) (6.1.12)\n",
      "Requirement already satisfied: tornado>=4.2 in /opt/conda/lib/python3.8/site-packages (from ipykernel->jupyter-dash->-r requirements.txt (line 5)) (6.1)\n",
      "Requirement already satisfied: decorator in /opt/conda/lib/python3.8/site-packages (from ipython->jupyter-dash->-r requirements.txt (line 5)) (5.0.6)\n",
      "Requirement already satisfied: pygments in /opt/conda/lib/python3.8/site-packages (from ipython->jupyter-dash->-r requirements.txt (line 5)) (2.8.1)\n",
      "Requirement already satisfied: pickleshare in /opt/conda/lib/python3.8/site-packages (from ipython->jupyter-dash->-r requirements.txt (line 5)) (0.7.5)\n",
      "Requirement already satisfied: backcall in /opt/conda/lib/python3.8/site-packages (from ipython->jupyter-dash->-r requirements.txt (line 5)) (0.2.0)\n",
      "Requirement already satisfied: prompt-toolkit!=3.0.0,!=3.0.1,<3.1.0,>=2.0.0 in /opt/conda/lib/python3.8/site-packages (from ipython->jupyter-dash->-r requirements.txt (line 5)) (3.0.18)\n",
      "Requirement already satisfied: pexpect>4.3 in /opt/conda/lib/python3.8/site-packages (from ipython->jupyter-dash->-r requirements.txt (line 5)) (4.8.0)\n",
      "Requirement already satisfied: setuptools>=18.5 in /opt/conda/lib/python3.8/site-packages (from ipython->jupyter-dash->-r requirements.txt (line 5)) (49.6.0.post20210108)\n",
      "Requirement already satisfied: jedi>=0.16 in /opt/conda/lib/python3.8/site-packages (from ipython->jupyter-dash->-r requirements.txt (line 5)) (0.18.0)\n",
      "Requirement already satisfied: parso<0.9.0,>=0.8.0 in /opt/conda/lib/python3.8/site-packages (from jedi>=0.16->ipython->jupyter-dash->-r requirements.txt (line 5)) (0.8.2)\n",
      "Requirement already satisfied: ptyprocess>=0.5 in /opt/conda/lib/python3.8/site-packages (from pexpect>4.3->ipython->jupyter-dash->-r requirements.txt (line 5)) (0.7.0)\n",
      "Requirement already satisfied: wcwidth in /opt/conda/lib/python3.8/site-packages (from prompt-toolkit!=3.0.0,!=3.0.1,<3.1.0,>=2.0.0->ipython->jupyter-dash->-r requirements.txt (line 5)) (0.2.5)\n",
      "Requirement already satisfied: ipython-genutils in /opt/conda/lib/python3.8/site-packages (from traitlets>=4.1.0->ipykernel->jupyter-dash->-r requirements.txt (line 5)) (0.2.0)\n",
      "Requirement already satisfied: jupyter-core>=4.6.0 in /opt/conda/lib/python3.8/site-packages (from jupyter-client->ipykernel->jupyter-dash->-r requirements.txt (line 5)) (4.7.1)\n",
      "Requirement already satisfied: pyzmq>=13 in /opt/conda/lib/python3.8/site-packages (from jupyter-client->ipykernel->jupyter-dash->-r requirements.txt (line 5)) (22.0.3)\n",
      "Requirement already satisfied: urllib3<1.27,>=1.21.1 in /opt/conda/lib/python3.8/site-packages (from requests->jupyter-dash->-r requirements.txt (line 5)) (1.26.4)\n",
      "Requirement already satisfied: idna<3,>=2.5 in /opt/conda/lib/python3.8/site-packages (from requests->jupyter-dash->-r requirements.txt (line 5)) (2.10)\n",
      "Requirement already satisfied: certifi>=2017.4.17 in /opt/conda/lib/python3.8/site-packages (from requests->jupyter-dash->-r requirements.txt (line 5)) (2020.12.5)\n",
      "Requirement already satisfied: chardet<5,>=3.0.2 in /opt/conda/lib/python3.8/site-packages (from requests->jupyter-dash->-r requirements.txt (line 5)) (4.0.0)\n"
     ]
    },
    {
     "name": "stdout",
     "output_type": "stream",
     "text": [
      "Installing collected packages: pillow, kiwisolver, cycler, tabulate, matplotlib\n",
      "Successfully installed cycler-0.10.0 kiwisolver-1.3.1 matplotlib-3.4.1 pillow-8.2.0 tabulate-0.8.9\n"
     ]
    }
   ],
   "source": [
    "!pip install -r requirements.txt"
   ]
  },
  {
   "cell_type": "code",
   "execution_count": 10,
   "metadata": {},
   "outputs": [
    {
     "name": "stderr",
     "output_type": "stream",
     "text": [
      "Matplotlib is building the font cache; this may take a moment.\n"
     ]
    }
   ],
   "source": [
    "# Import the Matplotlib package (for plotting)\n",
    "import matplotlib.pyplot as plt"
   ]
  },
  {
   "cell_type": "markdown",
   "metadata": {
    "tags": [
     "5_min"
    ]
   },
   "source": [
    "## Basic feature engineering\n",
    "\n",
    "As you know, we can create new columns (also known as features) in our dataset using data from other columns. This is often useful when the existing features aren't in the right format or unit, or don't provide a lot of information by themselves.\n",
    "\n",
    "Let's load in the CSV file for the stock symbol `D`:"
   ]
  },
  {
   "cell_type": "code",
   "execution_count": 3,
   "metadata": {},
   "outputs": [],
   "source": [
    "# Load a file as a DataFrame and assign to the variable name D\n",
    "D = pd.read_csv(\"data/D.csv\")"
   ]
  },
  {
   "cell_type": "code",
   "execution_count": 11,
   "metadata": {},
   "outputs": [
    {
     "data": {
      "text/html": [
       "<div>\n",
       "<style scoped>\n",
       "    .dataframe tbody tr th:only-of-type {\n",
       "        vertical-align: middle;\n",
       "    }\n",
       "\n",
       "    .dataframe tbody tr th {\n",
       "        vertical-align: top;\n",
       "    }\n",
       "\n",
       "    .dataframe thead th {\n",
       "        text-align: right;\n",
       "    }\n",
       "</style>\n",
       "<table border=\"1\" class=\"dataframe\">\n",
       "  <thead>\n",
       "    <tr style=\"text-align: right;\">\n",
       "      <th></th>\n",
       "      <th>Date</th>\n",
       "      <th>Open</th>\n",
       "      <th>High</th>\n",
       "      <th>Low</th>\n",
       "      <th>Close</th>\n",
       "      <th>Volume</th>\n",
       "    </tr>\n",
       "  </thead>\n",
       "  <tbody>\n",
       "    <tr>\n",
       "      <th>0</th>\n",
       "      <td>2014-07-01</td>\n",
       "      <td>63.406</td>\n",
       "      <td>63.486</td>\n",
       "      <td>62.618</td>\n",
       "      <td>63.077</td>\n",
       "      <td>3626031</td>\n",
       "    </tr>\n",
       "    <tr>\n",
       "      <th>1</th>\n",
       "      <td>2014-07-02</td>\n",
       "      <td>62.929</td>\n",
       "      <td>62.935</td>\n",
       "      <td>61.403</td>\n",
       "      <td>61.730</td>\n",
       "      <td>4079097</td>\n",
       "    </tr>\n",
       "    <tr>\n",
       "      <th>2</th>\n",
       "      <td>2014-07-03</td>\n",
       "      <td>61.394</td>\n",
       "      <td>61.394</td>\n",
       "      <td>60.303</td>\n",
       "      <td>60.863</td>\n",
       "      <td>2937489</td>\n",
       "    </tr>\n",
       "    <tr>\n",
       "      <th>3</th>\n",
       "      <td>2014-07-07</td>\n",
       "      <td>60.718</td>\n",
       "      <td>61.430</td>\n",
       "      <td>60.611</td>\n",
       "      <td>61.038</td>\n",
       "      <td>3122145</td>\n",
       "    </tr>\n",
       "    <tr>\n",
       "      <th>4</th>\n",
       "      <td>2014-07-08</td>\n",
       "      <td>60.931</td>\n",
       "      <td>61.348</td>\n",
       "      <td>60.880</td>\n",
       "      <td>61.296</td>\n",
       "      <td>3048285</td>\n",
       "    </tr>\n",
       "    <tr>\n",
       "      <th>5</th>\n",
       "      <td>2014-07-09</td>\n",
       "      <td>61.385</td>\n",
       "      <td>61.501</td>\n",
       "      <td>60.897</td>\n",
       "      <td>61.340</td>\n",
       "      <td>1948182</td>\n",
       "    </tr>\n",
       "    <tr>\n",
       "      <th>6</th>\n",
       "      <td>2014-07-10</td>\n",
       "      <td>61.260</td>\n",
       "      <td>62.049</td>\n",
       "      <td>61.163</td>\n",
       "      <td>62.031</td>\n",
       "      <td>2471888</td>\n",
       "    </tr>\n",
       "    <tr>\n",
       "      <th>7</th>\n",
       "      <td>2014-07-11</td>\n",
       "      <td>61.871</td>\n",
       "      <td>62.031</td>\n",
       "      <td>61.535</td>\n",
       "      <td>61.607</td>\n",
       "      <td>1418862</td>\n",
       "    </tr>\n",
       "    <tr>\n",
       "      <th>8</th>\n",
       "      <td>2014-07-14</td>\n",
       "      <td>61.802</td>\n",
       "      <td>61.827</td>\n",
       "      <td>61.057</td>\n",
       "      <td>61.075</td>\n",
       "      <td>1810671</td>\n",
       "    </tr>\n",
       "    <tr>\n",
       "      <th>9</th>\n",
       "      <td>2014-07-15</td>\n",
       "      <td>61.028</td>\n",
       "      <td>61.696</td>\n",
       "      <td>60.994</td>\n",
       "      <td>61.625</td>\n",
       "      <td>2714819</td>\n",
       "    </tr>\n",
       "  </tbody>\n",
       "</table>\n",
       "</div>"
      ],
      "text/plain": [
       "         Date    Open    High     Low   Close   Volume\n",
       "0  2014-07-01  63.406  63.486  62.618  63.077  3626031\n",
       "1  2014-07-02  62.929  62.935  61.403  61.730  4079097\n",
       "2  2014-07-03  61.394  61.394  60.303  60.863  2937489\n",
       "3  2014-07-07  60.718  61.430  60.611  61.038  3122145\n",
       "4  2014-07-08  60.931  61.348  60.880  61.296  3048285\n",
       "5  2014-07-09  61.385  61.501  60.897  61.340  1948182\n",
       "6  2014-07-10  61.260  62.049  61.163  62.031  2471888\n",
       "7  2014-07-11  61.871  62.031  61.535  61.607  1418862\n",
       "8  2014-07-14  61.802  61.827  61.057  61.075  1810671\n",
       "9  2014-07-15  61.028  61.696  60.994  61.625  2714819"
      ]
     },
     "execution_count": 11,
     "metadata": {},
     "output_type": "execute_result"
    }
   ],
   "source": [
    "D.head(10)"
   ]
  },
  {
   "cell_type": "markdown",
   "metadata": {},
   "source": [
    "As you see, our DataFrame has 6 columns (`Date`, `Open`, `High`, `Low`, `Close`, and `Volume`) and one default index (the vertical sequence of integers in bold to the left of the table).\n",
    "\n",
    "It is usually a good idea to set one of the columns as the index, instead of using the default. We can do that with the **`.set_index()`** method:"
   ]
  },
  {
   "cell_type": "code",
   "execution_count": 12,
   "metadata": {},
   "outputs": [
    {
     "data": {
      "text/html": [
       "<div>\n",
       "<style scoped>\n",
       "    .dataframe tbody tr th:only-of-type {\n",
       "        vertical-align: middle;\n",
       "    }\n",
       "\n",
       "    .dataframe tbody tr th {\n",
       "        vertical-align: top;\n",
       "    }\n",
       "\n",
       "    .dataframe thead th {\n",
       "        text-align: right;\n",
       "    }\n",
       "</style>\n",
       "<table border=\"1\" class=\"dataframe\">\n",
       "  <thead>\n",
       "    <tr style=\"text-align: right;\">\n",
       "      <th></th>\n",
       "      <th>Open</th>\n",
       "      <th>High</th>\n",
       "      <th>Low</th>\n",
       "      <th>Close</th>\n",
       "      <th>Volume</th>\n",
       "    </tr>\n",
       "    <tr>\n",
       "      <th>Date</th>\n",
       "      <th></th>\n",
       "      <th></th>\n",
       "      <th></th>\n",
       "      <th></th>\n",
       "      <th></th>\n",
       "    </tr>\n",
       "  </thead>\n",
       "  <tbody>\n",
       "    <tr>\n",
       "      <th>2014-07-01</th>\n",
       "      <td>63.406</td>\n",
       "      <td>63.486</td>\n",
       "      <td>62.618</td>\n",
       "      <td>63.077</td>\n",
       "      <td>3626031</td>\n",
       "    </tr>\n",
       "    <tr>\n",
       "      <th>2014-07-02</th>\n",
       "      <td>62.929</td>\n",
       "      <td>62.935</td>\n",
       "      <td>61.403</td>\n",
       "      <td>61.730</td>\n",
       "      <td>4079097</td>\n",
       "    </tr>\n",
       "    <tr>\n",
       "      <th>2014-07-03</th>\n",
       "      <td>61.394</td>\n",
       "      <td>61.394</td>\n",
       "      <td>60.303</td>\n",
       "      <td>60.863</td>\n",
       "      <td>2937489</td>\n",
       "    </tr>\n",
       "    <tr>\n",
       "      <th>2014-07-07</th>\n",
       "      <td>60.718</td>\n",
       "      <td>61.430</td>\n",
       "      <td>60.611</td>\n",
       "      <td>61.038</td>\n",
       "      <td>3122145</td>\n",
       "    </tr>\n",
       "    <tr>\n",
       "      <th>2014-07-08</th>\n",
       "      <td>60.931</td>\n",
       "      <td>61.348</td>\n",
       "      <td>60.880</td>\n",
       "      <td>61.296</td>\n",
       "      <td>3048285</td>\n",
       "    </tr>\n",
       "    <tr>\n",
       "      <th>2014-07-09</th>\n",
       "      <td>61.385</td>\n",
       "      <td>61.501</td>\n",
       "      <td>60.897</td>\n",
       "      <td>61.340</td>\n",
       "      <td>1948182</td>\n",
       "    </tr>\n",
       "    <tr>\n",
       "      <th>2014-07-10</th>\n",
       "      <td>61.260</td>\n",
       "      <td>62.049</td>\n",
       "      <td>61.163</td>\n",
       "      <td>62.031</td>\n",
       "      <td>2471888</td>\n",
       "    </tr>\n",
       "    <tr>\n",
       "      <th>2014-07-11</th>\n",
       "      <td>61.871</td>\n",
       "      <td>62.031</td>\n",
       "      <td>61.535</td>\n",
       "      <td>61.607</td>\n",
       "      <td>1418862</td>\n",
       "    </tr>\n",
       "    <tr>\n",
       "      <th>2014-07-14</th>\n",
       "      <td>61.802</td>\n",
       "      <td>61.827</td>\n",
       "      <td>61.057</td>\n",
       "      <td>61.075</td>\n",
       "      <td>1810671</td>\n",
       "    </tr>\n",
       "    <tr>\n",
       "      <th>2014-07-15</th>\n",
       "      <td>61.028</td>\n",
       "      <td>61.696</td>\n",
       "      <td>60.994</td>\n",
       "      <td>61.625</td>\n",
       "      <td>2714819</td>\n",
       "    </tr>\n",
       "  </tbody>\n",
       "</table>\n",
       "</div>"
      ],
      "text/plain": [
       "              Open    High     Low   Close   Volume\n",
       "Date                                               \n",
       "2014-07-01  63.406  63.486  62.618  63.077  3626031\n",
       "2014-07-02  62.929  62.935  61.403  61.730  4079097\n",
       "2014-07-03  61.394  61.394  60.303  60.863  2937489\n",
       "2014-07-07  60.718  61.430  60.611  61.038  3122145\n",
       "2014-07-08  60.931  61.348  60.880  61.296  3048285\n",
       "2014-07-09  61.385  61.501  60.897  61.340  1948182\n",
       "2014-07-10  61.260  62.049  61.163  62.031  2471888\n",
       "2014-07-11  61.871  62.031  61.535  61.607  1418862\n",
       "2014-07-14  61.802  61.827  61.057  61.075  1810671\n",
       "2014-07-15  61.028  61.696  60.994  61.625  2714819"
      ]
     },
     "execution_count": 12,
     "metadata": {},
     "output_type": "execute_result"
    }
   ],
   "source": [
    "D = D.set_index('Date') # In this context, Date is the best candidate to be the index\n",
    "D.head(10)"
   ]
  },
  {
   "cell_type": "markdown",
   "metadata": {
    "tags": [
     "5_min"
    ]
   },
   "source": [
    "### Exercise 1\n",
    "\n",
    "Load the other four datasets, namely `DUK.csv`, `EXC.csv`, `NEE.csv`, and `SO.csv`, and assign their contents to variables whose name is the symbol (that is, `DUK.csv` should be assigned to the variable `DUK`, and so on). Don't forget to set `Date` as the index for each one of the DataFrames."
   ]
  },
  {
   "cell_type": "markdown",
   "metadata": {
    "tags": [
     "ans_st"
    ]
   },
   "source": [
    "**Answer.**"
   ]
  },
  {
   "cell_type": "code",
   "execution_count": 15,
   "metadata": {},
   "outputs": [
    {
     "data": {
      "text/html": [
       "<div>\n",
       "<style scoped>\n",
       "    .dataframe tbody tr th:only-of-type {\n",
       "        vertical-align: middle;\n",
       "    }\n",
       "\n",
       "    .dataframe tbody tr th {\n",
       "        vertical-align: top;\n",
       "    }\n",
       "\n",
       "    .dataframe thead th {\n",
       "        text-align: right;\n",
       "    }\n",
       "</style>\n",
       "<table border=\"1\" class=\"dataframe\">\n",
       "  <thead>\n",
       "    <tr style=\"text-align: right;\">\n",
       "      <th></th>\n",
       "      <th>Open</th>\n",
       "      <th>High</th>\n",
       "      <th>Low</th>\n",
       "      <th>Close</th>\n",
       "      <th>Volume</th>\n",
       "    </tr>\n",
       "    <tr>\n",
       "      <th>Date</th>\n",
       "      <th></th>\n",
       "      <th></th>\n",
       "      <th></th>\n",
       "      <th></th>\n",
       "      <th></th>\n",
       "    </tr>\n",
       "  </thead>\n",
       "  <tbody>\n",
       "    <tr>\n",
       "      <th>2014-07-01</th>\n",
       "      <td>64.627</td>\n",
       "      <td>64.663</td>\n",
       "      <td>64.027</td>\n",
       "      <td>64.132</td>\n",
       "      <td>2294684</td>\n",
       "    </tr>\n",
       "    <tr>\n",
       "      <th>2014-07-02</th>\n",
       "      <td>64.017</td>\n",
       "      <td>64.062</td>\n",
       "      <td>62.599</td>\n",
       "      <td>62.904</td>\n",
       "      <td>5184383</td>\n",
       "    </tr>\n",
       "    <tr>\n",
       "      <th>2014-07-03</th>\n",
       "      <td>62.669</td>\n",
       "      <td>62.669</td>\n",
       "      <td>61.676</td>\n",
       "      <td>62.180</td>\n",
       "      <td>4014347</td>\n",
       "    </tr>\n",
       "    <tr>\n",
       "      <th>2014-07-07</th>\n",
       "      <td>62.059</td>\n",
       "      <td>62.460</td>\n",
       "      <td>61.955</td>\n",
       "      <td>62.346</td>\n",
       "      <td>3605032</td>\n",
       "    </tr>\n",
       "    <tr>\n",
       "      <th>2014-07-08</th>\n",
       "      <td>62.469</td>\n",
       "      <td>63.339</td>\n",
       "      <td>62.398</td>\n",
       "      <td>62.993</td>\n",
       "      <td>3653951</td>\n",
       "    </tr>\n",
       "    <tr>\n",
       "      <th>2014-07-09</th>\n",
       "      <td>62.993</td>\n",
       "      <td>63.165</td>\n",
       "      <td>62.450</td>\n",
       "      <td>62.808</td>\n",
       "      <td>2288750</td>\n",
       "    </tr>\n",
       "    <tr>\n",
       "      <th>2014-07-10</th>\n",
       "      <td>62.739</td>\n",
       "      <td>63.357</td>\n",
       "      <td>62.739</td>\n",
       "      <td>63.052</td>\n",
       "      <td>2298148</td>\n",
       "    </tr>\n",
       "    <tr>\n",
       "      <th>2014-07-11</th>\n",
       "      <td>63.147</td>\n",
       "      <td>63.312</td>\n",
       "      <td>62.808</td>\n",
       "      <td>62.852</td>\n",
       "      <td>2138967</td>\n",
       "    </tr>\n",
       "    <tr>\n",
       "      <th>2014-07-14</th>\n",
       "      <td>62.896</td>\n",
       "      <td>62.993</td>\n",
       "      <td>62.295</td>\n",
       "      <td>62.312</td>\n",
       "      <td>2707530</td>\n",
       "    </tr>\n",
       "    <tr>\n",
       "      <th>2014-07-15</th>\n",
       "      <td>62.382</td>\n",
       "      <td>63.060</td>\n",
       "      <td>62.382</td>\n",
       "      <td>62.739</td>\n",
       "      <td>2587589</td>\n",
       "    </tr>\n",
       "  </tbody>\n",
       "</table>\n",
       "</div>"
      ],
      "text/plain": [
       "              Open    High     Low   Close   Volume\n",
       "Date                                               \n",
       "2014-07-01  64.627  64.663  64.027  64.132  2294684\n",
       "2014-07-02  64.017  64.062  62.599  62.904  5184383\n",
       "2014-07-03  62.669  62.669  61.676  62.180  4014347\n",
       "2014-07-07  62.059  62.460  61.955  62.346  3605032\n",
       "2014-07-08  62.469  63.339  62.398  62.993  3653951\n",
       "2014-07-09  62.993  63.165  62.450  62.808  2288750\n",
       "2014-07-10  62.739  63.357  62.739  63.052  2298148\n",
       "2014-07-11  63.147  63.312  62.808  62.852  2138967\n",
       "2014-07-14  62.896  62.993  62.295  62.312  2707530\n",
       "2014-07-15  62.382  63.060  62.382  62.739  2587589"
      ]
     },
     "execution_count": 15,
     "metadata": {},
     "output_type": "execute_result"
    }
   ],
   "source": [
    "DUK = pd.read_csv(\"data/DUK.csv\")\n",
    "DUK = DUK.set_index(\"Date\")\n",
    "DUK.head(10)"
   ]
  },
  {
   "cell_type": "code",
   "execution_count": 17,
   "metadata": {},
   "outputs": [
    {
     "data": {
      "text/html": [
       "<div>\n",
       "<style scoped>\n",
       "    .dataframe tbody tr th:only-of-type {\n",
       "        vertical-align: middle;\n",
       "    }\n",
       "\n",
       "    .dataframe tbody tr th {\n",
       "        vertical-align: top;\n",
       "    }\n",
       "\n",
       "    .dataframe thead th {\n",
       "        text-align: right;\n",
       "    }\n",
       "</style>\n",
       "<table border=\"1\" class=\"dataframe\">\n",
       "  <thead>\n",
       "    <tr style=\"text-align: right;\">\n",
       "      <th></th>\n",
       "      <th>Open</th>\n",
       "      <th>High</th>\n",
       "      <th>Low</th>\n",
       "      <th>Close</th>\n",
       "      <th>Volume</th>\n",
       "    </tr>\n",
       "    <tr>\n",
       "      <th>Date</th>\n",
       "      <th></th>\n",
       "      <th></th>\n",
       "      <th></th>\n",
       "      <th></th>\n",
       "      <th></th>\n",
       "    </tr>\n",
       "  </thead>\n",
       "  <tbody>\n",
       "    <tr>\n",
       "      <th>2014-07-01</th>\n",
       "      <td>31.921</td>\n",
       "      <td>32.081</td>\n",
       "      <td>31.453</td>\n",
       "      <td>31.585</td>\n",
       "      <td>7947406</td>\n",
       "    </tr>\n",
       "    <tr>\n",
       "      <th>2014-07-02</th>\n",
       "      <td>31.453</td>\n",
       "      <td>31.488</td>\n",
       "      <td>30.372</td>\n",
       "      <td>30.606</td>\n",
       "      <td>12557024</td>\n",
       "    </tr>\n",
       "    <tr>\n",
       "      <th>2014-07-03</th>\n",
       "      <td>30.410</td>\n",
       "      <td>30.410</td>\n",
       "      <td>29.904</td>\n",
       "      <td>30.055</td>\n",
       "      <td>9060600</td>\n",
       "    </tr>\n",
       "    <tr>\n",
       "      <th>2014-07-07</th>\n",
       "      <td>30.136</td>\n",
       "      <td>30.533</td>\n",
       "      <td>30.107</td>\n",
       "      <td>30.402</td>\n",
       "      <td>11939160</td>\n",
       "    </tr>\n",
       "    <tr>\n",
       "      <th>2014-07-08</th>\n",
       "      <td>30.322</td>\n",
       "      <td>30.540</td>\n",
       "      <td>30.265</td>\n",
       "      <td>30.362</td>\n",
       "      <td>8170665</td>\n",
       "    </tr>\n",
       "    <tr>\n",
       "      <th>2014-07-09</th>\n",
       "      <td>30.410</td>\n",
       "      <td>30.499</td>\n",
       "      <td>30.214</td>\n",
       "      <td>30.312</td>\n",
       "      <td>8570182</td>\n",
       "    </tr>\n",
       "    <tr>\n",
       "      <th>2014-07-10</th>\n",
       "      <td>30.214</td>\n",
       "      <td>30.499</td>\n",
       "      <td>30.214</td>\n",
       "      <td>30.402</td>\n",
       "      <td>8450303</td>\n",
       "    </tr>\n",
       "    <tr>\n",
       "      <th>2014-07-11</th>\n",
       "      <td>30.257</td>\n",
       "      <td>30.410</td>\n",
       "      <td>29.834</td>\n",
       "      <td>29.886</td>\n",
       "      <td>10373878</td>\n",
       "    </tr>\n",
       "    <tr>\n",
       "      <th>2014-07-14</th>\n",
       "      <td>30.038</td>\n",
       "      <td>30.038</td>\n",
       "      <td>29.072</td>\n",
       "      <td>29.098</td>\n",
       "      <td>11574155</td>\n",
       "    </tr>\n",
       "    <tr>\n",
       "      <th>2014-07-15</th>\n",
       "      <td>29.107</td>\n",
       "      <td>29.251</td>\n",
       "      <td>28.942</td>\n",
       "      <td>29.063</td>\n",
       "      <td>10255081</td>\n",
       "    </tr>\n",
       "  </tbody>\n",
       "</table>\n",
       "</div>"
      ],
      "text/plain": [
       "              Open    High     Low   Close    Volume\n",
       "Date                                                \n",
       "2014-07-01  31.921  32.081  31.453  31.585   7947406\n",
       "2014-07-02  31.453  31.488  30.372  30.606  12557024\n",
       "2014-07-03  30.410  30.410  29.904  30.055   9060600\n",
       "2014-07-07  30.136  30.533  30.107  30.402  11939160\n",
       "2014-07-08  30.322  30.540  30.265  30.362   8170665\n",
       "2014-07-09  30.410  30.499  30.214  30.312   8570182\n",
       "2014-07-10  30.214  30.499  30.214  30.402   8450303\n",
       "2014-07-11  30.257  30.410  29.834  29.886  10373878\n",
       "2014-07-14  30.038  30.038  29.072  29.098  11574155\n",
       "2014-07-15  29.107  29.251  28.942  29.063  10255081"
      ]
     },
     "execution_count": 17,
     "metadata": {},
     "output_type": "execute_result"
    }
   ],
   "source": [
    "EXC = pd.read_csv(\"data/EXC.csv\")\n",
    "EXC = EXC.set_index(\"Date\")\n",
    "EXC.head(10)"
   ]
  },
  {
   "cell_type": "code",
   "execution_count": 18,
   "metadata": {},
   "outputs": [
    {
     "data": {
      "text/html": [
       "<div>\n",
       "<style scoped>\n",
       "    .dataframe tbody tr th:only-of-type {\n",
       "        vertical-align: middle;\n",
       "    }\n",
       "\n",
       "    .dataframe tbody tr th {\n",
       "        vertical-align: top;\n",
       "    }\n",
       "\n",
       "    .dataframe thead th {\n",
       "        text-align: right;\n",
       "    }\n",
       "</style>\n",
       "<table border=\"1\" class=\"dataframe\">\n",
       "  <thead>\n",
       "    <tr style=\"text-align: right;\">\n",
       "      <th></th>\n",
       "      <th>Open</th>\n",
       "      <th>High</th>\n",
       "      <th>Low</th>\n",
       "      <th>Close</th>\n",
       "      <th>Volume</th>\n",
       "    </tr>\n",
       "    <tr>\n",
       "      <th>Date</th>\n",
       "      <th></th>\n",
       "      <th></th>\n",
       "      <th></th>\n",
       "      <th></th>\n",
       "      <th></th>\n",
       "    </tr>\n",
       "  </thead>\n",
       "  <tbody>\n",
       "    <tr>\n",
       "      <th>2014-07-01</th>\n",
       "      <td>93.107</td>\n",
       "      <td>93.126</td>\n",
       "      <td>92.071</td>\n",
       "      <td>92.200</td>\n",
       "      <td>2755760</td>\n",
       "    </tr>\n",
       "    <tr>\n",
       "      <th>2014-07-02</th>\n",
       "      <td>91.915</td>\n",
       "      <td>92.190</td>\n",
       "      <td>90.368</td>\n",
       "      <td>90.612</td>\n",
       "      <td>3158624</td>\n",
       "    </tr>\n",
       "    <tr>\n",
       "      <th>2014-07-03</th>\n",
       "      <td>90.476</td>\n",
       "      <td>90.476</td>\n",
       "      <td>88.375</td>\n",
       "      <td>89.266</td>\n",
       "      <td>1601735</td>\n",
       "    </tr>\n",
       "    <tr>\n",
       "      <th>2014-07-07</th>\n",
       "      <td>89.130</td>\n",
       "      <td>89.967</td>\n",
       "      <td>89.130</td>\n",
       "      <td>89.504</td>\n",
       "      <td>2047271</td>\n",
       "    </tr>\n",
       "    <tr>\n",
       "      <th>2014-07-08</th>\n",
       "      <td>89.302</td>\n",
       "      <td>90.330</td>\n",
       "      <td>89.166</td>\n",
       "      <td>89.885</td>\n",
       "      <td>2477537</td>\n",
       "    </tr>\n",
       "    <tr>\n",
       "      <th>2014-07-09</th>\n",
       "      <td>89.766</td>\n",
       "      <td>90.222</td>\n",
       "      <td>89.350</td>\n",
       "      <td>89.821</td>\n",
       "      <td>1887920</td>\n",
       "    </tr>\n",
       "    <tr>\n",
       "      <th>2014-07-10</th>\n",
       "      <td>89.623</td>\n",
       "      <td>90.640</td>\n",
       "      <td>89.594</td>\n",
       "      <td>90.330</td>\n",
       "      <td>1683845</td>\n",
       "    </tr>\n",
       "    <tr>\n",
       "      <th>2014-07-11</th>\n",
       "      <td>90.300</td>\n",
       "      <td>90.539</td>\n",
       "      <td>89.703</td>\n",
       "      <td>89.949</td>\n",
       "      <td>1340583</td>\n",
       "    </tr>\n",
       "    <tr>\n",
       "      <th>2014-07-14</th>\n",
       "      <td>89.648</td>\n",
       "      <td>89.994</td>\n",
       "      <td>88.512</td>\n",
       "      <td>88.541</td>\n",
       "      <td>2012254</td>\n",
       "    </tr>\n",
       "    <tr>\n",
       "      <th>2014-07-15</th>\n",
       "      <td>88.677</td>\n",
       "      <td>89.467</td>\n",
       "      <td>88.449</td>\n",
       "      <td>89.359</td>\n",
       "      <td>1937131</td>\n",
       "    </tr>\n",
       "  </tbody>\n",
       "</table>\n",
       "</div>"
      ],
      "text/plain": [
       "              Open    High     Low   Close   Volume\n",
       "Date                                               \n",
       "2014-07-01  93.107  93.126  92.071  92.200  2755760\n",
       "2014-07-02  91.915  92.190  90.368  90.612  3158624\n",
       "2014-07-03  90.476  90.476  88.375  89.266  1601735\n",
       "2014-07-07  89.130  89.967  89.130  89.504  2047271\n",
       "2014-07-08  89.302  90.330  89.166  89.885  2477537\n",
       "2014-07-09  89.766  90.222  89.350  89.821  1887920\n",
       "2014-07-10  89.623  90.640  89.594  90.330  1683845\n",
       "2014-07-11  90.300  90.539  89.703  89.949  1340583\n",
       "2014-07-14  89.648  89.994  88.512  88.541  2012254\n",
       "2014-07-15  88.677  89.467  88.449  89.359  1937131"
      ]
     },
     "execution_count": 18,
     "metadata": {},
     "output_type": "execute_result"
    }
   ],
   "source": [
    "NEE = pd.read_csv(\"data/NEE.csv\")\n",
    "NEE = NEE.set_index(\"Date\")\n",
    "NEE.head(10)"
   ]
  },
  {
   "cell_type": "code",
   "execution_count": 19,
   "metadata": {},
   "outputs": [
    {
     "data": {
      "text/html": [
       "<div>\n",
       "<style scoped>\n",
       "    .dataframe tbody tr th:only-of-type {\n",
       "        vertical-align: middle;\n",
       "    }\n",
       "\n",
       "    .dataframe tbody tr th {\n",
       "        vertical-align: top;\n",
       "    }\n",
       "\n",
       "    .dataframe thead th {\n",
       "        text-align: right;\n",
       "    }\n",
       "</style>\n",
       "<table border=\"1\" class=\"dataframe\">\n",
       "  <thead>\n",
       "    <tr style=\"text-align: right;\">\n",
       "      <th></th>\n",
       "      <th>Open</th>\n",
       "      <th>High</th>\n",
       "      <th>Low</th>\n",
       "      <th>Close</th>\n",
       "      <th>Volume</th>\n",
       "    </tr>\n",
       "    <tr>\n",
       "      <th>Date</th>\n",
       "      <th></th>\n",
       "      <th></th>\n",
       "      <th></th>\n",
       "      <th></th>\n",
       "      <th></th>\n",
       "    </tr>\n",
       "  </thead>\n",
       "  <tbody>\n",
       "    <tr>\n",
       "      <th>2014-07-01</th>\n",
       "      <td>39.030</td>\n",
       "      <td>39.030</td>\n",
       "      <td>38.677</td>\n",
       "      <td>38.781</td>\n",
       "      <td>4178434</td>\n",
       "    </tr>\n",
       "    <tr>\n",
       "      <th>2014-07-02</th>\n",
       "      <td>38.745</td>\n",
       "      <td>38.745</td>\n",
       "      <td>37.956</td>\n",
       "      <td>38.075</td>\n",
       "      <td>7517823</td>\n",
       "    </tr>\n",
       "    <tr>\n",
       "      <th>2014-07-03</th>\n",
       "      <td>37.912</td>\n",
       "      <td>37.912</td>\n",
       "      <td>37.568</td>\n",
       "      <td>37.859</td>\n",
       "      <td>4676611</td>\n",
       "    </tr>\n",
       "    <tr>\n",
       "      <th>2014-07-07</th>\n",
       "      <td>37.782</td>\n",
       "      <td>38.111</td>\n",
       "      <td>37.782</td>\n",
       "      <td>38.033</td>\n",
       "      <td>4807230</td>\n",
       "    </tr>\n",
       "    <tr>\n",
       "      <th>2014-07-08</th>\n",
       "      <td>38.066</td>\n",
       "      <td>38.531</td>\n",
       "      <td>38.066</td>\n",
       "      <td>38.316</td>\n",
       "      <td>5484594</td>\n",
       "    </tr>\n",
       "    <tr>\n",
       "      <th>2014-07-09</th>\n",
       "      <td>38.436</td>\n",
       "      <td>38.436</td>\n",
       "      <td>38.005</td>\n",
       "      <td>38.248</td>\n",
       "      <td>4324607</td>\n",
       "    </tr>\n",
       "    <tr>\n",
       "      <th>2014-07-10</th>\n",
       "      <td>38.265</td>\n",
       "      <td>38.635</td>\n",
       "      <td>38.188</td>\n",
       "      <td>38.402</td>\n",
       "      <td>6023792</td>\n",
       "    </tr>\n",
       "    <tr>\n",
       "      <th>2014-07-11</th>\n",
       "      <td>38.394</td>\n",
       "      <td>38.627</td>\n",
       "      <td>38.179</td>\n",
       "      <td>38.307</td>\n",
       "      <td>4671890</td>\n",
       "    </tr>\n",
       "    <tr>\n",
       "      <th>2014-07-14</th>\n",
       "      <td>38.298</td>\n",
       "      <td>38.420</td>\n",
       "      <td>37.981</td>\n",
       "      <td>38.005</td>\n",
       "      <td>4453486</td>\n",
       "    </tr>\n",
       "    <tr>\n",
       "      <th>2014-07-15</th>\n",
       "      <td>38.005</td>\n",
       "      <td>38.282</td>\n",
       "      <td>37.981</td>\n",
       "      <td>38.256</td>\n",
       "      <td>4352968</td>\n",
       "    </tr>\n",
       "  </tbody>\n",
       "</table>\n",
       "</div>"
      ],
      "text/plain": [
       "              Open    High     Low   Close   Volume\n",
       "Date                                               \n",
       "2014-07-01  39.030  39.030  38.677  38.781  4178434\n",
       "2014-07-02  38.745  38.745  37.956  38.075  7517823\n",
       "2014-07-03  37.912  37.912  37.568  37.859  4676611\n",
       "2014-07-07  37.782  38.111  37.782  38.033  4807230\n",
       "2014-07-08  38.066  38.531  38.066  38.316  5484594\n",
       "2014-07-09  38.436  38.436  38.005  38.248  4324607\n",
       "2014-07-10  38.265  38.635  38.188  38.402  6023792\n",
       "2014-07-11  38.394  38.627  38.179  38.307  4671890\n",
       "2014-07-14  38.298  38.420  37.981  38.005  4453486\n",
       "2014-07-15  38.005  38.282  37.981  38.256  4352968"
      ]
     },
     "execution_count": 19,
     "metadata": {},
     "output_type": "execute_result"
    }
   ],
   "source": [
    "SO = pd.read_csv(\"data/SO.csv\")\n",
    "SO = SO.set_index(\"Date\")\n",
    "SO.head(10)"
   ]
  },
  {
   "cell_type": "markdown",
   "metadata": {},
   "source": [
    "-------"
   ]
  },
  {
   "cell_type": "markdown",
   "metadata": {
    "tags": [
     "3_min"
    ]
   },
   "source": [
    "### The `symbol`  column\n",
    "\n",
    "To create a new column in `pandas`, you use this syntax:\n",
    "\n",
    "~~~python\n",
    "my_dataframe[\"name_of_new_column\"] = the_definition_of_the_new_column\n",
    "~~~\n",
    "\n",
    "So, to create a new column with the name of the symbol, you use:"
   ]
  },
  {
   "cell_type": "code",
   "execution_count": 20,
   "metadata": {},
   "outputs": [
    {
     "data": {
      "text/html": [
       "<div>\n",
       "<style scoped>\n",
       "    .dataframe tbody tr th:only-of-type {\n",
       "        vertical-align: middle;\n",
       "    }\n",
       "\n",
       "    .dataframe tbody tr th {\n",
       "        vertical-align: top;\n",
       "    }\n",
       "\n",
       "    .dataframe thead th {\n",
       "        text-align: right;\n",
       "    }\n",
       "</style>\n",
       "<table border=\"1\" class=\"dataframe\">\n",
       "  <thead>\n",
       "    <tr style=\"text-align: right;\">\n",
       "      <th></th>\n",
       "      <th>Open</th>\n",
       "      <th>High</th>\n",
       "      <th>Low</th>\n",
       "      <th>Close</th>\n",
       "      <th>Volume</th>\n",
       "      <th>Symbol</th>\n",
       "    </tr>\n",
       "    <tr>\n",
       "      <th>Date</th>\n",
       "      <th></th>\n",
       "      <th></th>\n",
       "      <th></th>\n",
       "      <th></th>\n",
       "      <th></th>\n",
       "      <th></th>\n",
       "    </tr>\n",
       "  </thead>\n",
       "  <tbody>\n",
       "    <tr>\n",
       "      <th>2014-07-01</th>\n",
       "      <td>63.406</td>\n",
       "      <td>63.486</td>\n",
       "      <td>62.618</td>\n",
       "      <td>63.077</td>\n",
       "      <td>3626031</td>\n",
       "      <td>D</td>\n",
       "    </tr>\n",
       "    <tr>\n",
       "      <th>2014-07-02</th>\n",
       "      <td>62.929</td>\n",
       "      <td>62.935</td>\n",
       "      <td>61.403</td>\n",
       "      <td>61.730</td>\n",
       "      <td>4079097</td>\n",
       "      <td>D</td>\n",
       "    </tr>\n",
       "    <tr>\n",
       "      <th>2014-07-03</th>\n",
       "      <td>61.394</td>\n",
       "      <td>61.394</td>\n",
       "      <td>60.303</td>\n",
       "      <td>60.863</td>\n",
       "      <td>2937489</td>\n",
       "      <td>D</td>\n",
       "    </tr>\n",
       "    <tr>\n",
       "      <th>2014-07-07</th>\n",
       "      <td>60.718</td>\n",
       "      <td>61.430</td>\n",
       "      <td>60.611</td>\n",
       "      <td>61.038</td>\n",
       "      <td>3122145</td>\n",
       "      <td>D</td>\n",
       "    </tr>\n",
       "    <tr>\n",
       "      <th>2014-07-08</th>\n",
       "      <td>60.931</td>\n",
       "      <td>61.348</td>\n",
       "      <td>60.880</td>\n",
       "      <td>61.296</td>\n",
       "      <td>3048285</td>\n",
       "      <td>D</td>\n",
       "    </tr>\n",
       "    <tr>\n",
       "      <th>2014-07-09</th>\n",
       "      <td>61.385</td>\n",
       "      <td>61.501</td>\n",
       "      <td>60.897</td>\n",
       "      <td>61.340</td>\n",
       "      <td>1948182</td>\n",
       "      <td>D</td>\n",
       "    </tr>\n",
       "    <tr>\n",
       "      <th>2014-07-10</th>\n",
       "      <td>61.260</td>\n",
       "      <td>62.049</td>\n",
       "      <td>61.163</td>\n",
       "      <td>62.031</td>\n",
       "      <td>2471888</td>\n",
       "      <td>D</td>\n",
       "    </tr>\n",
       "    <tr>\n",
       "      <th>2014-07-11</th>\n",
       "      <td>61.871</td>\n",
       "      <td>62.031</td>\n",
       "      <td>61.535</td>\n",
       "      <td>61.607</td>\n",
       "      <td>1418862</td>\n",
       "      <td>D</td>\n",
       "    </tr>\n",
       "    <tr>\n",
       "      <th>2014-07-14</th>\n",
       "      <td>61.802</td>\n",
       "      <td>61.827</td>\n",
       "      <td>61.057</td>\n",
       "      <td>61.075</td>\n",
       "      <td>1810671</td>\n",
       "      <td>D</td>\n",
       "    </tr>\n",
       "    <tr>\n",
       "      <th>2014-07-15</th>\n",
       "      <td>61.028</td>\n",
       "      <td>61.696</td>\n",
       "      <td>60.994</td>\n",
       "      <td>61.625</td>\n",
       "      <td>2714819</td>\n",
       "      <td>D</td>\n",
       "    </tr>\n",
       "  </tbody>\n",
       "</table>\n",
       "</div>"
      ],
      "text/plain": [
       "              Open    High     Low   Close   Volume Symbol\n",
       "Date                                                      \n",
       "2014-07-01  63.406  63.486  62.618  63.077  3626031      D\n",
       "2014-07-02  62.929  62.935  61.403  61.730  4079097      D\n",
       "2014-07-03  61.394  61.394  60.303  60.863  2937489      D\n",
       "2014-07-07  60.718  61.430  60.611  61.038  3122145      D\n",
       "2014-07-08  60.931  61.348  60.880  61.296  3048285      D\n",
       "2014-07-09  61.385  61.501  60.897  61.340  1948182      D\n",
       "2014-07-10  61.260  62.049  61.163  62.031  2471888      D\n",
       "2014-07-11  61.871  62.031  61.535  61.607  1418862      D\n",
       "2014-07-14  61.802  61.827  61.057  61.075  1810671      D\n",
       "2014-07-15  61.028  61.696  60.994  61.625  2714819      D"
      ]
     },
     "execution_count": 20,
     "metadata": {},
     "output_type": "execute_result"
    }
   ],
   "source": [
    "D[\"Symbol\"] = \"D\"\n",
    "D.head(10)"
   ]
  },
  {
   "cell_type": "markdown",
   "metadata": {},
   "source": [
    "Here we defined a new column called `Symbol` and asked `pandas` to assign the string value `D` to *all* of its rows. Let's create the corresponding `Symbol` column in `DUK`, `EXC`, `NEE` and `SO`."
   ]
  },
  {
   "cell_type": "code",
   "execution_count": 21,
   "metadata": {},
   "outputs": [],
   "source": [
    "DUK[\"Symbol\"] = \"DUK\"\n",
    "EXC[\"Symbol\"] = \"EXC\"\n",
    "NEE[\"Symbol\"] = \"NEE\"\n",
    "SO[\"Symbol\"] = \"SO\""
   ]
  },
  {
   "cell_type": "markdown",
   "metadata": {
    "tags": [
     "1_min"
    ]
   },
   "source": [
    "#### Concatenating our DataFrame\n",
    "\n",
    "Below we stitch all the dataframes together with the `pd.concat()` function (we will need this concatenated DataFrame in a moment):"
   ]
  },
  {
   "cell_type": "code",
   "execution_count": 22,
   "metadata": {},
   "outputs": [],
   "source": [
    "stocks = pd.concat([D, DUK, EXC, NEE, SO])"
   ]
  },
  {
   "cell_type": "code",
   "execution_count": 23,
   "metadata": {},
   "outputs": [
    {
     "data": {
      "text/html": [
       "<div>\n",
       "<style scoped>\n",
       "    .dataframe tbody tr th:only-of-type {\n",
       "        vertical-align: middle;\n",
       "    }\n",
       "\n",
       "    .dataframe tbody tr th {\n",
       "        vertical-align: top;\n",
       "    }\n",
       "\n",
       "    .dataframe thead th {\n",
       "        text-align: right;\n",
       "    }\n",
       "</style>\n",
       "<table border=\"1\" class=\"dataframe\">\n",
       "  <thead>\n",
       "    <tr style=\"text-align: right;\">\n",
       "      <th></th>\n",
       "      <th>Open</th>\n",
       "      <th>High</th>\n",
       "      <th>Low</th>\n",
       "      <th>Close</th>\n",
       "      <th>Volume</th>\n",
       "      <th>Symbol</th>\n",
       "    </tr>\n",
       "    <tr>\n",
       "      <th>Date</th>\n",
       "      <th></th>\n",
       "      <th></th>\n",
       "      <th></th>\n",
       "      <th></th>\n",
       "      <th></th>\n",
       "      <th></th>\n",
       "    </tr>\n",
       "  </thead>\n",
       "  <tbody>\n",
       "    <tr>\n",
       "      <th>2014-07-01</th>\n",
       "      <td>63.406</td>\n",
       "      <td>63.486</td>\n",
       "      <td>62.618</td>\n",
       "      <td>63.077</td>\n",
       "      <td>3626031</td>\n",
       "      <td>D</td>\n",
       "    </tr>\n",
       "    <tr>\n",
       "      <th>2014-07-02</th>\n",
       "      <td>62.929</td>\n",
       "      <td>62.935</td>\n",
       "      <td>61.403</td>\n",
       "      <td>61.730</td>\n",
       "      <td>4079097</td>\n",
       "      <td>D</td>\n",
       "    </tr>\n",
       "    <tr>\n",
       "      <th>2014-07-03</th>\n",
       "      <td>61.394</td>\n",
       "      <td>61.394</td>\n",
       "      <td>60.303</td>\n",
       "      <td>60.863</td>\n",
       "      <td>2937489</td>\n",
       "      <td>D</td>\n",
       "    </tr>\n",
       "    <tr>\n",
       "      <th>2014-07-07</th>\n",
       "      <td>60.718</td>\n",
       "      <td>61.430</td>\n",
       "      <td>60.611</td>\n",
       "      <td>61.038</td>\n",
       "      <td>3122145</td>\n",
       "      <td>D</td>\n",
       "    </tr>\n",
       "    <tr>\n",
       "      <th>2014-07-08</th>\n",
       "      <td>60.931</td>\n",
       "      <td>61.348</td>\n",
       "      <td>60.880</td>\n",
       "      <td>61.296</td>\n",
       "      <td>3048285</td>\n",
       "      <td>D</td>\n",
       "    </tr>\n",
       "  </tbody>\n",
       "</table>\n",
       "</div>"
      ],
      "text/plain": [
       "              Open    High     Low   Close   Volume Symbol\n",
       "Date                                                      \n",
       "2014-07-01  63.406  63.486  62.618  63.077  3626031      D\n",
       "2014-07-02  62.929  62.935  61.403  61.730  4079097      D\n",
       "2014-07-03  61.394  61.394  60.303  60.863  2937489      D\n",
       "2014-07-07  60.718  61.430  60.611  61.038  3122145      D\n",
       "2014-07-08  60.931  61.348  60.880  61.296  3048285      D"
      ]
     },
     "execution_count": 23,
     "metadata": {},
     "output_type": "execute_result"
    }
   ],
   "source": [
    "stocks.head()"
   ]
  },
  {
   "cell_type": "code",
   "execution_count": 24,
   "metadata": {},
   "outputs": [
    {
     "data": {
      "text/plain": [
       "array(['D', 'DUK', 'EXC', 'NEE', 'SO'], dtype=object)"
      ]
     },
     "execution_count": 24,
     "metadata": {},
     "output_type": "execute_result"
    }
   ],
   "source": [
    "stocks['Symbol'].unique()"
   ]
  },
  {
   "cell_type": "markdown",
   "metadata": {
    "tags": [
     "7_min"
    ]
   },
   "source": [
    "### The `Return` column\n",
    "\n",
    "This is the daily return formula:\n",
    "\n",
    "$$\n",
    "Return = \\frac{Close_t}{Close_{t-1}} - 1\n",
    "$$\n",
    "\n",
    "Let's look at our DataFrame `D` (we only show  the first three rows):"
   ]
  },
  {
   "cell_type": "code",
   "execution_count": 25,
   "metadata": {},
   "outputs": [
    {
     "data": {
      "text/html": [
       "<div>\n",
       "<style scoped>\n",
       "    .dataframe tbody tr th:only-of-type {\n",
       "        vertical-align: middle;\n",
       "    }\n",
       "\n",
       "    .dataframe tbody tr th {\n",
       "        vertical-align: top;\n",
       "    }\n",
       "\n",
       "    .dataframe thead th {\n",
       "        text-align: right;\n",
       "    }\n",
       "</style>\n",
       "<table border=\"1\" class=\"dataframe\">\n",
       "  <thead>\n",
       "    <tr style=\"text-align: right;\">\n",
       "      <th></th>\n",
       "      <th>Open</th>\n",
       "      <th>High</th>\n",
       "      <th>Low</th>\n",
       "      <th>Close</th>\n",
       "      <th>Volume</th>\n",
       "      <th>Symbol</th>\n",
       "    </tr>\n",
       "    <tr>\n",
       "      <th>Date</th>\n",
       "      <th></th>\n",
       "      <th></th>\n",
       "      <th></th>\n",
       "      <th></th>\n",
       "      <th></th>\n",
       "      <th></th>\n",
       "    </tr>\n",
       "  </thead>\n",
       "  <tbody>\n",
       "    <tr>\n",
       "      <th>2014-07-01</th>\n",
       "      <td>63.406</td>\n",
       "      <td>63.486</td>\n",
       "      <td>62.618</td>\n",
       "      <td>63.077</td>\n",
       "      <td>3626031</td>\n",
       "      <td>D</td>\n",
       "    </tr>\n",
       "    <tr>\n",
       "      <th>2014-07-02</th>\n",
       "      <td>62.929</td>\n",
       "      <td>62.935</td>\n",
       "      <td>61.403</td>\n",
       "      <td>61.730</td>\n",
       "      <td>4079097</td>\n",
       "      <td>D</td>\n",
       "    </tr>\n",
       "    <tr>\n",
       "      <th>2014-07-03</th>\n",
       "      <td>61.394</td>\n",
       "      <td>61.394</td>\n",
       "      <td>60.303</td>\n",
       "      <td>60.863</td>\n",
       "      <td>2937489</td>\n",
       "      <td>D</td>\n",
       "    </tr>\n",
       "  </tbody>\n",
       "</table>\n",
       "</div>"
      ],
      "text/plain": [
       "              Open    High     Low   Close   Volume Symbol\n",
       "Date                                                      \n",
       "2014-07-01  63.406  63.486  62.618  63.077  3626031      D\n",
       "2014-07-02  62.929  62.935  61.403  61.730  4079097      D\n",
       "2014-07-03  61.394  61.394  60.303  60.863  2937489      D"
      ]
     },
     "execution_count": 25,
     "metadata": {},
     "output_type": "execute_result"
    }
   ],
   "source": [
    "D.head(3)"
   ]
  },
  {
   "cell_type": "markdown",
   "metadata": {},
   "source": [
    "Let's compute $Return$ for July 3:"
   ]
  },
  {
   "cell_type": "code",
   "execution_count": 26,
   "metadata": {},
   "outputs": [
    {
     "name": "stdout",
     "output_type": "stream",
     "text": [
      "-0.01404503482909436\n"
     ]
    }
   ],
   "source": [
    "close_2_july = 61.730\n",
    "close_3_july = 60.863\n",
    "return_3_july = (close_3_july / close_2_july) - 1\n",
    "print(return_3_july)"
   ]
  },
  {
   "cell_type": "markdown",
   "metadata": {},
   "source": [
    "We could write a `for` loop to do this operation on each of the rows one by one, but thankfully `pandas` offers us an easier way - the **`.shift()`** method. The `.shift()` method takes a Series and shifts it up or down (depending on your input) in relation to the index of the Series. This is better understood with an example - here's the head of the `High` Series:"
   ]
  },
  {
   "cell_type": "code",
   "execution_count": 27,
   "metadata": {},
   "outputs": [
    {
     "data": {
      "text/plain": [
       "Date\n",
       "2014-07-01    63.486\n",
       "2014-07-02    62.935\n",
       "2014-07-03    61.394\n",
       "2014-07-07    61.430\n",
       "2014-07-08    61.348\n",
       "Name: High, dtype: float64"
      ]
     },
     "execution_count": 27,
     "metadata": {},
     "output_type": "execute_result"
    }
   ],
   "source": [
    "D[\"High\"].head(5)"
   ]
  },
  {
   "cell_type": "markdown",
   "metadata": {},
   "source": [
    "You can see that the `High` price for July 3 was 61.394.\n",
    "\n",
    "You can shift the Series so that the value that is associated with July 3 is no longer its own, but rather the one corresponding to July 7:"
   ]
  },
  {
   "cell_type": "code",
   "execution_count": 28,
   "metadata": {},
   "outputs": [
    {
     "data": {
      "text/plain": [
       "Date\n",
       "2014-07-01    62.935\n",
       "2014-07-02    61.394\n",
       "2014-07-03    61.430\n",
       "2014-07-07    61.348\n",
       "2014-07-08       NaN\n",
       "Name: High, dtype: float64"
      ]
     },
     "execution_count": 28,
     "metadata": {},
     "output_type": "execute_result"
    }
   ],
   "source": [
    "D[\"High\"].head(5).shift(-1)"
   ]
  },
  {
   "cell_type": "markdown",
   "metadata": {},
   "source": [
    "You can, of course, reverse the direction of the shift and move the whole Series \"downwards\" instead:"
   ]
  },
  {
   "cell_type": "code",
   "execution_count": 29,
   "metadata": {},
   "outputs": [
    {
     "data": {
      "text/plain": [
       "Date\n",
       "2014-07-01       NaN\n",
       "2014-07-02    63.486\n",
       "2014-07-03    62.935\n",
       "2014-07-07    61.394\n",
       "2014-07-08    61.430\n",
       "Name: High, dtype: float64"
      ]
     },
     "execution_count": 29,
     "metadata": {},
     "output_type": "execute_result"
    }
   ],
   "source": [
    "D[\"High\"].head(5).shift(1)"
   ]
  },
  {
   "cell_type": "markdown",
   "metadata": {},
   "source": [
    "And you can shift it as many rows as you want:"
   ]
  },
  {
   "cell_type": "code",
   "execution_count": 30,
   "metadata": {},
   "outputs": [
    {
     "data": {
      "text/plain": [
       "Date\n",
       "2014-07-01       NaN\n",
       "2014-07-02       NaN\n",
       "2014-07-03       NaN\n",
       "2014-07-07    63.486\n",
       "2014-07-08    62.935\n",
       "Name: High, dtype: float64"
      ]
     },
     "execution_count": 30,
     "metadata": {},
     "output_type": "execute_result"
    }
   ],
   "source": [
    "D[\"High\"].head(5).shift(3)"
   ]
  },
  {
   "cell_type": "markdown",
   "metadata": {
    "tags": [
     "3_min"
    ]
   },
   "source": [
    "### Exercise 2\n",
    "\n",
    "\n",
    "This is the formula we want to code:\n",
    "\n",
    "$$\n",
    "Return = \\frac{Close_t}{Close_{t-1}} - 1\n",
    "$$\n",
    "\n",
    "Getting $Close_t$ is easy:\n",
    "\n",
    "~~~python\n",
    "D[\"Close\"]\n",
    "~~~\n",
    "\n",
    "But how would you get its shifted version, $Close_{t-1}$?\n",
    "\n",
    "**Hint:** Let's say $t=30$. You would then want to get $Close_{29}$. So, in your table, the row for $t=30$ should have a column that contains $Close_{30}$ (this one already exists, it's in `Close`) and another one (call it `Close_Previous`) that contains $Close_{29}$."
   ]
  },
  {
   "cell_type": "markdown",
   "metadata": {
    "tags": [
     "ans_st"
    ]
   },
   "source": [
    "**Answer.**"
   ]
  },
  {
   "cell_type": "code",
   "execution_count": 34,
   "metadata": {},
   "outputs": [
    {
     "data": {
      "text/html": [
       "<div>\n",
       "<style scoped>\n",
       "    .dataframe tbody tr th:only-of-type {\n",
       "        vertical-align: middle;\n",
       "    }\n",
       "\n",
       "    .dataframe tbody tr th {\n",
       "        vertical-align: top;\n",
       "    }\n",
       "\n",
       "    .dataframe thead th {\n",
       "        text-align: right;\n",
       "    }\n",
       "</style>\n",
       "<table border=\"1\" class=\"dataframe\">\n",
       "  <thead>\n",
       "    <tr style=\"text-align: right;\">\n",
       "      <th></th>\n",
       "      <th>Open</th>\n",
       "      <th>High</th>\n",
       "      <th>Low</th>\n",
       "      <th>Close</th>\n",
       "      <th>Volume</th>\n",
       "      <th>Symbol</th>\n",
       "      <th>Close_Previous</th>\n",
       "    </tr>\n",
       "    <tr>\n",
       "      <th>Date</th>\n",
       "      <th></th>\n",
       "      <th></th>\n",
       "      <th></th>\n",
       "      <th></th>\n",
       "      <th></th>\n",
       "      <th></th>\n",
       "      <th></th>\n",
       "    </tr>\n",
       "  </thead>\n",
       "  <tbody>\n",
       "    <tr>\n",
       "      <th>2014-07-01</th>\n",
       "      <td>63.406</td>\n",
       "      <td>63.486</td>\n",
       "      <td>62.618</td>\n",
       "      <td>63.077</td>\n",
       "      <td>3626031</td>\n",
       "      <td>D</td>\n",
       "      <td>NaN</td>\n",
       "    </tr>\n",
       "    <tr>\n",
       "      <th>2014-07-02</th>\n",
       "      <td>62.929</td>\n",
       "      <td>62.935</td>\n",
       "      <td>61.403</td>\n",
       "      <td>61.730</td>\n",
       "      <td>4079097</td>\n",
       "      <td>D</td>\n",
       "      <td>63.077</td>\n",
       "    </tr>\n",
       "    <tr>\n",
       "      <th>2014-07-03</th>\n",
       "      <td>61.394</td>\n",
       "      <td>61.394</td>\n",
       "      <td>60.303</td>\n",
       "      <td>60.863</td>\n",
       "      <td>2937489</td>\n",
       "      <td>D</td>\n",
       "      <td>61.730</td>\n",
       "    </tr>\n",
       "    <tr>\n",
       "      <th>2014-07-07</th>\n",
       "      <td>60.718</td>\n",
       "      <td>61.430</td>\n",
       "      <td>60.611</td>\n",
       "      <td>61.038</td>\n",
       "      <td>3122145</td>\n",
       "      <td>D</td>\n",
       "      <td>60.863</td>\n",
       "    </tr>\n",
       "    <tr>\n",
       "      <th>2014-07-08</th>\n",
       "      <td>60.931</td>\n",
       "      <td>61.348</td>\n",
       "      <td>60.880</td>\n",
       "      <td>61.296</td>\n",
       "      <td>3048285</td>\n",
       "      <td>D</td>\n",
       "      <td>61.038</td>\n",
       "    </tr>\n",
       "  </tbody>\n",
       "</table>\n",
       "</div>"
      ],
      "text/plain": [
       "              Open    High     Low   Close   Volume Symbol  Close_Previous\n",
       "Date                                                                      \n",
       "2014-07-01  63.406  63.486  62.618  63.077  3626031      D             NaN\n",
       "2014-07-02  62.929  62.935  61.403  61.730  4079097      D          63.077\n",
       "2014-07-03  61.394  61.394  60.303  60.863  2937489      D          61.730\n",
       "2014-07-07  60.718  61.430  60.611  61.038  3122145      D          60.863\n",
       "2014-07-08  60.931  61.348  60.880  61.296  3048285      D          61.038"
      ]
     },
     "execution_count": 34,
     "metadata": {},
     "output_type": "execute_result"
    }
   ],
   "source": [
    "stocks[\"Close_Previous\"] = stocks[\"Close\"].shift(1)\n",
    "stocks.head()"
   ]
  },
  {
   "cell_type": "markdown",
   "metadata": {},
   "source": [
    "-------"
   ]
  },
  {
   "cell_type": "markdown",
   "metadata": {
    "tags": [
     "5_min"
    ]
   },
   "source": [
    "### Exercise 3\n",
    "\n",
    "How would you code the definition of `Return`?"
   ]
  },
  {
   "cell_type": "markdown",
   "metadata": {
    "tags": [
     "ans_st"
    ]
   },
   "source": [
    "**Answer.**"
   ]
  },
  {
   "cell_type": "code",
   "execution_count": 38,
   "metadata": {},
   "outputs": [
    {
     "data": {
      "text/html": [
       "<div>\n",
       "<style scoped>\n",
       "    .dataframe tbody tr th:only-of-type {\n",
       "        vertical-align: middle;\n",
       "    }\n",
       "\n",
       "    .dataframe tbody tr th {\n",
       "        vertical-align: top;\n",
       "    }\n",
       "\n",
       "    .dataframe thead th {\n",
       "        text-align: right;\n",
       "    }\n",
       "</style>\n",
       "<table border=\"1\" class=\"dataframe\">\n",
       "  <thead>\n",
       "    <tr style=\"text-align: right;\">\n",
       "      <th></th>\n",
       "      <th>Open</th>\n",
       "      <th>High</th>\n",
       "      <th>Low</th>\n",
       "      <th>Close</th>\n",
       "      <th>Volume</th>\n",
       "      <th>Symbol</th>\n",
       "      <th>Close_Previous</th>\n",
       "      <th>Return</th>\n",
       "    </tr>\n",
       "    <tr>\n",
       "      <th>Date</th>\n",
       "      <th></th>\n",
       "      <th></th>\n",
       "      <th></th>\n",
       "      <th></th>\n",
       "      <th></th>\n",
       "      <th></th>\n",
       "      <th></th>\n",
       "      <th></th>\n",
       "    </tr>\n",
       "  </thead>\n",
       "  <tbody>\n",
       "    <tr>\n",
       "      <th>2014-07-01</th>\n",
       "      <td>63.406</td>\n",
       "      <td>63.486</td>\n",
       "      <td>62.618</td>\n",
       "      <td>63.077</td>\n",
       "      <td>3626031</td>\n",
       "      <td>D</td>\n",
       "      <td>NaN</td>\n",
       "      <td>NaN</td>\n",
       "    </tr>\n",
       "    <tr>\n",
       "      <th>2014-07-02</th>\n",
       "      <td>62.929</td>\n",
       "      <td>62.935</td>\n",
       "      <td>61.403</td>\n",
       "      <td>61.730</td>\n",
       "      <td>4079097</td>\n",
       "      <td>D</td>\n",
       "      <td>63.077</td>\n",
       "      <td>-0.021355</td>\n",
       "    </tr>\n",
       "    <tr>\n",
       "      <th>2014-07-03</th>\n",
       "      <td>61.394</td>\n",
       "      <td>61.394</td>\n",
       "      <td>60.303</td>\n",
       "      <td>60.863</td>\n",
       "      <td>2937489</td>\n",
       "      <td>D</td>\n",
       "      <td>61.730</td>\n",
       "      <td>-0.014045</td>\n",
       "    </tr>\n",
       "    <tr>\n",
       "      <th>2014-07-07</th>\n",
       "      <td>60.718</td>\n",
       "      <td>61.430</td>\n",
       "      <td>60.611</td>\n",
       "      <td>61.038</td>\n",
       "      <td>3122145</td>\n",
       "      <td>D</td>\n",
       "      <td>60.863</td>\n",
       "      <td>0.002875</td>\n",
       "    </tr>\n",
       "    <tr>\n",
       "      <th>2014-07-08</th>\n",
       "      <td>60.931</td>\n",
       "      <td>61.348</td>\n",
       "      <td>60.880</td>\n",
       "      <td>61.296</td>\n",
       "      <td>3048285</td>\n",
       "      <td>D</td>\n",
       "      <td>61.038</td>\n",
       "      <td>0.004227</td>\n",
       "    </tr>\n",
       "  </tbody>\n",
       "</table>\n",
       "</div>"
      ],
      "text/plain": [
       "              Open    High     Low   Close   Volume Symbol  Close_Previous  \\\n",
       "Date                                                                         \n",
       "2014-07-01  63.406  63.486  62.618  63.077  3626031      D             NaN   \n",
       "2014-07-02  62.929  62.935  61.403  61.730  4079097      D          63.077   \n",
       "2014-07-03  61.394  61.394  60.303  60.863  2937489      D          61.730   \n",
       "2014-07-07  60.718  61.430  60.611  61.038  3122145      D          60.863   \n",
       "2014-07-08  60.931  61.348  60.880  61.296  3048285      D          61.038   \n",
       "\n",
       "              Return  \n",
       "Date                  \n",
       "2014-07-01       NaN  \n",
       "2014-07-02 -0.021355  \n",
       "2014-07-03 -0.014045  \n",
       "2014-07-07  0.002875  \n",
       "2014-07-08  0.004227  "
      ]
     },
     "execution_count": 38,
     "metadata": {},
     "output_type": "execute_result"
    }
   ],
   "source": [
    "stocks[\"Return\"] = stocks[\"Close\"]/stocks[\"Close_Previous\"]-1.0\n",
    "stocks.head()"
   ]
  },
  {
   "cell_type": "markdown",
   "metadata": {},
   "source": [
    "-------"
   ]
  },
  {
   "cell_type": "markdown",
   "metadata": {
    "tags": [
     "3_min"
    ]
   },
   "source": [
    "### Trading volume in millions\n",
    "\n",
    "Recall the formula:\n",
    "\n",
    "$$\n",
    "Volume\\_Millions = \\frac{Volume}{1,000,000}\n",
    "$$\n",
    "\n",
    "You probably remember that you can divide in Python using the `/` symbol. Since `pandas` Series support Python arithmetic, you can simply do this in order to create the new column (notice that we now use the concatenated DataFrame `stocks` instead of the `D` DataFrame):"
   ]
  },
  {
   "cell_type": "code",
   "execution_count": 39,
   "metadata": {},
   "outputs": [
    {
     "data": {
      "text/html": [
       "<div>\n",
       "<style scoped>\n",
       "    .dataframe tbody tr th:only-of-type {\n",
       "        vertical-align: middle;\n",
       "    }\n",
       "\n",
       "    .dataframe tbody tr th {\n",
       "        vertical-align: top;\n",
       "    }\n",
       "\n",
       "    .dataframe thead th {\n",
       "        text-align: right;\n",
       "    }\n",
       "</style>\n",
       "<table border=\"1\" class=\"dataframe\">\n",
       "  <thead>\n",
       "    <tr style=\"text-align: right;\">\n",
       "      <th></th>\n",
       "      <th>Open</th>\n",
       "      <th>High</th>\n",
       "      <th>Low</th>\n",
       "      <th>Close</th>\n",
       "      <th>Volume</th>\n",
       "      <th>Symbol</th>\n",
       "      <th>Close_Previous</th>\n",
       "      <th>Return</th>\n",
       "      <th>Volume_Millions</th>\n",
       "    </tr>\n",
       "    <tr>\n",
       "      <th>Date</th>\n",
       "      <th></th>\n",
       "      <th></th>\n",
       "      <th></th>\n",
       "      <th></th>\n",
       "      <th></th>\n",
       "      <th></th>\n",
       "      <th></th>\n",
       "      <th></th>\n",
       "      <th></th>\n",
       "    </tr>\n",
       "  </thead>\n",
       "  <tbody>\n",
       "    <tr>\n",
       "      <th>2014-07-01</th>\n",
       "      <td>63.406</td>\n",
       "      <td>63.486</td>\n",
       "      <td>62.618</td>\n",
       "      <td>63.077</td>\n",
       "      <td>3626031</td>\n",
       "      <td>D</td>\n",
       "      <td>NaN</td>\n",
       "      <td>NaN</td>\n",
       "      <td>3.626031</td>\n",
       "    </tr>\n",
       "    <tr>\n",
       "      <th>2014-07-02</th>\n",
       "      <td>62.929</td>\n",
       "      <td>62.935</td>\n",
       "      <td>61.403</td>\n",
       "      <td>61.730</td>\n",
       "      <td>4079097</td>\n",
       "      <td>D</td>\n",
       "      <td>63.077</td>\n",
       "      <td>-0.021355</td>\n",
       "      <td>4.079097</td>\n",
       "    </tr>\n",
       "    <tr>\n",
       "      <th>2014-07-03</th>\n",
       "      <td>61.394</td>\n",
       "      <td>61.394</td>\n",
       "      <td>60.303</td>\n",
       "      <td>60.863</td>\n",
       "      <td>2937489</td>\n",
       "      <td>D</td>\n",
       "      <td>61.730</td>\n",
       "      <td>-0.014045</td>\n",
       "      <td>2.937489</td>\n",
       "    </tr>\n",
       "    <tr>\n",
       "      <th>2014-07-07</th>\n",
       "      <td>60.718</td>\n",
       "      <td>61.430</td>\n",
       "      <td>60.611</td>\n",
       "      <td>61.038</td>\n",
       "      <td>3122145</td>\n",
       "      <td>D</td>\n",
       "      <td>60.863</td>\n",
       "      <td>0.002875</td>\n",
       "      <td>3.122145</td>\n",
       "    </tr>\n",
       "    <tr>\n",
       "      <th>2014-07-08</th>\n",
       "      <td>60.931</td>\n",
       "      <td>61.348</td>\n",
       "      <td>60.880</td>\n",
       "      <td>61.296</td>\n",
       "      <td>3048285</td>\n",
       "      <td>D</td>\n",
       "      <td>61.038</td>\n",
       "      <td>0.004227</td>\n",
       "      <td>3.048285</td>\n",
       "    </tr>\n",
       "    <tr>\n",
       "      <th>2014-07-09</th>\n",
       "      <td>61.385</td>\n",
       "      <td>61.501</td>\n",
       "      <td>60.897</td>\n",
       "      <td>61.340</td>\n",
       "      <td>1948182</td>\n",
       "      <td>D</td>\n",
       "      <td>61.296</td>\n",
       "      <td>0.000718</td>\n",
       "      <td>1.948182</td>\n",
       "    </tr>\n",
       "    <tr>\n",
       "      <th>2014-07-10</th>\n",
       "      <td>61.260</td>\n",
       "      <td>62.049</td>\n",
       "      <td>61.163</td>\n",
       "      <td>62.031</td>\n",
       "      <td>2471888</td>\n",
       "      <td>D</td>\n",
       "      <td>61.340</td>\n",
       "      <td>0.011265</td>\n",
       "      <td>2.471888</td>\n",
       "    </tr>\n",
       "    <tr>\n",
       "      <th>2014-07-11</th>\n",
       "      <td>61.871</td>\n",
       "      <td>62.031</td>\n",
       "      <td>61.535</td>\n",
       "      <td>61.607</td>\n",
       "      <td>1418862</td>\n",
       "      <td>D</td>\n",
       "      <td>62.031</td>\n",
       "      <td>-0.006835</td>\n",
       "      <td>1.418862</td>\n",
       "    </tr>\n",
       "    <tr>\n",
       "      <th>2014-07-14</th>\n",
       "      <td>61.802</td>\n",
       "      <td>61.827</td>\n",
       "      <td>61.057</td>\n",
       "      <td>61.075</td>\n",
       "      <td>1810671</td>\n",
       "      <td>D</td>\n",
       "      <td>61.607</td>\n",
       "      <td>-0.008635</td>\n",
       "      <td>1.810671</td>\n",
       "    </tr>\n",
       "    <tr>\n",
       "      <th>2014-07-15</th>\n",
       "      <td>61.028</td>\n",
       "      <td>61.696</td>\n",
       "      <td>60.994</td>\n",
       "      <td>61.625</td>\n",
       "      <td>2714819</td>\n",
       "      <td>D</td>\n",
       "      <td>61.075</td>\n",
       "      <td>0.009005</td>\n",
       "      <td>2.714819</td>\n",
       "    </tr>\n",
       "  </tbody>\n",
       "</table>\n",
       "</div>"
      ],
      "text/plain": [
       "              Open    High     Low   Close   Volume Symbol  Close_Previous  \\\n",
       "Date                                                                         \n",
       "2014-07-01  63.406  63.486  62.618  63.077  3626031      D             NaN   \n",
       "2014-07-02  62.929  62.935  61.403  61.730  4079097      D          63.077   \n",
       "2014-07-03  61.394  61.394  60.303  60.863  2937489      D          61.730   \n",
       "2014-07-07  60.718  61.430  60.611  61.038  3122145      D          60.863   \n",
       "2014-07-08  60.931  61.348  60.880  61.296  3048285      D          61.038   \n",
       "2014-07-09  61.385  61.501  60.897  61.340  1948182      D          61.296   \n",
       "2014-07-10  61.260  62.049  61.163  62.031  2471888      D          61.340   \n",
       "2014-07-11  61.871  62.031  61.535  61.607  1418862      D          62.031   \n",
       "2014-07-14  61.802  61.827  61.057  61.075  1810671      D          61.607   \n",
       "2014-07-15  61.028  61.696  60.994  61.625  2714819      D          61.075   \n",
       "\n",
       "              Return  Volume_Millions  \n",
       "Date                                   \n",
       "2014-07-01       NaN         3.626031  \n",
       "2014-07-02 -0.021355         4.079097  \n",
       "2014-07-03 -0.014045         2.937489  \n",
       "2014-07-07  0.002875         3.122145  \n",
       "2014-07-08  0.004227         3.048285  \n",
       "2014-07-09  0.000718         1.948182  \n",
       "2014-07-10  0.011265         2.471888  \n",
       "2014-07-11 -0.006835         1.418862  \n",
       "2014-07-14 -0.008635         1.810671  \n",
       "2014-07-15  0.009005         2.714819  "
      ]
     },
     "execution_count": 39,
     "metadata": {},
     "output_type": "execute_result"
    }
   ],
   "source": [
    "stocks[\"Volume_Millions\"] = stocks[\"Volume\"] / 1000000\n",
    "stocks.head(10)"
   ]
  },
  {
   "cell_type": "markdown",
   "metadata": {
    "tags": [
     "2_min"
    ]
   },
   "source": [
    "### A measure of volatility\n",
    "\n",
    "This is another formula that we need to replicate in our concatenated DataFrame:\n",
    "\n",
    "$$\n",
    "VolStat = \\frac{High_t - Low_t}{Open_t}\n",
    "$$\n",
    "\n",
    "Let's add it to our dataset:"
   ]
  },
  {
   "cell_type": "code",
   "execution_count": 41,
   "metadata": {},
   "outputs": [
    {
     "data": {
      "text/html": [
       "<div>\n",
       "<style scoped>\n",
       "    .dataframe tbody tr th:only-of-type {\n",
       "        vertical-align: middle;\n",
       "    }\n",
       "\n",
       "    .dataframe tbody tr th {\n",
       "        vertical-align: top;\n",
       "    }\n",
       "\n",
       "    .dataframe thead th {\n",
       "        text-align: right;\n",
       "    }\n",
       "</style>\n",
       "<table border=\"1\" class=\"dataframe\">\n",
       "  <thead>\n",
       "    <tr style=\"text-align: right;\">\n",
       "      <th></th>\n",
       "      <th>Open</th>\n",
       "      <th>High</th>\n",
       "      <th>Low</th>\n",
       "      <th>Close</th>\n",
       "      <th>Volume</th>\n",
       "      <th>Symbol</th>\n",
       "      <th>Close_Previous</th>\n",
       "      <th>Return</th>\n",
       "      <th>Volume_Millions</th>\n",
       "      <th>VolStat</th>\n",
       "    </tr>\n",
       "    <tr>\n",
       "      <th>Date</th>\n",
       "      <th></th>\n",
       "      <th></th>\n",
       "      <th></th>\n",
       "      <th></th>\n",
       "      <th></th>\n",
       "      <th></th>\n",
       "      <th></th>\n",
       "      <th></th>\n",
       "      <th></th>\n",
       "      <th></th>\n",
       "    </tr>\n",
       "  </thead>\n",
       "  <tbody>\n",
       "    <tr>\n",
       "      <th>2014-07-01</th>\n",
       "      <td>63.406</td>\n",
       "      <td>63.486</td>\n",
       "      <td>62.618</td>\n",
       "      <td>63.077</td>\n",
       "      <td>3626031</td>\n",
       "      <td>D</td>\n",
       "      <td>NaN</td>\n",
       "      <td>NaN</td>\n",
       "      <td>3.626031</td>\n",
       "      <td>0.013690</td>\n",
       "    </tr>\n",
       "    <tr>\n",
       "      <th>2014-07-02</th>\n",
       "      <td>62.929</td>\n",
       "      <td>62.935</td>\n",
       "      <td>61.403</td>\n",
       "      <td>61.730</td>\n",
       "      <td>4079097</td>\n",
       "      <td>D</td>\n",
       "      <td>63.077</td>\n",
       "      <td>-0.021355</td>\n",
       "      <td>4.079097</td>\n",
       "      <td>0.024345</td>\n",
       "    </tr>\n",
       "    <tr>\n",
       "      <th>2014-07-03</th>\n",
       "      <td>61.394</td>\n",
       "      <td>61.394</td>\n",
       "      <td>60.303</td>\n",
       "      <td>60.863</td>\n",
       "      <td>2937489</td>\n",
       "      <td>D</td>\n",
       "      <td>61.730</td>\n",
       "      <td>-0.014045</td>\n",
       "      <td>2.937489</td>\n",
       "      <td>0.017770</td>\n",
       "    </tr>\n",
       "    <tr>\n",
       "      <th>2014-07-07</th>\n",
       "      <td>60.718</td>\n",
       "      <td>61.430</td>\n",
       "      <td>60.611</td>\n",
       "      <td>61.038</td>\n",
       "      <td>3122145</td>\n",
       "      <td>D</td>\n",
       "      <td>60.863</td>\n",
       "      <td>0.002875</td>\n",
       "      <td>3.122145</td>\n",
       "      <td>0.013489</td>\n",
       "    </tr>\n",
       "    <tr>\n",
       "      <th>2014-07-08</th>\n",
       "      <td>60.931</td>\n",
       "      <td>61.348</td>\n",
       "      <td>60.880</td>\n",
       "      <td>61.296</td>\n",
       "      <td>3048285</td>\n",
       "      <td>D</td>\n",
       "      <td>61.038</td>\n",
       "      <td>0.004227</td>\n",
       "      <td>3.048285</td>\n",
       "      <td>0.007681</td>\n",
       "    </tr>\n",
       "  </tbody>\n",
       "</table>\n",
       "</div>"
      ],
      "text/plain": [
       "              Open    High     Low   Close   Volume Symbol  Close_Previous  \\\n",
       "Date                                                                         \n",
       "2014-07-01  63.406  63.486  62.618  63.077  3626031      D             NaN   \n",
       "2014-07-02  62.929  62.935  61.403  61.730  4079097      D          63.077   \n",
       "2014-07-03  61.394  61.394  60.303  60.863  2937489      D          61.730   \n",
       "2014-07-07  60.718  61.430  60.611  61.038  3122145      D          60.863   \n",
       "2014-07-08  60.931  61.348  60.880  61.296  3048285      D          61.038   \n",
       "\n",
       "              Return  Volume_Millions   VolStat  \n",
       "Date                                             \n",
       "2014-07-01       NaN         3.626031  0.013690  \n",
       "2014-07-02 -0.021355         4.079097  0.024345  \n",
       "2014-07-03 -0.014045         2.937489  0.017770  \n",
       "2014-07-07  0.002875         3.122145  0.013489  \n",
       "2014-07-08  0.004227         3.048285  0.007681  "
      ]
     },
     "execution_count": 41,
     "metadata": {},
     "output_type": "execute_result"
    }
   ],
   "source": [
    "stocks[\"VolStat\"] = (stocks[\"High\"] - stocks[\"Low\"]) / stocks[\"Open\"]\n",
    "stocks.head()"
   ]
  },
  {
   "cell_type": "markdown",
   "metadata": {
    "tags": [
     "3_min"
    ]
   },
   "source": [
    "## Creating histograms\n",
    "\n",
    "This is a histogram of the `Volume_Millions` column in `stocks` (therefore it includes the data for all five symbols). Here we use the `.plot.hist()` method and accept the default bins that Pandas calculates."
   ]
  },
  {
   "cell_type": "code",
   "execution_count": 42,
   "metadata": {},
   "outputs": [
    {
     "data": {
      "text/plain": [
       "[]"
      ]
     },
     "execution_count": 42,
     "metadata": {},
     "output_type": "execute_result"
    },
    {
     "data": {
      "image/png": "[encoded data removed]",
      "text/plain": [
       "<Figure size 432x288 with 1 Axes>"
      ]
     },
     "metadata": {
      "needs_background": "light"
     },
     "output_type": "display_data"
    }
   ],
   "source": [
    "hvm = stocks['Volume_Millions'].plot.hist()\n",
    "\n",
    "hvm.set_title(\"Histogram of Volume_Millions\")\n",
    "hvm.set_xlabel(\"Millions of shares\")\n",
    "\n",
    "plt.plot()"
   ]
  },
  {
   "cell_type": "markdown",
   "metadata": {
    "tags": [
     "5_min"
    ]
   },
   "source": [
    "### Exercise 4\n",
    "\n",
    "Plot the histogram of the `Open` column in `stocks`."
   ]
  },
  {
   "cell_type": "markdown",
   "metadata": {
    "tags": [
     "ans_st"
    ]
   },
   "source": [
    "**Answer.**"
   ]
  },
  {
   "cell_type": "code",
   "execution_count": 48,
   "metadata": {},
   "outputs": [
    {
     "data": {
      "text/plain": [
       "[]"
      ]
     },
     "execution_count": 48,
     "metadata": {},
     "output_type": "execute_result"
    },
    {
     "data": {
      "image/png": "[encoded data removed]",
      "text/plain": [
       "<Figure size 432x288 with 1 Axes>"
      ]
     },
     "metadata": {
      "needs_background": "light"
     },
     "output_type": "display_data"
    }
   ],
   "source": [
    "ho = stocks['Open'].plot.hist()\n",
    "\n",
    "ho.set_title(\"Histogram of Open Prices\")\n",
    "ho.set_xlabel(\"USD\")\n",
    "\n",
    "plt.plot()"
   ]
  },
  {
   "cell_type": "markdown",
   "metadata": {},
   "source": [
    "-------"
   ]
  },
  {
   "cell_type": "markdown",
   "metadata": {
    "tags": [
     "2_min"
    ]
   },
   "source": [
    "## Summary statistics\n",
    "\n",
    "### Minimum, maximum, mean and median\n",
    "\n",
    "To find the minimum, maximum, mean, median, and mode of a distribution, we can use these functions:\n",
    "\n",
    "~~~python\n",
    ".min()\n",
    ".max()\n",
    ".mean()\n",
    ".median()\n",
    ".mode()\n",
    "~~~\n",
    "\n",
    "For instance:"
   ]
  },
  {
   "cell_type": "code",
   "execution_count": 47,
   "metadata": {},
   "outputs": [
    {
     "data": {
      "text/plain": [
       "23.84"
      ]
     },
     "execution_count": 47,
     "metadata": {},
     "output_type": "execute_result"
    }
   ],
   "source": [
    "stocks[\"Close\"].min()"
   ]
  },
  {
   "cell_type": "markdown",
   "metadata": {
    "tags": [
     "3_min"
    ]
   },
   "source": [
    "### Percentiles\n",
    "\n",
    "To compute the $p$-th percentile, you use\n",
    "\n",
    "~~~python\n",
    "my_series.quantile(per/100)\n",
    "~~~\n",
    "\n",
    "The resulting number will be such that $p$% of your data points are smaller than that value. So, for instance, if you want to find the $p=30$ percentile (a value such that 30% of your data points are smaller than that value), you need to pass 0.3 to the function, like this:\n",
    "\n",
    "~~~python\n",
    "my_series.quantile(0.3)\n",
    "~~~\n",
    "\n",
    "For instance:"
   ]
  },
  {
   "cell_type": "code",
   "execution_count": 49,
   "metadata": {},
   "outputs": [
    {
     "name": "stdout",
     "output_type": "stream",
     "text": [
      "23.84\n",
      "40.63975\n",
      "65.48400000000001\n",
      "80.262\n",
      "155.84\n"
     ]
    }
   ],
   "source": [
    "per0 = stocks[\"Close\"].quantile(0)\n",
    "per25 = stocks[\"Close\"].quantile(0.25)\n",
    "per50 = stocks[\"Close\"].quantile(0.50)\n",
    "per75 = stocks[\"Close\"].quantile(0.75)\n",
    "per100 = stocks[\"Close\"].quantile(1)\n",
    "\n",
    "print(per0)\n",
    "print(per25)\n",
    "print(per50)\n",
    "print(per75)\n",
    "print(per100)"
   ]
  },
  {
   "cell_type": "markdown",
   "metadata": {
    "tags": [
     "5_min"
    ]
   },
   "source": [
    "## Using `.groupby()`\n",
    "\n",
    "We can easily calculate the summary statistics for any given column with the **`.describe()`** method:"
   ]
  },
  {
   "cell_type": "code",
   "execution_count": 50,
   "metadata": {},
   "outputs": [
    {
     "data": {
      "text/plain": [
       "count    4250.000000\n",
       "mean        4.101373\n",
       "std         2.549883\n",
       "min         0.581504\n",
       "25%         2.297885\n",
       "50%         3.436098\n",
       "75%         5.178914\n",
       "max        28.570392\n",
       "Name: Volume_Millions, dtype: float64"
      ]
     },
     "execution_count": 50,
     "metadata": {},
     "output_type": "execute_result"
    }
   ],
   "source": [
    "stocks[\"Volume_Millions\"].describe()"
   ]
  },
  {
   "cell_type": "markdown",
   "metadata": {},
   "source": [
    "However, it would be more useful if we computed the summary statistics *for each symbol individually.* Let's group our `stocks` DataFrame by `Symbol`. The resulting `DataFrameGroupBy` object should have five elements, because there are five symbols:"
   ]
  },
  {
   "cell_type": "code",
   "execution_count": 51,
   "metadata": {},
   "outputs": [
    {
     "data": {
      "text/plain": [
       "5"
      ]
     },
     "execution_count": 51,
     "metadata": {},
     "output_type": "execute_result"
    }
   ],
   "source": [
    "g = stocks.groupby(['Symbol'])\n",
    "len(g)"
   ]
  },
  {
   "cell_type": "markdown",
   "metadata": {},
   "source": [
    "So, this is basically the `VolStat` column split up into five chunks, one for each stock symbol.\n",
    "\n",
    "The real power of `.groupby()` is evident when you pair it with **aggregation functions** like `sum()`, `mean()` and others. For instance:"
   ]
  },
  {
   "cell_type": "code",
   "execution_count": 52,
   "metadata": {},
   "outputs": [
    {
     "data": {
      "text/plain": [
       "Symbol\n",
       "D      0.013084\n",
       "DUK    0.012351\n",
       "EXC    0.016744\n",
       "NEE    0.013178\n",
       "SO     0.012017\n",
       "Name: VolStat, dtype: float64"
      ]
     },
     "execution_count": 52,
     "metadata": {},
     "output_type": "execute_result"
    }
   ],
   "source": [
    "stocks.groupby(['Symbol'])[\"VolStat\"].median()"
   ]
  },
  {
   "cell_type": "markdown",
   "metadata": {
    "tags": [
     "4_min"
    ]
   },
   "source": [
    "### Exercise 5\n",
    "\n",
    "Copy the preceding code and modify it to run the `.describe()` function on the grouped `VolStat` column."
   ]
  },
  {
   "cell_type": "markdown",
   "metadata": {
    "tags": [
     "ans_st"
    ]
   },
   "source": [
    "**Answer.**"
   ]
  },
  {
   "cell_type": "code",
   "execution_count": 54,
   "metadata": {},
   "outputs": [
    {
     "data": {
      "text/html": [
       "<div>\n",
       "<style scoped>\n",
       "    .dataframe tbody tr th:only-of-type {\n",
       "        vertical-align: middle;\n",
       "    }\n",
       "\n",
       "    .dataframe tbody tr th {\n",
       "        vertical-align: top;\n",
       "    }\n",
       "\n",
       "    .dataframe thead th {\n",
       "        text-align: right;\n",
       "    }\n",
       "</style>\n",
       "<table border=\"1\" class=\"dataframe\">\n",
       "  <thead>\n",
       "    <tr style=\"text-align: right;\">\n",
       "      <th></th>\n",
       "      <th>count</th>\n",
       "      <th>mean</th>\n",
       "      <th>std</th>\n",
       "      <th>min</th>\n",
       "      <th>25%</th>\n",
       "      <th>50%</th>\n",
       "      <th>75%</th>\n",
       "      <th>max</th>\n",
       "    </tr>\n",
       "    <tr>\n",
       "      <th>Symbol</th>\n",
       "      <th></th>\n",
       "      <th></th>\n",
       "      <th></th>\n",
       "      <th></th>\n",
       "      <th></th>\n",
       "      <th></th>\n",
       "      <th></th>\n",
       "      <th></th>\n",
       "    </tr>\n",
       "  </thead>\n",
       "  <tbody>\n",
       "    <tr>\n",
       "      <th>D</th>\n",
       "      <td>850.0</td>\n",
       "      <td>0.014364</td>\n",
       "      <td>0.006420</td>\n",
       "      <td>0.003636</td>\n",
       "      <td>0.009789</td>\n",
       "      <td>0.013084</td>\n",
       "      <td>0.017269</td>\n",
       "      <td>0.049232</td>\n",
       "    </tr>\n",
       "    <tr>\n",
       "      <th>DUK</th>\n",
       "      <td>850.0</td>\n",
       "      <td>0.014070</td>\n",
       "      <td>0.006368</td>\n",
       "      <td>0.003548</td>\n",
       "      <td>0.009649</td>\n",
       "      <td>0.012351</td>\n",
       "      <td>0.017350</td>\n",
       "      <td>0.054170</td>\n",
       "    </tr>\n",
       "    <tr>\n",
       "      <th>EXC</th>\n",
       "      <td>850.0</td>\n",
       "      <td>0.018529</td>\n",
       "      <td>0.008725</td>\n",
       "      <td>0.005390</td>\n",
       "      <td>0.012319</td>\n",
       "      <td>0.016744</td>\n",
       "      <td>0.022779</td>\n",
       "      <td>0.093240</td>\n",
       "    </tr>\n",
       "    <tr>\n",
       "      <th>NEE</th>\n",
       "      <td>850.0</td>\n",
       "      <td>0.014801</td>\n",
       "      <td>0.006672</td>\n",
       "      <td>0.004454</td>\n",
       "      <td>0.010192</td>\n",
       "      <td>0.013178</td>\n",
       "      <td>0.017617</td>\n",
       "      <td>0.056885</td>\n",
       "    </tr>\n",
       "    <tr>\n",
       "      <th>SO</th>\n",
       "      <td>850.0</td>\n",
       "      <td>0.013325</td>\n",
       "      <td>0.005952</td>\n",
       "      <td>0.002926</td>\n",
       "      <td>0.009068</td>\n",
       "      <td>0.012017</td>\n",
       "      <td>0.015934</td>\n",
       "      <td>0.047707</td>\n",
       "    </tr>\n",
       "  </tbody>\n",
       "</table>\n",
       "</div>"
      ],
      "text/plain": [
       "        count      mean       std       min       25%       50%       75%  \\\n",
       "Symbol                                                                      \n",
       "D       850.0  0.014364  0.006420  0.003636  0.009789  0.013084  0.017269   \n",
       "DUK     850.0  0.014070  0.006368  0.003548  0.009649  0.012351  0.017350   \n",
       "EXC     850.0  0.018529  0.008725  0.005390  0.012319  0.016744  0.022779   \n",
       "NEE     850.0  0.014801  0.006672  0.004454  0.010192  0.013178  0.017617   \n",
       "SO      850.0  0.013325  0.005952  0.002926  0.009068  0.012017  0.015934   \n",
       "\n",
       "             max  \n",
       "Symbol            \n",
       "D       0.049232  \n",
       "DUK     0.054170  \n",
       "EXC     0.093240  \n",
       "NEE     0.056885  \n",
       "SO      0.047707  "
      ]
     },
     "execution_count": 54,
     "metadata": {},
     "output_type": "execute_result"
    }
   ],
   "source": [
    "stocks.groupby(['Symbol'])[\"VolStat\"].describe()"
   ]
  },
  {
   "cell_type": "markdown",
   "metadata": {},
   "source": [
    "-------"
   ]
  },
  {
   "cell_type": "markdown",
   "metadata": {},
   "source": [
    "This is the output we wanted. We have the summary statistics of the `VolStat` column *for each symbol*."
   ]
  },
  {
   "cell_type": "markdown",
   "metadata": {
    "tags": [
     "8_min"
    ]
   },
   "source": [
    "## Plotting the time series\n",
    "\n",
    "Let's now plot the `VolStat` time series. Since we have several stocks, we can use one series for each stock.\n",
    "\n",
    "This bit that follows is important because you'll see it a lot in professional practice. Let's first find out what data type our index is:"
   ]
  },
  {
   "cell_type": "code",
   "execution_count": 55,
   "metadata": {},
   "outputs": [
    {
     "data": {
      "text/plain": [
       "Index(['2014-07-01', '2014-07-02', '2014-07-03', '2014-07-07', '2014-07-08',\n",
       "       '2014-07-09', '2014-07-10', '2014-07-11', '2014-07-14', '2014-07-15',\n",
       "       ...\n",
       "       '2017-10-30', '2017-10-31', '2017-11-01', '2017-11-02', '2017-11-03',\n",
       "       '2017-11-06', '2017-11-07', '2017-11-08', '2017-11-09', '2017-11-10'],\n",
       "      dtype='object', name='Date', length=4250)"
      ]
     },
     "execution_count": 55,
     "metadata": {},
     "output_type": "execute_result"
    }
   ],
   "source": [
    "stocks.index"
   ]
  },
  {
   "cell_type": "markdown",
   "metadata": {},
   "source": [
    "So you can see that this index is of `dtype='object'`, which means that for `pandas` its elements are not dates, but rather simple strings. If we were to plot our variables using this index as the time axis, we could get a lot of unexpected and weird behaviors. That's why it is always advised to cast our columns into the appropriate data types before plotting or doing analyses with them.\n",
    "\n",
    "Let's convert this index to the `datetime` data type:"
   ]
  },
  {
   "cell_type": "code",
   "execution_count": 56,
   "metadata": {},
   "outputs": [
    {
     "data": {
      "text/plain": [
       "DatetimeIndex(['2014-07-01', '2014-07-02', '2014-07-03', '2014-07-07',\n",
       "               '2014-07-08', '2014-07-09', '2014-07-10', '2014-07-11',\n",
       "               '2014-07-14', '2014-07-15',\n",
       "               ...\n",
       "               '2017-10-30', '2017-10-31', '2017-11-01', '2017-11-02',\n",
       "               '2017-11-03', '2017-11-06', '2017-11-07', '2017-11-08',\n",
       "               '2017-11-09', '2017-11-10'],\n",
       "              dtype='datetime64[ns]', name='Date', length=4250, freq=None)"
      ]
     },
     "execution_count": 56,
     "metadata": {},
     "output_type": "execute_result"
    }
   ],
   "source": [
    "stocks.index = pd.to_datetime(stocks.index)\n",
    "stocks.index"
   ]
  },
  {
   "cell_type": "markdown",
   "metadata": {},
   "source": [
    "Now you see that our new data type is `datetime64[ns]`, which is what we wanted. For more details about the `datetime` data type, check the [docs](https://pandas.pydata.org/pandas-docs/stable/user_guide/timeseries.html).\n",
    "\n",
    "The actual plot is very easy to make. You just take the `SeriesGroupBy` object that corresponds to `VolStat` and call the `.plot()` method on it:"
   ]
  },
  {
   "cell_type": "code",
   "execution_count": 57,
   "metadata": {},
   "outputs": [
    {
     "data": {
      "text/plain": [
       "Symbol\n",
       "D      AxesSubplot(0.125,0.2;0.775x0.68)\n",
       "DUK    AxesSubplot(0.125,0.2;0.775x0.68)\n",
       "EXC    AxesSubplot(0.125,0.2;0.775x0.68)\n",
       "NEE    AxesSubplot(0.125,0.2;0.775x0.68)\n",
       "SO     AxesSubplot(0.125,0.2;0.775x0.68)\n",
       "Name: VolStat, dtype: object"
      ]
     },
     "execution_count": 57,
     "metadata": {},
     "output_type": "execute_result"
    },
    {
     "data": {
      "image/png": "[encoded data removed]",
      "text/plain": [
       "<Figure size 432x288 with 1 Axes>"
      ]
     },
     "metadata": {
      "needs_background": "light"
     },
     "output_type": "display_data"
    }
   ],
   "source": [
    "stocks.groupby(\"Symbol\")[\"VolStat\"].plot()"
   ]
  },
  {
   "cell_type": "markdown",
   "metadata": {},
   "source": [
    "This plots one series for each symbol. The output is accurate, but the plot looks somewhat raw at the moment. Let's add the all-important legend and a title:"
   ]
  },
  {
   "cell_type": "code",
   "execution_count": 58,
   "metadata": {},
   "outputs": [
    {
     "data": {
      "text/plain": [
       "Symbol\n",
       "D      AxesSubplot(0.125,0.2;0.775x0.68)\n",
       "DUK    AxesSubplot(0.125,0.2;0.775x0.68)\n",
       "EXC    AxesSubplot(0.125,0.2;0.775x0.68)\n",
       "NEE    AxesSubplot(0.125,0.2;0.775x0.68)\n",
       "SO     AxesSubplot(0.125,0.2;0.775x0.68)\n",
       "Name: VolStat, dtype: object"
      ]
     },
     "execution_count": 58,
     "metadata": {},
     "output_type": "execute_result"
    },
    {
     "data": {
      "image/png": "[encoded data removed]",
      "text/plain": [
       "<Figure size 432x288 with 1 Axes>"
      ]
     },
     "metadata": {
      "needs_background": "light"
     },
     "output_type": "display_data"
    }
   ],
   "source": [
    "stocks.groupby(\"Symbol\")[\"VolStat\"].plot(legend=True, title=\"Energy Sector Trends - VolStat\")"
   ]
  },
  {
   "cell_type": "markdown",
   "metadata": {},
   "source": [
    "And let's make it a bit bigger with the `figsize` argument:"
   ]
  },
  {
   "cell_type": "code",
   "execution_count": 59,
   "metadata": {},
   "outputs": [
    {
     "data": {
      "text/plain": [
       "Symbol\n",
       "D      AxesSubplot(0.125,0.2;0.775x0.68)\n",
       "DUK    AxesSubplot(0.125,0.2;0.775x0.68)\n",
       "EXC    AxesSubplot(0.125,0.2;0.775x0.68)\n",
       "NEE    AxesSubplot(0.125,0.2;0.775x0.68)\n",
       "SO     AxesSubplot(0.125,0.2;0.775x0.68)\n",
       "Name: VolStat, dtype: object"
      ]
     },
     "execution_count": 59,
     "metadata": {},
     "output_type": "execute_result"
    },
    {
     "data": {
      "image/png": "[encoded data removed]",
      "text/plain": [
       "<Figure size 1080x432 with 1 Axes>"
      ]
     },
     "metadata": {
      "needs_background": "light"
     },
     "output_type": "display_data"
    }
   ],
   "source": [
    "stocks.groupby(\"Symbol\")[\"VolStat\"].plot(legend=True,\n",
    "                                         title=\"Energy Sector Trends - VolStat\",\n",
    "                                         figsize=(15,6)\n",
    "                                        )"
   ]
  },
  {
   "cell_type": "markdown",
   "metadata": {},
   "source": [
    "## Attribution\n",
    "\n",
    "\"Reshaping and pivot\" (modified from the original), Pandas Developers, [BSD-3 license](https://github.com/pandas-dev/pandas/blob/master/LICENSE), https://pandas.pydata.org/pandas-docs/stable/user_guide/reshaping.html.\n",
    "\n",
    "\n",
    "\"Huge Stock Market Dataset\", No. 10, 2017, Boris Marjanovic, Public Domain. https://www.kaggle.com/borismarjanovic/price-volume-data-for-all-us-stocks-etfs"
   ]
  }
 ],
 "metadata": {
  "c1_recart": "6.0.0-57c20131aabc1dc2a8c675852d80a7da",
  "kernelspec": {
   "display_name": "Python 3",
   "language": "python",
   "name": "python3"
  },
  "language_info": {
   "codemirror_mode": {
    "name": "ipython",
    "version": 3
   },
   "file_extension": ".py",
   "mimetype": "text/x-python",
   "name": "python",
   "nbconvert_exporter": "python",
   "pygments_lexer": "ipython3",
   "version": "3.8.8"
  }
 },
 "nbformat": 4,
 "nbformat_minor": 2
}
