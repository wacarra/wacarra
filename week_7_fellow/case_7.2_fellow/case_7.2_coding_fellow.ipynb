{
 "cells": [
  {
   "cell_type": "markdown",
   "id": "4f62f052",
   "metadata": {
    "tags": [
     "41_min",
     "81_min"
    ]
   },
   "source": [
    "# Do the types of crimes committed in Chicago depend on location and time?"
   ]
  },
  {
   "cell_type": "markdown",
   "id": "3b9682c1",
   "metadata": {
    "tags": [
     "7_min"
    ]
   },
   "source": [
    "## Preparing the data\n",
    "\n",
    "Let's import the libraries we will be using:"
   ]
  },
  {
   "cell_type": "code",
   "execution_count": 1,
   "id": "33cef9b8",
   "metadata": {},
   "outputs": [],
   "source": [
    "import pandas as pd\n",
    "import matplotlib.pyplot as plt\n",
    "import seaborn as sns\n",
    "from scipy.stats import chi2_contingency\n",
    "import pingouin"
   ]
  },
  {
   "cell_type": "markdown",
   "id": "991e2ada",
   "metadata": {},
   "source": [
    "Let's first read in the data:"
   ]
  },
  {
   "cell_type": "code",
   "execution_count": 2,
   "id": "9ed69685",
   "metadata": {},
   "outputs": [
    {
     "data": {
      "text/html": [
       "<div>\n",
       "<style scoped>\n",
       "    .dataframe tbody tr th:only-of-type {\n",
       "        vertical-align: middle;\n",
       "    }\n",
       "\n",
       "    .dataframe tbody tr th {\n",
       "        vertical-align: top;\n",
       "    }\n",
       "\n",
       "    .dataframe thead th {\n",
       "        text-align: right;\n",
       "    }\n",
       "</style>\n",
       "<table border=\"1\" class=\"dataframe\">\n",
       "  <thead>\n",
       "    <tr style=\"text-align: right;\">\n",
       "      <th></th>\n",
       "      <th>ID</th>\n",
       "      <th>Case Number</th>\n",
       "      <th>Date</th>\n",
       "      <th>Block</th>\n",
       "      <th>IUCR</th>\n",
       "      <th>Primary Type</th>\n",
       "      <th>Description</th>\n",
       "      <th>Location Description</th>\n",
       "      <th>Arrest</th>\n",
       "      <th>Domestic</th>\n",
       "      <th>...</th>\n",
       "      <th>Ward</th>\n",
       "      <th>Community Area</th>\n",
       "      <th>FBI Code</th>\n",
       "      <th>X Coordinate</th>\n",
       "      <th>Y Coordinate</th>\n",
       "      <th>Year</th>\n",
       "      <th>Updated On</th>\n",
       "      <th>Latitude</th>\n",
       "      <th>Longitude</th>\n",
       "      <th>Location</th>\n",
       "    </tr>\n",
       "  </thead>\n",
       "  <tbody>\n",
       "    <tr>\n",
       "      <th>0</th>\n",
       "      <td>11192233</td>\n",
       "      <td>JB100016</td>\n",
       "      <td>12/31/17 23:58</td>\n",
       "      <td>046XX N ST LOUIS AVE</td>\n",
       "      <td>630</td>\n",
       "      <td>BURGLARY</td>\n",
       "      <td>ATTEMPT FORCIBLE ENTRY</td>\n",
       "      <td>APARTMENT</td>\n",
       "      <td>False</td>\n",
       "      <td>False</td>\n",
       "      <td>...</td>\n",
       "      <td>33.0</td>\n",
       "      <td>14</td>\n",
       "      <td>5</td>\n",
       "      <td>1152214.0</td>\n",
       "      <td>1930694.0</td>\n",
       "      <td>2017</td>\n",
       "      <td>5/4/18 15:51</td>\n",
       "      <td>41.965694</td>\n",
       "      <td>-87.715726</td>\n",
       "      <td>(41.965693651, -87.715726125)</td>\n",
       "    </tr>\n",
       "    <tr>\n",
       "      <th>1</th>\n",
       "      <td>11196379</td>\n",
       "      <td>JB105867</td>\n",
       "      <td>12/31/17 23:50</td>\n",
       "      <td>024XX N LAKE SHORE DR NB</td>\n",
       "      <td>460</td>\n",
       "      <td>BATTERY</td>\n",
       "      <td>SIMPLE</td>\n",
       "      <td>MOVIE HOUSE/THEATER</td>\n",
       "      <td>False</td>\n",
       "      <td>False</td>\n",
       "      <td>...</td>\n",
       "      <td>43.0</td>\n",
       "      <td>7</td>\n",
       "      <td>08B</td>\n",
       "      <td>1175293.0</td>\n",
       "      <td>1916610.0</td>\n",
       "      <td>2017</td>\n",
       "      <td>5/4/18 15:51</td>\n",
       "      <td>41.926559</td>\n",
       "      <td>-87.631294</td>\n",
       "      <td>(41.926558908, -87.631294073)</td>\n",
       "    </tr>\n",
       "    <tr>\n",
       "      <th>2</th>\n",
       "      <td>11192540</td>\n",
       "      <td>JB100551</td>\n",
       "      <td>12/31/17 23:48</td>\n",
       "      <td>001XX E SUPERIOR ST</td>\n",
       "      <td>890</td>\n",
       "      <td>THEFT</td>\n",
       "      <td>FROM BUILDING</td>\n",
       "      <td>HOTEL/MOTEL</td>\n",
       "      <td>False</td>\n",
       "      <td>False</td>\n",
       "      <td>...</td>\n",
       "      <td>42.0</td>\n",
       "      <td>8</td>\n",
       "      <td>6</td>\n",
       "      <td>1177508.0</td>\n",
       "      <td>1905401.0</td>\n",
       "      <td>2017</td>\n",
       "      <td>5/4/18 15:51</td>\n",
       "      <td>41.895751</td>\n",
       "      <td>-87.623496</td>\n",
       "      <td>(41.895750913, -87.623495923)</td>\n",
       "    </tr>\n",
       "    <tr>\n",
       "      <th>3</th>\n",
       "      <td>11192239</td>\n",
       "      <td>JB100032</td>\n",
       "      <td>12/31/17 23:45</td>\n",
       "      <td>019XX S CANAL ST</td>\n",
       "      <td>1320</td>\n",
       "      <td>CRIMINAL DAMAGE</td>\n",
       "      <td>TO VEHICLE</td>\n",
       "      <td>STREET</td>\n",
       "      <td>False</td>\n",
       "      <td>True</td>\n",
       "      <td>...</td>\n",
       "      <td>25.0</td>\n",
       "      <td>31</td>\n",
       "      <td>14</td>\n",
       "      <td>1173432.0</td>\n",
       "      <td>1891037.0</td>\n",
       "      <td>2017</td>\n",
       "      <td>5/4/18 15:51</td>\n",
       "      <td>41.856427</td>\n",
       "      <td>-87.638893</td>\n",
       "      <td>(41.856426716, -87.638892854)</td>\n",
       "    </tr>\n",
       "    <tr>\n",
       "      <th>4</th>\n",
       "      <td>11192254</td>\n",
       "      <td>JB100003</td>\n",
       "      <td>12/31/17 23:45</td>\n",
       "      <td>115XX S STATE ST</td>\n",
       "      <td>041A</td>\n",
       "      <td>BATTERY</td>\n",
       "      <td>AGGRAVATED: HANDGUN</td>\n",
       "      <td>RESIDENCE</td>\n",
       "      <td>False</td>\n",
       "      <td>True</td>\n",
       "      <td>...</td>\n",
       "      <td>34.0</td>\n",
       "      <td>53</td>\n",
       "      <td>04B</td>\n",
       "      <td>1178329.0</td>\n",
       "      <td>1828012.0</td>\n",
       "      <td>2017</td>\n",
       "      <td>5/4/18 15:51</td>\n",
       "      <td>41.683369</td>\n",
       "      <td>-87.622830</td>\n",
       "      <td>(41.683369303, -87.622829524)</td>\n",
       "    </tr>\n",
       "  </tbody>\n",
       "</table>\n",
       "<p>5 rows × 22 columns</p>\n",
       "</div>"
      ],
      "text/plain": [
       "         ID Case Number            Date                     Block  IUCR  \\\n",
       "0  11192233    JB100016  12/31/17 23:58      046XX N ST LOUIS AVE   630   \n",
       "1  11196379    JB105867  12/31/17 23:50  024XX N LAKE SHORE DR NB   460   \n",
       "2  11192540    JB100551  12/31/17 23:48       001XX E SUPERIOR ST   890   \n",
       "3  11192239    JB100032  12/31/17 23:45          019XX S CANAL ST  1320   \n",
       "4  11192254    JB100003  12/31/17 23:45          115XX S STATE ST  041A   \n",
       "\n",
       "      Primary Type             Description Location Description  Arrest  \\\n",
       "0         BURGLARY  ATTEMPT FORCIBLE ENTRY            APARTMENT   False   \n",
       "1          BATTERY                  SIMPLE  MOVIE HOUSE/THEATER   False   \n",
       "2            THEFT           FROM BUILDING          HOTEL/MOTEL   False   \n",
       "3  CRIMINAL DAMAGE              TO VEHICLE               STREET   False   \n",
       "4          BATTERY     AGGRAVATED: HANDGUN            RESIDENCE   False   \n",
       "\n",
       "   Domestic  ...  Ward  Community Area  FBI Code  X Coordinate Y Coordinate  \\\n",
       "0     False  ...  33.0              14         5     1152214.0    1930694.0   \n",
       "1     False  ...  43.0               7       08B     1175293.0    1916610.0   \n",
       "2     False  ...  42.0               8         6     1177508.0    1905401.0   \n",
       "3      True  ...  25.0              31        14     1173432.0    1891037.0   \n",
       "4      True  ...  34.0              53       04B     1178329.0    1828012.0   \n",
       "\n",
       "   Year    Updated On   Latitude  Longitude                       Location  \n",
       "0  2017  5/4/18 15:51  41.965694 -87.715726  (41.965693651, -87.715726125)  \n",
       "1  2017  5/4/18 15:51  41.926559 -87.631294  (41.926558908, -87.631294073)  \n",
       "2  2017  5/4/18 15:51  41.895751 -87.623496  (41.895750913, -87.623495923)  \n",
       "3  2017  5/4/18 15:51  41.856427 -87.638893  (41.856426716, -87.638892854)  \n",
       "4  2017  5/4/18 15:51  41.683369 -87.622830  (41.683369303, -87.622829524)  \n",
       "\n",
       "[5 rows x 22 columns]"
      ]
     },
     "execution_count": 2,
     "metadata": {},
     "output_type": "execute_result"
    }
   ],
   "source": [
    "df = pd.read_csv('data/chicago_crime_data.csv', dtype={'ID': object, 'beat_num': object})\n",
    "df.head()"
   ]
  },
  {
   "cell_type": "markdown",
   "id": "f675ff54",
   "metadata": {},
   "source": [
    "As you can see, there are *many* categories in the `Primary Type` and `Location Description` columns:"
   ]
  },
  {
   "cell_type": "code",
   "execution_count": 3,
   "id": "4ffb1241",
   "metadata": {},
   "outputs": [
    {
     "data": {
      "text/plain": [
       "0                                  BURGLARY\n",
       "1                                   BATTERY\n",
       "2                                     THEFT\n",
       "3                           CRIMINAL DAMAGE\n",
       "5                                 NARCOTICS\n",
       "7                             OTHER OFFENSE\n",
       "9                        DECEPTIVE PRACTICE\n",
       "12                        WEAPONS VIOLATION\n",
       "16                                  ASSAULT\n",
       "18                        CRIMINAL TRESPASS\n",
       "20                   PUBLIC PEACE VIOLATION\n",
       "29                      CRIM SEXUAL ASSAULT\n",
       "49                      MOTOR VEHICLE THEFT\n",
       "65                                  ROBBERY\n",
       "110              OFFENSE INVOLVING CHILDREN\n",
       "135        INTERFERENCE WITH PUBLIC OFFICER\n",
       "139                    LIQUOR LAW VIOLATION\n",
       "331                                STALKING\n",
       "397                              KIDNAPPING\n",
       "496                                   ARSON\n",
       "561                             SEX OFFENSE\n",
       "985       CONCEALED CARRY LICENSE VIOLATION\n",
       "1301                           INTIMIDATION\n",
       "1586                              OBSCENITY\n",
       "1660                               HOMICIDE\n",
       "5840                           PROSTITUTION\n",
       "7826                       PUBLIC INDECENCY\n",
       "9988                           NON-CRIMINAL\n",
       "16303                              GAMBLING\n",
       "21457              OTHER NARCOTIC VIOLATION\n",
       "48141                     HUMAN TRAFFICKING\n",
       "216128     NON-CRIMINAL (SUBJECT SPECIFIED)\n",
       "Name: Primary Type, dtype: object"
      ]
     },
     "execution_count": 3,
     "metadata": {},
     "output_type": "execute_result"
    }
   ],
   "source": [
    "df[\"Primary Type\"].drop_duplicates()"
   ]
  },
  {
   "cell_type": "code",
   "execution_count": 4,
   "id": "edb3d233",
   "metadata": {},
   "outputs": [
    {
     "data": {
      "text/plain": [
       "0                   APARTMENT\n",
       "1         MOVIE HOUSE/THEATER\n",
       "2                 HOTEL/MOTEL\n",
       "3                      STREET\n",
       "4                   RESIDENCE\n",
       "                 ...         \n",
       "148447              VESTIBULE\n",
       "150685                GANGWAY\n",
       "190713            CHA HALLWAY\n",
       "193432           NURSING HOME\n",
       "233178                   CLUB\n",
       "Name: Location Description, Length: 128, dtype: object"
      ]
     },
     "execution_count": 4,
     "metadata": {},
     "output_type": "execute_result"
    }
   ],
   "source": [
    "df[\"Location Description\"].drop_duplicates()"
   ]
  },
  {
   "cell_type": "markdown",
   "id": "b4580317",
   "metadata": {},
   "source": [
    "So let's group them into wider categories to make our analysis easier. For that, we will use these two dictionaries that we prepared beforehand:"
   ]
  },
  {
   "cell_type": "code",
   "execution_count": 5,
   "id": "2970152a",
   "metadata": {},
   "outputs": [],
   "source": [
    "dict_Locations = {'AIRPORT TERMINAL UPPER LEVEL - NON-SECURE AREA': 'Airport & Related',\n",
    " 'AIRPORT EXTERIOR - SECURE AREA': 'Airport & Related',\n",
    " 'AIRCRAFT': 'Airport & Related',\n",
    " 'AIRPORT TERMINAL LOWER LEVEL - NON-SECURE AREA': 'Airport & Related',\n",
    " 'AIRPORT BUILDING NON-TERMINAL - NON-SECURE AREA': 'Airport & Related',\n",
    " 'AIRPORT TERMINAL UPPER LEVEL - SECURE AREA': 'Airport & Related',\n",
    " 'AIRPORT PARKING LOT': 'Airport & Related',\n",
    " 'AIRPORT BUILDING NON-TERMINAL - SECURE AREA': 'Airport & Related',\n",
    " 'AIRPORT TERMINAL LOWER LEVEL - SECURE AREA': 'Airport & Related',\n",
    " 'AIRPORT TERMINAL MEZZANINE - NON-SECURE AREA': 'Airport & Related',\n",
    " 'AIRPORT TRANSPORTATION SYSTEM (ATS)': 'Airport & Related',\n",
    " 'AIRPORT VENDING ESTABLISHMENT': 'Airport & Related',\n",
    " 'AIRPORT/AIRCRAFT': 'Airport & Related',\n",
    " 'AIRPORT EXTERIOR - NON-SECURE AREA': 'Airport & Related',\n",
    " 'HOSPITAL BUILDING/GROUNDS': 'Hospitals & Related',\n",
    " 'MEDICAL/DENTAL OFFICE': 'Hospitals & Related',\n",
    " 'NURSING HOME': 'Hospitals & Related',\n",
    " 'ANIMAL HOSPITAL': 'Hospitals & Related',\n",
    " 'NURSING HOME/RETIREMENT HOME': 'Hospitals & Related',\n",
    " 'STAIRWELL': 'Residential & Related',\n",
    " 'DRIVEWAY - RESIDENTIAL': 'Residential & Related',\n",
    " 'RESIDENCE-GARAGE': 'Residential & Related',\n",
    " 'HOUSE': 'Residential & Related',\n",
    " 'PORCH': 'Residential & Related',\n",
    " 'CHA HALLWAY': 'Residential & Related',\n",
    " 'CHA APARTMENT': 'Residential & Related',\n",
    " 'BASEMENT': 'Residential & Related',\n",
    " 'CHA PARKING LOT/GROUNDS': 'Residential & Related',\n",
    " 'RESIDENCE PORCH/HALLWAY': 'Residential & Related',\n",
    " 'APARTMENT': 'Residential & Related',\n",
    " 'GARAGE': 'Residential & Related',\n",
    " 'RESIDENCE': 'Residential & Related',\n",
    " 'ROOMING HOUSE': 'Residential & Related',\n",
    " 'CHA HALLWAY/STAIRWELL/ELEVATOR': 'Residential & Related',\n",
    " 'HOTEL/MOTEL': 'Residential & Related',\n",
    " 'CHA PARKING LOT': 'Residential & Related',\n",
    " 'RESIDENTIAL YARD (FRONT/BACK)': 'Residential & Related',\n",
    " 'COLLEGE/UNIVERSITY RESIDENCE HALL': 'Colleges & Related',\n",
    " 'SCHOOL, PUBLIC, GROUNDS': 'Colleges & Related',\n",
    " 'SCHOOL, PRIVATE, GROUNDS': 'Colleges & Related',\n",
    " 'SCHOOL YARD': 'Colleges & Related',\n",
    " 'DAY CARE CENTER': 'Colleges & Related',\n",
    " 'COLLEGE/UNIVERSITY GROUNDS': 'Colleges & Related',\n",
    " 'SCHOOL, PUBLIC, BUILDING': 'Colleges & Related',\n",
    " 'SCHOOL, PRIVATE, BUILDING': 'Colleges & Related',\n",
    " 'JAIL / LOCK-UP FACILITY': 'Goverment Buildings & Related',\n",
    " 'GOVERNMENT BUILDING/PROPERTY': 'Goverment Buildings & Related',\n",
    " 'POLICE FACILITY/VEH PARKING LOT': 'Goverment Buildings & Related',\n",
    " 'FIRE STATION': 'Goverment Buildings & Related',\n",
    " 'PARK PROPERTY': 'Goverment Buildings & Related',\n",
    " 'FEDERAL BUILDING': 'Goverment Buildings & Related',\n",
    " 'FOREST PRESERVE': 'Goverment Buildings & Related',\n",
    " 'LIBRARY': 'Goverment Buildings & Related',\n",
    " 'TAVERN/LIQUOR STORE': 'Liquor Stores & Related',\n",
    " 'CLUB': 'Liquor Stores & Related',\n",
    " 'TAVERN': 'Liquor Stores & Related',\n",
    " 'POOL ROOM': 'Liquor Stores & Related',\n",
    " 'BAR OR TAVERN': 'Liquor Stores & Related',\n",
    " 'ATHLETIC CLUB': 'Stores & Related',\n",
    " 'BARBERSHOP': 'Stores & Related',\n",
    " 'CONVENIENCE STORE': 'Stores & Related',\n",
    " 'SMALL RETAIL STORE': 'Stores & Related',\n",
    " 'RESTAURANT': 'Stores & Related',\n",
    " 'DRUG STORE': 'Stores & Related',\n",
    " 'FACTORY/MANUFACTURING BUILDING': 'Stores & Related',\n",
    " 'MOVIE HOUSE/THEATER': 'Stores & Related',\n",
    " 'RETAIL STORE': 'Stores & Related',\n",
    " 'PARKING LOT': 'Stores & Related',\n",
    " 'DEPARTMENT STORE': 'Stores & Related',\n",
    " 'GAS STATION': 'Stores & Related',\n",
    " 'VESTIBULE': 'Stores & Related',\n",
    " 'CAR WASH': 'Stores & Related',\n",
    " 'CLEANING STORE': 'Stores & Related',\n",
    " 'GAS STATION DRIVE/PROP.': 'Stores & Related',\n",
    " 'NEWSSTAND': 'Stores & Related',\n",
    " 'COIN OPERATED MACHINE': 'Stores & Related',\n",
    " 'APPLIANCE STORE': 'Stores & Related',\n",
    " 'COMMERCIAL / BUSINESS OFFICE': 'Stores & Related',\n",
    " 'BOWLING ALLEY': 'Stores & Related',\n",
    " 'GROCERY FOOD STORE': 'Stores & Related',\n",
    " 'GANGWAY': 'Vehicles & Related',\n",
    " 'VEHICLE - DELIVERY TRUCK': 'Vehicles & Related',\n",
    " 'BOAT/WATERCRAFT': 'Vehicles & Related',\n",
    " 'TAXICAB': 'Vehicles & Related',\n",
    " 'VEHICLE-COMMERCIAL': 'Vehicles & Related',\n",
    " 'OTHER COMMERCIAL TRANSPORTATION': 'Vehicles & Related',\n",
    " 'AUTO': 'Vehicles & Related',\n",
    " 'AUTO / BOAT / RV DEALERSHIP': 'Vehicles & Related',\n",
    " 'VEHICLE - OTHER RIDE SERVICE': 'Vehicles & Related',\n",
    " 'VEHICLE NON-COMMERCIAL': 'Vehicles & Related',\n",
    " 'VEHICLE - OTHER RIDE SHARE SERVICE (E.G., UBER, LYFT)': 'Vehicles & Related',\n",
    " 'CTA BUS': 'Public Transport & Related',\n",
    " 'CTA TRAIN': 'Public Transport & Related',\n",
    " 'OTHER RAILROAD PROP / TRAIN DEPOT': 'Public Transport & Related',\n",
    " 'CTA BUS STOP': 'Public Transport & Related',\n",
    " 'CTA PROPERTY': 'Public Transport & Related',\n",
    " 'CTA STATION': 'Public Transport & Related',\n",
    " 'CTA PLATFORM': 'Public Transport & Related',\n",
    " 'CTA \"L\" PLATFORM': 'Public Transport & Related',\n",
    " 'CTA GARAGE / OTHER PROPERTY': 'Public Transport & Related',\n",
    " 'CTA TRACKS - RIGHT OF WAY': 'Public Transport & Related',\n",
    " 'ALLEY': 'Street & Related',\n",
    " 'BRIDGE': 'Street & Related',\n",
    " 'CEMETARY': 'Street & Related',\n",
    " 'CHURCH': 'Street & Related',\n",
    " 'SIDEWALK': 'Street & Related',\n",
    " 'HALLWAY': 'Street & Related',\n",
    " 'ABANDONED BUILDING': 'Street & Related',\n",
    " 'SPORTS ARENA/STADIUM': 'Street & Related',\n",
    " 'CONSTRUCTION SITE': 'Street & Related',\n",
    " 'DRIVEWAY': 'Street & Related',\n",
    " 'YARD': 'Street & Related',\n",
    " 'VACANT LOT': 'Street & Related',\n",
    " 'STREET': 'Street & Related',\n",
    " 'LAKEFRONT/WATERFRONT/RIVERBANK': 'Street & Related',\n",
    " 'CHURCH/SYNAGOGUE/PLACE OF WORSHIP': 'Street & Related',\n",
    " 'HIGHWAY/EXPRESSWAY': 'Street & Related',\n",
    " 'VACANT LOT/LAND': 'Street & Related',\n",
    " 'PARKING LOT/GARAGE(NON.RESID.)': 'Street & Related',\n",
    " 'CREDIT UNION': 'Bank & Related',\n",
    " 'CURRENCY EXCHANGE': 'Bank & Related',\n",
    " 'PAWN SHOP': 'Bank & Related',\n",
    " 'RIVER BANK': 'Bank & Related',\n",
    " 'SAVINGS AND LOAN': 'Bank & Related',\n",
    " 'WAREHOUSE': 'Bank & Related',\n",
    " 'ATM (AUTOMATIC TELLER MACHINE)': 'Bank & Related',\n",
    " 'BANK': 'Bank & Related',\n",
    " 'OTHER': 'Other Locations'}\n",
    "\n",
    "dict_Offenses = {'CRIMINAL TRESPASS': 'Theft Related',\n",
    " 'MOTOR VEHICLE THEFT': 'Theft Related',\n",
    " 'BURGLARY': 'Theft Related',\n",
    " 'ROBBERY': 'Theft Related',\n",
    " 'THEFT': 'Theft Related',\n",
    " 'ARSON': 'Property Damage',\n",
    " 'CRIMINAL DAMAGE': 'Property Damage',\n",
    " 'HOMICIDE': 'Violence & Related',\n",
    " 'KIDNAPPING': 'Violence & Related',\n",
    " 'ASSAULT': 'Violence & Related',\n",
    " 'BATTERY': 'Violence & Related',\n",
    " 'OFFENSE INVOLVING CHILDREN': 'Sexual Offenses & Related',\n",
    " 'SEX OFFENSE': 'Sexual Offenses & Related',\n",
    " 'HUMAN TRAFFICKING': 'Sexual Offenses & Related',\n",
    " 'PROSTITUTION': 'Sexual Offenses & Related',\n",
    " 'CRIM SEXUAL ASSAULT': 'Sexual Offenses & Related',\n",
    " 'PUBLIC INDECENCY': 'Sexual Offenses & Related',\n",
    " 'OBSCENITY': 'Sexual Offenses & Related',\n",
    " 'STALKING': 'Sexual Offenses & Related',\n",
    " 'INTIMIDATION': 'Dangerous practices',\n",
    " 'INTERFERENCE WITH PUBLIC OFFICER': 'Dangerous practices',\n",
    " 'WEAPONS VIOLATION': 'Dangerous practices',\n",
    " 'CONCEALED CARRY LICENSE VIOLATION': 'Dangerous practices',\n",
    " 'DECEPTIVE PRACTICE': 'Dangerous practices',\n",
    " 'LIQUOR LAW VIOLATION': 'Substances & Related',\n",
    " 'GAMBLING': 'Substances & Related',\n",
    " 'OTHER NARCOTIC VIOLATION': 'Substances & Related',\n",
    " 'NARCOTICS': 'Substances & Related',\n",
    " 'OTHER OFFENSE': 'Other Offenses',\n",
    " 'PUBLIC PEACE VIOLATIONNON-CRIMINAL': 'Other Offenses',\n",
    " 'NON-CRIMINAL (SUBJECT SPECIFIED)': 'Other Offenses'}"
   ]
  },
  {
   "cell_type": "markdown",
   "id": "ed724af4",
   "metadata": {},
   "source": [
    "Now it's simply a matter of creating the new columns and replacing the values:"
   ]
  },
  {
   "cell_type": "code",
   "execution_count": 6,
   "id": "55a9b3a9",
   "metadata": {},
   "outputs": [
    {
     "data": {
      "text/html": [
       "<div>\n",
       "<style scoped>\n",
       "    .dataframe tbody tr th:only-of-type {\n",
       "        vertical-align: middle;\n",
       "    }\n",
       "\n",
       "    .dataframe tbody tr th {\n",
       "        vertical-align: top;\n",
       "    }\n",
       "\n",
       "    .dataframe thead th {\n",
       "        text-align: right;\n",
       "    }\n",
       "</style>\n",
       "<table border=\"1\" class=\"dataframe\">\n",
       "  <thead>\n",
       "    <tr style=\"text-align: right;\">\n",
       "      <th></th>\n",
       "      <th>ID</th>\n",
       "      <th>Case Number</th>\n",
       "      <th>Date</th>\n",
       "      <th>Block</th>\n",
       "      <th>IUCR</th>\n",
       "      <th>Primary Type</th>\n",
       "      <th>Description</th>\n",
       "      <th>Location Description</th>\n",
       "      <th>Arrest</th>\n",
       "      <th>Domestic</th>\n",
       "      <th>...</th>\n",
       "      <th>FBI Code</th>\n",
       "      <th>X Coordinate</th>\n",
       "      <th>Y Coordinate</th>\n",
       "      <th>Year</th>\n",
       "      <th>Updated On</th>\n",
       "      <th>Latitude</th>\n",
       "      <th>Longitude</th>\n",
       "      <th>Location</th>\n",
       "      <th>Offenses_cat</th>\n",
       "      <th>Location_cat</th>\n",
       "    </tr>\n",
       "  </thead>\n",
       "  <tbody>\n",
       "    <tr>\n",
       "      <th>0</th>\n",
       "      <td>11192233</td>\n",
       "      <td>JB100016</td>\n",
       "      <td>12/31/17 23:58</td>\n",
       "      <td>046XX N ST LOUIS AVE</td>\n",
       "      <td>630</td>\n",
       "      <td>BURGLARY</td>\n",
       "      <td>ATTEMPT FORCIBLE ENTRY</td>\n",
       "      <td>APARTMENT</td>\n",
       "      <td>False</td>\n",
       "      <td>False</td>\n",
       "      <td>...</td>\n",
       "      <td>5</td>\n",
       "      <td>1152214.0</td>\n",
       "      <td>1930694.0</td>\n",
       "      <td>2017</td>\n",
       "      <td>5/4/18 15:51</td>\n",
       "      <td>41.965694</td>\n",
       "      <td>-87.715726</td>\n",
       "      <td>(41.965693651, -87.715726125)</td>\n",
       "      <td>Theft Related</td>\n",
       "      <td>Residential &amp; Related</td>\n",
       "    </tr>\n",
       "    <tr>\n",
       "      <th>1</th>\n",
       "      <td>11196379</td>\n",
       "      <td>JB105867</td>\n",
       "      <td>12/31/17 23:50</td>\n",
       "      <td>024XX N LAKE SHORE DR NB</td>\n",
       "      <td>460</td>\n",
       "      <td>BATTERY</td>\n",
       "      <td>SIMPLE</td>\n",
       "      <td>MOVIE HOUSE/THEATER</td>\n",
       "      <td>False</td>\n",
       "      <td>False</td>\n",
       "      <td>...</td>\n",
       "      <td>08B</td>\n",
       "      <td>1175293.0</td>\n",
       "      <td>1916610.0</td>\n",
       "      <td>2017</td>\n",
       "      <td>5/4/18 15:51</td>\n",
       "      <td>41.926559</td>\n",
       "      <td>-87.631294</td>\n",
       "      <td>(41.926558908, -87.631294073)</td>\n",
       "      <td>Violence &amp; Related</td>\n",
       "      <td>Stores &amp; Related</td>\n",
       "    </tr>\n",
       "    <tr>\n",
       "      <th>2</th>\n",
       "      <td>11192540</td>\n",
       "      <td>JB100551</td>\n",
       "      <td>12/31/17 23:48</td>\n",
       "      <td>001XX E SUPERIOR ST</td>\n",
       "      <td>890</td>\n",
       "      <td>THEFT</td>\n",
       "      <td>FROM BUILDING</td>\n",
       "      <td>HOTEL/MOTEL</td>\n",
       "      <td>False</td>\n",
       "      <td>False</td>\n",
       "      <td>...</td>\n",
       "      <td>6</td>\n",
       "      <td>1177508.0</td>\n",
       "      <td>1905401.0</td>\n",
       "      <td>2017</td>\n",
       "      <td>5/4/18 15:51</td>\n",
       "      <td>41.895751</td>\n",
       "      <td>-87.623496</td>\n",
       "      <td>(41.895750913, -87.623495923)</td>\n",
       "      <td>Theft Related</td>\n",
       "      <td>Residential &amp; Related</td>\n",
       "    </tr>\n",
       "    <tr>\n",
       "      <th>3</th>\n",
       "      <td>11192239</td>\n",
       "      <td>JB100032</td>\n",
       "      <td>12/31/17 23:45</td>\n",
       "      <td>019XX S CANAL ST</td>\n",
       "      <td>1320</td>\n",
       "      <td>CRIMINAL DAMAGE</td>\n",
       "      <td>TO VEHICLE</td>\n",
       "      <td>STREET</td>\n",
       "      <td>False</td>\n",
       "      <td>True</td>\n",
       "      <td>...</td>\n",
       "      <td>14</td>\n",
       "      <td>1173432.0</td>\n",
       "      <td>1891037.0</td>\n",
       "      <td>2017</td>\n",
       "      <td>5/4/18 15:51</td>\n",
       "      <td>41.856427</td>\n",
       "      <td>-87.638893</td>\n",
       "      <td>(41.856426716, -87.638892854)</td>\n",
       "      <td>Property Damage</td>\n",
       "      <td>Street &amp; Related</td>\n",
       "    </tr>\n",
       "    <tr>\n",
       "      <th>4</th>\n",
       "      <td>11192254</td>\n",
       "      <td>JB100003</td>\n",
       "      <td>12/31/17 23:45</td>\n",
       "      <td>115XX S STATE ST</td>\n",
       "      <td>041A</td>\n",
       "      <td>BATTERY</td>\n",
       "      <td>AGGRAVATED: HANDGUN</td>\n",
       "      <td>RESIDENCE</td>\n",
       "      <td>False</td>\n",
       "      <td>True</td>\n",
       "      <td>...</td>\n",
       "      <td>04B</td>\n",
       "      <td>1178329.0</td>\n",
       "      <td>1828012.0</td>\n",
       "      <td>2017</td>\n",
       "      <td>5/4/18 15:51</td>\n",
       "      <td>41.683369</td>\n",
       "      <td>-87.622830</td>\n",
       "      <td>(41.683369303, -87.622829524)</td>\n",
       "      <td>Violence &amp; Related</td>\n",
       "      <td>Residential &amp; Related</td>\n",
       "    </tr>\n",
       "  </tbody>\n",
       "</table>\n",
       "<p>5 rows × 24 columns</p>\n",
       "</div>"
      ],
      "text/plain": [
       "         ID Case Number            Date                     Block  IUCR  \\\n",
       "0  11192233    JB100016  12/31/17 23:58      046XX N ST LOUIS AVE   630   \n",
       "1  11196379    JB105867  12/31/17 23:50  024XX N LAKE SHORE DR NB   460   \n",
       "2  11192540    JB100551  12/31/17 23:48       001XX E SUPERIOR ST   890   \n",
       "3  11192239    JB100032  12/31/17 23:45          019XX S CANAL ST  1320   \n",
       "4  11192254    JB100003  12/31/17 23:45          115XX S STATE ST  041A   \n",
       "\n",
       "      Primary Type             Description Location Description  Arrest  \\\n",
       "0         BURGLARY  ATTEMPT FORCIBLE ENTRY            APARTMENT   False   \n",
       "1          BATTERY                  SIMPLE  MOVIE HOUSE/THEATER   False   \n",
       "2            THEFT           FROM BUILDING          HOTEL/MOTEL   False   \n",
       "3  CRIMINAL DAMAGE              TO VEHICLE               STREET   False   \n",
       "4          BATTERY     AGGRAVATED: HANDGUN            RESIDENCE   False   \n",
       "\n",
       "   Domestic  ... FBI Code  X Coordinate  Y Coordinate  Year    Updated On  \\\n",
       "0     False  ...        5     1152214.0     1930694.0  2017  5/4/18 15:51   \n",
       "1     False  ...      08B     1175293.0     1916610.0  2017  5/4/18 15:51   \n",
       "2     False  ...        6     1177508.0     1905401.0  2017  5/4/18 15:51   \n",
       "3      True  ...       14     1173432.0     1891037.0  2017  5/4/18 15:51   \n",
       "4      True  ...      04B     1178329.0     1828012.0  2017  5/4/18 15:51   \n",
       "\n",
       "    Latitude  Longitude                       Location        Offenses_cat  \\\n",
       "0  41.965694 -87.715726  (41.965693651, -87.715726125)       Theft Related   \n",
       "1  41.926559 -87.631294  (41.926558908, -87.631294073)  Violence & Related   \n",
       "2  41.895751 -87.623496  (41.895750913, -87.623495923)       Theft Related   \n",
       "3  41.856427 -87.638893  (41.856426716, -87.638892854)     Property Damage   \n",
       "4  41.683369 -87.622830  (41.683369303, -87.622829524)  Violence & Related   \n",
       "\n",
       "            Location_cat  \n",
       "0  Residential & Related  \n",
       "1       Stores & Related  \n",
       "2  Residential & Related  \n",
       "3       Street & Related  \n",
       "4  Residential & Related  \n",
       "\n",
       "[5 rows x 24 columns]"
      ]
     },
     "execution_count": 6,
     "metadata": {},
     "output_type": "execute_result"
    }
   ],
   "source": [
    "df[\"Offenses_cat\"]=df[\"Primary Type\"].replace(dict_Offenses)\n",
    "df[\"Location_cat\"]=df[\"Location Description\"].replace(dict_Locations)\n",
    "\n",
    "df.head()"
   ]
  },
  {
   "cell_type": "markdown",
   "id": "0fe2f0f5",
   "metadata": {
    "tags": [
     "7_min"
    ]
   },
   "source": [
    "## `pandas`'s `crosstab()` function\n",
    "\n",
    "To make contingency tables in `pandas`, we use the [**`crosstab()`**](https://pandas.pydata.org/pandas-docs/stable/reference/api/pandas.crosstab.html) function. You simply specify which Series will be the rows of the table (`index` argument) and which Series will be the columns (`columns` argument), like this:"
   ]
  },
  {
   "cell_type": "code",
   "execution_count": 7,
   "id": "548688c4",
   "metadata": {},
   "outputs": [
    {
     "data": {
      "text/html": [
       "<div>\n",
       "<style scoped>\n",
       "    .dataframe tbody tr th:only-of-type {\n",
       "        vertical-align: middle;\n",
       "    }\n",
       "\n",
       "    .dataframe tbody tr th {\n",
       "        vertical-align: top;\n",
       "    }\n",
       "\n",
       "    .dataframe thead th {\n",
       "        text-align: right;\n",
       "    }\n",
       "</style>\n",
       "<table border=\"1\" class=\"dataframe\">\n",
       "  <thead>\n",
       "    <tr style=\"text-align: right;\">\n",
       "      <th>Location_cat</th>\n",
       "      <th>Airport &amp; Related</th>\n",
       "      <th>Bank &amp; Related</th>\n",
       "      <th>Colleges &amp; Related</th>\n",
       "      <th>Goverment Buildings &amp; Related</th>\n",
       "      <th>Hospitals &amp; Related</th>\n",
       "      <th>Liquor Stores &amp; Related</th>\n",
       "      <th>Other Locations</th>\n",
       "      <th>Public Transport &amp; Related</th>\n",
       "      <th>Residential &amp; Related</th>\n",
       "      <th>Stores &amp; Related</th>\n",
       "      <th>Street &amp; Related</th>\n",
       "      <th>Vehicles &amp; Related</th>\n",
       "    </tr>\n",
       "    <tr>\n",
       "      <th>Offenses_cat</th>\n",
       "      <th></th>\n",
       "      <th></th>\n",
       "      <th></th>\n",
       "      <th></th>\n",
       "      <th></th>\n",
       "      <th></th>\n",
       "      <th></th>\n",
       "      <th></th>\n",
       "      <th></th>\n",
       "      <th></th>\n",
       "      <th></th>\n",
       "      <th></th>\n",
       "    </tr>\n",
       "  </thead>\n",
       "  <tbody>\n",
       "    <tr>\n",
       "      <th>Dangerous practices</th>\n",
       "      <td>252</td>\n",
       "      <td>1536</td>\n",
       "      <td>179</td>\n",
       "      <td>206</td>\n",
       "      <td>142</td>\n",
       "      <td>226</td>\n",
       "      <td>2331</td>\n",
       "      <td>439</td>\n",
       "      <td>9460</td>\n",
       "      <td>3312</td>\n",
       "      <td>5409</td>\n",
       "      <td>582</td>\n",
       "    </tr>\n",
       "    <tr>\n",
       "      <th>NON-CRIMINAL</th>\n",
       "      <td>4</td>\n",
       "      <td>1</td>\n",
       "      <td>0</td>\n",
       "      <td>3</td>\n",
       "      <td>1</td>\n",
       "      <td>1</td>\n",
       "      <td>3</td>\n",
       "      <td>1</td>\n",
       "      <td>13</td>\n",
       "      <td>0</td>\n",
       "      <td>8</td>\n",
       "      <td>2</td>\n",
       "    </tr>\n",
       "    <tr>\n",
       "      <th>Other Offenses</th>\n",
       "      <td>60</td>\n",
       "      <td>25</td>\n",
       "      <td>252</td>\n",
       "      <td>230</td>\n",
       "      <td>150</td>\n",
       "      <td>48</td>\n",
       "      <td>1355</td>\n",
       "      <td>36</td>\n",
       "      <td>9555</td>\n",
       "      <td>831</td>\n",
       "      <td>4431</td>\n",
       "      <td>264</td>\n",
       "    </tr>\n",
       "    <tr>\n",
       "      <th>PUBLIC PEACE VIOLATION</th>\n",
       "      <td>26</td>\n",
       "      <td>1</td>\n",
       "      <td>137</td>\n",
       "      <td>53</td>\n",
       "      <td>19</td>\n",
       "      <td>4</td>\n",
       "      <td>47</td>\n",
       "      <td>36</td>\n",
       "      <td>258</td>\n",
       "      <td>82</td>\n",
       "      <td>827</td>\n",
       "      <td>8</td>\n",
       "    </tr>\n",
       "    <tr>\n",
       "      <th>Property Damage</th>\n",
       "      <td>34</td>\n",
       "      <td>117</td>\n",
       "      <td>334</td>\n",
       "      <td>274</td>\n",
       "      <td>111</td>\n",
       "      <td>99</td>\n",
       "      <td>816</td>\n",
       "      <td>543</td>\n",
       "      <td>12147</td>\n",
       "      <td>1665</td>\n",
       "      <td>12644</td>\n",
       "      <td>703</td>\n",
       "    </tr>\n",
       "    <tr>\n",
       "      <th>Sexual Offenses &amp; Related</th>\n",
       "      <td>9</td>\n",
       "      <td>6</td>\n",
       "      <td>280</td>\n",
       "      <td>131</td>\n",
       "      <td>149</td>\n",
       "      <td>33</td>\n",
       "      <td>241</td>\n",
       "      <td>101</td>\n",
       "      <td>3429</td>\n",
       "      <td>112</td>\n",
       "      <td>1363</td>\n",
       "      <td>119</td>\n",
       "    </tr>\n",
       "    <tr>\n",
       "      <th>Substances &amp; Related</th>\n",
       "      <td>60</td>\n",
       "      <td>7</td>\n",
       "      <td>190</td>\n",
       "      <td>692</td>\n",
       "      <td>97</td>\n",
       "      <td>107</td>\n",
       "      <td>149</td>\n",
       "      <td>163</td>\n",
       "      <td>1889</td>\n",
       "      <td>360</td>\n",
       "      <td>7707</td>\n",
       "      <td>631</td>\n",
       "    </tr>\n",
       "    <tr>\n",
       "      <th>Theft Related</th>\n",
       "      <td>620</td>\n",
       "      <td>521</td>\n",
       "      <td>1221</td>\n",
       "      <td>1377</td>\n",
       "      <td>731</td>\n",
       "      <td>1272</td>\n",
       "      <td>4605</td>\n",
       "      <td>2714</td>\n",
       "      <td>28834</td>\n",
       "      <td>21194</td>\n",
       "      <td>41780</td>\n",
       "      <td>2564</td>\n",
       "    </tr>\n",
       "    <tr>\n",
       "      <th>Violence &amp; Related</th>\n",
       "      <td>180</td>\n",
       "      <td>122</td>\n",
       "      <td>2984</td>\n",
       "      <td>1022</td>\n",
       "      <td>917</td>\n",
       "      <td>766</td>\n",
       "      <td>1780</td>\n",
       "      <td>1297</td>\n",
       "      <td>32103</td>\n",
       "      <td>4246</td>\n",
       "      <td>22964</td>\n",
       "      <td>1006</td>\n",
       "    </tr>\n",
       "  </tbody>\n",
       "</table>\n",
       "</div>"
      ],
      "text/plain": [
       "Location_cat               Airport & Related  Bank & Related  \\\n",
       "Offenses_cat                                                   \n",
       "Dangerous practices                      252            1536   \n",
       "NON-CRIMINAL                               4               1   \n",
       "Other Offenses                            60              25   \n",
       "PUBLIC PEACE VIOLATION                    26               1   \n",
       "Property Damage                           34             117   \n",
       "Sexual Offenses & Related                  9               6   \n",
       "Substances & Related                      60               7   \n",
       "Theft Related                            620             521   \n",
       "Violence & Related                       180             122   \n",
       "\n",
       "Location_cat               Colleges & Related  Goverment Buildings & Related  \\\n",
       "Offenses_cat                                                                   \n",
       "Dangerous practices                       179                            206   \n",
       "NON-CRIMINAL                                0                              3   \n",
       "Other Offenses                            252                            230   \n",
       "PUBLIC PEACE VIOLATION                    137                             53   \n",
       "Property Damage                           334                            274   \n",
       "Sexual Offenses & Related                 280                            131   \n",
       "Substances & Related                      190                            692   \n",
       "Theft Related                            1221                           1377   \n",
       "Violence & Related                       2984                           1022   \n",
       "\n",
       "Location_cat               Hospitals & Related  Liquor Stores & Related  \\\n",
       "Offenses_cat                                                              \n",
       "Dangerous practices                        142                      226   \n",
       "NON-CRIMINAL                                 1                        1   \n",
       "Other Offenses                             150                       48   \n",
       "PUBLIC PEACE VIOLATION                      19                        4   \n",
       "Property Damage                            111                       99   \n",
       "Sexual Offenses & Related                  149                       33   \n",
       "Substances & Related                        97                      107   \n",
       "Theft Related                              731                     1272   \n",
       "Violence & Related                         917                      766   \n",
       "\n",
       "Location_cat               Other Locations  Public Transport & Related  \\\n",
       "Offenses_cat                                                             \n",
       "Dangerous practices                   2331                         439   \n",
       "NON-CRIMINAL                             3                           1   \n",
       "Other Offenses                        1355                          36   \n",
       "PUBLIC PEACE VIOLATION                  47                          36   \n",
       "Property Damage                        816                         543   \n",
       "Sexual Offenses & Related              241                         101   \n",
       "Substances & Related                   149                         163   \n",
       "Theft Related                         4605                        2714   \n",
       "Violence & Related                    1780                        1297   \n",
       "\n",
       "Location_cat               Residential & Related  Stores & Related  \\\n",
       "Offenses_cat                                                         \n",
       "Dangerous practices                         9460              3312   \n",
       "NON-CRIMINAL                                  13                 0   \n",
       "Other Offenses                              9555               831   \n",
       "PUBLIC PEACE VIOLATION                       258                82   \n",
       "Property Damage                            12147              1665   \n",
       "Sexual Offenses & Related                   3429               112   \n",
       "Substances & Related                        1889               360   \n",
       "Theft Related                              28834             21194   \n",
       "Violence & Related                         32103              4246   \n",
       "\n",
       "Location_cat               Street & Related  Vehicles & Related  \n",
       "Offenses_cat                                                     \n",
       "Dangerous practices                    5409                 582  \n",
       "NON-CRIMINAL                              8                   2  \n",
       "Other Offenses                         4431                 264  \n",
       "PUBLIC PEACE VIOLATION                  827                   8  \n",
       "Property Damage                       12644                 703  \n",
       "Sexual Offenses & Related              1363                 119  \n",
       "Substances & Related                   7707                 631  \n",
       "Theft Related                         41780                2564  \n",
       "Violence & Related                    22964                1006  "
      ]
     },
     "execution_count": 7,
     "metadata": {},
     "output_type": "execute_result"
    }
   ],
   "source": [
    "my_contingency_table = pd.crosstab(index=df[\"Offenses_cat\"], columns=df[\"Location_cat\"])\n",
    "my_contingency_table"
   ]
  },
  {
   "cell_type": "markdown",
   "id": "26c504ff",
   "metadata": {},
   "source": [
    "Notice how the `concat()` function outputs *counts* by default. We can make it show *percentages* with the `normalize` argument. You can normalize in one of two ways:\n",
    "\n",
    "1. taking the sum of each column and dividing the respective column values by that sum (`normalize=\"columns\"`); or\n",
    "2. taking the sum of each row and dividing all the respective row values by that sum (`normalize=\"index\"`)\n",
    "\n",
    "This diagram illustrates the difference:\n",
    "\n",
    "![](data/images/crosstab_normalize_explanation.jpg)"
   ]
  },
  {
   "cell_type": "markdown",
   "id": "cd3e38fc",
   "metadata": {
    "tags": [
     "3_min"
    ]
   },
   "source": [
    "### Example 1\n",
    "\n",
    "Produce a contingency table in which the values are the percentage of offenses in a particular location that were of a specific crime type."
   ]
  },
  {
   "cell_type": "markdown",
   "id": "fdf4075b",
   "metadata": {},
   "source": [
    "**Answer.** Shown below:"
   ]
  },
  {
   "cell_type": "code",
   "execution_count": 8,
   "id": "9c3b0527",
   "metadata": {},
   "outputs": [
    {
     "data": {
      "text/html": [
       "<div>\n",
       "<style scoped>\n",
       "    .dataframe tbody tr th:only-of-type {\n",
       "        vertical-align: middle;\n",
       "    }\n",
       "\n",
       "    .dataframe tbody tr th {\n",
       "        vertical-align: top;\n",
       "    }\n",
       "\n",
       "    .dataframe thead th {\n",
       "        text-align: right;\n",
       "    }\n",
       "</style>\n",
       "<table border=\"1\" class=\"dataframe\">\n",
       "  <thead>\n",
       "    <tr style=\"text-align: right;\">\n",
       "      <th>Location_cat</th>\n",
       "      <th>Airport &amp; Related</th>\n",
       "      <th>Bank &amp; Related</th>\n",
       "      <th>Colleges &amp; Related</th>\n",
       "      <th>Goverment Buildings &amp; Related</th>\n",
       "      <th>Hospitals &amp; Related</th>\n",
       "      <th>Liquor Stores &amp; Related</th>\n",
       "      <th>Other Locations</th>\n",
       "      <th>Public Transport &amp; Related</th>\n",
       "      <th>Residential &amp; Related</th>\n",
       "      <th>Stores &amp; Related</th>\n",
       "      <th>Street &amp; Related</th>\n",
       "      <th>Vehicles &amp; Related</th>\n",
       "    </tr>\n",
       "    <tr>\n",
       "      <th>Offenses_cat</th>\n",
       "      <th></th>\n",
       "      <th></th>\n",
       "      <th></th>\n",
       "      <th></th>\n",
       "      <th></th>\n",
       "      <th></th>\n",
       "      <th></th>\n",
       "      <th></th>\n",
       "      <th></th>\n",
       "      <th></th>\n",
       "      <th></th>\n",
       "      <th></th>\n",
       "    </tr>\n",
       "  </thead>\n",
       "  <tbody>\n",
       "    <tr>\n",
       "      <th>Dangerous practices</th>\n",
       "      <td>20.240964</td>\n",
       "      <td>65.753425</td>\n",
       "      <td>3.209611</td>\n",
       "      <td>5.165496</td>\n",
       "      <td>6.128615</td>\n",
       "      <td>8.841941</td>\n",
       "      <td>20.579147</td>\n",
       "      <td>8.236398</td>\n",
       "      <td>9.683892</td>\n",
       "      <td>10.414439</td>\n",
       "      <td>5.568653</td>\n",
       "      <td>9.899643</td>\n",
       "    </tr>\n",
       "    <tr>\n",
       "      <th>NON-CRIMINAL</th>\n",
       "      <td>0.321285</td>\n",
       "      <td>0.042808</td>\n",
       "      <td>0.000000</td>\n",
       "      <td>0.075226</td>\n",
       "      <td>0.043159</td>\n",
       "      <td>0.039124</td>\n",
       "      <td>0.026485</td>\n",
       "      <td>0.018762</td>\n",
       "      <td>0.013308</td>\n",
       "      <td>0.000000</td>\n",
       "      <td>0.008236</td>\n",
       "      <td>0.034019</td>\n",
       "    </tr>\n",
       "    <tr>\n",
       "      <th>Other Offenses</th>\n",
       "      <td>4.819277</td>\n",
       "      <td>1.070205</td>\n",
       "      <td>4.518558</td>\n",
       "      <td>5.767302</td>\n",
       "      <td>6.473889</td>\n",
       "      <td>1.877934</td>\n",
       "      <td>11.962567</td>\n",
       "      <td>0.675422</td>\n",
       "      <td>9.781140</td>\n",
       "      <td>2.613043</td>\n",
       "      <td>4.561786</td>\n",
       "      <td>4.490560</td>\n",
       "    </tr>\n",
       "    <tr>\n",
       "      <th>PUBLIC PEACE VIOLATION</th>\n",
       "      <td>2.088353</td>\n",
       "      <td>0.042808</td>\n",
       "      <td>2.456518</td>\n",
       "      <td>1.328987</td>\n",
       "      <td>0.820026</td>\n",
       "      <td>0.156495</td>\n",
       "      <td>0.414938</td>\n",
       "      <td>0.675422</td>\n",
       "      <td>0.264106</td>\n",
       "      <td>0.257845</td>\n",
       "      <td>0.851410</td>\n",
       "      <td>0.136078</td>\n",
       "    </tr>\n",
       "    <tr>\n",
       "      <th>Property Damage</th>\n",
       "      <td>2.730924</td>\n",
       "      <td>5.008562</td>\n",
       "      <td>5.988883</td>\n",
       "      <td>6.870612</td>\n",
       "      <td>4.790678</td>\n",
       "      <td>3.873239</td>\n",
       "      <td>7.204026</td>\n",
       "      <td>10.187617</td>\n",
       "      <td>12.434485</td>\n",
       "      <td>5.235520</td>\n",
       "      <td>13.017203</td>\n",
       "      <td>11.957816</td>\n",
       "    </tr>\n",
       "    <tr>\n",
       "      <th>Sexual Offenses &amp; Related</th>\n",
       "      <td>0.722892</td>\n",
       "      <td>0.256849</td>\n",
       "      <td>5.020620</td>\n",
       "      <td>3.284855</td>\n",
       "      <td>6.430729</td>\n",
       "      <td>1.291080</td>\n",
       "      <td>2.127660</td>\n",
       "      <td>1.894934</td>\n",
       "      <td>3.510155</td>\n",
       "      <td>0.352179</td>\n",
       "      <td>1.403231</td>\n",
       "      <td>2.024154</td>\n",
       "    </tr>\n",
       "    <tr>\n",
       "      <th>Substances &amp; Related</th>\n",
       "      <td>4.819277</td>\n",
       "      <td>0.299658</td>\n",
       "      <td>3.406850</td>\n",
       "      <td>17.352056</td>\n",
       "      <td>4.186448</td>\n",
       "      <td>4.186228</td>\n",
       "      <td>1.315441</td>\n",
       "      <td>3.058161</td>\n",
       "      <td>1.933707</td>\n",
       "      <td>1.132004</td>\n",
       "      <td>7.934482</td>\n",
       "      <td>10.733118</td>\n",
       "    </tr>\n",
       "    <tr>\n",
       "      <th>Theft Related</th>\n",
       "      <td>49.799197</td>\n",
       "      <td>22.303082</td>\n",
       "      <td>21.893491</td>\n",
       "      <td>34.528586</td>\n",
       "      <td>31.549417</td>\n",
       "      <td>49.765258</td>\n",
       "      <td>40.655072</td>\n",
       "      <td>50.919325</td>\n",
       "      <td>29.516420</td>\n",
       "      <td>66.643607</td>\n",
       "      <td>43.013188</td>\n",
       "      <td>43.612859</td>\n",
       "    </tr>\n",
       "    <tr>\n",
       "      <th>Violence &amp; Related</th>\n",
       "      <td>14.457831</td>\n",
       "      <td>5.222603</td>\n",
       "      <td>53.505469</td>\n",
       "      <td>25.626881</td>\n",
       "      <td>39.577039</td>\n",
       "      <td>29.968701</td>\n",
       "      <td>15.714664</td>\n",
       "      <td>24.333959</td>\n",
       "      <td>32.862788</td>\n",
       "      <td>13.351362</td>\n",
       "      <td>23.641811</td>\n",
       "      <td>17.111754</td>\n",
       "    </tr>\n",
       "  </tbody>\n",
       "</table>\n",
       "</div>"
      ],
      "text/plain": [
       "Location_cat               Airport & Related  Bank & Related  \\\n",
       "Offenses_cat                                                   \n",
       "Dangerous practices                20.240964       65.753425   \n",
       "NON-CRIMINAL                        0.321285        0.042808   \n",
       "Other Offenses                      4.819277        1.070205   \n",
       "PUBLIC PEACE VIOLATION              2.088353        0.042808   \n",
       "Property Damage                     2.730924        5.008562   \n",
       "Sexual Offenses & Related           0.722892        0.256849   \n",
       "Substances & Related                4.819277        0.299658   \n",
       "Theft Related                      49.799197       22.303082   \n",
       "Violence & Related                 14.457831        5.222603   \n",
       "\n",
       "Location_cat               Colleges & Related  Goverment Buildings & Related  \\\n",
       "Offenses_cat                                                                   \n",
       "Dangerous practices                  3.209611                       5.165496   \n",
       "NON-CRIMINAL                         0.000000                       0.075226   \n",
       "Other Offenses                       4.518558                       5.767302   \n",
       "PUBLIC PEACE VIOLATION               2.456518                       1.328987   \n",
       "Property Damage                      5.988883                       6.870612   \n",
       "Sexual Offenses & Related            5.020620                       3.284855   \n",
       "Substances & Related                 3.406850                      17.352056   \n",
       "Theft Related                       21.893491                      34.528586   \n",
       "Violence & Related                  53.505469                      25.626881   \n",
       "\n",
       "Location_cat               Hospitals & Related  Liquor Stores & Related  \\\n",
       "Offenses_cat                                                              \n",
       "Dangerous practices                   6.128615                 8.841941   \n",
       "NON-CRIMINAL                          0.043159                 0.039124   \n",
       "Other Offenses                        6.473889                 1.877934   \n",
       "PUBLIC PEACE VIOLATION                0.820026                 0.156495   \n",
       "Property Damage                       4.790678                 3.873239   \n",
       "Sexual Offenses & Related             6.430729                 1.291080   \n",
       "Substances & Related                  4.186448                 4.186228   \n",
       "Theft Related                        31.549417                49.765258   \n",
       "Violence & Related                   39.577039                29.968701   \n",
       "\n",
       "Location_cat               Other Locations  Public Transport & Related  \\\n",
       "Offenses_cat                                                             \n",
       "Dangerous practices              20.579147                    8.236398   \n",
       "NON-CRIMINAL                      0.026485                    0.018762   \n",
       "Other Offenses                   11.962567                    0.675422   \n",
       "PUBLIC PEACE VIOLATION            0.414938                    0.675422   \n",
       "Property Damage                   7.204026                   10.187617   \n",
       "Sexual Offenses & Related         2.127660                    1.894934   \n",
       "Substances & Related              1.315441                    3.058161   \n",
       "Theft Related                    40.655072                   50.919325   \n",
       "Violence & Related               15.714664                   24.333959   \n",
       "\n",
       "Location_cat               Residential & Related  Stores & Related  \\\n",
       "Offenses_cat                                                         \n",
       "Dangerous practices                     9.683892         10.414439   \n",
       "NON-CRIMINAL                            0.013308          0.000000   \n",
       "Other Offenses                          9.781140          2.613043   \n",
       "PUBLIC PEACE VIOLATION                  0.264106          0.257845   \n",
       "Property Damage                        12.434485          5.235520   \n",
       "Sexual Offenses & Related               3.510155          0.352179   \n",
       "Substances & Related                    1.933707          1.132004   \n",
       "Theft Related                          29.516420         66.643607   \n",
       "Violence & Related                     32.862788         13.351362   \n",
       "\n",
       "Location_cat               Street & Related  Vehicles & Related  \n",
       "Offenses_cat                                                     \n",
       "Dangerous practices                5.568653            9.899643  \n",
       "NON-CRIMINAL                       0.008236            0.034019  \n",
       "Other Offenses                     4.561786            4.490560  \n",
       "PUBLIC PEACE VIOLATION             0.851410            0.136078  \n",
       "Property Damage                   13.017203           11.957816  \n",
       "Sexual Offenses & Related          1.403231            2.024154  \n",
       "Substances & Related               7.934482           10.733118  \n",
       "Theft Related                     43.013188           43.612859  \n",
       "Violence & Related                23.641811           17.111754  "
      ]
     },
     "execution_count": 8,
     "metadata": {},
     "output_type": "execute_result"
    }
   ],
   "source": [
    "pd.crosstab(index=df[\"Offenses_cat\"], columns=df[\"Location_cat\"], normalize=\"columns\")*100"
   ]
  },
  {
   "cell_type": "markdown",
   "id": "4d1b3543",
   "metadata": {},
   "source": [
    "Note that we multiplied the entire table by 100 to make the percentages easier to read (since they are given as decimals rather than percentages by default).\n",
    "\n",
    "In this table, you can see that of all the offenses that happened in airports, 20.24% were of the type \"Dangerous practices\"."
   ]
  },
  {
   "cell_type": "markdown",
   "id": "b8a850bd",
   "metadata": {
    "tags": [
     "7_min"
    ]
   },
   "source": [
    "### Exercise 1\n",
    "\n",
    "Produce a contingency table in which the values are the percentage of offenses of a particular type that occurred in a particular location. Looking only at offenses of type \"Property Damage\", what is the most common location where this type of offense occurred, and what is its relative frequency?"
   ]
  },
  {
   "cell_type": "markdown",
   "id": "19bbdb42",
   "metadata": {
    "tags": [
     "ans_st"
    ]
   },
   "source": [
    "**Answer.**"
   ]
  },
  {
   "cell_type": "markdown",
   "id": "db33f3ab",
   "metadata": {},
   "source": [
    "-------"
   ]
  },
  {
   "cell_type": "markdown",
   "id": "be0175b8",
   "metadata": {
    "tags": [
     "5_min"
    ]
   },
   "source": [
    "One good way of visualizing contingency tables is with heat maps. To make heat maps like the ones we saw during lecture, we can use the [`sns.heatmap()`](https://seaborn.pydata.org/generated/seaborn.heatmap.html) function. Keeping the defaults, this is what we get:"
   ]
  },
  {
   "cell_type": "code",
   "execution_count": 9,
   "id": "1624352d",
   "metadata": {},
   "outputs": [
    {
     "data": {
      "text/plain": [
       "<AxesSubplot:xlabel='Location_cat', ylabel='Offenses_cat'>"
      ]
     },
     "execution_count": 9,
     "metadata": {},
     "output_type": "execute_result"
    },
    {
     "data": {
      "image/png": "[encoded data removed]",
      "text/plain": [
       "<Figure size 432x288 with 2 Axes>"
      ]
     },
     "metadata": {
      "needs_background": "light"
     },
     "output_type": "display_data"
    }
   ],
   "source": [
    "sns.heatmap(my_contingency_table)"
   ]
  },
  {
   "cell_type": "markdown",
   "id": "027a362b",
   "metadata": {},
   "source": [
    "To make it more legible, let's change the color palette. There are [many](https://medium.com/@morganjonesartist/color-guide-to-seaborn-palettes-da849406d44f) available, but we will stick to the `Reds` palette:"
   ]
  },
  {
   "cell_type": "code",
   "execution_count": 10,
   "id": "9b4e5177",
   "metadata": {},
   "outputs": [
    {
     "data": {
      "text/plain": [
       "<AxesSubplot:xlabel='Location_cat', ylabel='Offenses_cat'>"
      ]
     },
     "execution_count": 10,
     "metadata": {},
     "output_type": "execute_result"
    },
    {
     "data": {
      "image/png": "[encoded data removed]",
      "text/plain": [
       "<Figure size 432x288 with 2 Axes>"
      ]
     },
     "metadata": {
      "needs_background": "light"
     },
     "output_type": "display_data"
    }
   ],
   "source": [
    "sns.heatmap(my_contingency_table, cmap=\"Reds\")"
   ]
  },
  {
   "cell_type": "markdown",
   "id": "b1f0678e",
   "metadata": {},
   "source": [
    "You can add a title by tweaking the code slightly (to see all the options available, check the [documentation](https://seaborn.pydata.org/generated/seaborn.heatmap.html)):"
   ]
  },
  {
   "cell_type": "code",
   "execution_count": 11,
   "id": "15f0054b",
   "metadata": {},
   "outputs": [
    {
     "data": {
      "text/plain": [
       "Text(0.5, 1.0, 'Primary type vs. Location description (counts)')"
      ]
     },
     "execution_count": 11,
     "metadata": {},
     "output_type": "execute_result"
    },
    {
     "data": {
      "image/png": "[encoded data removed]",
      "text/plain": [
       "<Figure size 432x288 with 2 Axes>"
      ]
     },
     "metadata": {
      "needs_background": "light"
     },
     "output_type": "display_data"
    }
   ],
   "source": [
    "ax = sns.heatmap(my_contingency_table, cmap=\"Reds\")\n",
    "ax.set_title(\"Primary type vs. Location description (counts)\")"
   ]
  },
  {
   "cell_type": "markdown",
   "id": "f5b2715d",
   "metadata": {
    "tags": [
     "7_min"
    ]
   },
   "source": [
    "### Exercise 2\n",
    "\n",
    "Make a heat map of the normalized contingency table you created in Exercise 1."
   ]
  },
  {
   "cell_type": "markdown",
   "id": "27d57eff",
   "metadata": {
    "tags": [
     "ans_st"
    ]
   },
   "source": [
    "**Answer.**"
   ]
  },
  {
   "cell_type": "markdown",
   "id": "1e0280bd",
   "metadata": {},
   "source": [
    "-------"
   ]
  },
  {
   "cell_type": "markdown",
   "id": "168e721b",
   "metadata": {
    "tags": [
     "2_min"
    ]
   },
   "source": [
    "## Executing hypothesis tests\n",
    "\n",
    "In the last few cases, we have introduced the intuition behind the hypothesis testing framework. We learned that we can use the $t$ - test to compare the mean of a sample with another value (to determine if there is a statistically significant difference between them). We also saw how we can extend this logic with the $\\chi^2$-test to decide if two categorical variables are independent of each other or not. Here, we will show you how to conduct both types of tests using the `pingouin` and `scipy` Python libraries."
   ]
  },
  {
   "cell_type": "markdown",
   "id": "1a9900ac",
   "metadata": {
    "tags": [
     "7_min"
    ]
   },
   "source": [
    "### The $t$ - test with `pingouin`\n",
    "\n",
    "The `pingouin` library makes it very easy to run $t$ - tests with the [**`ttest()`**](https://pingouin-stats.org/generated/pingouin.ttest.html) function. You simply need to pass the sample data and the value to compare with as arguments. For instance, let's say that we wanted to compare the mean of dataset `A` (below) with the value 56. Are the two numbers statistically different? The code we would use would be the following (note that we imported `pinguoin` at the start of this notebook):"
   ]
  },
  {
   "cell_type": "code",
   "execution_count": 12,
   "id": "77c525d5",
   "metadata": {},
   "outputs": [
    {
     "data": {
      "text/html": [
       "<div>\n",
       "<style scoped>\n",
       "    .dataframe tbody tr th:only-of-type {\n",
       "        vertical-align: middle;\n",
       "    }\n",
       "\n",
       "    .dataframe tbody tr th {\n",
       "        vertical-align: top;\n",
       "    }\n",
       "\n",
       "    .dataframe thead th {\n",
       "        text-align: right;\n",
       "    }\n",
       "</style>\n",
       "<table border=\"1\" class=\"dataframe\">\n",
       "  <thead>\n",
       "    <tr style=\"text-align: right;\">\n",
       "      <th></th>\n",
       "      <th>T</th>\n",
       "      <th>dof</th>\n",
       "      <th>tail</th>\n",
       "      <th>p-val</th>\n",
       "      <th>CI95%</th>\n",
       "      <th>cohen-d</th>\n",
       "      <th>BF10</th>\n",
       "      <th>power</th>\n",
       "    </tr>\n",
       "  </thead>\n",
       "  <tbody>\n",
       "    <tr>\n",
       "      <th>T-test</th>\n",
       "      <td>-13.153916</td>\n",
       "      <td>243</td>\n",
       "      <td>two-sided</td>\n",
       "      <td>3.348320e-30</td>\n",
       "      <td>[37.11, 42.03]</td>\n",
       "      <td>0.842093</td>\n",
       "      <td>9.248e+26</td>\n",
       "      <td>1.0</td>\n",
       "    </tr>\n",
       "  </tbody>\n",
       "</table>\n",
       "</div>"
      ],
      "text/plain": [
       "                T  dof       tail         p-val           CI95%   cohen-d  \\\n",
       "T-test -13.153916  243  two-sided  3.348320e-30  [37.11, 42.03]  0.842093   \n",
       "\n",
       "             BF10  power  \n",
       "T-test  9.248e+26    1.0  "
      ]
     },
     "execution_count": 12,
     "metadata": {},
     "output_type": "execute_result"
    }
   ],
   "source": [
    "# Importing dataset A, which is a Series of integers\n",
    "A = pd.read_csv(\"data/A.csv\")\n",
    "\n",
    "# Here, A[\"A\"] is the Series, our sample (its mean is 39.6, and the sample size is 244)\n",
    "# And 56 is the value to compare with\n",
    "pingouin.ttest(A[\"A\"], 56)"
   ]
  },
  {
   "cell_type": "markdown",
   "id": "93d514c0",
   "metadata": {},
   "source": [
    "As you can see from the output, since the $p$ - value is essentially zero, we can reject the null hypothesis. The output also tells us that the test was two-sided (see the `tail` column).\n",
    "\n",
    "In the case that you have two samples whose means you want to compare (a two-sample $t$ - test), the syntax is almost identical, with the only difference being that instead of providing a number as the comparison point, you provide the second dataset:"
   ]
  },
  {
   "cell_type": "code",
   "execution_count": 13,
   "id": "2f42d900",
   "metadata": {},
   "outputs": [
    {
     "data": {
      "text/html": [
       "<div>\n",
       "<style scoped>\n",
       "    .dataframe tbody tr th:only-of-type {\n",
       "        vertical-align: middle;\n",
       "    }\n",
       "\n",
       "    .dataframe tbody tr th {\n",
       "        vertical-align: top;\n",
       "    }\n",
       "\n",
       "    .dataframe thead th {\n",
       "        text-align: right;\n",
       "    }\n",
       "</style>\n",
       "<table border=\"1\" class=\"dataframe\">\n",
       "  <thead>\n",
       "    <tr style=\"text-align: right;\">\n",
       "      <th></th>\n",
       "      <th>T</th>\n",
       "      <th>dof</th>\n",
       "      <th>tail</th>\n",
       "      <th>p-val</th>\n",
       "      <th>CI95%</th>\n",
       "      <th>cohen-d</th>\n",
       "      <th>BF10</th>\n",
       "      <th>power</th>\n",
       "    </tr>\n",
       "  </thead>\n",
       "  <tbody>\n",
       "    <tr>\n",
       "      <th>T-test</th>\n",
       "      <td>1.296085</td>\n",
       "      <td>445.251887</td>\n",
       "      <td>two-sided</td>\n",
       "      <td>0.195618</td>\n",
       "      <td>[-1.25, 6.07]</td>\n",
       "      <td>0.121509</td>\n",
       "      <td>0.234</td>\n",
       "      <td>0.254013</td>\n",
       "    </tr>\n",
       "  </tbody>\n",
       "</table>\n",
       "</div>"
      ],
      "text/plain": [
       "               T         dof       tail     p-val          CI95%   cohen-d  \\\n",
       "T-test  1.296085  445.251887  two-sided  0.195618  [-1.25, 6.07]  0.121509   \n",
       "\n",
       "         BF10     power  \n",
       "T-test  0.234  0.254013  "
      ]
     },
     "execution_count": 13,
     "metadata": {},
     "output_type": "execute_result"
    }
   ],
   "source": [
    "# Importing dataset B, which is another Series of integers\n",
    "B = pd.read_csv(\"data/B.csv\")\n",
    "\n",
    "# Here, B[\"B\"] is the second Series (its mean is 37.15, and the sample size is 215)\n",
    "pingouin.ttest(A[\"A\"],  B[\"B\"])"
   ]
  },
  {
   "cell_type": "markdown",
   "id": "b89ea122",
   "metadata": {},
   "source": [
    "The output shows that there is not enough evidence to reject the null hypothesis at a significance level of 0.05. In other words, the means of samples `A` and `B` are statistically indistinguishable."
   ]
  },
  {
   "cell_type": "markdown",
   "id": "5f2cfc09",
   "metadata": {
    "tags": [
     "4_min"
    ]
   },
   "source": [
    "### Exercise 3\n",
    "\n",
    "Conduct a two-sample $t$ test between the `A` and `C` datasets:"
   ]
  },
  {
   "cell_type": "code",
   "execution_count": 14,
   "id": "3cc379e0",
   "metadata": {},
   "outputs": [],
   "source": [
    "# Importing dataset C, which is another Series of integers\n",
    "C = pd.read_csv(\"data/C.csv\")"
   ]
  },
  {
   "cell_type": "markdown",
   "id": "8f8ebf6f",
   "metadata": {
    "tags": [
     "ans_st"
    ]
   },
   "source": [
    "**Answer.**"
   ]
  },
  {
   "cell_type": "markdown",
   "id": "373f9f80",
   "metadata": {},
   "source": [
    "-------"
   ]
  },
  {
   "cell_type": "markdown",
   "id": "6fa5f794",
   "metadata": {
    "tags": [
     "5_min"
    ]
   },
   "source": [
    "### The $\\chi^2$ - test with `scipy`\n",
    "\n",
    "Running chi-squared tests is quite easy in Python using the `scipy` library. If you have a look at the top of this notebook, you will see that we imported the [**`chi2_contingency()`**](https://docs.scipy.org/doc/scipy/reference/generated/scipy.stats.chi2_contingency.html) function from this library using this code:\n",
    "\n",
    "~~~python\n",
    "from scipy.stats import chi2_contingency\n",
    "~~~\n",
    "\n",
    "The only thing we have to do now is call the `chi2_contingency()` function and pass the relevant contingency table (not normalized) as the argument:"
   ]
  },
  {
   "cell_type": "code",
   "execution_count": null,
   "id": "efc4ebe4",
   "metadata": {},
   "outputs": [],
   "source": [
    "chi2_contingency(my_contingency_table)"
   ]
  },
  {
   "cell_type": "markdown",
   "id": "ed261372",
   "metadata": {},
   "source": [
    "The $p$ - value is the second number in the output. Therefore, to only show the $p$-value, we can index the output like this:"
   ]
  },
  {
   "cell_type": "code",
   "execution_count": null,
   "id": "527e9689",
   "metadata": {},
   "outputs": [],
   "source": [
    "chi2_contingency(my_contingency_table)[1]"
   ]
  },
  {
   "cell_type": "markdown",
   "id": "1213a4bb",
   "metadata": {
    "tags": [
     "12_min"
    ]
   },
   "source": [
    "### Exercise 4\n",
    "\n",
    "This is a subset of the dataset in which we only included the offenses that are violent crimes with locations in residential areas:"
   ]
  },
  {
   "cell_type": "code",
   "execution_count": null,
   "id": "b998ef3a",
   "metadata": {},
   "outputs": [],
   "source": [
    "subset_df = df[\n",
    "    (df['Location_cat'] == 'Residential & Related') &\n",
    "    (df['Offenses_cat'] == 'Violence & Related')\n",
    "]\n",
    "subset_df"
   ]
  },
  {
   "cell_type": "markdown",
   "id": "6f4b78a0",
   "metadata": {},
   "source": [
    "Make a contingency table of `Location Description` versus `Primary Type` using this smaller dataset, plot it as a heat map, and report the $p$ - value of a $\\chi^2$ test."
   ]
  },
  {
   "cell_type": "markdown",
   "id": "97f1e877",
   "metadata": {
    "tags": [
     "ans_st"
    ]
   },
   "source": [
    "**Answer.**"
   ]
  },
  {
   "cell_type": "markdown",
   "id": "bd16b389",
   "metadata": {},
   "source": [
    "-------"
   ]
  },
  {
   "cell_type": "markdown",
   "id": "1e0b0665",
   "metadata": {
    "tags": [
     "5_min"
    ]
   },
   "source": [
    "## Discretizing time to make it categorical\n",
    "\n",
    "We can make use of the date and time methods that `pandas` provides to discretize time. Let's first convert the `Date` column to the native `pandas` `datetime` data type:"
   ]
  },
  {
   "cell_type": "code",
   "execution_count": 15,
   "id": "b94e48e0",
   "metadata": {},
   "outputs": [
    {
     "data": {
      "text/plain": [
       "0   2017-12-31 23:58:00\n",
       "1   2017-12-31 23:50:00\n",
       "2   2017-12-31 23:48:00\n",
       "3   2017-12-31 23:45:00\n",
       "4   2017-12-31 23:45:00\n",
       "Name: date_reformatted, dtype: datetime64[ns]"
      ]
     },
     "execution_count": 15,
     "metadata": {},
     "output_type": "execute_result"
    }
   ],
   "source": [
    "df[\"date_reformatted\"] = pd.to_datetime(df[\"Date\"]) # This line might take several seconds to run\n",
    "df[\"date_reformatted\"].head()"
   ]
  },
  {
   "cell_type": "markdown",
   "id": "7eab1923",
   "metadata": {},
   "source": [
    "Now we can access the day of the week of each record using the `dt` accessor and the `dayofweek` attribute (for an exhaustive list of attributes, see the [docs](https://pandas.pydata.org/docs/reference/series.html#datetimelike-properties)). Monday is indexed as day `0`, and Sunday is `6`:"
   ]
  },
  {
   "cell_type": "code",
   "execution_count": null,
   "id": "f942384e",
   "metadata": {},
   "outputs": [],
   "source": [
    "df[\"day_of_week\"] = df[\"date_reformatted\"].dt.dayofweek\n",
    "df[\"day_of_week\"].head()"
   ]
  },
  {
   "cell_type": "markdown",
   "id": "036a3a12",
   "metadata": {},
   "source": [
    "Finally, we can create our contingency table as usual:"
   ]
  },
  {
   "cell_type": "code",
   "execution_count": null,
   "id": "5cd69651",
   "metadata": {},
   "outputs": [],
   "source": [
    "pd.crosstab(df['Offenses_cat'], df['day_of_week'])"
   ]
  },
  {
   "cell_type": "markdown",
   "id": "c347be2e",
   "metadata": {
    "tags": [
     "10_min"
    ]
   },
   "source": [
    "### Exercise 5\n",
    "\n",
    "We suspect that throughout the course of a typical day, the distribution of crime locations may shift materially. We ask you to:\n",
    "\n",
    "1. Extract the time of the day from the `date_reformatted` column we created in the previous section (**Hint:** For this, use the `dt` accessor and the `hour` attribute)\n",
    "2. Make a contingency table\n",
    "3. Plot the contingency table as a heatmap\n",
    "4. Conduct a $\\chi^2$-test and report the $p$-value"
   ]
  },
  {
   "cell_type": "markdown",
   "id": "b281878e",
   "metadata": {
    "tags": [
     "ans_st"
    ]
   },
   "source": [
    "**Answer.**"
   ]
  },
  {
   "cell_type": "markdown",
   "id": "141b8e14",
   "metadata": {},
   "source": [
    "-------"
   ]
  },
  {
   "cell_type": "markdown",
   "id": "18e54727",
   "metadata": {},
   "source": [
    "## Attribution\n",
    "\n",
    "\"Crimes - 2001 to Present\", March 5, 2021, Chicago Police Department, dataset licensed under the City of Chicago [Terms of Use](https://www.chicago.gov/city/en/narr/foia/data_disclaimer.html), https://data.cityofchicago.org/Public-Safety/Crimes-2001-to-Present/ijzp-q8t2"
   ]
  }
 ],
 "metadata": {
  "c1_recart": "6.7.0-57c20131aabc1dc2a8c675852d80a7da",
  "kernelspec": {
   "display_name": "Python 3",
   "language": "python",
   "name": "python3"
  },
  "language_info": {
   "codemirror_mode": {
    "name": "ipython",
    "version": 3
   },
   "file_extension": ".py",
   "mimetype": "text/x-python",
   "name": "python",
   "nbconvert_exporter": "python",
   "pygments_lexer": "ipython3",
   "version": "3.8.8"
  }
 },
 "nbformat": 4,
 "nbformat_minor": 5
}
