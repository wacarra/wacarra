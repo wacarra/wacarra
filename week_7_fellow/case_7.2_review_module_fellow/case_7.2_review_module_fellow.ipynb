{
 "cells": [
  {
   "cell_type": "markdown",
   "metadata": {
    "deletable": false,
    "editable": false,
    "nbgrader": {
     "cell_type": "markdown",
     "checksum": "8975b2e5dbf4cf7f99f6f49aead1a7fa",
     "grade": false,
     "grade_id": "cell-3382eccab4f96f1b",
     "locked": true,
     "schema_version": 3,
     "solution": false,
     "task": false
    }
   },
   "source": [
    "# Review module"
   ]
  },
  {
   "cell_type": "markdown",
   "metadata": {
    "deletable": false,
    "editable": false,
    "nbgrader": {
     "cell_type": "markdown",
     "checksum": "3315028a47179bf5813f22883267c47c",
     "grade": false,
     "grade_id": "cell-32a2a3d5089fbc41",
     "locked": true,
     "schema_version": 3,
     "solution": false,
     "task": false
    }
   },
   "source": [
    "**Instructions**\n",
    "\n",
    "In order to complete this review module, we recommend you follow these instructions:\n",
    "\n",
    "1. Complete the functions provided to you in this notebook, but do **not** change the name of the function or the name(s) of the argument(s). If you do that, the autograder will fail and you will not receive any points.\n",
    "2. Run all the function-definition cells before you run the testing cells. The functions must exist before they are graded!\n",
    "3. Read the function docstrings carefully. They contain additional information about how the code should look (a [docstring](https://www.datacamp.com/community/tutorials/docstrings-python) is the stuff that comes between the triple quotes).\n",
    "4. Some functions may require several outputs (the docstrings tell you which ones). Make sure they are returned in the right order.\n",
    "5. Remove from each function the code `raise NotImplementedError()` and replace it with your implementation."
   ]
  },
  {
   "cell_type": "code",
   "execution_count": 2,
   "metadata": {
    "deletable": false,
    "editable": false,
    "nbgrader": {
     "cell_type": "code",
     "checksum": "88ff408fd884fa934dc5a42335a15816",
     "grade": false,
     "grade_id": "cell-96a825feec3e4bfa",
     "locked": true,
     "schema_version": 3,
     "solution": false,
     "task": false
    }
   },
   "outputs": [],
   "source": [
    "# Importing libraries\n",
    "import pandas as pd\n",
    "import numpy as np\n",
    "import pingouin\n",
    "from scipy.stats import chi2_contingency"
   ]
  },
  {
   "cell_type": "code",
   "execution_count": 3,
   "metadata": {
    "deletable": false,
    "editable": false,
    "nbgrader": {
     "cell_type": "code",
     "checksum": "dc9ea8117cebe6e34fb92a5cd3a78c52",
     "grade": false,
     "grade_id": "cell-49b56e6cfe680afa",
     "locked": true,
     "schema_version": 3,
     "solution": false,
     "task": false
    }
   },
   "outputs": [
    {
     "data": {
      "text/html": [
       "<div>\n",
       "<style scoped>\n",
       "    .dataframe tbody tr th:only-of-type {\n",
       "        vertical-align: middle;\n",
       "    }\n",
       "\n",
       "    .dataframe tbody tr th {\n",
       "        vertical-align: top;\n",
       "    }\n",
       "\n",
       "    .dataframe thead th {\n",
       "        text-align: right;\n",
       "    }\n",
       "</style>\n",
       "<table border=\"1\" class=\"dataframe\">\n",
       "  <thead>\n",
       "    <tr style=\"text-align: right;\">\n",
       "      <th></th>\n",
       "      <th>age</th>\n",
       "      <th>job</th>\n",
       "      <th>marital</th>\n",
       "      <th>education</th>\n",
       "      <th>default</th>\n",
       "      <th>balance</th>\n",
       "      <th>housing</th>\n",
       "      <th>loan</th>\n",
       "      <th>contact</th>\n",
       "      <th>day</th>\n",
       "      <th>month</th>\n",
       "      <th>duration</th>\n",
       "      <th>campaign</th>\n",
       "      <th>pdays</th>\n",
       "      <th>previous</th>\n",
       "      <th>poutcome</th>\n",
       "      <th>y</th>\n",
       "    </tr>\n",
       "  </thead>\n",
       "  <tbody>\n",
       "    <tr>\n",
       "      <th>0</th>\n",
       "      <td>58</td>\n",
       "      <td>management</td>\n",
       "      <td>married</td>\n",
       "      <td>tertiary</td>\n",
       "      <td>no</td>\n",
       "      <td>2143</td>\n",
       "      <td>yes</td>\n",
       "      <td>no</td>\n",
       "      <td>unknown</td>\n",
       "      <td>5</td>\n",
       "      <td>may</td>\n",
       "      <td>261</td>\n",
       "      <td>1</td>\n",
       "      <td>-1</td>\n",
       "      <td>0</td>\n",
       "      <td>unknown</td>\n",
       "      <td>no</td>\n",
       "    </tr>\n",
       "    <tr>\n",
       "      <th>1</th>\n",
       "      <td>44</td>\n",
       "      <td>technician</td>\n",
       "      <td>single</td>\n",
       "      <td>secondary</td>\n",
       "      <td>no</td>\n",
       "      <td>29</td>\n",
       "      <td>yes</td>\n",
       "      <td>no</td>\n",
       "      <td>unknown</td>\n",
       "      <td>5</td>\n",
       "      <td>may</td>\n",
       "      <td>151</td>\n",
       "      <td>1</td>\n",
       "      <td>-1</td>\n",
       "      <td>0</td>\n",
       "      <td>unknown</td>\n",
       "      <td>no</td>\n",
       "    </tr>\n",
       "    <tr>\n",
       "      <th>2</th>\n",
       "      <td>33</td>\n",
       "      <td>entrepreneur</td>\n",
       "      <td>married</td>\n",
       "      <td>secondary</td>\n",
       "      <td>no</td>\n",
       "      <td>2</td>\n",
       "      <td>yes</td>\n",
       "      <td>yes</td>\n",
       "      <td>unknown</td>\n",
       "      <td>5</td>\n",
       "      <td>may</td>\n",
       "      <td>76</td>\n",
       "      <td>1</td>\n",
       "      <td>-1</td>\n",
       "      <td>0</td>\n",
       "      <td>unknown</td>\n",
       "      <td>no</td>\n",
       "    </tr>\n",
       "  </tbody>\n",
       "</table>\n",
       "</div>"
      ],
      "text/plain": [
       "   age           job  marital  education default  balance housing loan  \\\n",
       "0   58    management  married   tertiary      no     2143     yes   no   \n",
       "1   44    technician   single  secondary      no       29     yes   no   \n",
       "2   33  entrepreneur  married  secondary      no        2     yes  yes   \n",
       "\n",
       "   contact  day month  duration  campaign  pdays  previous poutcome   y  \n",
       "0  unknown    5   may       261         1     -1         0  unknown  no  \n",
       "1  unknown    5   may       151         1     -1         0  unknown  no  \n",
       "2  unknown    5   may        76         1     -1         0  unknown  no  "
      ]
     },
     "execution_count": 3,
     "metadata": {},
     "output_type": "execute_result"
    }
   ],
   "source": [
    "# Loading the data\n",
    "df = pd.read_csv(\"data/bank-full.csv\")\n",
    "df.head(3)"
   ]
  },
  {
   "cell_type": "markdown",
   "metadata": {
    "deletable": false,
    "editable": false,
    "nbgrader": {
     "cell_type": "markdown",
     "checksum": "e4297c9624959a39539e4de1e0f19c3c",
     "grade": false,
     "grade_id": "cell-f08959077e8ac3af",
     "locked": true,
     "schema_version": 3,
     "solution": false,
     "task": false
    }
   },
   "source": [
    "### Exercise 1\n",
    "\n",
    "Calculate the average (mean) balance of married people vs. single people."
   ]
  },
  {
   "cell_type": "code",
   "execution_count": 9,
   "metadata": {
    "deletable": false,
    "nbgrader": {
     "cell_type": "code",
     "checksum": "43987d2d671cf03d25e9238e4e57be78",
     "grade": false,
     "grade_id": "cell-026e6c3bc0f1decd",
     "locked": false,
     "schema_version": 3,
     "solution": true,
     "task": false
    }
   },
   "outputs": [],
   "source": [
    "def mean_balance_married_single(df):\n",
    "    \"\"\"\n",
    "    Calculate the mean balance of married people vs. single people.\n",
    "    \n",
    "    Arguments:\n",
    "    df: A Pandas dataframe (the dataset)\n",
    "    \n",
    "    Output:\n",
    "    mean_married: A number of type float or numpy float64. The mean balance for married people.\n",
    "    mean_single: A number of type float or numpy float64. The mean balance for single people.\n",
    "    \n",
    "    The function outputs these two objects in that order.\n",
    "    \n",
    "    \"\"\"\n",
    "    \n",
    "    # YOUR CODE HERE\n",
    "    mean_married = df[df['marital']=='married']['balance'].mean()\n",
    "    mean_single = df[df['marital']=='single']['balance'].mean()\n",
    "    \n",
    "    return mean_married, mean_single"
   ]
  },
  {
   "cell_type": "code",
   "execution_count": 10,
   "metadata": {},
   "outputs": [
    {
     "data": {
      "text/plain": [
       "(1425.9255897699713, 1301.4976544175138)"
      ]
     },
     "execution_count": 10,
     "metadata": {},
     "output_type": "execute_result"
    }
   ],
   "source": [
    "mean_balance_married_single(df)"
   ]
  },
  {
   "cell_type": "markdown",
   "metadata": {
    "deletable": false,
    "editable": false,
    "nbgrader": {
     "cell_type": "markdown",
     "checksum": "af5c02fe38b8a094bf3838cfd8d08156",
     "grade": false,
     "grade_id": "cell-dc3079b3b0903d19",
     "locked": true,
     "schema_version": 3,
     "solution": false,
     "task": false
    }
   },
   "source": [
    "### Exercise 2\n",
    "\n",
    "Conduct a two-sample $t$ - test to determine whether the mean balance of married vs. single people is statistically different. Report the $p$ - value and a boolean that takes the value `True` if the difference is statistically significant at a 0.05 level, and `False` otherwise. We have given you the first few lines of code to help you get started.\n",
    "\n",
    "**Hint:** If you find yourself needing to slice a Dataframe, you can use the [`.loc`](https://pandas.pydata.org/pandas-docs/stable/reference/api/pandas.DataFrame.loc.html) method. Make sure all the outputs are of the right types before you submit your assignment."
   ]
  },
  {
   "cell_type": "code",
   "execution_count": 12,
   "metadata": {
    "deletable": false,
    "nbgrader": {
     "cell_type": "code",
     "checksum": "f9930e2268960f2a221466efbeac516c",
     "grade": false,
     "grade_id": "cell-ba8e8490f72820e1",
     "locked": false,
     "schema_version": 3,
     "solution": true,
     "task": false
    }
   },
   "outputs": [],
   "source": [
    "def test_difference_married_single(df):\n",
    "    \"\"\"\n",
    "    Test whether there is a statistically significant difference\n",
    "    between the mean balances of married and single people.\n",
    "    \n",
    "    Arguments:\n",
    "    df: A Pandas dataframe (the dataset)\n",
    "    \n",
    "    Outputs:\n",
    "    p: A number of type float, the p-value\n",
    "    sig: A boolean; True if difference is significant, False otherwise    \n",
    "    \"\"\"\n",
    "    married_balance = df[df['marital']=='married']['balance']\n",
    "    single_balance = df[df['marital']=='single']['balance']\n",
    "    \n",
    "    # YOUR CODE HERE\n",
    "    p = pingouin.ttest(married_balance, single_balance)\n",
    "    p= p.loc[:, 'p-val']\n",
    "    p = float(p)\n",
    "    sig = bool(p<=0.05)\n",
    "    \n",
    "    return p, sig"
   ]
  },
  {
   "cell_type": "code",
   "execution_count": 13,
   "metadata": {},
   "outputs": [
    {
     "data": {
      "text/plain": [
       "(8.975690943353313e-05, True)"
      ]
     },
     "execution_count": 13,
     "metadata": {},
     "output_type": "execute_result"
    }
   ],
   "source": [
    "test_difference_married_single(df)"
   ]
  },
  {
   "cell_type": "markdown",
   "metadata": {
    "deletable": false,
    "editable": false,
    "nbgrader": {
     "cell_type": "markdown",
     "checksum": "adfca42e1d1f509972c8cf16ba1cafa5",
     "grade": false,
     "grade_id": "cell-de85ccbf3884c95a",
     "locked": true,
     "schema_version": 3,
     "solution": false,
     "task": false
    }
   },
   "source": [
    "### Exercise 3\n",
    "\n",
    "Determine whether the `job` and `education` variables are independent or not. Use a significance level of 0.05."
   ]
  },
  {
   "cell_type": "code",
   "execution_count": 15,
   "metadata": {
    "deletable": false,
    "nbgrader": {
     "cell_type": "code",
     "checksum": "6e0277e4a6ba2f23d3b1b4129fa5e71b",
     "grade": false,
     "grade_id": "cell-0436ea8f08193ac3",
     "locked": false,
     "schema_version": 3,
     "solution": true,
     "task": false
    }
   },
   "outputs": [],
   "source": [
    "def perform_chisq(series1, series2):\n",
    "    \"\"\"\n",
    "    Perform a chi-square test between `series1` and `series2`\n",
    "    and report the p-value and whether the difference is significant or not\n",
    "    \n",
    "    Arguments:\n",
    "    series1, series2: Two pandas series (categorical data)\n",
    "    \n",
    "    Outputs:\n",
    "    p: A number of type float, the p-value\n",
    "    sig: A boolean; True if difference is significant, False otherwise\n",
    "    \"\"\"\n",
    "    # YOUR CODE HERE\n",
    "    my_contingency_table = pd.crosstab(df['job'], df['education'])\n",
    "    p = chi2_contingency(my_contingency_table)[1]\n",
    "    p = float(p)\n",
    "    sig = bool(p <= 0.05)\n",
    "    \n",
    "    \n",
    "    return p, sig"
   ]
  },
  {
   "cell_type": "code",
   "execution_count": 16,
   "metadata": {},
   "outputs": [
    {
     "ename": "NameError",
     "evalue": "name 'series1' is not defined",
     "output_type": "error",
     "traceback": [
      "\u001b[0;31m---------------------------------------------------------------------------\u001b[0m",
      "\u001b[0;31mNameError\u001b[0m                                 Traceback (most recent call last)",
      "\u001b[0;32m<ipython-input-16-c3e91a183c47>\u001b[0m in \u001b[0;36m<module>\u001b[0;34m\u001b[0m\n\u001b[0;32m----> 1\u001b[0;31m \u001b[0mperform_chisq\u001b[0m\u001b[0;34m(\u001b[0m\u001b[0mseries1\u001b[0m\u001b[0;34m,\u001b[0m \u001b[0mseries2\u001b[0m\u001b[0;34m)\u001b[0m\u001b[0;34m\u001b[0m\u001b[0;34m\u001b[0m\u001b[0m\n\u001b[0m",
      "\u001b[0;31mNameError\u001b[0m: name 'series1' is not defined"
     ]
    }
   ],
   "source": [
    "perform_chisq(series1, series2)"
   ]
  },
  {
   "cell_type": "markdown",
   "metadata": {
    "deletable": false,
    "editable": false,
    "nbgrader": {
     "cell_type": "markdown",
     "checksum": "d962da07412df94354d3712c03089436",
     "grade": false,
     "grade_id": "cell-cd1bd37ff2b84bc2",
     "locked": true,
     "schema_version": 3,
     "solution": false,
     "task": false
    }
   },
   "source": [
    "## Testing Cells\n",
    "\n",
    "Run the below cells to check your answers. Make sure you run your solution cells first before running the cells below, otherwise you will get a `NameError` when checking your answers."
   ]
  },
  {
   "cell_type": "code",
   "execution_count": 11,
   "metadata": {
    "deletable": false,
    "editable": false,
    "nbgrader": {
     "cell_type": "code",
     "checksum": "47dcfbeaed9043f127e7ae39778cb94b",
     "grade": true,
     "grade_id": "cell-d623b1b9a72fd20e",
     "locked": true,
     "points": 1,
     "schema_version": 3,
     "solution": false,
     "task": false
    }
   },
   "outputs": [
    {
     "name": "stdout",
     "output_type": "stream",
     "text": [
      "Exercise 1 looks correct!\n"
     ]
    }
   ],
   "source": [
    "# Ex 1\n",
    "tnpf = type(np.float64(4))\n",
    "tfl = type(15.32)\n",
    "assert type(mean_balance_married_single(df)[0]) in [tnpf, tfl], \"mean_married is not a float or numply float64! Check it with type(). If you have a series s and want to extract only one of its elements, you can use s.loc['x'], where x is the label of the index (x is a string)\"\n",
    "assert type(mean_balance_married_single(df)[1]) in [tnpf, tfl], \"mean_single is not a float or numply float64! Check it with type(). If you have a series s and want to extract only one of its elements, you can use s.loc['x'], where x is the label of the index (x is a string)\"\n",
    "mm = 1425.9255897699713\n",
    "ms = 1301.4976544175138\n",
    "assert abs(mean_balance_married_single(df)[0] - mm) < 1, \"Please check your results. The mean_married you calculated is way off the true value. Are you sure you're using the right column? If you're filtering columns, check out this SO answer for a refresher: https://stackoverflow.com/a/17071908\"\n",
    "assert abs(mean_balance_married_single(df)[1] - ms) < 1, \"Please check your results. The mean_single you calculated is way off the true value. Are you sure you're using the right column? If you're filtering columns, check out this SO answer for a refresher: https://stackoverflow.com/a/17071908\"\n",
    "print(\"Exercise 1 looks correct!\")"
   ]
  },
  {
   "cell_type": "code",
   "execution_count": 14,
   "metadata": {
    "deletable": false,
    "editable": false,
    "nbgrader": {
     "cell_type": "code",
     "checksum": "924f3a218763bb91c2d1cc933c85d40e",
     "grade": true,
     "grade_id": "cell-4ccec36945d321f9",
     "locked": true,
     "points": 1,
     "schema_version": 3,
     "solution": false,
     "task": false
    }
   },
   "outputs": [
    {
     "name": "stdout",
     "output_type": "stream",
     "text": [
      "Exercise 2 looks correct!\n"
     ]
    }
   ],
   "source": [
    "# Ex 2\n",
    "f = 0.12\n",
    "assert type(test_difference_married_single(df)[0]) == type(f), \"Exercise 2: Your p-value isn't a float number. You can check with type().\"\n",
    "assert type(test_difference_married_single(df)[1]) == type(False), \"Exercise 2: Your significance flag isn't a boolean. You can check with type().\"\n",
    "assert test_difference_married_single(df)[0] <= 1, \"Exercise 2: Your p-value seems to be greater than one. Since p-values are probabilities, they can never be greater than one.\"\n",
    "assert test_difference_married_single(df)[1] == True, \"Exercise 2: Are you sure you're using a significance level of 0.05? Recall that the difference is significant when your p-value is **lower** than your threshold.\"\n",
    "print(\"Exercise 2 looks correct!\")"
   ]
  },
  {
   "cell_type": "code",
   "execution_count": 17,
   "metadata": {
    "deletable": false,
    "editable": false,
    "nbgrader": {
     "cell_type": "code",
     "checksum": "b9b4d05d4d31ec0942619507e6602108",
     "grade": true,
     "grade_id": "cell-25ff27edd0bf30f1",
     "locked": true,
     "points": 1,
     "schema_version": 3,
     "solution": false,
     "task": false
    }
   },
   "outputs": [
    {
     "name": "stdout",
     "output_type": "stream",
     "text": [
      "Exercise 3 looks correct!\n"
     ]
    }
   ],
   "source": [
    "# Ex 3\n",
    "assert perform_chisq(df[\"job\"], df[\"education\"])[0] < 0.05, \"Ex. 3 - Your p-value seems to be too large! Did you use the chi2_contingency function and passed a contingency table as its argument?\"\n",
    "assert perform_chisq(df[\"job\"], df[\"education\"])[1] == True, \"Ex. 3 - Check your results! Did you use a significance level of 0.05?\"\n",
    "print(\"Exercise 3 looks correct!\")"
   ]
  },
  {
   "cell_type": "markdown",
   "metadata": {
    "deletable": false,
    "editable": false,
    "nbgrader": {
     "cell_type": "markdown",
     "checksum": "8e79043fdcfc1a073465e38b9fb9eeb5",
     "grade": false,
     "grade_id": "cell-e67410014f3fda55",
     "locked": true,
     "schema_version": 3,
     "solution": false,
     "task": false
    }
   },
   "source": [
    "## Attribution\n",
    "\n",
    "\"Bank Marketing dataset\", May 7, 2018, Sandeep Verma, CC0 Public Domain, https://www.kaggle.com/skverma875/bank-marketing-dataset"
   ]
  }
 ],
 "metadata": {
  "kernelspec": {
   "display_name": "Python 3",
   "language": "python",
   "name": "python3"
  },
  "language_info": {
   "codemirror_mode": {
    "name": "ipython",
    "version": 3
   },
   "file_extension": ".py",
   "mimetype": "text/x-python",
   "name": "python",
   "nbconvert_exporter": "python",
   "pygments_lexer": "ipython3",
   "version": "3.8.8"
  }
 },
 "nbformat": 4,
 "nbformat_minor": 2
}
